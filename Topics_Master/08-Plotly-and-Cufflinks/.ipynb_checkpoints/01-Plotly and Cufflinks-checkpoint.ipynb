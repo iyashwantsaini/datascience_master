{
 "cells": [
  {
   "cell_type": "markdown",
   "metadata": {},
   "source": [
    "___\n",
    "\n",
    "___\n",
    "# Plotly and Cufflinks"
   ]
  },
  {
   "cell_type": "markdown",
   "metadata": {},
   "source": [
    "Plotly is a library that allows you to create interactive plots that you can use in dashboards or websites (you can save them as html files or static images).\n",
    "\n",
    "## Installation\n",
    "\n",
    "In order for this all to work, you'll need to install plotly and cufflinks to call plots directly off of a pandas dataframe. These libraries are not currently available through **conda** but are available through **pip**. Install the libraries at your command line/terminal using:\n",
    "\n",
    "    pip install plotly\n",
    "    pip install cufflinks\n",
    "\n",
    "** NOTE: Make sure you only have one installation of Python on your computer when you do this, otherwise the installation may not work. **\n",
    "\n",
    "## Imports and Set-up"
   ]
  },
  {
   "cell_type": "code",
   "execution_count": 3,
   "metadata": {},
   "outputs": [],
   "source": [
    "import pandas as pd\n",
    "import numpy as np\n",
    "%matplotlib inline"
   ]
  },
  {
   "cell_type": "code",
   "execution_count": 4,
   "metadata": {},
   "outputs": [
    {
     "name": "stdout",
     "output_type": "stream",
     "text": [
      "4.9.0\n"
     ]
    }
   ],
   "source": [
    "from plotly import __version__\n",
    "from plotly.offline import download_plotlyjs, init_notebook_mode, plot, iplot\n",
    "\n",
    "print(__version__) # requires version >= 1.9.0"
   ]
  },
  {
   "cell_type": "code",
   "execution_count": 5,
   "metadata": {},
   "outputs": [],
   "source": [
    "import cufflinks as cf"
   ]
  },
  {
   "cell_type": "code",
   "execution_count": 6,
   "metadata": {},
   "outputs": [
    {
     "data": {
      "text/html": [
       "        <script type=\"text/javascript\">\n",
       "        window.PlotlyConfig = {MathJaxConfig: 'local'};\n",
       "        if (window.MathJax) {MathJax.Hub.Config({SVG: {font: \"STIX-Web\"}});}\n",
       "        if (typeof require !== 'undefined') {\n",
       "        require.undef(\"plotly\");\n",
       "        requirejs.config({\n",
       "            paths: {\n",
       "                'plotly': ['https://cdn.plot.ly/plotly-latest.min']\n",
       "            }\n",
       "        });\n",
       "        require(['plotly'], function(Plotly) {\n",
       "            window._Plotly = Plotly;\n",
       "        });\n",
       "        }\n",
       "        </script>\n",
       "        "
      ]
     },
     "metadata": {},
     "output_type": "display_data"
    }
   ],
   "source": [
    "# For Notebooks\n",
    "init_notebook_mode(connected=True)"
   ]
  },
  {
   "cell_type": "code",
   "execution_count": 7,
   "metadata": {},
   "outputs": [
    {
     "data": {
      "text/html": [
       "        <script type=\"text/javascript\">\n",
       "        window.PlotlyConfig = {MathJaxConfig: 'local'};\n",
       "        if (window.MathJax) {MathJax.Hub.Config({SVG: {font: \"STIX-Web\"}});}\n",
       "        if (typeof require !== 'undefined') {\n",
       "        require.undef(\"plotly\");\n",
       "        requirejs.config({\n",
       "            paths: {\n",
       "                'plotly': ['https://cdn.plot.ly/plotly-latest.min']\n",
       "            }\n",
       "        });\n",
       "        require(['plotly'], function(Plotly) {\n",
       "            window._Plotly = Plotly;\n",
       "        });\n",
       "        }\n",
       "        </script>\n",
       "        "
      ]
     },
     "metadata": {},
     "output_type": "display_data"
    }
   ],
   "source": [
    "# For offline use\n",
    "cf.go_offline()"
   ]
  },
  {
   "cell_type": "markdown",
   "metadata": {},
   "source": [
    "### Fake Data"
   ]
  },
  {
   "cell_type": "code",
   "execution_count": 8,
   "metadata": {},
   "outputs": [],
   "source": [
    "df = pd.DataFrame(np.random.randn(100,4),columns='A B C D'.split())"
   ]
  },
  {
   "cell_type": "code",
   "execution_count": 9,
   "metadata": {},
   "outputs": [
    {
     "data": {
      "text/html": [
       "<div>\n",
       "<style scoped>\n",
       "    .dataframe tbody tr th:only-of-type {\n",
       "        vertical-align: middle;\n",
       "    }\n",
       "\n",
       "    .dataframe tbody tr th {\n",
       "        vertical-align: top;\n",
       "    }\n",
       "\n",
       "    .dataframe thead th {\n",
       "        text-align: right;\n",
       "    }\n",
       "</style>\n",
       "<table border=\"1\" class=\"dataframe\">\n",
       "  <thead>\n",
       "    <tr style=\"text-align: right;\">\n",
       "      <th></th>\n",
       "      <th>A</th>\n",
       "      <th>B</th>\n",
       "      <th>C</th>\n",
       "      <th>D</th>\n",
       "    </tr>\n",
       "  </thead>\n",
       "  <tbody>\n",
       "    <tr>\n",
       "      <th>0</th>\n",
       "      <td>0.436335</td>\n",
       "      <td>-0.447283</td>\n",
       "      <td>-1.098212</td>\n",
       "      <td>1.630538</td>\n",
       "    </tr>\n",
       "    <tr>\n",
       "      <th>1</th>\n",
       "      <td>-0.936967</td>\n",
       "      <td>-0.606925</td>\n",
       "      <td>-0.825930</td>\n",
       "      <td>0.859626</td>\n",
       "    </tr>\n",
       "    <tr>\n",
       "      <th>2</th>\n",
       "      <td>0.288521</td>\n",
       "      <td>-1.373855</td>\n",
       "      <td>-0.730523</td>\n",
       "      <td>-2.201702</td>\n",
       "    </tr>\n",
       "    <tr>\n",
       "      <th>3</th>\n",
       "      <td>-1.101111</td>\n",
       "      <td>1.233411</td>\n",
       "      <td>0.720108</td>\n",
       "      <td>-3.534218</td>\n",
       "    </tr>\n",
       "    <tr>\n",
       "      <th>4</th>\n",
       "      <td>0.328545</td>\n",
       "      <td>0.739786</td>\n",
       "      <td>-0.592819</td>\n",
       "      <td>-1.564712</td>\n",
       "    </tr>\n",
       "  </tbody>\n",
       "</table>\n",
       "</div>"
      ],
      "text/plain": [
       "          A         B         C         D\n",
       "0  0.436335 -0.447283 -1.098212  1.630538\n",
       "1 -0.936967 -0.606925 -0.825930  0.859626\n",
       "2  0.288521 -1.373855 -0.730523 -2.201702\n",
       "3 -1.101111  1.233411  0.720108 -3.534218\n",
       "4  0.328545  0.739786 -0.592819 -1.564712"
      ]
     },
     "execution_count": 9,
     "metadata": {},
     "output_type": "execute_result"
    }
   ],
   "source": [
    "df.head()"
   ]
  },
  {
   "cell_type": "code",
   "execution_count": 10,
   "metadata": {},
   "outputs": [],
   "source": [
    "df2 = pd.DataFrame({'Category':['A','B','C'],'Values':[32,43,50]})"
   ]
  },
  {
   "cell_type": "code",
   "execution_count": 11,
   "metadata": {},
   "outputs": [
    {
     "data": {
      "text/html": [
       "<div>\n",
       "<style scoped>\n",
       "    .dataframe tbody tr th:only-of-type {\n",
       "        vertical-align: middle;\n",
       "    }\n",
       "\n",
       "    .dataframe tbody tr th {\n",
       "        vertical-align: top;\n",
       "    }\n",
       "\n",
       "    .dataframe thead th {\n",
       "        text-align: right;\n",
       "    }\n",
       "</style>\n",
       "<table border=\"1\" class=\"dataframe\">\n",
       "  <thead>\n",
       "    <tr style=\"text-align: right;\">\n",
       "      <th></th>\n",
       "      <th>Category</th>\n",
       "      <th>Values</th>\n",
       "    </tr>\n",
       "  </thead>\n",
       "  <tbody>\n",
       "    <tr>\n",
       "      <th>0</th>\n",
       "      <td>A</td>\n",
       "      <td>32</td>\n",
       "    </tr>\n",
       "    <tr>\n",
       "      <th>1</th>\n",
       "      <td>B</td>\n",
       "      <td>43</td>\n",
       "    </tr>\n",
       "    <tr>\n",
       "      <th>2</th>\n",
       "      <td>C</td>\n",
       "      <td>50</td>\n",
       "    </tr>\n",
       "  </tbody>\n",
       "</table>\n",
       "</div>"
      ],
      "text/plain": [
       "  Category  Values\n",
       "0        A      32\n",
       "1        B      43\n",
       "2        C      50"
      ]
     },
     "execution_count": 11,
     "metadata": {},
     "output_type": "execute_result"
    }
   ],
   "source": [
    "df2.head()"
   ]
  },
  {
   "cell_type": "markdown",
   "metadata": {},
   "source": [
    "## Using Cufflinks and iplot()\n",
    "\n",
    "* scatter\n",
    "* bar\n",
    "* box\n",
    "* spread\n",
    "* ratio\n",
    "* heatmap\n",
    "* surface\n",
    "* histogram\n",
    "* bubble"
   ]
  },
  {
   "cell_type": "markdown",
   "metadata": {},
   "source": [
    "## Scatter"
   ]
  },
  {
   "cell_type": "code",
   "execution_count": 12,
   "metadata": {},
   "outputs": [
    {
     "data": {
      "application/vnd.plotly.v1+json": {
       "config": {
        "linkText": "Export to plot.ly",
        "plotlyServerURL": "https://plot.ly",
        "showLink": true
       },
       "data": [
        {
         "line": {
          "color": "rgba(255, 153, 51, 1.0)",
          "dash": "solid",
          "shape": "linear",
          "width": 1.3
         },
         "marker": {
          "size": 10,
          "symbol": "circle"
         },
         "mode": "markers",
         "name": "B",
         "text": "",
         "type": "scatter",
         "x": [
          0.43633476275957783,
          -0.9369666672884216,
          0.28852110280962995,
          -1.1011111414948977,
          0.32854507231159646,
          0.9816992515177357,
          -2.284421668511395,
          -0.26995513779247227,
          0.6501295774491413,
          -1.069402621774459,
          -1.2020976216798172,
          0.6513942645777206,
          0.7521897597563676,
          0.5426067229233946,
          0.3370644577358486,
          -0.5393103302681119,
          -0.6635779258219466,
          -0.24300598976235596,
          0.04496685936482622,
          -0.965346068356053,
          -0.24806693468330765,
          -0.16866354882736542,
          0.5444475088125463,
          0.5496623505488482,
          0.5450871232084065,
          -0.441345583389729,
          -0.9629954737171853,
          -0.676216274703561,
          0.006322641558518212,
          0.18664330349151873,
          -0.02609261417418306,
          -0.43677653611744,
          0.1424015252435575,
          1.9310702447132302,
          -0.9155454555589564,
          1.0582884814491147,
          0.7987834738109799,
          -1.53766916018999,
          -1.825814026600039,
          0.21272618276774719,
          1.5967775264793374,
          1.2929976854648164,
          0.06610609076863956,
          -0.5764360733096935,
          -1.56089420040441,
          -0.2554528079087033,
          1.8350740347678272,
          0.3598812399041258,
          -0.2814109679987709,
          0.3241194243912139,
          1.0661956656936156,
          -0.037067756201864574,
          -0.683125037067316,
          -1.0280984103041046,
          -0.07112279321412139,
          -0.5539586978476361,
          -0.5602855710925664,
          0.733138539889477,
          -1.0541102386248455,
          -1.3236651767229892,
          1.0168652515920766,
          -0.3566999154025523,
          0.6508321441587809,
          -0.0012140476126413513,
          -0.7882292100040235,
          2.883257249796413,
          0.3353217669277645,
          -1.0679692420258937,
          0.18293142627367062,
          0.11494991601411153,
          -0.3644172733653438,
          0.4987628257668977,
          0.8508934232296702,
          -0.08679926983528236,
          0.8047676559452972,
          0.2597526083971923,
          0.473929637781343,
          0.08581232319537543,
          -0.22410861057241027,
          -0.5257153363463388,
          1.6952648028066364,
          -0.696156975583712,
          -0.836353387975282,
          0.2965518348994222,
          -1.0012320086348452,
          -1.1544077261671366,
          -1.3350958845426832,
          0.7119427630233932,
          0.6411177748569961,
          -0.3001776750662769,
          -0.9048484414626201,
          0.7390101756217512,
          1.4819140122480443,
          0.5981606146092255,
          -0.26082548405743144,
          2.046254697130263,
          -1.9411641500930508,
          1.8452808905980655,
          1.4038573414777682,
          -0.8795591013597613
         ],
         "y": [
          -0.44728330349228973,
          -0.6069251354234275,
          -1.3738549093340406,
          1.2334111997303334,
          0.7397860123001738,
          1.5972494572851856,
          -0.018931915979927754,
          -1.2264327624064608,
          0.15592114116201142,
          -0.47902754325705527,
          1.2074916117611019,
          0.6889645260151184,
          1.6209155031439582,
          1.0377918747451134,
          -0.16857843049431245,
          0.7350503697272961,
          1.3732044642314538,
          0.17853748378804712,
          0.9201258074350492,
          0.661381730865682,
          1.485145958350401,
          -1.632119618070541,
          0.22748154932469294,
          -0.09458663553707516,
          0.21090274721930652,
          1.2583083792119074,
          1.6422290993212094,
          -1.019888999922517,
          -1.1262083616915823,
          0.7751631377435271,
          0.0780355504840483,
          0.29911039538859174,
          0.43807211050813644,
          -0.12770957828774504,
          -0.6521897822817302,
          -0.889630939076755,
          0.15986237919607987,
          -0.04342366071403783,
          -0.43520486123887653,
          0.5379206691506319,
          0.793787709378705,
          -0.4289924398492299,
          0.7369539710091716,
          2.087453696135382,
          0.5620994219564909,
          -0.20137912145968392,
          0.7257704929503092,
          1.1084092246082184,
          -0.5171551630835821,
          -1.1283322045922786,
          0.2593535652357022,
          -0.17267859924919277,
          -1.5345339901197232,
          -0.3209003352524528,
          -1.1744077524500085,
          1.4490429107416258,
          1.184950303089929,
          0.702234314776529,
          -0.6784286508938552,
          1.2835120424777373,
          -1.190989535539129,
          -0.3513939866455125,
          0.621578689492338,
          -0.4630544081124457,
          -0.4367365405676625,
          1.3421143639461248,
          1.7456877417419552,
          1.3034225510631996,
          -0.7624624397576985,
          -0.40495996101011833,
          -2.1648442884732138,
          0.5440779523888465,
          0.5287058951523081,
          -0.43876721681254327,
          0.6449127396655433,
          -1.8263143889063849,
          -0.7719047232387043,
          1.7518581179245638,
          0.8330915673690045,
          -0.4521002707172554,
          -0.5402986159008635,
          -1.2266100687118864,
          1.6575386196372557,
          0.7985342454287591,
          0.208928873721229,
          0.21447039459623737,
          -0.5130034897172456,
          1.4365715282093559,
          -0.24188464953388022,
          0.44495315267780716,
          0.07569986085313132,
          -0.42437427642700526,
          -0.5719674021359072,
          0.1764574730152452,
          0.5947324055814549,
          0.5454269787091772,
          -1.052784323807733,
          -0.5458881467962238,
          0.7868241229855274,
          0.38274020695729544
         ]
        }
       ],
       "layout": {
        "legend": {
         "bgcolor": "#F5F6F9",
         "font": {
          "color": "#4D5663"
         }
        },
        "paper_bgcolor": "#F5F6F9",
        "plot_bgcolor": "#F5F6F9",
        "template": {
         "data": {
          "bar": [
           {
            "error_x": {
             "color": "#2a3f5f"
            },
            "error_y": {
             "color": "#2a3f5f"
            },
            "marker": {
             "line": {
              "color": "#E5ECF6",
              "width": 0.5
             }
            },
            "type": "bar"
           }
          ],
          "barpolar": [
           {
            "marker": {
             "line": {
              "color": "#E5ECF6",
              "width": 0.5
             }
            },
            "type": "barpolar"
           }
          ],
          "carpet": [
           {
            "aaxis": {
             "endlinecolor": "#2a3f5f",
             "gridcolor": "white",
             "linecolor": "white",
             "minorgridcolor": "white",
             "startlinecolor": "#2a3f5f"
            },
            "baxis": {
             "endlinecolor": "#2a3f5f",
             "gridcolor": "white",
             "linecolor": "white",
             "minorgridcolor": "white",
             "startlinecolor": "#2a3f5f"
            },
            "type": "carpet"
           }
          ],
          "choropleth": [
           {
            "colorbar": {
             "outlinewidth": 0,
             "ticks": ""
            },
            "type": "choropleth"
           }
          ],
          "contour": [
           {
            "colorbar": {
             "outlinewidth": 0,
             "ticks": ""
            },
            "colorscale": [
             [
              0,
              "#0d0887"
             ],
             [
              0.1111111111111111,
              "#46039f"
             ],
             [
              0.2222222222222222,
              "#7201a8"
             ],
             [
              0.3333333333333333,
              "#9c179e"
             ],
             [
              0.4444444444444444,
              "#bd3786"
             ],
             [
              0.5555555555555556,
              "#d8576b"
             ],
             [
              0.6666666666666666,
              "#ed7953"
             ],
             [
              0.7777777777777778,
              "#fb9f3a"
             ],
             [
              0.8888888888888888,
              "#fdca26"
             ],
             [
              1,
              "#f0f921"
             ]
            ],
            "type": "contour"
           }
          ],
          "contourcarpet": [
           {
            "colorbar": {
             "outlinewidth": 0,
             "ticks": ""
            },
            "type": "contourcarpet"
           }
          ],
          "heatmap": [
           {
            "colorbar": {
             "outlinewidth": 0,
             "ticks": ""
            },
            "colorscale": [
             [
              0,
              "#0d0887"
             ],
             [
              0.1111111111111111,
              "#46039f"
             ],
             [
              0.2222222222222222,
              "#7201a8"
             ],
             [
              0.3333333333333333,
              "#9c179e"
             ],
             [
              0.4444444444444444,
              "#bd3786"
             ],
             [
              0.5555555555555556,
              "#d8576b"
             ],
             [
              0.6666666666666666,
              "#ed7953"
             ],
             [
              0.7777777777777778,
              "#fb9f3a"
             ],
             [
              0.8888888888888888,
              "#fdca26"
             ],
             [
              1,
              "#f0f921"
             ]
            ],
            "type": "heatmap"
           }
          ],
          "heatmapgl": [
           {
            "colorbar": {
             "outlinewidth": 0,
             "ticks": ""
            },
            "colorscale": [
             [
              0,
              "#0d0887"
             ],
             [
              0.1111111111111111,
              "#46039f"
             ],
             [
              0.2222222222222222,
              "#7201a8"
             ],
             [
              0.3333333333333333,
              "#9c179e"
             ],
             [
              0.4444444444444444,
              "#bd3786"
             ],
             [
              0.5555555555555556,
              "#d8576b"
             ],
             [
              0.6666666666666666,
              "#ed7953"
             ],
             [
              0.7777777777777778,
              "#fb9f3a"
             ],
             [
              0.8888888888888888,
              "#fdca26"
             ],
             [
              1,
              "#f0f921"
             ]
            ],
            "type": "heatmapgl"
           }
          ],
          "histogram": [
           {
            "marker": {
             "colorbar": {
              "outlinewidth": 0,
              "ticks": ""
             }
            },
            "type": "histogram"
           }
          ],
          "histogram2d": [
           {
            "colorbar": {
             "outlinewidth": 0,
             "ticks": ""
            },
            "colorscale": [
             [
              0,
              "#0d0887"
             ],
             [
              0.1111111111111111,
              "#46039f"
             ],
             [
              0.2222222222222222,
              "#7201a8"
             ],
             [
              0.3333333333333333,
              "#9c179e"
             ],
             [
              0.4444444444444444,
              "#bd3786"
             ],
             [
              0.5555555555555556,
              "#d8576b"
             ],
             [
              0.6666666666666666,
              "#ed7953"
             ],
             [
              0.7777777777777778,
              "#fb9f3a"
             ],
             [
              0.8888888888888888,
              "#fdca26"
             ],
             [
              1,
              "#f0f921"
             ]
            ],
            "type": "histogram2d"
           }
          ],
          "histogram2dcontour": [
           {
            "colorbar": {
             "outlinewidth": 0,
             "ticks": ""
            },
            "colorscale": [
             [
              0,
              "#0d0887"
             ],
             [
              0.1111111111111111,
              "#46039f"
             ],
             [
              0.2222222222222222,
              "#7201a8"
             ],
             [
              0.3333333333333333,
              "#9c179e"
             ],
             [
              0.4444444444444444,
              "#bd3786"
             ],
             [
              0.5555555555555556,
              "#d8576b"
             ],
             [
              0.6666666666666666,
              "#ed7953"
             ],
             [
              0.7777777777777778,
              "#fb9f3a"
             ],
             [
              0.8888888888888888,
              "#fdca26"
             ],
             [
              1,
              "#f0f921"
             ]
            ],
            "type": "histogram2dcontour"
           }
          ],
          "mesh3d": [
           {
            "colorbar": {
             "outlinewidth": 0,
             "ticks": ""
            },
            "type": "mesh3d"
           }
          ],
          "parcoords": [
           {
            "line": {
             "colorbar": {
              "outlinewidth": 0,
              "ticks": ""
             }
            },
            "type": "parcoords"
           }
          ],
          "pie": [
           {
            "automargin": true,
            "type": "pie"
           }
          ],
          "scatter": [
           {
            "marker": {
             "colorbar": {
              "outlinewidth": 0,
              "ticks": ""
             }
            },
            "type": "scatter"
           }
          ],
          "scatter3d": [
           {
            "line": {
             "colorbar": {
              "outlinewidth": 0,
              "ticks": ""
             }
            },
            "marker": {
             "colorbar": {
              "outlinewidth": 0,
              "ticks": ""
             }
            },
            "type": "scatter3d"
           }
          ],
          "scattercarpet": [
           {
            "marker": {
             "colorbar": {
              "outlinewidth": 0,
              "ticks": ""
             }
            },
            "type": "scattercarpet"
           }
          ],
          "scattergeo": [
           {
            "marker": {
             "colorbar": {
              "outlinewidth": 0,
              "ticks": ""
             }
            },
            "type": "scattergeo"
           }
          ],
          "scattergl": [
           {
            "marker": {
             "colorbar": {
              "outlinewidth": 0,
              "ticks": ""
             }
            },
            "type": "scattergl"
           }
          ],
          "scattermapbox": [
           {
            "marker": {
             "colorbar": {
              "outlinewidth": 0,
              "ticks": ""
             }
            },
            "type": "scattermapbox"
           }
          ],
          "scatterpolar": [
           {
            "marker": {
             "colorbar": {
              "outlinewidth": 0,
              "ticks": ""
             }
            },
            "type": "scatterpolar"
           }
          ],
          "scatterpolargl": [
           {
            "marker": {
             "colorbar": {
              "outlinewidth": 0,
              "ticks": ""
             }
            },
            "type": "scatterpolargl"
           }
          ],
          "scatterternary": [
           {
            "marker": {
             "colorbar": {
              "outlinewidth": 0,
              "ticks": ""
             }
            },
            "type": "scatterternary"
           }
          ],
          "surface": [
           {
            "colorbar": {
             "outlinewidth": 0,
             "ticks": ""
            },
            "colorscale": [
             [
              0,
              "#0d0887"
             ],
             [
              0.1111111111111111,
              "#46039f"
             ],
             [
              0.2222222222222222,
              "#7201a8"
             ],
             [
              0.3333333333333333,
              "#9c179e"
             ],
             [
              0.4444444444444444,
              "#bd3786"
             ],
             [
              0.5555555555555556,
              "#d8576b"
             ],
             [
              0.6666666666666666,
              "#ed7953"
             ],
             [
              0.7777777777777778,
              "#fb9f3a"
             ],
             [
              0.8888888888888888,
              "#fdca26"
             ],
             [
              1,
              "#f0f921"
             ]
            ],
            "type": "surface"
           }
          ],
          "table": [
           {
            "cells": {
             "fill": {
              "color": "#EBF0F8"
             },
             "line": {
              "color": "white"
             }
            },
            "header": {
             "fill": {
              "color": "#C8D4E3"
             },
             "line": {
              "color": "white"
             }
            },
            "type": "table"
           }
          ]
         },
         "layout": {
          "annotationdefaults": {
           "arrowcolor": "#2a3f5f",
           "arrowhead": 0,
           "arrowwidth": 1
          },
          "coloraxis": {
           "colorbar": {
            "outlinewidth": 0,
            "ticks": ""
           }
          },
          "colorscale": {
           "diverging": [
            [
             0,
             "#8e0152"
            ],
            [
             0.1,
             "#c51b7d"
            ],
            [
             0.2,
             "#de77ae"
            ],
            [
             0.3,
             "#f1b6da"
            ],
            [
             0.4,
             "#fde0ef"
            ],
            [
             0.5,
             "#f7f7f7"
            ],
            [
             0.6,
             "#e6f5d0"
            ],
            [
             0.7,
             "#b8e186"
            ],
            [
             0.8,
             "#7fbc41"
            ],
            [
             0.9,
             "#4d9221"
            ],
            [
             1,
             "#276419"
            ]
           ],
           "sequential": [
            [
             0,
             "#0d0887"
            ],
            [
             0.1111111111111111,
             "#46039f"
            ],
            [
             0.2222222222222222,
             "#7201a8"
            ],
            [
             0.3333333333333333,
             "#9c179e"
            ],
            [
             0.4444444444444444,
             "#bd3786"
            ],
            [
             0.5555555555555556,
             "#d8576b"
            ],
            [
             0.6666666666666666,
             "#ed7953"
            ],
            [
             0.7777777777777778,
             "#fb9f3a"
            ],
            [
             0.8888888888888888,
             "#fdca26"
            ],
            [
             1,
             "#f0f921"
            ]
           ],
           "sequentialminus": [
            [
             0,
             "#0d0887"
            ],
            [
             0.1111111111111111,
             "#46039f"
            ],
            [
             0.2222222222222222,
             "#7201a8"
            ],
            [
             0.3333333333333333,
             "#9c179e"
            ],
            [
             0.4444444444444444,
             "#bd3786"
            ],
            [
             0.5555555555555556,
             "#d8576b"
            ],
            [
             0.6666666666666666,
             "#ed7953"
            ],
            [
             0.7777777777777778,
             "#fb9f3a"
            ],
            [
             0.8888888888888888,
             "#fdca26"
            ],
            [
             1,
             "#f0f921"
            ]
           ]
          },
          "colorway": [
           "#636efa",
           "#EF553B",
           "#00cc96",
           "#ab63fa",
           "#FFA15A",
           "#19d3f3",
           "#FF6692",
           "#B6E880",
           "#FF97FF",
           "#FECB52"
          ],
          "font": {
           "color": "#2a3f5f"
          },
          "geo": {
           "bgcolor": "white",
           "lakecolor": "white",
           "landcolor": "#E5ECF6",
           "showlakes": true,
           "showland": true,
           "subunitcolor": "white"
          },
          "hoverlabel": {
           "align": "left"
          },
          "hovermode": "closest",
          "mapbox": {
           "style": "light"
          },
          "paper_bgcolor": "white",
          "plot_bgcolor": "#E5ECF6",
          "polar": {
           "angularaxis": {
            "gridcolor": "white",
            "linecolor": "white",
            "ticks": ""
           },
           "bgcolor": "#E5ECF6",
           "radialaxis": {
            "gridcolor": "white",
            "linecolor": "white",
            "ticks": ""
           }
          },
          "scene": {
           "xaxis": {
            "backgroundcolor": "#E5ECF6",
            "gridcolor": "white",
            "gridwidth": 2,
            "linecolor": "white",
            "showbackground": true,
            "ticks": "",
            "zerolinecolor": "white"
           },
           "yaxis": {
            "backgroundcolor": "#E5ECF6",
            "gridcolor": "white",
            "gridwidth": 2,
            "linecolor": "white",
            "showbackground": true,
            "ticks": "",
            "zerolinecolor": "white"
           },
           "zaxis": {
            "backgroundcolor": "#E5ECF6",
            "gridcolor": "white",
            "gridwidth": 2,
            "linecolor": "white",
            "showbackground": true,
            "ticks": "",
            "zerolinecolor": "white"
           }
          },
          "shapedefaults": {
           "line": {
            "color": "#2a3f5f"
           }
          },
          "ternary": {
           "aaxis": {
            "gridcolor": "white",
            "linecolor": "white",
            "ticks": ""
           },
           "baxis": {
            "gridcolor": "white",
            "linecolor": "white",
            "ticks": ""
           },
           "bgcolor": "#E5ECF6",
           "caxis": {
            "gridcolor": "white",
            "linecolor": "white",
            "ticks": ""
           }
          },
          "title": {
           "x": 0.05
          },
          "xaxis": {
           "automargin": true,
           "gridcolor": "white",
           "linecolor": "white",
           "ticks": "",
           "title": {
            "standoff": 15
           },
           "zerolinecolor": "white",
           "zerolinewidth": 2
          },
          "yaxis": {
           "automargin": true,
           "gridcolor": "white",
           "linecolor": "white",
           "ticks": "",
           "title": {
            "standoff": 15
           },
           "zerolinecolor": "white",
           "zerolinewidth": 2
          }
         }
        },
        "title": {
         "font": {
          "color": "#4D5663"
         }
        },
        "xaxis": {
         "gridcolor": "#E1E5ED",
         "showgrid": true,
         "tickfont": {
          "color": "#4D5663"
         },
         "title": {
          "font": {
           "color": "#4D5663"
          },
          "text": ""
         },
         "zerolinecolor": "#E1E5ED"
        },
        "yaxis": {
         "gridcolor": "#E1E5ED",
         "showgrid": true,
         "tickfont": {
          "color": "#4D5663"
         },
         "title": {
          "font": {
           "color": "#4D5663"
          },
          "text": ""
         },
         "zerolinecolor": "#E1E5ED"
        }
       }
      },
      "text/html": [
       "<div>\n",
       "        \n",
       "        \n",
       "            <div id=\"a4b8e9fb-e840-4d5d-bdb6-095c263cf93e\" class=\"plotly-graph-div\" style=\"height:525px; width:100%;\"></div>\n",
       "            <script type=\"text/javascript\">\n",
       "                require([\"plotly\"], function(Plotly) {\n",
       "                    window.PLOTLYENV=window.PLOTLYENV || {};\n",
       "                    window.PLOTLYENV.BASE_URL='https://plot.ly';\n",
       "                    \n",
       "                if (document.getElementById(\"a4b8e9fb-e840-4d5d-bdb6-095c263cf93e\")) {\n",
       "                    Plotly.newPlot(\n",
       "                        'a4b8e9fb-e840-4d5d-bdb6-095c263cf93e',\n",
       "                        [{\"line\": {\"color\": \"rgba(255, 153, 51, 1.0)\", \"dash\": \"solid\", \"shape\": \"linear\", \"width\": 1.3}, \"marker\": {\"size\": 10, \"symbol\": \"circle\"}, \"mode\": \"markers\", \"name\": \"B\", \"text\": \"\", \"type\": \"scatter\", \"x\": [0.43633476275957783, -0.9369666672884216, 0.28852110280962995, -1.1011111414948977, 0.32854507231159646, 0.9816992515177357, -2.284421668511395, -0.26995513779247227, 0.6501295774491413, -1.069402621774459, -1.2020976216798172, 0.6513942645777206, 0.7521897597563676, 0.5426067229233946, 0.3370644577358486, -0.5393103302681119, -0.6635779258219466, -0.24300598976235596, 0.04496685936482622, -0.965346068356053, -0.24806693468330765, -0.16866354882736542, 0.5444475088125463, 0.5496623505488482, 0.5450871232084065, -0.441345583389729, -0.9629954737171853, -0.676216274703561, 0.006322641558518212, 0.18664330349151873, -0.02609261417418306, -0.43677653611744, 0.1424015252435575, 1.9310702447132302, -0.9155454555589564, 1.0582884814491147, 0.7987834738109799, -1.53766916018999, -1.825814026600039, 0.21272618276774719, 1.5967775264793374, 1.2929976854648164, 0.06610609076863956, -0.5764360733096935, -1.56089420040441, -0.2554528079087033, 1.8350740347678272, 0.3598812399041258, -0.2814109679987709, 0.3241194243912139, 1.0661956656936156, -0.037067756201864574, -0.683125037067316, -1.0280984103041046, -0.07112279321412139, -0.5539586978476361, -0.5602855710925664, 0.733138539889477, -1.0541102386248455, -1.3236651767229892, 1.0168652515920766, -0.3566999154025523, 0.6508321441587809, -0.0012140476126413513, -0.7882292100040235, 2.883257249796413, 0.3353217669277645, -1.0679692420258937, 0.18293142627367062, 0.11494991601411153, -0.3644172733653438, 0.4987628257668977, 0.8508934232296702, -0.08679926983528236, 0.8047676559452972, 0.2597526083971923, 0.473929637781343, 0.08581232319537543, -0.22410861057241027, -0.5257153363463388, 1.6952648028066364, -0.696156975583712, -0.836353387975282, 0.2965518348994222, -1.0012320086348452, -1.1544077261671366, -1.3350958845426832, 0.7119427630233932, 0.6411177748569961, -0.3001776750662769, -0.9048484414626201, 0.7390101756217512, 1.4819140122480443, 0.5981606146092255, -0.26082548405743144, 2.046254697130263, -1.9411641500930508, 1.8452808905980655, 1.4038573414777682, -0.8795591013597613], \"y\": [-0.44728330349228973, -0.6069251354234275, -1.3738549093340406, 1.2334111997303334, 0.7397860123001738, 1.5972494572851856, -0.018931915979927754, -1.2264327624064608, 0.15592114116201142, -0.47902754325705527, 1.2074916117611019, 0.6889645260151184, 1.6209155031439582, 1.0377918747451134, -0.16857843049431245, 0.7350503697272961, 1.3732044642314538, 0.17853748378804712, 0.9201258074350492, 0.661381730865682, 1.485145958350401, -1.632119618070541, 0.22748154932469294, -0.09458663553707516, 0.21090274721930652, 1.2583083792119074, 1.6422290993212094, -1.019888999922517, -1.1262083616915823, 0.7751631377435271, 0.0780355504840483, 0.29911039538859174, 0.43807211050813644, -0.12770957828774504, -0.6521897822817302, -0.889630939076755, 0.15986237919607987, -0.04342366071403783, -0.43520486123887653, 0.5379206691506319, 0.793787709378705, -0.4289924398492299, 0.7369539710091716, 2.087453696135382, 0.5620994219564909, -0.20137912145968392, 0.7257704929503092, 1.1084092246082184, -0.5171551630835821, -1.1283322045922786, 0.2593535652357022, -0.17267859924919277, -1.5345339901197232, -0.3209003352524528, -1.1744077524500085, 1.4490429107416258, 1.184950303089929, 0.702234314776529, -0.6784286508938552, 1.2835120424777373, -1.190989535539129, -0.3513939866455125, 0.621578689492338, -0.4630544081124457, -0.4367365405676625, 1.3421143639461248, 1.7456877417419552, 1.3034225510631996, -0.7624624397576985, -0.40495996101011833, -2.1648442884732138, 0.5440779523888465, 0.5287058951523081, -0.43876721681254327, 0.6449127396655433, -1.8263143889063849, -0.7719047232387043, 1.7518581179245638, 0.8330915673690045, -0.4521002707172554, -0.5402986159008635, -1.2266100687118864, 1.6575386196372557, 0.7985342454287591, 0.208928873721229, 0.21447039459623737, -0.5130034897172456, 1.4365715282093559, -0.24188464953388022, 0.44495315267780716, 0.07569986085313132, -0.42437427642700526, -0.5719674021359072, 0.1764574730152452, 0.5947324055814549, 0.5454269787091772, -1.052784323807733, -0.5458881467962238, 0.7868241229855274, 0.38274020695729544]}],\n",
       "                        {\"legend\": {\"bgcolor\": \"#F5F6F9\", \"font\": {\"color\": \"#4D5663\"}}, \"paper_bgcolor\": \"#F5F6F9\", \"plot_bgcolor\": \"#F5F6F9\", \"template\": {\"data\": {\"bar\": [{\"error_x\": {\"color\": \"#2a3f5f\"}, \"error_y\": {\"color\": \"#2a3f5f\"}, \"marker\": {\"line\": {\"color\": \"#E5ECF6\", \"width\": 0.5}}, \"type\": \"bar\"}], \"barpolar\": [{\"marker\": {\"line\": {\"color\": \"#E5ECF6\", \"width\": 0.5}}, \"type\": \"barpolar\"}], \"carpet\": [{\"aaxis\": {\"endlinecolor\": \"#2a3f5f\", \"gridcolor\": \"white\", \"linecolor\": \"white\", \"minorgridcolor\": \"white\", \"startlinecolor\": \"#2a3f5f\"}, \"baxis\": {\"endlinecolor\": \"#2a3f5f\", \"gridcolor\": \"white\", \"linecolor\": \"white\", \"minorgridcolor\": \"white\", \"startlinecolor\": \"#2a3f5f\"}, \"type\": \"carpet\"}], \"choropleth\": [{\"colorbar\": {\"outlinewidth\": 0, \"ticks\": \"\"}, \"type\": \"choropleth\"}], \"contour\": [{\"colorbar\": {\"outlinewidth\": 0, \"ticks\": \"\"}, \"colorscale\": [[0.0, \"#0d0887\"], [0.1111111111111111, \"#46039f\"], [0.2222222222222222, \"#7201a8\"], [0.3333333333333333, \"#9c179e\"], [0.4444444444444444, \"#bd3786\"], [0.5555555555555556, \"#d8576b\"], [0.6666666666666666, \"#ed7953\"], [0.7777777777777778, \"#fb9f3a\"], [0.8888888888888888, \"#fdca26\"], [1.0, \"#f0f921\"]], \"type\": \"contour\"}], \"contourcarpet\": [{\"colorbar\": {\"outlinewidth\": 0, \"ticks\": \"\"}, \"type\": \"contourcarpet\"}], \"heatmap\": [{\"colorbar\": {\"outlinewidth\": 0, \"ticks\": \"\"}, \"colorscale\": [[0.0, \"#0d0887\"], [0.1111111111111111, \"#46039f\"], [0.2222222222222222, \"#7201a8\"], [0.3333333333333333, \"#9c179e\"], [0.4444444444444444, \"#bd3786\"], [0.5555555555555556, \"#d8576b\"], [0.6666666666666666, \"#ed7953\"], [0.7777777777777778, \"#fb9f3a\"], [0.8888888888888888, \"#fdca26\"], [1.0, \"#f0f921\"]], \"type\": \"heatmap\"}], \"heatmapgl\": [{\"colorbar\": {\"outlinewidth\": 0, \"ticks\": \"\"}, \"colorscale\": [[0.0, \"#0d0887\"], [0.1111111111111111, \"#46039f\"], [0.2222222222222222, \"#7201a8\"], [0.3333333333333333, \"#9c179e\"], [0.4444444444444444, \"#bd3786\"], [0.5555555555555556, \"#d8576b\"], [0.6666666666666666, \"#ed7953\"], [0.7777777777777778, \"#fb9f3a\"], [0.8888888888888888, \"#fdca26\"], [1.0, \"#f0f921\"]], \"type\": \"heatmapgl\"}], \"histogram\": [{\"marker\": {\"colorbar\": {\"outlinewidth\": 0, \"ticks\": \"\"}}, \"type\": \"histogram\"}], \"histogram2d\": [{\"colorbar\": {\"outlinewidth\": 0, \"ticks\": \"\"}, \"colorscale\": [[0.0, \"#0d0887\"], [0.1111111111111111, \"#46039f\"], [0.2222222222222222, \"#7201a8\"], [0.3333333333333333, \"#9c179e\"], [0.4444444444444444, \"#bd3786\"], [0.5555555555555556, \"#d8576b\"], [0.6666666666666666, \"#ed7953\"], [0.7777777777777778, \"#fb9f3a\"], [0.8888888888888888, \"#fdca26\"], [1.0, \"#f0f921\"]], \"type\": \"histogram2d\"}], \"histogram2dcontour\": [{\"colorbar\": {\"outlinewidth\": 0, \"ticks\": \"\"}, \"colorscale\": [[0.0, \"#0d0887\"], [0.1111111111111111, \"#46039f\"], [0.2222222222222222, \"#7201a8\"], [0.3333333333333333, \"#9c179e\"], [0.4444444444444444, \"#bd3786\"], [0.5555555555555556, \"#d8576b\"], [0.6666666666666666, \"#ed7953\"], [0.7777777777777778, \"#fb9f3a\"], [0.8888888888888888, \"#fdca26\"], [1.0, \"#f0f921\"]], \"type\": \"histogram2dcontour\"}], \"mesh3d\": [{\"colorbar\": {\"outlinewidth\": 0, \"ticks\": \"\"}, \"type\": \"mesh3d\"}], \"parcoords\": [{\"line\": {\"colorbar\": {\"outlinewidth\": 0, \"ticks\": \"\"}}, \"type\": \"parcoords\"}], \"pie\": [{\"automargin\": true, \"type\": \"pie\"}], \"scatter\": [{\"marker\": {\"colorbar\": {\"outlinewidth\": 0, \"ticks\": \"\"}}, \"type\": \"scatter\"}], \"scatter3d\": [{\"line\": {\"colorbar\": {\"outlinewidth\": 0, \"ticks\": \"\"}}, \"marker\": {\"colorbar\": {\"outlinewidth\": 0, \"ticks\": \"\"}}, \"type\": \"scatter3d\"}], \"scattercarpet\": [{\"marker\": {\"colorbar\": {\"outlinewidth\": 0, \"ticks\": \"\"}}, \"type\": \"scattercarpet\"}], \"scattergeo\": [{\"marker\": {\"colorbar\": {\"outlinewidth\": 0, \"ticks\": \"\"}}, \"type\": \"scattergeo\"}], \"scattergl\": [{\"marker\": {\"colorbar\": {\"outlinewidth\": 0, \"ticks\": \"\"}}, \"type\": \"scattergl\"}], \"scattermapbox\": [{\"marker\": {\"colorbar\": {\"outlinewidth\": 0, \"ticks\": \"\"}}, \"type\": \"scattermapbox\"}], \"scatterpolar\": [{\"marker\": {\"colorbar\": {\"outlinewidth\": 0, \"ticks\": \"\"}}, \"type\": \"scatterpolar\"}], \"scatterpolargl\": [{\"marker\": {\"colorbar\": {\"outlinewidth\": 0, \"ticks\": \"\"}}, \"type\": \"scatterpolargl\"}], \"scatterternary\": [{\"marker\": {\"colorbar\": {\"outlinewidth\": 0, \"ticks\": \"\"}}, \"type\": \"scatterternary\"}], \"surface\": [{\"colorbar\": {\"outlinewidth\": 0, \"ticks\": \"\"}, \"colorscale\": [[0.0, \"#0d0887\"], [0.1111111111111111, \"#46039f\"], [0.2222222222222222, \"#7201a8\"], [0.3333333333333333, \"#9c179e\"], [0.4444444444444444, \"#bd3786\"], [0.5555555555555556, \"#d8576b\"], [0.6666666666666666, \"#ed7953\"], [0.7777777777777778, \"#fb9f3a\"], [0.8888888888888888, \"#fdca26\"], [1.0, \"#f0f921\"]], \"type\": \"surface\"}], \"table\": [{\"cells\": {\"fill\": {\"color\": \"#EBF0F8\"}, \"line\": {\"color\": \"white\"}}, \"header\": {\"fill\": {\"color\": \"#C8D4E3\"}, \"line\": {\"color\": \"white\"}}, \"type\": \"table\"}]}, \"layout\": {\"annotationdefaults\": {\"arrowcolor\": \"#2a3f5f\", \"arrowhead\": 0, \"arrowwidth\": 1}, \"coloraxis\": {\"colorbar\": {\"outlinewidth\": 0, \"ticks\": \"\"}}, \"colorscale\": {\"diverging\": [[0, \"#8e0152\"], [0.1, \"#c51b7d\"], [0.2, \"#de77ae\"], [0.3, \"#f1b6da\"], [0.4, \"#fde0ef\"], [0.5, \"#f7f7f7\"], [0.6, \"#e6f5d0\"], [0.7, \"#b8e186\"], [0.8, \"#7fbc41\"], [0.9, \"#4d9221\"], [1, \"#276419\"]], \"sequential\": [[0.0, \"#0d0887\"], [0.1111111111111111, \"#46039f\"], [0.2222222222222222, \"#7201a8\"], [0.3333333333333333, \"#9c179e\"], [0.4444444444444444, \"#bd3786\"], [0.5555555555555556, \"#d8576b\"], [0.6666666666666666, \"#ed7953\"], [0.7777777777777778, \"#fb9f3a\"], [0.8888888888888888, \"#fdca26\"], [1.0, \"#f0f921\"]], \"sequentialminus\": [[0.0, \"#0d0887\"], [0.1111111111111111, \"#46039f\"], [0.2222222222222222, \"#7201a8\"], [0.3333333333333333, \"#9c179e\"], [0.4444444444444444, \"#bd3786\"], [0.5555555555555556, \"#d8576b\"], [0.6666666666666666, \"#ed7953\"], [0.7777777777777778, \"#fb9f3a\"], [0.8888888888888888, \"#fdca26\"], [1.0, \"#f0f921\"]]}, \"colorway\": [\"#636efa\", \"#EF553B\", \"#00cc96\", \"#ab63fa\", \"#FFA15A\", \"#19d3f3\", \"#FF6692\", \"#B6E880\", \"#FF97FF\", \"#FECB52\"], \"font\": {\"color\": \"#2a3f5f\"}, \"geo\": {\"bgcolor\": \"white\", \"lakecolor\": \"white\", \"landcolor\": \"#E5ECF6\", \"showlakes\": true, \"showland\": true, \"subunitcolor\": \"white\"}, \"hoverlabel\": {\"align\": \"left\"}, \"hovermode\": \"closest\", \"mapbox\": {\"style\": \"light\"}, \"paper_bgcolor\": \"white\", \"plot_bgcolor\": \"#E5ECF6\", \"polar\": {\"angularaxis\": {\"gridcolor\": \"white\", \"linecolor\": \"white\", \"ticks\": \"\"}, \"bgcolor\": \"#E5ECF6\", \"radialaxis\": {\"gridcolor\": \"white\", \"linecolor\": \"white\", \"ticks\": \"\"}}, \"scene\": {\"xaxis\": {\"backgroundcolor\": \"#E5ECF6\", \"gridcolor\": \"white\", \"gridwidth\": 2, \"linecolor\": \"white\", \"showbackground\": true, \"ticks\": \"\", \"zerolinecolor\": \"white\"}, \"yaxis\": {\"backgroundcolor\": \"#E5ECF6\", \"gridcolor\": \"white\", \"gridwidth\": 2, \"linecolor\": \"white\", \"showbackground\": true, \"ticks\": \"\", \"zerolinecolor\": \"white\"}, \"zaxis\": {\"backgroundcolor\": \"#E5ECF6\", \"gridcolor\": \"white\", \"gridwidth\": 2, \"linecolor\": \"white\", \"showbackground\": true, \"ticks\": \"\", \"zerolinecolor\": \"white\"}}, \"shapedefaults\": {\"line\": {\"color\": \"#2a3f5f\"}}, \"ternary\": {\"aaxis\": {\"gridcolor\": \"white\", \"linecolor\": \"white\", \"ticks\": \"\"}, \"baxis\": {\"gridcolor\": \"white\", \"linecolor\": \"white\", \"ticks\": \"\"}, \"bgcolor\": \"#E5ECF6\", \"caxis\": {\"gridcolor\": \"white\", \"linecolor\": \"white\", \"ticks\": \"\"}}, \"title\": {\"x\": 0.05}, \"xaxis\": {\"automargin\": true, \"gridcolor\": \"white\", \"linecolor\": \"white\", \"ticks\": \"\", \"title\": {\"standoff\": 15}, \"zerolinecolor\": \"white\", \"zerolinewidth\": 2}, \"yaxis\": {\"automargin\": true, \"gridcolor\": \"white\", \"linecolor\": \"white\", \"ticks\": \"\", \"title\": {\"standoff\": 15}, \"zerolinecolor\": \"white\", \"zerolinewidth\": 2}}}, \"title\": {\"font\": {\"color\": \"#4D5663\"}}, \"xaxis\": {\"gridcolor\": \"#E1E5ED\", \"showgrid\": true, \"tickfont\": {\"color\": \"#4D5663\"}, \"title\": {\"font\": {\"color\": \"#4D5663\"}, \"text\": \"\"}, \"zerolinecolor\": \"#E1E5ED\"}, \"yaxis\": {\"gridcolor\": \"#E1E5ED\", \"showgrid\": true, \"tickfont\": {\"color\": \"#4D5663\"}, \"title\": {\"font\": {\"color\": \"#4D5663\"}, \"text\": \"\"}, \"zerolinecolor\": \"#E1E5ED\"}},\n",
       "                        {\"showLink\": true, \"linkText\": \"Export to plot.ly\", \"plotlyServerURL\": \"https://plot.ly\", \"responsive\": true}\n",
       "                    ).then(function(){\n",
       "                            \n",
       "var gd = document.getElementById('a4b8e9fb-e840-4d5d-bdb6-095c263cf93e');\n",
       "var x = new MutationObserver(function (mutations, observer) {{\n",
       "        var display = window.getComputedStyle(gd).display;\n",
       "        if (!display || display === 'none') {{\n",
       "            console.log([gd, 'removed!']);\n",
       "            Plotly.purge(gd);\n",
       "            observer.disconnect();\n",
       "        }}\n",
       "}});\n",
       "\n",
       "// Listen for the removal of the full notebook cells\n",
       "var notebookContainer = gd.closest('#notebook-container');\n",
       "if (notebookContainer) {{\n",
       "    x.observe(notebookContainer, {childList: true});\n",
       "}}\n",
       "\n",
       "// Listen for the clearing of the current output cell\n",
       "var outputEl = gd.closest('.output');\n",
       "if (outputEl) {{\n",
       "    x.observe(outputEl, {childList: true});\n",
       "}}\n",
       "\n",
       "                        })\n",
       "                };\n",
       "                });\n",
       "            </script>\n",
       "        </div>"
      ]
     },
     "metadata": {},
     "output_type": "display_data"
    }
   ],
   "source": [
    "df.iplot(kind='scatter',x='A',y='B',mode='markers',size=10)"
   ]
  },
  {
   "cell_type": "markdown",
   "metadata": {},
   "source": [
    "## Bar Plots"
   ]
  },
  {
   "cell_type": "code",
   "execution_count": 13,
   "metadata": {},
   "outputs": [
    {
     "data": {
      "application/vnd.plotly.v1+json": {
       "config": {
        "linkText": "Export to plot.ly",
        "plotlyServerURL": "https://plot.ly",
        "showLink": true
       },
       "data": [
        {
         "marker": {
          "color": "rgba(255, 153, 51, 0.6)",
          "line": {
           "color": "rgba(255, 153, 51, 1.0)",
           "width": 1
          }
         },
         "name": "Values",
         "orientation": "v",
         "text": "",
         "type": "bar",
         "x": [
          "A",
          "B",
          "C"
         ],
         "y": [
          32,
          43,
          50
         ]
        }
       ],
       "layout": {
        "legend": {
         "bgcolor": "#F5F6F9",
         "font": {
          "color": "#4D5663"
         }
        },
        "paper_bgcolor": "#F5F6F9",
        "plot_bgcolor": "#F5F6F9",
        "template": {
         "data": {
          "bar": [
           {
            "error_x": {
             "color": "#2a3f5f"
            },
            "error_y": {
             "color": "#2a3f5f"
            },
            "marker": {
             "line": {
              "color": "#E5ECF6",
              "width": 0.5
             }
            },
            "type": "bar"
           }
          ],
          "barpolar": [
           {
            "marker": {
             "line": {
              "color": "#E5ECF6",
              "width": 0.5
             }
            },
            "type": "barpolar"
           }
          ],
          "carpet": [
           {
            "aaxis": {
             "endlinecolor": "#2a3f5f",
             "gridcolor": "white",
             "linecolor": "white",
             "minorgridcolor": "white",
             "startlinecolor": "#2a3f5f"
            },
            "baxis": {
             "endlinecolor": "#2a3f5f",
             "gridcolor": "white",
             "linecolor": "white",
             "minorgridcolor": "white",
             "startlinecolor": "#2a3f5f"
            },
            "type": "carpet"
           }
          ],
          "choropleth": [
           {
            "colorbar": {
             "outlinewidth": 0,
             "ticks": ""
            },
            "type": "choropleth"
           }
          ],
          "contour": [
           {
            "colorbar": {
             "outlinewidth": 0,
             "ticks": ""
            },
            "colorscale": [
             [
              0,
              "#0d0887"
             ],
             [
              0.1111111111111111,
              "#46039f"
             ],
             [
              0.2222222222222222,
              "#7201a8"
             ],
             [
              0.3333333333333333,
              "#9c179e"
             ],
             [
              0.4444444444444444,
              "#bd3786"
             ],
             [
              0.5555555555555556,
              "#d8576b"
             ],
             [
              0.6666666666666666,
              "#ed7953"
             ],
             [
              0.7777777777777778,
              "#fb9f3a"
             ],
             [
              0.8888888888888888,
              "#fdca26"
             ],
             [
              1,
              "#f0f921"
             ]
            ],
            "type": "contour"
           }
          ],
          "contourcarpet": [
           {
            "colorbar": {
             "outlinewidth": 0,
             "ticks": ""
            },
            "type": "contourcarpet"
           }
          ],
          "heatmap": [
           {
            "colorbar": {
             "outlinewidth": 0,
             "ticks": ""
            },
            "colorscale": [
             [
              0,
              "#0d0887"
             ],
             [
              0.1111111111111111,
              "#46039f"
             ],
             [
              0.2222222222222222,
              "#7201a8"
             ],
             [
              0.3333333333333333,
              "#9c179e"
             ],
             [
              0.4444444444444444,
              "#bd3786"
             ],
             [
              0.5555555555555556,
              "#d8576b"
             ],
             [
              0.6666666666666666,
              "#ed7953"
             ],
             [
              0.7777777777777778,
              "#fb9f3a"
             ],
             [
              0.8888888888888888,
              "#fdca26"
             ],
             [
              1,
              "#f0f921"
             ]
            ],
            "type": "heatmap"
           }
          ],
          "heatmapgl": [
           {
            "colorbar": {
             "outlinewidth": 0,
             "ticks": ""
            },
            "colorscale": [
             [
              0,
              "#0d0887"
             ],
             [
              0.1111111111111111,
              "#46039f"
             ],
             [
              0.2222222222222222,
              "#7201a8"
             ],
             [
              0.3333333333333333,
              "#9c179e"
             ],
             [
              0.4444444444444444,
              "#bd3786"
             ],
             [
              0.5555555555555556,
              "#d8576b"
             ],
             [
              0.6666666666666666,
              "#ed7953"
             ],
             [
              0.7777777777777778,
              "#fb9f3a"
             ],
             [
              0.8888888888888888,
              "#fdca26"
             ],
             [
              1,
              "#f0f921"
             ]
            ],
            "type": "heatmapgl"
           }
          ],
          "histogram": [
           {
            "marker": {
             "colorbar": {
              "outlinewidth": 0,
              "ticks": ""
             }
            },
            "type": "histogram"
           }
          ],
          "histogram2d": [
           {
            "colorbar": {
             "outlinewidth": 0,
             "ticks": ""
            },
            "colorscale": [
             [
              0,
              "#0d0887"
             ],
             [
              0.1111111111111111,
              "#46039f"
             ],
             [
              0.2222222222222222,
              "#7201a8"
             ],
             [
              0.3333333333333333,
              "#9c179e"
             ],
             [
              0.4444444444444444,
              "#bd3786"
             ],
             [
              0.5555555555555556,
              "#d8576b"
             ],
             [
              0.6666666666666666,
              "#ed7953"
             ],
             [
              0.7777777777777778,
              "#fb9f3a"
             ],
             [
              0.8888888888888888,
              "#fdca26"
             ],
             [
              1,
              "#f0f921"
             ]
            ],
            "type": "histogram2d"
           }
          ],
          "histogram2dcontour": [
           {
            "colorbar": {
             "outlinewidth": 0,
             "ticks": ""
            },
            "colorscale": [
             [
              0,
              "#0d0887"
             ],
             [
              0.1111111111111111,
              "#46039f"
             ],
             [
              0.2222222222222222,
              "#7201a8"
             ],
             [
              0.3333333333333333,
              "#9c179e"
             ],
             [
              0.4444444444444444,
              "#bd3786"
             ],
             [
              0.5555555555555556,
              "#d8576b"
             ],
             [
              0.6666666666666666,
              "#ed7953"
             ],
             [
              0.7777777777777778,
              "#fb9f3a"
             ],
             [
              0.8888888888888888,
              "#fdca26"
             ],
             [
              1,
              "#f0f921"
             ]
            ],
            "type": "histogram2dcontour"
           }
          ],
          "mesh3d": [
           {
            "colorbar": {
             "outlinewidth": 0,
             "ticks": ""
            },
            "type": "mesh3d"
           }
          ],
          "parcoords": [
           {
            "line": {
             "colorbar": {
              "outlinewidth": 0,
              "ticks": ""
             }
            },
            "type": "parcoords"
           }
          ],
          "pie": [
           {
            "automargin": true,
            "type": "pie"
           }
          ],
          "scatter": [
           {
            "marker": {
             "colorbar": {
              "outlinewidth": 0,
              "ticks": ""
             }
            },
            "type": "scatter"
           }
          ],
          "scatter3d": [
           {
            "line": {
             "colorbar": {
              "outlinewidth": 0,
              "ticks": ""
             }
            },
            "marker": {
             "colorbar": {
              "outlinewidth": 0,
              "ticks": ""
             }
            },
            "type": "scatter3d"
           }
          ],
          "scattercarpet": [
           {
            "marker": {
             "colorbar": {
              "outlinewidth": 0,
              "ticks": ""
             }
            },
            "type": "scattercarpet"
           }
          ],
          "scattergeo": [
           {
            "marker": {
             "colorbar": {
              "outlinewidth": 0,
              "ticks": ""
             }
            },
            "type": "scattergeo"
           }
          ],
          "scattergl": [
           {
            "marker": {
             "colorbar": {
              "outlinewidth": 0,
              "ticks": ""
             }
            },
            "type": "scattergl"
           }
          ],
          "scattermapbox": [
           {
            "marker": {
             "colorbar": {
              "outlinewidth": 0,
              "ticks": ""
             }
            },
            "type": "scattermapbox"
           }
          ],
          "scatterpolar": [
           {
            "marker": {
             "colorbar": {
              "outlinewidth": 0,
              "ticks": ""
             }
            },
            "type": "scatterpolar"
           }
          ],
          "scatterpolargl": [
           {
            "marker": {
             "colorbar": {
              "outlinewidth": 0,
              "ticks": ""
             }
            },
            "type": "scatterpolargl"
           }
          ],
          "scatterternary": [
           {
            "marker": {
             "colorbar": {
              "outlinewidth": 0,
              "ticks": ""
             }
            },
            "type": "scatterternary"
           }
          ],
          "surface": [
           {
            "colorbar": {
             "outlinewidth": 0,
             "ticks": ""
            },
            "colorscale": [
             [
              0,
              "#0d0887"
             ],
             [
              0.1111111111111111,
              "#46039f"
             ],
             [
              0.2222222222222222,
              "#7201a8"
             ],
             [
              0.3333333333333333,
              "#9c179e"
             ],
             [
              0.4444444444444444,
              "#bd3786"
             ],
             [
              0.5555555555555556,
              "#d8576b"
             ],
             [
              0.6666666666666666,
              "#ed7953"
             ],
             [
              0.7777777777777778,
              "#fb9f3a"
             ],
             [
              0.8888888888888888,
              "#fdca26"
             ],
             [
              1,
              "#f0f921"
             ]
            ],
            "type": "surface"
           }
          ],
          "table": [
           {
            "cells": {
             "fill": {
              "color": "#EBF0F8"
             },
             "line": {
              "color": "white"
             }
            },
            "header": {
             "fill": {
              "color": "#C8D4E3"
             },
             "line": {
              "color": "white"
             }
            },
            "type": "table"
           }
          ]
         },
         "layout": {
          "annotationdefaults": {
           "arrowcolor": "#2a3f5f",
           "arrowhead": 0,
           "arrowwidth": 1
          },
          "coloraxis": {
           "colorbar": {
            "outlinewidth": 0,
            "ticks": ""
           }
          },
          "colorscale": {
           "diverging": [
            [
             0,
             "#8e0152"
            ],
            [
             0.1,
             "#c51b7d"
            ],
            [
             0.2,
             "#de77ae"
            ],
            [
             0.3,
             "#f1b6da"
            ],
            [
             0.4,
             "#fde0ef"
            ],
            [
             0.5,
             "#f7f7f7"
            ],
            [
             0.6,
             "#e6f5d0"
            ],
            [
             0.7,
             "#b8e186"
            ],
            [
             0.8,
             "#7fbc41"
            ],
            [
             0.9,
             "#4d9221"
            ],
            [
             1,
             "#276419"
            ]
           ],
           "sequential": [
            [
             0,
             "#0d0887"
            ],
            [
             0.1111111111111111,
             "#46039f"
            ],
            [
             0.2222222222222222,
             "#7201a8"
            ],
            [
             0.3333333333333333,
             "#9c179e"
            ],
            [
             0.4444444444444444,
             "#bd3786"
            ],
            [
             0.5555555555555556,
             "#d8576b"
            ],
            [
             0.6666666666666666,
             "#ed7953"
            ],
            [
             0.7777777777777778,
             "#fb9f3a"
            ],
            [
             0.8888888888888888,
             "#fdca26"
            ],
            [
             1,
             "#f0f921"
            ]
           ],
           "sequentialminus": [
            [
             0,
             "#0d0887"
            ],
            [
             0.1111111111111111,
             "#46039f"
            ],
            [
             0.2222222222222222,
             "#7201a8"
            ],
            [
             0.3333333333333333,
             "#9c179e"
            ],
            [
             0.4444444444444444,
             "#bd3786"
            ],
            [
             0.5555555555555556,
             "#d8576b"
            ],
            [
             0.6666666666666666,
             "#ed7953"
            ],
            [
             0.7777777777777778,
             "#fb9f3a"
            ],
            [
             0.8888888888888888,
             "#fdca26"
            ],
            [
             1,
             "#f0f921"
            ]
           ]
          },
          "colorway": [
           "#636efa",
           "#EF553B",
           "#00cc96",
           "#ab63fa",
           "#FFA15A",
           "#19d3f3",
           "#FF6692",
           "#B6E880",
           "#FF97FF",
           "#FECB52"
          ],
          "font": {
           "color": "#2a3f5f"
          },
          "geo": {
           "bgcolor": "white",
           "lakecolor": "white",
           "landcolor": "#E5ECF6",
           "showlakes": true,
           "showland": true,
           "subunitcolor": "white"
          },
          "hoverlabel": {
           "align": "left"
          },
          "hovermode": "closest",
          "mapbox": {
           "style": "light"
          },
          "paper_bgcolor": "white",
          "plot_bgcolor": "#E5ECF6",
          "polar": {
           "angularaxis": {
            "gridcolor": "white",
            "linecolor": "white",
            "ticks": ""
           },
           "bgcolor": "#E5ECF6",
           "radialaxis": {
            "gridcolor": "white",
            "linecolor": "white",
            "ticks": ""
           }
          },
          "scene": {
           "xaxis": {
            "backgroundcolor": "#E5ECF6",
            "gridcolor": "white",
            "gridwidth": 2,
            "linecolor": "white",
            "showbackground": true,
            "ticks": "",
            "zerolinecolor": "white"
           },
           "yaxis": {
            "backgroundcolor": "#E5ECF6",
            "gridcolor": "white",
            "gridwidth": 2,
            "linecolor": "white",
            "showbackground": true,
            "ticks": "",
            "zerolinecolor": "white"
           },
           "zaxis": {
            "backgroundcolor": "#E5ECF6",
            "gridcolor": "white",
            "gridwidth": 2,
            "linecolor": "white",
            "showbackground": true,
            "ticks": "",
            "zerolinecolor": "white"
           }
          },
          "shapedefaults": {
           "line": {
            "color": "#2a3f5f"
           }
          },
          "ternary": {
           "aaxis": {
            "gridcolor": "white",
            "linecolor": "white",
            "ticks": ""
           },
           "baxis": {
            "gridcolor": "white",
            "linecolor": "white",
            "ticks": ""
           },
           "bgcolor": "#E5ECF6",
           "caxis": {
            "gridcolor": "white",
            "linecolor": "white",
            "ticks": ""
           }
          },
          "title": {
           "x": 0.05
          },
          "xaxis": {
           "automargin": true,
           "gridcolor": "white",
           "linecolor": "white",
           "ticks": "",
           "title": {
            "standoff": 15
           },
           "zerolinecolor": "white",
           "zerolinewidth": 2
          },
          "yaxis": {
           "automargin": true,
           "gridcolor": "white",
           "linecolor": "white",
           "ticks": "",
           "title": {
            "standoff": 15
           },
           "zerolinecolor": "white",
           "zerolinewidth": 2
          }
         }
        },
        "title": {
         "font": {
          "color": "#4D5663"
         }
        },
        "xaxis": {
         "gridcolor": "#E1E5ED",
         "showgrid": true,
         "tickfont": {
          "color": "#4D5663"
         },
         "title": {
          "font": {
           "color": "#4D5663"
          },
          "text": ""
         },
         "zerolinecolor": "#E1E5ED"
        },
        "yaxis": {
         "gridcolor": "#E1E5ED",
         "showgrid": true,
         "tickfont": {
          "color": "#4D5663"
         },
         "title": {
          "font": {
           "color": "#4D5663"
          },
          "text": ""
         },
         "zerolinecolor": "#E1E5ED"
        }
       }
      },
      "text/html": [
       "<div>\n",
       "        \n",
       "        \n",
       "            <div id=\"6b2c27bc-fe5c-4385-aad1-21fe4338e2f1\" class=\"plotly-graph-div\" style=\"height:525px; width:100%;\"></div>\n",
       "            <script type=\"text/javascript\">\n",
       "                require([\"plotly\"], function(Plotly) {\n",
       "                    window.PLOTLYENV=window.PLOTLYENV || {};\n",
       "                    window.PLOTLYENV.BASE_URL='https://plot.ly';\n",
       "                    \n",
       "                if (document.getElementById(\"6b2c27bc-fe5c-4385-aad1-21fe4338e2f1\")) {\n",
       "                    Plotly.newPlot(\n",
       "                        '6b2c27bc-fe5c-4385-aad1-21fe4338e2f1',\n",
       "                        [{\"marker\": {\"color\": \"rgba(255, 153, 51, 0.6)\", \"line\": {\"color\": \"rgba(255, 153, 51, 1.0)\", \"width\": 1}}, \"name\": \"Values\", \"orientation\": \"v\", \"text\": \"\", \"type\": \"bar\", \"x\": [\"A\", \"B\", \"C\"], \"y\": [32, 43, 50]}],\n",
       "                        {\"legend\": {\"bgcolor\": \"#F5F6F9\", \"font\": {\"color\": \"#4D5663\"}}, \"paper_bgcolor\": \"#F5F6F9\", \"plot_bgcolor\": \"#F5F6F9\", \"template\": {\"data\": {\"bar\": [{\"error_x\": {\"color\": \"#2a3f5f\"}, \"error_y\": {\"color\": \"#2a3f5f\"}, \"marker\": {\"line\": {\"color\": \"#E5ECF6\", \"width\": 0.5}}, \"type\": \"bar\"}], \"barpolar\": [{\"marker\": {\"line\": {\"color\": \"#E5ECF6\", \"width\": 0.5}}, \"type\": \"barpolar\"}], \"carpet\": [{\"aaxis\": {\"endlinecolor\": \"#2a3f5f\", \"gridcolor\": \"white\", \"linecolor\": \"white\", \"minorgridcolor\": \"white\", \"startlinecolor\": \"#2a3f5f\"}, \"baxis\": {\"endlinecolor\": \"#2a3f5f\", \"gridcolor\": \"white\", \"linecolor\": \"white\", \"minorgridcolor\": \"white\", \"startlinecolor\": \"#2a3f5f\"}, \"type\": \"carpet\"}], \"choropleth\": [{\"colorbar\": {\"outlinewidth\": 0, \"ticks\": \"\"}, \"type\": \"choropleth\"}], \"contour\": [{\"colorbar\": {\"outlinewidth\": 0, \"ticks\": \"\"}, \"colorscale\": [[0.0, \"#0d0887\"], [0.1111111111111111, \"#46039f\"], [0.2222222222222222, \"#7201a8\"], [0.3333333333333333, \"#9c179e\"], [0.4444444444444444, \"#bd3786\"], [0.5555555555555556, \"#d8576b\"], [0.6666666666666666, \"#ed7953\"], [0.7777777777777778, \"#fb9f3a\"], [0.8888888888888888, \"#fdca26\"], [1.0, \"#f0f921\"]], \"type\": \"contour\"}], \"contourcarpet\": [{\"colorbar\": {\"outlinewidth\": 0, \"ticks\": \"\"}, \"type\": \"contourcarpet\"}], \"heatmap\": [{\"colorbar\": {\"outlinewidth\": 0, \"ticks\": \"\"}, \"colorscale\": [[0.0, \"#0d0887\"], [0.1111111111111111, \"#46039f\"], [0.2222222222222222, \"#7201a8\"], [0.3333333333333333, \"#9c179e\"], [0.4444444444444444, \"#bd3786\"], [0.5555555555555556, \"#d8576b\"], [0.6666666666666666, \"#ed7953\"], [0.7777777777777778, \"#fb9f3a\"], [0.8888888888888888, \"#fdca26\"], [1.0, \"#f0f921\"]], \"type\": \"heatmap\"}], \"heatmapgl\": [{\"colorbar\": {\"outlinewidth\": 0, \"ticks\": \"\"}, \"colorscale\": [[0.0, \"#0d0887\"], [0.1111111111111111, \"#46039f\"], [0.2222222222222222, \"#7201a8\"], [0.3333333333333333, \"#9c179e\"], [0.4444444444444444, \"#bd3786\"], [0.5555555555555556, \"#d8576b\"], [0.6666666666666666, \"#ed7953\"], [0.7777777777777778, \"#fb9f3a\"], [0.8888888888888888, \"#fdca26\"], [1.0, \"#f0f921\"]], \"type\": \"heatmapgl\"}], \"histogram\": [{\"marker\": {\"colorbar\": {\"outlinewidth\": 0, \"ticks\": \"\"}}, \"type\": \"histogram\"}], \"histogram2d\": [{\"colorbar\": {\"outlinewidth\": 0, \"ticks\": \"\"}, \"colorscale\": [[0.0, \"#0d0887\"], [0.1111111111111111, \"#46039f\"], [0.2222222222222222, \"#7201a8\"], [0.3333333333333333, \"#9c179e\"], [0.4444444444444444, \"#bd3786\"], [0.5555555555555556, \"#d8576b\"], [0.6666666666666666, \"#ed7953\"], [0.7777777777777778, \"#fb9f3a\"], [0.8888888888888888, \"#fdca26\"], [1.0, \"#f0f921\"]], \"type\": \"histogram2d\"}], \"histogram2dcontour\": [{\"colorbar\": {\"outlinewidth\": 0, \"ticks\": \"\"}, \"colorscale\": [[0.0, \"#0d0887\"], [0.1111111111111111, \"#46039f\"], [0.2222222222222222, \"#7201a8\"], [0.3333333333333333, \"#9c179e\"], [0.4444444444444444, \"#bd3786\"], [0.5555555555555556, \"#d8576b\"], [0.6666666666666666, \"#ed7953\"], [0.7777777777777778, \"#fb9f3a\"], [0.8888888888888888, \"#fdca26\"], [1.0, \"#f0f921\"]], \"type\": \"histogram2dcontour\"}], \"mesh3d\": [{\"colorbar\": {\"outlinewidth\": 0, \"ticks\": \"\"}, \"type\": \"mesh3d\"}], \"parcoords\": [{\"line\": {\"colorbar\": {\"outlinewidth\": 0, \"ticks\": \"\"}}, \"type\": \"parcoords\"}], \"pie\": [{\"automargin\": true, \"type\": \"pie\"}], \"scatter\": [{\"marker\": {\"colorbar\": {\"outlinewidth\": 0, \"ticks\": \"\"}}, \"type\": \"scatter\"}], \"scatter3d\": [{\"line\": {\"colorbar\": {\"outlinewidth\": 0, \"ticks\": \"\"}}, \"marker\": {\"colorbar\": {\"outlinewidth\": 0, \"ticks\": \"\"}}, \"type\": \"scatter3d\"}], \"scattercarpet\": [{\"marker\": {\"colorbar\": {\"outlinewidth\": 0, \"ticks\": \"\"}}, \"type\": \"scattercarpet\"}], \"scattergeo\": [{\"marker\": {\"colorbar\": {\"outlinewidth\": 0, \"ticks\": \"\"}}, \"type\": \"scattergeo\"}], \"scattergl\": [{\"marker\": {\"colorbar\": {\"outlinewidth\": 0, \"ticks\": \"\"}}, \"type\": \"scattergl\"}], \"scattermapbox\": [{\"marker\": {\"colorbar\": {\"outlinewidth\": 0, \"ticks\": \"\"}}, \"type\": \"scattermapbox\"}], \"scatterpolar\": [{\"marker\": {\"colorbar\": {\"outlinewidth\": 0, \"ticks\": \"\"}}, \"type\": \"scatterpolar\"}], \"scatterpolargl\": [{\"marker\": {\"colorbar\": {\"outlinewidth\": 0, \"ticks\": \"\"}}, \"type\": \"scatterpolargl\"}], \"scatterternary\": [{\"marker\": {\"colorbar\": {\"outlinewidth\": 0, \"ticks\": \"\"}}, \"type\": \"scatterternary\"}], \"surface\": [{\"colorbar\": {\"outlinewidth\": 0, \"ticks\": \"\"}, \"colorscale\": [[0.0, \"#0d0887\"], [0.1111111111111111, \"#46039f\"], [0.2222222222222222, \"#7201a8\"], [0.3333333333333333, \"#9c179e\"], [0.4444444444444444, \"#bd3786\"], [0.5555555555555556, \"#d8576b\"], [0.6666666666666666, \"#ed7953\"], [0.7777777777777778, \"#fb9f3a\"], [0.8888888888888888, \"#fdca26\"], [1.0, \"#f0f921\"]], \"type\": \"surface\"}], \"table\": [{\"cells\": {\"fill\": {\"color\": \"#EBF0F8\"}, \"line\": {\"color\": \"white\"}}, \"header\": {\"fill\": {\"color\": \"#C8D4E3\"}, \"line\": {\"color\": \"white\"}}, \"type\": \"table\"}]}, \"layout\": {\"annotationdefaults\": {\"arrowcolor\": \"#2a3f5f\", \"arrowhead\": 0, \"arrowwidth\": 1}, \"coloraxis\": {\"colorbar\": {\"outlinewidth\": 0, \"ticks\": \"\"}}, \"colorscale\": {\"diverging\": [[0, \"#8e0152\"], [0.1, \"#c51b7d\"], [0.2, \"#de77ae\"], [0.3, \"#f1b6da\"], [0.4, \"#fde0ef\"], [0.5, \"#f7f7f7\"], [0.6, \"#e6f5d0\"], [0.7, \"#b8e186\"], [0.8, \"#7fbc41\"], [0.9, \"#4d9221\"], [1, \"#276419\"]], \"sequential\": [[0.0, \"#0d0887\"], [0.1111111111111111, \"#46039f\"], [0.2222222222222222, \"#7201a8\"], [0.3333333333333333, \"#9c179e\"], [0.4444444444444444, \"#bd3786\"], [0.5555555555555556, \"#d8576b\"], [0.6666666666666666, \"#ed7953\"], [0.7777777777777778, \"#fb9f3a\"], [0.8888888888888888, \"#fdca26\"], [1.0, \"#f0f921\"]], \"sequentialminus\": [[0.0, \"#0d0887\"], [0.1111111111111111, \"#46039f\"], [0.2222222222222222, \"#7201a8\"], [0.3333333333333333, \"#9c179e\"], [0.4444444444444444, \"#bd3786\"], [0.5555555555555556, \"#d8576b\"], [0.6666666666666666, \"#ed7953\"], [0.7777777777777778, \"#fb9f3a\"], [0.8888888888888888, \"#fdca26\"], [1.0, \"#f0f921\"]]}, \"colorway\": [\"#636efa\", \"#EF553B\", \"#00cc96\", \"#ab63fa\", \"#FFA15A\", \"#19d3f3\", \"#FF6692\", \"#B6E880\", \"#FF97FF\", \"#FECB52\"], \"font\": {\"color\": \"#2a3f5f\"}, \"geo\": {\"bgcolor\": \"white\", \"lakecolor\": \"white\", \"landcolor\": \"#E5ECF6\", \"showlakes\": true, \"showland\": true, \"subunitcolor\": \"white\"}, \"hoverlabel\": {\"align\": \"left\"}, \"hovermode\": \"closest\", \"mapbox\": {\"style\": \"light\"}, \"paper_bgcolor\": \"white\", \"plot_bgcolor\": \"#E5ECF6\", \"polar\": {\"angularaxis\": {\"gridcolor\": \"white\", \"linecolor\": \"white\", \"ticks\": \"\"}, \"bgcolor\": \"#E5ECF6\", \"radialaxis\": {\"gridcolor\": \"white\", \"linecolor\": \"white\", \"ticks\": \"\"}}, \"scene\": {\"xaxis\": {\"backgroundcolor\": \"#E5ECF6\", \"gridcolor\": \"white\", \"gridwidth\": 2, \"linecolor\": \"white\", \"showbackground\": true, \"ticks\": \"\", \"zerolinecolor\": \"white\"}, \"yaxis\": {\"backgroundcolor\": \"#E5ECF6\", \"gridcolor\": \"white\", \"gridwidth\": 2, \"linecolor\": \"white\", \"showbackground\": true, \"ticks\": \"\", \"zerolinecolor\": \"white\"}, \"zaxis\": {\"backgroundcolor\": \"#E5ECF6\", \"gridcolor\": \"white\", \"gridwidth\": 2, \"linecolor\": \"white\", \"showbackground\": true, \"ticks\": \"\", \"zerolinecolor\": \"white\"}}, \"shapedefaults\": {\"line\": {\"color\": \"#2a3f5f\"}}, \"ternary\": {\"aaxis\": {\"gridcolor\": \"white\", \"linecolor\": \"white\", \"ticks\": \"\"}, \"baxis\": {\"gridcolor\": \"white\", \"linecolor\": \"white\", \"ticks\": \"\"}, \"bgcolor\": \"#E5ECF6\", \"caxis\": {\"gridcolor\": \"white\", \"linecolor\": \"white\", \"ticks\": \"\"}}, \"title\": {\"x\": 0.05}, \"xaxis\": {\"automargin\": true, \"gridcolor\": \"white\", \"linecolor\": \"white\", \"ticks\": \"\", \"title\": {\"standoff\": 15}, \"zerolinecolor\": \"white\", \"zerolinewidth\": 2}, \"yaxis\": {\"automargin\": true, \"gridcolor\": \"white\", \"linecolor\": \"white\", \"ticks\": \"\", \"title\": {\"standoff\": 15}, \"zerolinecolor\": \"white\", \"zerolinewidth\": 2}}}, \"title\": {\"font\": {\"color\": \"#4D5663\"}}, \"xaxis\": {\"gridcolor\": \"#E1E5ED\", \"showgrid\": true, \"tickfont\": {\"color\": \"#4D5663\"}, \"title\": {\"font\": {\"color\": \"#4D5663\"}, \"text\": \"\"}, \"zerolinecolor\": \"#E1E5ED\"}, \"yaxis\": {\"gridcolor\": \"#E1E5ED\", \"showgrid\": true, \"tickfont\": {\"color\": \"#4D5663\"}, \"title\": {\"font\": {\"color\": \"#4D5663\"}, \"text\": \"\"}, \"zerolinecolor\": \"#E1E5ED\"}},\n",
       "                        {\"showLink\": true, \"linkText\": \"Export to plot.ly\", \"plotlyServerURL\": \"https://plot.ly\", \"responsive\": true}\n",
       "                    ).then(function(){\n",
       "                            \n",
       "var gd = document.getElementById('6b2c27bc-fe5c-4385-aad1-21fe4338e2f1');\n",
       "var x = new MutationObserver(function (mutations, observer) {{\n",
       "        var display = window.getComputedStyle(gd).display;\n",
       "        if (!display || display === 'none') {{\n",
       "            console.log([gd, 'removed!']);\n",
       "            Plotly.purge(gd);\n",
       "            observer.disconnect();\n",
       "        }}\n",
       "}});\n",
       "\n",
       "// Listen for the removal of the full notebook cells\n",
       "var notebookContainer = gd.closest('#notebook-container');\n",
       "if (notebookContainer) {{\n",
       "    x.observe(notebookContainer, {childList: true});\n",
       "}}\n",
       "\n",
       "// Listen for the clearing of the current output cell\n",
       "var outputEl = gd.closest('.output');\n",
       "if (outputEl) {{\n",
       "    x.observe(outputEl, {childList: true});\n",
       "}}\n",
       "\n",
       "                        })\n",
       "                };\n",
       "                });\n",
       "            </script>\n",
       "        </div>"
      ]
     },
     "metadata": {},
     "output_type": "display_data"
    }
   ],
   "source": [
    "df2.iplot(kind='bar',x='Category',y='Values')"
   ]
  },
  {
   "cell_type": "code",
   "execution_count": 14,
   "metadata": {},
   "outputs": [
    {
     "data": {
      "application/vnd.plotly.v1+json": {
       "config": {
        "linkText": "Export to plot.ly",
        "plotlyServerURL": "https://plot.ly",
        "showLink": true
       },
       "data": [
        {
         "marker": {
          "color": "rgba(255, 153, 51, 0.6)",
          "line": {
           "color": "rgba(255, 153, 51, 1.0)",
           "width": 1
          }
         },
         "name": "None",
         "orientation": "v",
         "text": "",
         "type": "bar",
         "x": [
          "A",
          "B",
          "C",
          "D"
         ],
         "y": [
          100,
          100,
          100,
          100
         ]
        }
       ],
       "layout": {
        "legend": {
         "bgcolor": "#F5F6F9",
         "font": {
          "color": "#4D5663"
         }
        },
        "paper_bgcolor": "#F5F6F9",
        "plot_bgcolor": "#F5F6F9",
        "template": {
         "data": {
          "bar": [
           {
            "error_x": {
             "color": "#2a3f5f"
            },
            "error_y": {
             "color": "#2a3f5f"
            },
            "marker": {
             "line": {
              "color": "#E5ECF6",
              "width": 0.5
             }
            },
            "type": "bar"
           }
          ],
          "barpolar": [
           {
            "marker": {
             "line": {
              "color": "#E5ECF6",
              "width": 0.5
             }
            },
            "type": "barpolar"
           }
          ],
          "carpet": [
           {
            "aaxis": {
             "endlinecolor": "#2a3f5f",
             "gridcolor": "white",
             "linecolor": "white",
             "minorgridcolor": "white",
             "startlinecolor": "#2a3f5f"
            },
            "baxis": {
             "endlinecolor": "#2a3f5f",
             "gridcolor": "white",
             "linecolor": "white",
             "minorgridcolor": "white",
             "startlinecolor": "#2a3f5f"
            },
            "type": "carpet"
           }
          ],
          "choropleth": [
           {
            "colorbar": {
             "outlinewidth": 0,
             "ticks": ""
            },
            "type": "choropleth"
           }
          ],
          "contour": [
           {
            "colorbar": {
             "outlinewidth": 0,
             "ticks": ""
            },
            "colorscale": [
             [
              0,
              "#0d0887"
             ],
             [
              0.1111111111111111,
              "#46039f"
             ],
             [
              0.2222222222222222,
              "#7201a8"
             ],
             [
              0.3333333333333333,
              "#9c179e"
             ],
             [
              0.4444444444444444,
              "#bd3786"
             ],
             [
              0.5555555555555556,
              "#d8576b"
             ],
             [
              0.6666666666666666,
              "#ed7953"
             ],
             [
              0.7777777777777778,
              "#fb9f3a"
             ],
             [
              0.8888888888888888,
              "#fdca26"
             ],
             [
              1,
              "#f0f921"
             ]
            ],
            "type": "contour"
           }
          ],
          "contourcarpet": [
           {
            "colorbar": {
             "outlinewidth": 0,
             "ticks": ""
            },
            "type": "contourcarpet"
           }
          ],
          "heatmap": [
           {
            "colorbar": {
             "outlinewidth": 0,
             "ticks": ""
            },
            "colorscale": [
             [
              0,
              "#0d0887"
             ],
             [
              0.1111111111111111,
              "#46039f"
             ],
             [
              0.2222222222222222,
              "#7201a8"
             ],
             [
              0.3333333333333333,
              "#9c179e"
             ],
             [
              0.4444444444444444,
              "#bd3786"
             ],
             [
              0.5555555555555556,
              "#d8576b"
             ],
             [
              0.6666666666666666,
              "#ed7953"
             ],
             [
              0.7777777777777778,
              "#fb9f3a"
             ],
             [
              0.8888888888888888,
              "#fdca26"
             ],
             [
              1,
              "#f0f921"
             ]
            ],
            "type": "heatmap"
           }
          ],
          "heatmapgl": [
           {
            "colorbar": {
             "outlinewidth": 0,
             "ticks": ""
            },
            "colorscale": [
             [
              0,
              "#0d0887"
             ],
             [
              0.1111111111111111,
              "#46039f"
             ],
             [
              0.2222222222222222,
              "#7201a8"
             ],
             [
              0.3333333333333333,
              "#9c179e"
             ],
             [
              0.4444444444444444,
              "#bd3786"
             ],
             [
              0.5555555555555556,
              "#d8576b"
             ],
             [
              0.6666666666666666,
              "#ed7953"
             ],
             [
              0.7777777777777778,
              "#fb9f3a"
             ],
             [
              0.8888888888888888,
              "#fdca26"
             ],
             [
              1,
              "#f0f921"
             ]
            ],
            "type": "heatmapgl"
           }
          ],
          "histogram": [
           {
            "marker": {
             "colorbar": {
              "outlinewidth": 0,
              "ticks": ""
             }
            },
            "type": "histogram"
           }
          ],
          "histogram2d": [
           {
            "colorbar": {
             "outlinewidth": 0,
             "ticks": ""
            },
            "colorscale": [
             [
              0,
              "#0d0887"
             ],
             [
              0.1111111111111111,
              "#46039f"
             ],
             [
              0.2222222222222222,
              "#7201a8"
             ],
             [
              0.3333333333333333,
              "#9c179e"
             ],
             [
              0.4444444444444444,
              "#bd3786"
             ],
             [
              0.5555555555555556,
              "#d8576b"
             ],
             [
              0.6666666666666666,
              "#ed7953"
             ],
             [
              0.7777777777777778,
              "#fb9f3a"
             ],
             [
              0.8888888888888888,
              "#fdca26"
             ],
             [
              1,
              "#f0f921"
             ]
            ],
            "type": "histogram2d"
           }
          ],
          "histogram2dcontour": [
           {
            "colorbar": {
             "outlinewidth": 0,
             "ticks": ""
            },
            "colorscale": [
             [
              0,
              "#0d0887"
             ],
             [
              0.1111111111111111,
              "#46039f"
             ],
             [
              0.2222222222222222,
              "#7201a8"
             ],
             [
              0.3333333333333333,
              "#9c179e"
             ],
             [
              0.4444444444444444,
              "#bd3786"
             ],
             [
              0.5555555555555556,
              "#d8576b"
             ],
             [
              0.6666666666666666,
              "#ed7953"
             ],
             [
              0.7777777777777778,
              "#fb9f3a"
             ],
             [
              0.8888888888888888,
              "#fdca26"
             ],
             [
              1,
              "#f0f921"
             ]
            ],
            "type": "histogram2dcontour"
           }
          ],
          "mesh3d": [
           {
            "colorbar": {
             "outlinewidth": 0,
             "ticks": ""
            },
            "type": "mesh3d"
           }
          ],
          "parcoords": [
           {
            "line": {
             "colorbar": {
              "outlinewidth": 0,
              "ticks": ""
             }
            },
            "type": "parcoords"
           }
          ],
          "pie": [
           {
            "automargin": true,
            "type": "pie"
           }
          ],
          "scatter": [
           {
            "marker": {
             "colorbar": {
              "outlinewidth": 0,
              "ticks": ""
             }
            },
            "type": "scatter"
           }
          ],
          "scatter3d": [
           {
            "line": {
             "colorbar": {
              "outlinewidth": 0,
              "ticks": ""
             }
            },
            "marker": {
             "colorbar": {
              "outlinewidth": 0,
              "ticks": ""
             }
            },
            "type": "scatter3d"
           }
          ],
          "scattercarpet": [
           {
            "marker": {
             "colorbar": {
              "outlinewidth": 0,
              "ticks": ""
             }
            },
            "type": "scattercarpet"
           }
          ],
          "scattergeo": [
           {
            "marker": {
             "colorbar": {
              "outlinewidth": 0,
              "ticks": ""
             }
            },
            "type": "scattergeo"
           }
          ],
          "scattergl": [
           {
            "marker": {
             "colorbar": {
              "outlinewidth": 0,
              "ticks": ""
             }
            },
            "type": "scattergl"
           }
          ],
          "scattermapbox": [
           {
            "marker": {
             "colorbar": {
              "outlinewidth": 0,
              "ticks": ""
             }
            },
            "type": "scattermapbox"
           }
          ],
          "scatterpolar": [
           {
            "marker": {
             "colorbar": {
              "outlinewidth": 0,
              "ticks": ""
             }
            },
            "type": "scatterpolar"
           }
          ],
          "scatterpolargl": [
           {
            "marker": {
             "colorbar": {
              "outlinewidth": 0,
              "ticks": ""
             }
            },
            "type": "scatterpolargl"
           }
          ],
          "scatterternary": [
           {
            "marker": {
             "colorbar": {
              "outlinewidth": 0,
              "ticks": ""
             }
            },
            "type": "scatterternary"
           }
          ],
          "surface": [
           {
            "colorbar": {
             "outlinewidth": 0,
             "ticks": ""
            },
            "colorscale": [
             [
              0,
              "#0d0887"
             ],
             [
              0.1111111111111111,
              "#46039f"
             ],
             [
              0.2222222222222222,
              "#7201a8"
             ],
             [
              0.3333333333333333,
              "#9c179e"
             ],
             [
              0.4444444444444444,
              "#bd3786"
             ],
             [
              0.5555555555555556,
              "#d8576b"
             ],
             [
              0.6666666666666666,
              "#ed7953"
             ],
             [
              0.7777777777777778,
              "#fb9f3a"
             ],
             [
              0.8888888888888888,
              "#fdca26"
             ],
             [
              1,
              "#f0f921"
             ]
            ],
            "type": "surface"
           }
          ],
          "table": [
           {
            "cells": {
             "fill": {
              "color": "#EBF0F8"
             },
             "line": {
              "color": "white"
             }
            },
            "header": {
             "fill": {
              "color": "#C8D4E3"
             },
             "line": {
              "color": "white"
             }
            },
            "type": "table"
           }
          ]
         },
         "layout": {
          "annotationdefaults": {
           "arrowcolor": "#2a3f5f",
           "arrowhead": 0,
           "arrowwidth": 1
          },
          "coloraxis": {
           "colorbar": {
            "outlinewidth": 0,
            "ticks": ""
           }
          },
          "colorscale": {
           "diverging": [
            [
             0,
             "#8e0152"
            ],
            [
             0.1,
             "#c51b7d"
            ],
            [
             0.2,
             "#de77ae"
            ],
            [
             0.3,
             "#f1b6da"
            ],
            [
             0.4,
             "#fde0ef"
            ],
            [
             0.5,
             "#f7f7f7"
            ],
            [
             0.6,
             "#e6f5d0"
            ],
            [
             0.7,
             "#b8e186"
            ],
            [
             0.8,
             "#7fbc41"
            ],
            [
             0.9,
             "#4d9221"
            ],
            [
             1,
             "#276419"
            ]
           ],
           "sequential": [
            [
             0,
             "#0d0887"
            ],
            [
             0.1111111111111111,
             "#46039f"
            ],
            [
             0.2222222222222222,
             "#7201a8"
            ],
            [
             0.3333333333333333,
             "#9c179e"
            ],
            [
             0.4444444444444444,
             "#bd3786"
            ],
            [
             0.5555555555555556,
             "#d8576b"
            ],
            [
             0.6666666666666666,
             "#ed7953"
            ],
            [
             0.7777777777777778,
             "#fb9f3a"
            ],
            [
             0.8888888888888888,
             "#fdca26"
            ],
            [
             1,
             "#f0f921"
            ]
           ],
           "sequentialminus": [
            [
             0,
             "#0d0887"
            ],
            [
             0.1111111111111111,
             "#46039f"
            ],
            [
             0.2222222222222222,
             "#7201a8"
            ],
            [
             0.3333333333333333,
             "#9c179e"
            ],
            [
             0.4444444444444444,
             "#bd3786"
            ],
            [
             0.5555555555555556,
             "#d8576b"
            ],
            [
             0.6666666666666666,
             "#ed7953"
            ],
            [
             0.7777777777777778,
             "#fb9f3a"
            ],
            [
             0.8888888888888888,
             "#fdca26"
            ],
            [
             1,
             "#f0f921"
            ]
           ]
          },
          "colorway": [
           "#636efa",
           "#EF553B",
           "#00cc96",
           "#ab63fa",
           "#FFA15A",
           "#19d3f3",
           "#FF6692",
           "#B6E880",
           "#FF97FF",
           "#FECB52"
          ],
          "font": {
           "color": "#2a3f5f"
          },
          "geo": {
           "bgcolor": "white",
           "lakecolor": "white",
           "landcolor": "#E5ECF6",
           "showlakes": true,
           "showland": true,
           "subunitcolor": "white"
          },
          "hoverlabel": {
           "align": "left"
          },
          "hovermode": "closest",
          "mapbox": {
           "style": "light"
          },
          "paper_bgcolor": "white",
          "plot_bgcolor": "#E5ECF6",
          "polar": {
           "angularaxis": {
            "gridcolor": "white",
            "linecolor": "white",
            "ticks": ""
           },
           "bgcolor": "#E5ECF6",
           "radialaxis": {
            "gridcolor": "white",
            "linecolor": "white",
            "ticks": ""
           }
          },
          "scene": {
           "xaxis": {
            "backgroundcolor": "#E5ECF6",
            "gridcolor": "white",
            "gridwidth": 2,
            "linecolor": "white",
            "showbackground": true,
            "ticks": "",
            "zerolinecolor": "white"
           },
           "yaxis": {
            "backgroundcolor": "#E5ECF6",
            "gridcolor": "white",
            "gridwidth": 2,
            "linecolor": "white",
            "showbackground": true,
            "ticks": "",
            "zerolinecolor": "white"
           },
           "zaxis": {
            "backgroundcolor": "#E5ECF6",
            "gridcolor": "white",
            "gridwidth": 2,
            "linecolor": "white",
            "showbackground": true,
            "ticks": "",
            "zerolinecolor": "white"
           }
          },
          "shapedefaults": {
           "line": {
            "color": "#2a3f5f"
           }
          },
          "ternary": {
           "aaxis": {
            "gridcolor": "white",
            "linecolor": "white",
            "ticks": ""
           },
           "baxis": {
            "gridcolor": "white",
            "linecolor": "white",
            "ticks": ""
           },
           "bgcolor": "#E5ECF6",
           "caxis": {
            "gridcolor": "white",
            "linecolor": "white",
            "ticks": ""
           }
          },
          "title": {
           "x": 0.05
          },
          "xaxis": {
           "automargin": true,
           "gridcolor": "white",
           "linecolor": "white",
           "ticks": "",
           "title": {
            "standoff": 15
           },
           "zerolinecolor": "white",
           "zerolinewidth": 2
          },
          "yaxis": {
           "automargin": true,
           "gridcolor": "white",
           "linecolor": "white",
           "ticks": "",
           "title": {
            "standoff": 15
           },
           "zerolinecolor": "white",
           "zerolinewidth": 2
          }
         }
        },
        "title": {
         "font": {
          "color": "#4D5663"
         }
        },
        "xaxis": {
         "gridcolor": "#E1E5ED",
         "showgrid": true,
         "tickfont": {
          "color": "#4D5663"
         },
         "title": {
          "font": {
           "color": "#4D5663"
          },
          "text": ""
         },
         "zerolinecolor": "#E1E5ED"
        },
        "yaxis": {
         "gridcolor": "#E1E5ED",
         "showgrid": true,
         "tickfont": {
          "color": "#4D5663"
         },
         "title": {
          "font": {
           "color": "#4D5663"
          },
          "text": ""
         },
         "zerolinecolor": "#E1E5ED"
        }
       }
      },
      "text/html": [
       "<div>\n",
       "        \n",
       "        \n",
       "            <div id=\"40b82f91-916d-42d4-b350-1cda451fa16e\" class=\"plotly-graph-div\" style=\"height:525px; width:100%;\"></div>\n",
       "            <script type=\"text/javascript\">\n",
       "                require([\"plotly\"], function(Plotly) {\n",
       "                    window.PLOTLYENV=window.PLOTLYENV || {};\n",
       "                    window.PLOTLYENV.BASE_URL='https://plot.ly';\n",
       "                    \n",
       "                if (document.getElementById(\"40b82f91-916d-42d4-b350-1cda451fa16e\")) {\n",
       "                    Plotly.newPlot(\n",
       "                        '40b82f91-916d-42d4-b350-1cda451fa16e',\n",
       "                        [{\"marker\": {\"color\": \"rgba(255, 153, 51, 0.6)\", \"line\": {\"color\": \"rgba(255, 153, 51, 1.0)\", \"width\": 1}}, \"name\": \"None\", \"orientation\": \"v\", \"text\": \"\", \"type\": \"bar\", \"x\": [\"A\", \"B\", \"C\", \"D\"], \"y\": [100, 100, 100, 100]}],\n",
       "                        {\"legend\": {\"bgcolor\": \"#F5F6F9\", \"font\": {\"color\": \"#4D5663\"}}, \"paper_bgcolor\": \"#F5F6F9\", \"plot_bgcolor\": \"#F5F6F9\", \"template\": {\"data\": {\"bar\": [{\"error_x\": {\"color\": \"#2a3f5f\"}, \"error_y\": {\"color\": \"#2a3f5f\"}, \"marker\": {\"line\": {\"color\": \"#E5ECF6\", \"width\": 0.5}}, \"type\": \"bar\"}], \"barpolar\": [{\"marker\": {\"line\": {\"color\": \"#E5ECF6\", \"width\": 0.5}}, \"type\": \"barpolar\"}], \"carpet\": [{\"aaxis\": {\"endlinecolor\": \"#2a3f5f\", \"gridcolor\": \"white\", \"linecolor\": \"white\", \"minorgridcolor\": \"white\", \"startlinecolor\": \"#2a3f5f\"}, \"baxis\": {\"endlinecolor\": \"#2a3f5f\", \"gridcolor\": \"white\", \"linecolor\": \"white\", \"minorgridcolor\": \"white\", \"startlinecolor\": \"#2a3f5f\"}, \"type\": \"carpet\"}], \"choropleth\": [{\"colorbar\": {\"outlinewidth\": 0, \"ticks\": \"\"}, \"type\": \"choropleth\"}], \"contour\": [{\"colorbar\": {\"outlinewidth\": 0, \"ticks\": \"\"}, \"colorscale\": [[0.0, \"#0d0887\"], [0.1111111111111111, \"#46039f\"], [0.2222222222222222, \"#7201a8\"], [0.3333333333333333, \"#9c179e\"], [0.4444444444444444, \"#bd3786\"], [0.5555555555555556, \"#d8576b\"], [0.6666666666666666, \"#ed7953\"], [0.7777777777777778, \"#fb9f3a\"], [0.8888888888888888, \"#fdca26\"], [1.0, \"#f0f921\"]], \"type\": \"contour\"}], \"contourcarpet\": [{\"colorbar\": {\"outlinewidth\": 0, \"ticks\": \"\"}, \"type\": \"contourcarpet\"}], \"heatmap\": [{\"colorbar\": {\"outlinewidth\": 0, \"ticks\": \"\"}, \"colorscale\": [[0.0, \"#0d0887\"], [0.1111111111111111, \"#46039f\"], [0.2222222222222222, \"#7201a8\"], [0.3333333333333333, \"#9c179e\"], [0.4444444444444444, \"#bd3786\"], [0.5555555555555556, \"#d8576b\"], [0.6666666666666666, \"#ed7953\"], [0.7777777777777778, \"#fb9f3a\"], [0.8888888888888888, \"#fdca26\"], [1.0, \"#f0f921\"]], \"type\": \"heatmap\"}], \"heatmapgl\": [{\"colorbar\": {\"outlinewidth\": 0, \"ticks\": \"\"}, \"colorscale\": [[0.0, \"#0d0887\"], [0.1111111111111111, \"#46039f\"], [0.2222222222222222, \"#7201a8\"], [0.3333333333333333, \"#9c179e\"], [0.4444444444444444, \"#bd3786\"], [0.5555555555555556, \"#d8576b\"], [0.6666666666666666, \"#ed7953\"], [0.7777777777777778, \"#fb9f3a\"], [0.8888888888888888, \"#fdca26\"], [1.0, \"#f0f921\"]], \"type\": \"heatmapgl\"}], \"histogram\": [{\"marker\": {\"colorbar\": {\"outlinewidth\": 0, \"ticks\": \"\"}}, \"type\": \"histogram\"}], \"histogram2d\": [{\"colorbar\": {\"outlinewidth\": 0, \"ticks\": \"\"}, \"colorscale\": [[0.0, \"#0d0887\"], [0.1111111111111111, \"#46039f\"], [0.2222222222222222, \"#7201a8\"], [0.3333333333333333, \"#9c179e\"], [0.4444444444444444, \"#bd3786\"], [0.5555555555555556, \"#d8576b\"], [0.6666666666666666, \"#ed7953\"], [0.7777777777777778, \"#fb9f3a\"], [0.8888888888888888, \"#fdca26\"], [1.0, \"#f0f921\"]], \"type\": \"histogram2d\"}], \"histogram2dcontour\": [{\"colorbar\": {\"outlinewidth\": 0, \"ticks\": \"\"}, \"colorscale\": [[0.0, \"#0d0887\"], [0.1111111111111111, \"#46039f\"], [0.2222222222222222, \"#7201a8\"], [0.3333333333333333, \"#9c179e\"], [0.4444444444444444, \"#bd3786\"], [0.5555555555555556, \"#d8576b\"], [0.6666666666666666, \"#ed7953\"], [0.7777777777777778, \"#fb9f3a\"], [0.8888888888888888, \"#fdca26\"], [1.0, \"#f0f921\"]], \"type\": \"histogram2dcontour\"}], \"mesh3d\": [{\"colorbar\": {\"outlinewidth\": 0, \"ticks\": \"\"}, \"type\": \"mesh3d\"}], \"parcoords\": [{\"line\": {\"colorbar\": {\"outlinewidth\": 0, \"ticks\": \"\"}}, \"type\": \"parcoords\"}], \"pie\": [{\"automargin\": true, \"type\": \"pie\"}], \"scatter\": [{\"marker\": {\"colorbar\": {\"outlinewidth\": 0, \"ticks\": \"\"}}, \"type\": \"scatter\"}], \"scatter3d\": [{\"line\": {\"colorbar\": {\"outlinewidth\": 0, \"ticks\": \"\"}}, \"marker\": {\"colorbar\": {\"outlinewidth\": 0, \"ticks\": \"\"}}, \"type\": \"scatter3d\"}], \"scattercarpet\": [{\"marker\": {\"colorbar\": {\"outlinewidth\": 0, \"ticks\": \"\"}}, \"type\": \"scattercarpet\"}], \"scattergeo\": [{\"marker\": {\"colorbar\": {\"outlinewidth\": 0, \"ticks\": \"\"}}, \"type\": \"scattergeo\"}], \"scattergl\": [{\"marker\": {\"colorbar\": {\"outlinewidth\": 0, \"ticks\": \"\"}}, \"type\": \"scattergl\"}], \"scattermapbox\": [{\"marker\": {\"colorbar\": {\"outlinewidth\": 0, \"ticks\": \"\"}}, \"type\": \"scattermapbox\"}], \"scatterpolar\": [{\"marker\": {\"colorbar\": {\"outlinewidth\": 0, \"ticks\": \"\"}}, \"type\": \"scatterpolar\"}], \"scatterpolargl\": [{\"marker\": {\"colorbar\": {\"outlinewidth\": 0, \"ticks\": \"\"}}, \"type\": \"scatterpolargl\"}], \"scatterternary\": [{\"marker\": {\"colorbar\": {\"outlinewidth\": 0, \"ticks\": \"\"}}, \"type\": \"scatterternary\"}], \"surface\": [{\"colorbar\": {\"outlinewidth\": 0, \"ticks\": \"\"}, \"colorscale\": [[0.0, \"#0d0887\"], [0.1111111111111111, \"#46039f\"], [0.2222222222222222, \"#7201a8\"], [0.3333333333333333, \"#9c179e\"], [0.4444444444444444, \"#bd3786\"], [0.5555555555555556, \"#d8576b\"], [0.6666666666666666, \"#ed7953\"], [0.7777777777777778, \"#fb9f3a\"], [0.8888888888888888, \"#fdca26\"], [1.0, \"#f0f921\"]], \"type\": \"surface\"}], \"table\": [{\"cells\": {\"fill\": {\"color\": \"#EBF0F8\"}, \"line\": {\"color\": \"white\"}}, \"header\": {\"fill\": {\"color\": \"#C8D4E3\"}, \"line\": {\"color\": \"white\"}}, \"type\": \"table\"}]}, \"layout\": {\"annotationdefaults\": {\"arrowcolor\": \"#2a3f5f\", \"arrowhead\": 0, \"arrowwidth\": 1}, \"coloraxis\": {\"colorbar\": {\"outlinewidth\": 0, \"ticks\": \"\"}}, \"colorscale\": {\"diverging\": [[0, \"#8e0152\"], [0.1, \"#c51b7d\"], [0.2, \"#de77ae\"], [0.3, \"#f1b6da\"], [0.4, \"#fde0ef\"], [0.5, \"#f7f7f7\"], [0.6, \"#e6f5d0\"], [0.7, \"#b8e186\"], [0.8, \"#7fbc41\"], [0.9, \"#4d9221\"], [1, \"#276419\"]], \"sequential\": [[0.0, \"#0d0887\"], [0.1111111111111111, \"#46039f\"], [0.2222222222222222, \"#7201a8\"], [0.3333333333333333, \"#9c179e\"], [0.4444444444444444, \"#bd3786\"], [0.5555555555555556, \"#d8576b\"], [0.6666666666666666, \"#ed7953\"], [0.7777777777777778, \"#fb9f3a\"], [0.8888888888888888, \"#fdca26\"], [1.0, \"#f0f921\"]], \"sequentialminus\": [[0.0, \"#0d0887\"], [0.1111111111111111, \"#46039f\"], [0.2222222222222222, \"#7201a8\"], [0.3333333333333333, \"#9c179e\"], [0.4444444444444444, \"#bd3786\"], [0.5555555555555556, \"#d8576b\"], [0.6666666666666666, \"#ed7953\"], [0.7777777777777778, \"#fb9f3a\"], [0.8888888888888888, \"#fdca26\"], [1.0, \"#f0f921\"]]}, \"colorway\": [\"#636efa\", \"#EF553B\", \"#00cc96\", \"#ab63fa\", \"#FFA15A\", \"#19d3f3\", \"#FF6692\", \"#B6E880\", \"#FF97FF\", \"#FECB52\"], \"font\": {\"color\": \"#2a3f5f\"}, \"geo\": {\"bgcolor\": \"white\", \"lakecolor\": \"white\", \"landcolor\": \"#E5ECF6\", \"showlakes\": true, \"showland\": true, \"subunitcolor\": \"white\"}, \"hoverlabel\": {\"align\": \"left\"}, \"hovermode\": \"closest\", \"mapbox\": {\"style\": \"light\"}, \"paper_bgcolor\": \"white\", \"plot_bgcolor\": \"#E5ECF6\", \"polar\": {\"angularaxis\": {\"gridcolor\": \"white\", \"linecolor\": \"white\", \"ticks\": \"\"}, \"bgcolor\": \"#E5ECF6\", \"radialaxis\": {\"gridcolor\": \"white\", \"linecolor\": \"white\", \"ticks\": \"\"}}, \"scene\": {\"xaxis\": {\"backgroundcolor\": \"#E5ECF6\", \"gridcolor\": \"white\", \"gridwidth\": 2, \"linecolor\": \"white\", \"showbackground\": true, \"ticks\": \"\", \"zerolinecolor\": \"white\"}, \"yaxis\": {\"backgroundcolor\": \"#E5ECF6\", \"gridcolor\": \"white\", \"gridwidth\": 2, \"linecolor\": \"white\", \"showbackground\": true, \"ticks\": \"\", \"zerolinecolor\": \"white\"}, \"zaxis\": {\"backgroundcolor\": \"#E5ECF6\", \"gridcolor\": \"white\", \"gridwidth\": 2, \"linecolor\": \"white\", \"showbackground\": true, \"ticks\": \"\", \"zerolinecolor\": \"white\"}}, \"shapedefaults\": {\"line\": {\"color\": \"#2a3f5f\"}}, \"ternary\": {\"aaxis\": {\"gridcolor\": \"white\", \"linecolor\": \"white\", \"ticks\": \"\"}, \"baxis\": {\"gridcolor\": \"white\", \"linecolor\": \"white\", \"ticks\": \"\"}, \"bgcolor\": \"#E5ECF6\", \"caxis\": {\"gridcolor\": \"white\", \"linecolor\": \"white\", \"ticks\": \"\"}}, \"title\": {\"x\": 0.05}, \"xaxis\": {\"automargin\": true, \"gridcolor\": \"white\", \"linecolor\": \"white\", \"ticks\": \"\", \"title\": {\"standoff\": 15}, \"zerolinecolor\": \"white\", \"zerolinewidth\": 2}, \"yaxis\": {\"automargin\": true, \"gridcolor\": \"white\", \"linecolor\": \"white\", \"ticks\": \"\", \"title\": {\"standoff\": 15}, \"zerolinecolor\": \"white\", \"zerolinewidth\": 2}}}, \"title\": {\"font\": {\"color\": \"#4D5663\"}}, \"xaxis\": {\"gridcolor\": \"#E1E5ED\", \"showgrid\": true, \"tickfont\": {\"color\": \"#4D5663\"}, \"title\": {\"font\": {\"color\": \"#4D5663\"}, \"text\": \"\"}, \"zerolinecolor\": \"#E1E5ED\"}, \"yaxis\": {\"gridcolor\": \"#E1E5ED\", \"showgrid\": true, \"tickfont\": {\"color\": \"#4D5663\"}, \"title\": {\"font\": {\"color\": \"#4D5663\"}, \"text\": \"\"}, \"zerolinecolor\": \"#E1E5ED\"}},\n",
       "                        {\"showLink\": true, \"linkText\": \"Export to plot.ly\", \"plotlyServerURL\": \"https://plot.ly\", \"responsive\": true}\n",
       "                    ).then(function(){\n",
       "                            \n",
       "var gd = document.getElementById('40b82f91-916d-42d4-b350-1cda451fa16e');\n",
       "var x = new MutationObserver(function (mutations, observer) {{\n",
       "        var display = window.getComputedStyle(gd).display;\n",
       "        if (!display || display === 'none') {{\n",
       "            console.log([gd, 'removed!']);\n",
       "            Plotly.purge(gd);\n",
       "            observer.disconnect();\n",
       "        }}\n",
       "}});\n",
       "\n",
       "// Listen for the removal of the full notebook cells\n",
       "var notebookContainer = gd.closest('#notebook-container');\n",
       "if (notebookContainer) {{\n",
       "    x.observe(notebookContainer, {childList: true});\n",
       "}}\n",
       "\n",
       "// Listen for the clearing of the current output cell\n",
       "var outputEl = gd.closest('.output');\n",
       "if (outputEl) {{\n",
       "    x.observe(outputEl, {childList: true});\n",
       "}}\n",
       "\n",
       "                        })\n",
       "                };\n",
       "                });\n",
       "            </script>\n",
       "        </div>"
      ]
     },
     "metadata": {},
     "output_type": "display_data"
    }
   ],
   "source": [
    "df.count().iplot(kind='bar')"
   ]
  },
  {
   "cell_type": "markdown",
   "metadata": {},
   "source": [
    "## Boxplots"
   ]
  },
  {
   "cell_type": "code",
   "execution_count": 15,
   "metadata": {},
   "outputs": [
    {
     "data": {
      "application/vnd.plotly.v1+json": {
       "config": {
        "linkText": "Export to plot.ly",
        "plotlyServerURL": "https://plot.ly",
        "showLink": true
       },
       "data": [
        {
         "boxpoints": false,
         "line": {
          "width": 1.3
         },
         "marker": {
          "color": "rgba(255, 153, 51, 1.0)"
         },
         "name": "A",
         "orientation": "v",
         "type": "box",
         "y": [
          0.43633476275957783,
          -0.9369666672884216,
          0.28852110280962995,
          -1.1011111414948977,
          0.32854507231159646,
          0.9816992515177357,
          -2.284421668511395,
          -0.26995513779247227,
          0.6501295774491413,
          -1.069402621774459,
          -1.2020976216798172,
          0.6513942645777206,
          0.7521897597563676,
          0.5426067229233946,
          0.3370644577358486,
          -0.5393103302681119,
          -0.6635779258219466,
          -0.24300598976235596,
          0.04496685936482622,
          -0.965346068356053,
          -0.24806693468330765,
          -0.16866354882736542,
          0.5444475088125463,
          0.5496623505488482,
          0.5450871232084065,
          -0.441345583389729,
          -0.9629954737171853,
          -0.676216274703561,
          0.006322641558518212,
          0.18664330349151873,
          -0.02609261417418306,
          -0.43677653611744,
          0.1424015252435575,
          1.9310702447132302,
          -0.9155454555589564,
          1.0582884814491147,
          0.7987834738109799,
          -1.53766916018999,
          -1.825814026600039,
          0.21272618276774719,
          1.5967775264793374,
          1.2929976854648164,
          0.06610609076863956,
          -0.5764360733096935,
          -1.56089420040441,
          -0.2554528079087033,
          1.8350740347678272,
          0.3598812399041258,
          -0.2814109679987709,
          0.3241194243912139,
          1.0661956656936156,
          -0.037067756201864574,
          -0.683125037067316,
          -1.0280984103041046,
          -0.07112279321412139,
          -0.5539586978476361,
          -0.5602855710925664,
          0.733138539889477,
          -1.0541102386248455,
          -1.3236651767229892,
          1.0168652515920766,
          -0.3566999154025523,
          0.6508321441587809,
          -0.0012140476126413513,
          -0.7882292100040235,
          2.883257249796413,
          0.3353217669277645,
          -1.0679692420258937,
          0.18293142627367062,
          0.11494991601411153,
          -0.3644172733653438,
          0.4987628257668977,
          0.8508934232296702,
          -0.08679926983528236,
          0.8047676559452972,
          0.2597526083971923,
          0.473929637781343,
          0.08581232319537543,
          -0.22410861057241027,
          -0.5257153363463388,
          1.6952648028066364,
          -0.696156975583712,
          -0.836353387975282,
          0.2965518348994222,
          -1.0012320086348452,
          -1.1544077261671366,
          -1.3350958845426832,
          0.7119427630233932,
          0.6411177748569961,
          -0.3001776750662769,
          -0.9048484414626201,
          0.7390101756217512,
          1.4819140122480443,
          0.5981606146092255,
          -0.26082548405743144,
          2.046254697130263,
          -1.9411641500930508,
          1.8452808905980655,
          1.4038573414777682,
          -0.8795591013597613
         ]
        },
        {
         "boxpoints": false,
         "line": {
          "width": 1.3
         },
         "marker": {
          "color": "rgba(55, 128, 191, 1.0)"
         },
         "name": "B",
         "orientation": "v",
         "type": "box",
         "y": [
          -0.44728330349228973,
          -0.6069251354234275,
          -1.3738549093340406,
          1.2334111997303334,
          0.7397860123001738,
          1.5972494572851856,
          -0.018931915979927754,
          -1.2264327624064608,
          0.15592114116201142,
          -0.47902754325705527,
          1.2074916117611019,
          0.6889645260151184,
          1.6209155031439582,
          1.0377918747451134,
          -0.16857843049431245,
          0.7350503697272961,
          1.3732044642314538,
          0.17853748378804712,
          0.9201258074350492,
          0.661381730865682,
          1.485145958350401,
          -1.632119618070541,
          0.22748154932469294,
          -0.09458663553707516,
          0.21090274721930652,
          1.2583083792119074,
          1.6422290993212094,
          -1.019888999922517,
          -1.1262083616915823,
          0.7751631377435271,
          0.0780355504840483,
          0.29911039538859174,
          0.43807211050813644,
          -0.12770957828774504,
          -0.6521897822817302,
          -0.889630939076755,
          0.15986237919607987,
          -0.04342366071403783,
          -0.43520486123887653,
          0.5379206691506319,
          0.793787709378705,
          -0.4289924398492299,
          0.7369539710091716,
          2.087453696135382,
          0.5620994219564909,
          -0.20137912145968392,
          0.7257704929503092,
          1.1084092246082184,
          -0.5171551630835821,
          -1.1283322045922786,
          0.2593535652357022,
          -0.17267859924919277,
          -1.5345339901197232,
          -0.3209003352524528,
          -1.1744077524500085,
          1.4490429107416258,
          1.184950303089929,
          0.702234314776529,
          -0.6784286508938552,
          1.2835120424777373,
          -1.190989535539129,
          -0.3513939866455125,
          0.621578689492338,
          -0.4630544081124457,
          -0.4367365405676625,
          1.3421143639461248,
          1.7456877417419552,
          1.3034225510631996,
          -0.7624624397576985,
          -0.40495996101011833,
          -2.1648442884732138,
          0.5440779523888465,
          0.5287058951523081,
          -0.43876721681254327,
          0.6449127396655433,
          -1.8263143889063849,
          -0.7719047232387043,
          1.7518581179245638,
          0.8330915673690045,
          -0.4521002707172554,
          -0.5402986159008635,
          -1.2266100687118864,
          1.6575386196372557,
          0.7985342454287591,
          0.208928873721229,
          0.21447039459623737,
          -0.5130034897172456,
          1.4365715282093559,
          -0.24188464953388022,
          0.44495315267780716,
          0.07569986085313132,
          -0.42437427642700526,
          -0.5719674021359072,
          0.1764574730152452,
          0.5947324055814549,
          0.5454269787091772,
          -1.052784323807733,
          -0.5458881467962238,
          0.7868241229855274,
          0.38274020695729544
         ]
        },
        {
         "boxpoints": false,
         "line": {
          "width": 1.3
         },
         "marker": {
          "color": "rgba(50, 171, 96, 1.0)"
         },
         "name": "C",
         "orientation": "v",
         "type": "box",
         "y": [
          -1.0982123211472223,
          -0.8259299755500107,
          -0.7305225541199882,
          0.720107783789928,
          -0.5928186870269706,
          -2.221998006414882,
          -0.9111011953571583,
          -0.8268344254508183,
          0.5503742059483506,
          0.5183046780501815,
          0.6233761079113126,
          -1.3176814636974876,
          -1.0634742227110472,
          0.3278291182580586,
          -1.1566317538908852,
          0.48651936928768663,
          -0.03653838637047471,
          1.653007305664229,
          -0.1958229601153937,
          -0.1034740526638445,
          0.04490066373735558,
          1.1224937886733377,
          0.7222367378387758,
          1.4706514608417816,
          -0.3142241484681474,
          0.11284754599516432,
          -0.30724990506555055,
          -1.7491330991294918,
          -1.2252328485947463,
          0.09352534171463371,
          1.3829204465828222,
          1.3511260484587433,
          1.3107742595531038,
          0.0809417137183472,
          1.5922218823186178,
          0.8712263112583314,
          -1.0707108309115585,
          0.37069160508749455,
          0.43896689117448273,
          0.5734965056512125,
          0.5837450872276433,
          0.7668530806250788,
          0.013962992393534482,
          -0.3417229619283658,
          -0.20048716140289452,
          0.08671683612266892,
          0.4644430720271357,
          1.488154778149524,
          0.329927389374604,
          -2.1909396981792013,
          -1.227067350706915,
          1.8092533081896278,
          0.6038176513462273,
          0.2373503625031047,
          0.26547491245028043,
          -1.5001638448332122,
          1.1623248531971837,
          -0.16634896425321918,
          0.17790771790500814,
          -0.7185197969294509,
          0.6942744580682934,
          -1.1457113673554422,
          -0.10374785054142244,
          -0.2697772837472289,
          0.09727540896632256,
          2.1288731444391957,
          0.5541755511720746,
          0.4630050450276214,
          1.401745625787054,
          0.048630674355072775,
          0.2670255072610249,
          0.4269269504719535,
          0.2655817805432928,
          -0.37239487301095187,
          0.6436911269862626,
          0.4065884256564243,
          -0.3670944204242437,
          -0.02858372895149097,
          0.12756327378376559,
          0.6012980960266838,
          0.22976530975734114,
          1.2257573359966114,
          -0.4416034437641445,
          2.2556705401005703,
          -0.8685076999087283,
          2.0536788184368193,
          -1.598836938693923,
          -0.9465883899592311,
          -0.40314555748828707,
          -0.694530839635493,
          -0.7307372515070665,
          -0.5871698677555784,
          1.1072087142715377,
          0.8274185652563609,
          0.10617915314525297,
          0.02584303115521473,
          -1.2556217710498638,
          0.8491784686253379,
          0.6927287923192079,
          -0.3234782098349899
         ]
        },
        {
         "boxpoints": false,
         "line": {
          "width": 1.3
         },
         "marker": {
          "color": "rgba(128, 0, 128, 1.0)"
         },
         "name": "D",
         "orientation": "v",
         "type": "box",
         "y": [
          1.630537903401598,
          0.8596259162271885,
          -2.201701803685654,
          -3.534217963298778,
          -1.5647121206479027,
          -1.9460165473566289,
          -1.600711500655366,
          0.24496026220022085,
          0.24761018903712062,
          1.4626461181710488,
          -1.3307360466228269,
          -0.4056970141192723,
          2.0018706926157104,
          0.465333049526165,
          -0.4307098877456645,
          1.2606237424023388,
          1.1713426577960662,
          0.9939589097339985,
          -1.0547002716387939,
          -2.148493229373008,
          0.9849828216059247,
          0.7708700933760654,
          -0.4023329752573693,
          0.3387727596201499,
          -0.377640538406158,
          0.7077828889421378,
          0.437296417393377,
          -0.25250149416514633,
          0.3283687070181849,
          0.923418148118716,
          -0.23476138689172962,
          -0.19042000344896998,
          1.3269333170867752,
          -0.38285431319375884,
          -0.4051447522714992,
          -2.119114588900631,
          0.7573699236995283,
          1.5797688015470792,
          1.0873746111180669,
          -0.9111800936727553,
          -0.9372403608398806,
          -0.6262546218272432,
          -1.0346514690291975,
          -1.6461889785240422,
          0.6754840523961335,
          1.2130273306035568,
          0.6283597254489038,
          -2.057980108335055,
          -0.05080908028149197,
          0.8913803009541872,
          -1.2328032930343173,
          -0.7492373828468251,
          -0.35847637695229095,
          0.8502996394063193,
          -1.0639307618156,
          0.49994004751047344,
          -0.17306531029694197,
          0.3474560439886473,
          0.6618079012963677,
          1.059776304494004,
          0.5689765731912213,
          0.24017929467729499,
          -0.6365471459442161,
          0.3166088809693611,
          0.44030249853739367,
          -0.6616960144969435,
          -0.530144832027853,
          -0.6003412479446838,
          -0.533441646901601,
          -0.5465257789151005,
          2.1007521204793895,
          1.5441206792842839,
          0.3623993234571638,
          -1.0970523353008284,
          0.31783392276362477,
          -0.1192712023607618,
          -0.33470551654840375,
          1.09032158443945,
          1.177940122810895,
          -0.2389025734572126,
          1.0812155427994656,
          -0.12332922767154199,
          -1.925856235632639,
          0.7575441226419918,
          -0.8707962422601602,
          0.6212624930242022,
          0.18381420407798854,
          -0.10791157438462838,
          0.690179703212908,
          0.13465715668903508,
          -0.4094193011013336,
          0.031657076139166025,
          1.5626648342584941,
          0.9726799975738454,
          2.006103978315902,
          -0.5102779937383601,
          0.32502245757795994,
          0.3040279784391726,
          -1.8454370965590863,
          1.5328167250113136
         ]
        }
       ],
       "layout": {
        "legend": {
         "bgcolor": "#F5F6F9",
         "font": {
          "color": "#4D5663"
         }
        },
        "paper_bgcolor": "#F5F6F9",
        "plot_bgcolor": "#F5F6F9",
        "template": {
         "data": {
          "bar": [
           {
            "error_x": {
             "color": "#2a3f5f"
            },
            "error_y": {
             "color": "#2a3f5f"
            },
            "marker": {
             "line": {
              "color": "#E5ECF6",
              "width": 0.5
             }
            },
            "type": "bar"
           }
          ],
          "barpolar": [
           {
            "marker": {
             "line": {
              "color": "#E5ECF6",
              "width": 0.5
             }
            },
            "type": "barpolar"
           }
          ],
          "carpet": [
           {
            "aaxis": {
             "endlinecolor": "#2a3f5f",
             "gridcolor": "white",
             "linecolor": "white",
             "minorgridcolor": "white",
             "startlinecolor": "#2a3f5f"
            },
            "baxis": {
             "endlinecolor": "#2a3f5f",
             "gridcolor": "white",
             "linecolor": "white",
             "minorgridcolor": "white",
             "startlinecolor": "#2a3f5f"
            },
            "type": "carpet"
           }
          ],
          "choropleth": [
           {
            "colorbar": {
             "outlinewidth": 0,
             "ticks": ""
            },
            "type": "choropleth"
           }
          ],
          "contour": [
           {
            "colorbar": {
             "outlinewidth": 0,
             "ticks": ""
            },
            "colorscale": [
             [
              0,
              "#0d0887"
             ],
             [
              0.1111111111111111,
              "#46039f"
             ],
             [
              0.2222222222222222,
              "#7201a8"
             ],
             [
              0.3333333333333333,
              "#9c179e"
             ],
             [
              0.4444444444444444,
              "#bd3786"
             ],
             [
              0.5555555555555556,
              "#d8576b"
             ],
             [
              0.6666666666666666,
              "#ed7953"
             ],
             [
              0.7777777777777778,
              "#fb9f3a"
             ],
             [
              0.8888888888888888,
              "#fdca26"
             ],
             [
              1,
              "#f0f921"
             ]
            ],
            "type": "contour"
           }
          ],
          "contourcarpet": [
           {
            "colorbar": {
             "outlinewidth": 0,
             "ticks": ""
            },
            "type": "contourcarpet"
           }
          ],
          "heatmap": [
           {
            "colorbar": {
             "outlinewidth": 0,
             "ticks": ""
            },
            "colorscale": [
             [
              0,
              "#0d0887"
             ],
             [
              0.1111111111111111,
              "#46039f"
             ],
             [
              0.2222222222222222,
              "#7201a8"
             ],
             [
              0.3333333333333333,
              "#9c179e"
             ],
             [
              0.4444444444444444,
              "#bd3786"
             ],
             [
              0.5555555555555556,
              "#d8576b"
             ],
             [
              0.6666666666666666,
              "#ed7953"
             ],
             [
              0.7777777777777778,
              "#fb9f3a"
             ],
             [
              0.8888888888888888,
              "#fdca26"
             ],
             [
              1,
              "#f0f921"
             ]
            ],
            "type": "heatmap"
           }
          ],
          "heatmapgl": [
           {
            "colorbar": {
             "outlinewidth": 0,
             "ticks": ""
            },
            "colorscale": [
             [
              0,
              "#0d0887"
             ],
             [
              0.1111111111111111,
              "#46039f"
             ],
             [
              0.2222222222222222,
              "#7201a8"
             ],
             [
              0.3333333333333333,
              "#9c179e"
             ],
             [
              0.4444444444444444,
              "#bd3786"
             ],
             [
              0.5555555555555556,
              "#d8576b"
             ],
             [
              0.6666666666666666,
              "#ed7953"
             ],
             [
              0.7777777777777778,
              "#fb9f3a"
             ],
             [
              0.8888888888888888,
              "#fdca26"
             ],
             [
              1,
              "#f0f921"
             ]
            ],
            "type": "heatmapgl"
           }
          ],
          "histogram": [
           {
            "marker": {
             "colorbar": {
              "outlinewidth": 0,
              "ticks": ""
             }
            },
            "type": "histogram"
           }
          ],
          "histogram2d": [
           {
            "colorbar": {
             "outlinewidth": 0,
             "ticks": ""
            },
            "colorscale": [
             [
              0,
              "#0d0887"
             ],
             [
              0.1111111111111111,
              "#46039f"
             ],
             [
              0.2222222222222222,
              "#7201a8"
             ],
             [
              0.3333333333333333,
              "#9c179e"
             ],
             [
              0.4444444444444444,
              "#bd3786"
             ],
             [
              0.5555555555555556,
              "#d8576b"
             ],
             [
              0.6666666666666666,
              "#ed7953"
             ],
             [
              0.7777777777777778,
              "#fb9f3a"
             ],
             [
              0.8888888888888888,
              "#fdca26"
             ],
             [
              1,
              "#f0f921"
             ]
            ],
            "type": "histogram2d"
           }
          ],
          "histogram2dcontour": [
           {
            "colorbar": {
             "outlinewidth": 0,
             "ticks": ""
            },
            "colorscale": [
             [
              0,
              "#0d0887"
             ],
             [
              0.1111111111111111,
              "#46039f"
             ],
             [
              0.2222222222222222,
              "#7201a8"
             ],
             [
              0.3333333333333333,
              "#9c179e"
             ],
             [
              0.4444444444444444,
              "#bd3786"
             ],
             [
              0.5555555555555556,
              "#d8576b"
             ],
             [
              0.6666666666666666,
              "#ed7953"
             ],
             [
              0.7777777777777778,
              "#fb9f3a"
             ],
             [
              0.8888888888888888,
              "#fdca26"
             ],
             [
              1,
              "#f0f921"
             ]
            ],
            "type": "histogram2dcontour"
           }
          ],
          "mesh3d": [
           {
            "colorbar": {
             "outlinewidth": 0,
             "ticks": ""
            },
            "type": "mesh3d"
           }
          ],
          "parcoords": [
           {
            "line": {
             "colorbar": {
              "outlinewidth": 0,
              "ticks": ""
             }
            },
            "type": "parcoords"
           }
          ],
          "pie": [
           {
            "automargin": true,
            "type": "pie"
           }
          ],
          "scatter": [
           {
            "marker": {
             "colorbar": {
              "outlinewidth": 0,
              "ticks": ""
             }
            },
            "type": "scatter"
           }
          ],
          "scatter3d": [
           {
            "line": {
             "colorbar": {
              "outlinewidth": 0,
              "ticks": ""
             }
            },
            "marker": {
             "colorbar": {
              "outlinewidth": 0,
              "ticks": ""
             }
            },
            "type": "scatter3d"
           }
          ],
          "scattercarpet": [
           {
            "marker": {
             "colorbar": {
              "outlinewidth": 0,
              "ticks": ""
             }
            },
            "type": "scattercarpet"
           }
          ],
          "scattergeo": [
           {
            "marker": {
             "colorbar": {
              "outlinewidth": 0,
              "ticks": ""
             }
            },
            "type": "scattergeo"
           }
          ],
          "scattergl": [
           {
            "marker": {
             "colorbar": {
              "outlinewidth": 0,
              "ticks": ""
             }
            },
            "type": "scattergl"
           }
          ],
          "scattermapbox": [
           {
            "marker": {
             "colorbar": {
              "outlinewidth": 0,
              "ticks": ""
             }
            },
            "type": "scattermapbox"
           }
          ],
          "scatterpolar": [
           {
            "marker": {
             "colorbar": {
              "outlinewidth": 0,
              "ticks": ""
             }
            },
            "type": "scatterpolar"
           }
          ],
          "scatterpolargl": [
           {
            "marker": {
             "colorbar": {
              "outlinewidth": 0,
              "ticks": ""
             }
            },
            "type": "scatterpolargl"
           }
          ],
          "scatterternary": [
           {
            "marker": {
             "colorbar": {
              "outlinewidth": 0,
              "ticks": ""
             }
            },
            "type": "scatterternary"
           }
          ],
          "surface": [
           {
            "colorbar": {
             "outlinewidth": 0,
             "ticks": ""
            },
            "colorscale": [
             [
              0,
              "#0d0887"
             ],
             [
              0.1111111111111111,
              "#46039f"
             ],
             [
              0.2222222222222222,
              "#7201a8"
             ],
             [
              0.3333333333333333,
              "#9c179e"
             ],
             [
              0.4444444444444444,
              "#bd3786"
             ],
             [
              0.5555555555555556,
              "#d8576b"
             ],
             [
              0.6666666666666666,
              "#ed7953"
             ],
             [
              0.7777777777777778,
              "#fb9f3a"
             ],
             [
              0.8888888888888888,
              "#fdca26"
             ],
             [
              1,
              "#f0f921"
             ]
            ],
            "type": "surface"
           }
          ],
          "table": [
           {
            "cells": {
             "fill": {
              "color": "#EBF0F8"
             },
             "line": {
              "color": "white"
             }
            },
            "header": {
             "fill": {
              "color": "#C8D4E3"
             },
             "line": {
              "color": "white"
             }
            },
            "type": "table"
           }
          ]
         },
         "layout": {
          "annotationdefaults": {
           "arrowcolor": "#2a3f5f",
           "arrowhead": 0,
           "arrowwidth": 1
          },
          "coloraxis": {
           "colorbar": {
            "outlinewidth": 0,
            "ticks": ""
           }
          },
          "colorscale": {
           "diverging": [
            [
             0,
             "#8e0152"
            ],
            [
             0.1,
             "#c51b7d"
            ],
            [
             0.2,
             "#de77ae"
            ],
            [
             0.3,
             "#f1b6da"
            ],
            [
             0.4,
             "#fde0ef"
            ],
            [
             0.5,
             "#f7f7f7"
            ],
            [
             0.6,
             "#e6f5d0"
            ],
            [
             0.7,
             "#b8e186"
            ],
            [
             0.8,
             "#7fbc41"
            ],
            [
             0.9,
             "#4d9221"
            ],
            [
             1,
             "#276419"
            ]
           ],
           "sequential": [
            [
             0,
             "#0d0887"
            ],
            [
             0.1111111111111111,
             "#46039f"
            ],
            [
             0.2222222222222222,
             "#7201a8"
            ],
            [
             0.3333333333333333,
             "#9c179e"
            ],
            [
             0.4444444444444444,
             "#bd3786"
            ],
            [
             0.5555555555555556,
             "#d8576b"
            ],
            [
             0.6666666666666666,
             "#ed7953"
            ],
            [
             0.7777777777777778,
             "#fb9f3a"
            ],
            [
             0.8888888888888888,
             "#fdca26"
            ],
            [
             1,
             "#f0f921"
            ]
           ],
           "sequentialminus": [
            [
             0,
             "#0d0887"
            ],
            [
             0.1111111111111111,
             "#46039f"
            ],
            [
             0.2222222222222222,
             "#7201a8"
            ],
            [
             0.3333333333333333,
             "#9c179e"
            ],
            [
             0.4444444444444444,
             "#bd3786"
            ],
            [
             0.5555555555555556,
             "#d8576b"
            ],
            [
             0.6666666666666666,
             "#ed7953"
            ],
            [
             0.7777777777777778,
             "#fb9f3a"
            ],
            [
             0.8888888888888888,
             "#fdca26"
            ],
            [
             1,
             "#f0f921"
            ]
           ]
          },
          "colorway": [
           "#636efa",
           "#EF553B",
           "#00cc96",
           "#ab63fa",
           "#FFA15A",
           "#19d3f3",
           "#FF6692",
           "#B6E880",
           "#FF97FF",
           "#FECB52"
          ],
          "font": {
           "color": "#2a3f5f"
          },
          "geo": {
           "bgcolor": "white",
           "lakecolor": "white",
           "landcolor": "#E5ECF6",
           "showlakes": true,
           "showland": true,
           "subunitcolor": "white"
          },
          "hoverlabel": {
           "align": "left"
          },
          "hovermode": "closest",
          "mapbox": {
           "style": "light"
          },
          "paper_bgcolor": "white",
          "plot_bgcolor": "#E5ECF6",
          "polar": {
           "angularaxis": {
            "gridcolor": "white",
            "linecolor": "white",
            "ticks": ""
           },
           "bgcolor": "#E5ECF6",
           "radialaxis": {
            "gridcolor": "white",
            "linecolor": "white",
            "ticks": ""
           }
          },
          "scene": {
           "xaxis": {
            "backgroundcolor": "#E5ECF6",
            "gridcolor": "white",
            "gridwidth": 2,
            "linecolor": "white",
            "showbackground": true,
            "ticks": "",
            "zerolinecolor": "white"
           },
           "yaxis": {
            "backgroundcolor": "#E5ECF6",
            "gridcolor": "white",
            "gridwidth": 2,
            "linecolor": "white",
            "showbackground": true,
            "ticks": "",
            "zerolinecolor": "white"
           },
           "zaxis": {
            "backgroundcolor": "#E5ECF6",
            "gridcolor": "white",
            "gridwidth": 2,
            "linecolor": "white",
            "showbackground": true,
            "ticks": "",
            "zerolinecolor": "white"
           }
          },
          "shapedefaults": {
           "line": {
            "color": "#2a3f5f"
           }
          },
          "ternary": {
           "aaxis": {
            "gridcolor": "white",
            "linecolor": "white",
            "ticks": ""
           },
           "baxis": {
            "gridcolor": "white",
            "linecolor": "white",
            "ticks": ""
           },
           "bgcolor": "#E5ECF6",
           "caxis": {
            "gridcolor": "white",
            "linecolor": "white",
            "ticks": ""
           }
          },
          "title": {
           "x": 0.05
          },
          "xaxis": {
           "automargin": true,
           "gridcolor": "white",
           "linecolor": "white",
           "ticks": "",
           "title": {
            "standoff": 15
           },
           "zerolinecolor": "white",
           "zerolinewidth": 2
          },
          "yaxis": {
           "automargin": true,
           "gridcolor": "white",
           "linecolor": "white",
           "ticks": "",
           "title": {
            "standoff": 15
           },
           "zerolinecolor": "white",
           "zerolinewidth": 2
          }
         }
        },
        "title": {
         "font": {
          "color": "#4D5663"
         }
        },
        "xaxis": {
         "gridcolor": "#E1E5ED",
         "showgrid": true,
         "tickfont": {
          "color": "#4D5663"
         },
         "title": {
          "font": {
           "color": "#4D5663"
          },
          "text": ""
         },
         "zerolinecolor": "#E1E5ED"
        },
        "yaxis": {
         "gridcolor": "#E1E5ED",
         "showgrid": true,
         "tickfont": {
          "color": "#4D5663"
         },
         "title": {
          "font": {
           "color": "#4D5663"
          },
          "text": ""
         },
         "zerolinecolor": "#E1E5ED"
        }
       }
      },
      "text/html": [
       "<div>\n",
       "        \n",
       "        \n",
       "            <div id=\"16b1ef54-b0df-464d-afa4-5ed97b0920b2\" class=\"plotly-graph-div\" style=\"height:525px; width:100%;\"></div>\n",
       "            <script type=\"text/javascript\">\n",
       "                require([\"plotly\"], function(Plotly) {\n",
       "                    window.PLOTLYENV=window.PLOTLYENV || {};\n",
       "                    window.PLOTLYENV.BASE_URL='https://plot.ly';\n",
       "                    \n",
       "                if (document.getElementById(\"16b1ef54-b0df-464d-afa4-5ed97b0920b2\")) {\n",
       "                    Plotly.newPlot(\n",
       "                        '16b1ef54-b0df-464d-afa4-5ed97b0920b2',\n",
       "                        [{\"boxpoints\": false, \"line\": {\"width\": 1.3}, \"marker\": {\"color\": \"rgba(255, 153, 51, 1.0)\"}, \"name\": \"A\", \"orientation\": \"v\", \"type\": \"box\", \"y\": [0.43633476275957783, -0.9369666672884216, 0.28852110280962995, -1.1011111414948977, 0.32854507231159646, 0.9816992515177357, -2.284421668511395, -0.26995513779247227, 0.6501295774491413, -1.069402621774459, -1.2020976216798172, 0.6513942645777206, 0.7521897597563676, 0.5426067229233946, 0.3370644577358486, -0.5393103302681119, -0.6635779258219466, -0.24300598976235596, 0.04496685936482622, -0.965346068356053, -0.24806693468330765, -0.16866354882736542, 0.5444475088125463, 0.5496623505488482, 0.5450871232084065, -0.441345583389729, -0.9629954737171853, -0.676216274703561, 0.006322641558518212, 0.18664330349151873, -0.02609261417418306, -0.43677653611744, 0.1424015252435575, 1.9310702447132302, -0.9155454555589564, 1.0582884814491147, 0.7987834738109799, -1.53766916018999, -1.825814026600039, 0.21272618276774719, 1.5967775264793374, 1.2929976854648164, 0.06610609076863956, -0.5764360733096935, -1.56089420040441, -0.2554528079087033, 1.8350740347678272, 0.3598812399041258, -0.2814109679987709, 0.3241194243912139, 1.0661956656936156, -0.037067756201864574, -0.683125037067316, -1.0280984103041046, -0.07112279321412139, -0.5539586978476361, -0.5602855710925664, 0.733138539889477, -1.0541102386248455, -1.3236651767229892, 1.0168652515920766, -0.3566999154025523, 0.6508321441587809, -0.0012140476126413513, -0.7882292100040235, 2.883257249796413, 0.3353217669277645, -1.0679692420258937, 0.18293142627367062, 0.11494991601411153, -0.3644172733653438, 0.4987628257668977, 0.8508934232296702, -0.08679926983528236, 0.8047676559452972, 0.2597526083971923, 0.473929637781343, 0.08581232319537543, -0.22410861057241027, -0.5257153363463388, 1.6952648028066364, -0.696156975583712, -0.836353387975282, 0.2965518348994222, -1.0012320086348452, -1.1544077261671366, -1.3350958845426832, 0.7119427630233932, 0.6411177748569961, -0.3001776750662769, -0.9048484414626201, 0.7390101756217512, 1.4819140122480443, 0.5981606146092255, -0.26082548405743144, 2.046254697130263, -1.9411641500930508, 1.8452808905980655, 1.4038573414777682, -0.8795591013597613]}, {\"boxpoints\": false, \"line\": {\"width\": 1.3}, \"marker\": {\"color\": \"rgba(55, 128, 191, 1.0)\"}, \"name\": \"B\", \"orientation\": \"v\", \"type\": \"box\", \"y\": [-0.44728330349228973, -0.6069251354234275, -1.3738549093340406, 1.2334111997303334, 0.7397860123001738, 1.5972494572851856, -0.018931915979927754, -1.2264327624064608, 0.15592114116201142, -0.47902754325705527, 1.2074916117611019, 0.6889645260151184, 1.6209155031439582, 1.0377918747451134, -0.16857843049431245, 0.7350503697272961, 1.3732044642314538, 0.17853748378804712, 0.9201258074350492, 0.661381730865682, 1.485145958350401, -1.632119618070541, 0.22748154932469294, -0.09458663553707516, 0.21090274721930652, 1.2583083792119074, 1.6422290993212094, -1.019888999922517, -1.1262083616915823, 0.7751631377435271, 0.0780355504840483, 0.29911039538859174, 0.43807211050813644, -0.12770957828774504, -0.6521897822817302, -0.889630939076755, 0.15986237919607987, -0.04342366071403783, -0.43520486123887653, 0.5379206691506319, 0.793787709378705, -0.4289924398492299, 0.7369539710091716, 2.087453696135382, 0.5620994219564909, -0.20137912145968392, 0.7257704929503092, 1.1084092246082184, -0.5171551630835821, -1.1283322045922786, 0.2593535652357022, -0.17267859924919277, -1.5345339901197232, -0.3209003352524528, -1.1744077524500085, 1.4490429107416258, 1.184950303089929, 0.702234314776529, -0.6784286508938552, 1.2835120424777373, -1.190989535539129, -0.3513939866455125, 0.621578689492338, -0.4630544081124457, -0.4367365405676625, 1.3421143639461248, 1.7456877417419552, 1.3034225510631996, -0.7624624397576985, -0.40495996101011833, -2.1648442884732138, 0.5440779523888465, 0.5287058951523081, -0.43876721681254327, 0.6449127396655433, -1.8263143889063849, -0.7719047232387043, 1.7518581179245638, 0.8330915673690045, -0.4521002707172554, -0.5402986159008635, -1.2266100687118864, 1.6575386196372557, 0.7985342454287591, 0.208928873721229, 0.21447039459623737, -0.5130034897172456, 1.4365715282093559, -0.24188464953388022, 0.44495315267780716, 0.07569986085313132, -0.42437427642700526, -0.5719674021359072, 0.1764574730152452, 0.5947324055814549, 0.5454269787091772, -1.052784323807733, -0.5458881467962238, 0.7868241229855274, 0.38274020695729544]}, {\"boxpoints\": false, \"line\": {\"width\": 1.3}, \"marker\": {\"color\": \"rgba(50, 171, 96, 1.0)\"}, \"name\": \"C\", \"orientation\": \"v\", \"type\": \"box\", \"y\": [-1.0982123211472223, -0.8259299755500107, -0.7305225541199882, 0.720107783789928, -0.5928186870269706, -2.221998006414882, -0.9111011953571583, -0.8268344254508183, 0.5503742059483506, 0.5183046780501815, 0.6233761079113126, -1.3176814636974876, -1.0634742227110472, 0.3278291182580586, -1.1566317538908852, 0.48651936928768663, -0.03653838637047471, 1.653007305664229, -0.1958229601153937, -0.1034740526638445, 0.04490066373735558, 1.1224937886733377, 0.7222367378387758, 1.4706514608417816, -0.3142241484681474, 0.11284754599516432, -0.30724990506555055, -1.7491330991294918, -1.2252328485947463, 0.09352534171463371, 1.3829204465828222, 1.3511260484587433, 1.3107742595531038, 0.0809417137183472, 1.5922218823186178, 0.8712263112583314, -1.0707108309115585, 0.37069160508749455, 0.43896689117448273, 0.5734965056512125, 0.5837450872276433, 0.7668530806250788, 0.013962992393534482, -0.3417229619283658, -0.20048716140289452, 0.08671683612266892, 0.4644430720271357, 1.488154778149524, 0.329927389374604, -2.1909396981792013, -1.227067350706915, 1.8092533081896278, 0.6038176513462273, 0.2373503625031047, 0.26547491245028043, -1.5001638448332122, 1.1623248531971837, -0.16634896425321918, 0.17790771790500814, -0.7185197969294509, 0.6942744580682934, -1.1457113673554422, -0.10374785054142244, -0.2697772837472289, 0.09727540896632256, 2.1288731444391957, 0.5541755511720746, 0.4630050450276214, 1.401745625787054, 0.048630674355072775, 0.2670255072610249, 0.4269269504719535, 0.2655817805432928, -0.37239487301095187, 0.6436911269862626, 0.4065884256564243, -0.3670944204242437, -0.02858372895149097, 0.12756327378376559, 0.6012980960266838, 0.22976530975734114, 1.2257573359966114, -0.4416034437641445, 2.2556705401005703, -0.8685076999087283, 2.0536788184368193, -1.598836938693923, -0.9465883899592311, -0.40314555748828707, -0.694530839635493, -0.7307372515070665, -0.5871698677555784, 1.1072087142715377, 0.8274185652563609, 0.10617915314525297, 0.02584303115521473, -1.2556217710498638, 0.8491784686253379, 0.6927287923192079, -0.3234782098349899]}, {\"boxpoints\": false, \"line\": {\"width\": 1.3}, \"marker\": {\"color\": \"rgba(128, 0, 128, 1.0)\"}, \"name\": \"D\", \"orientation\": \"v\", \"type\": \"box\", \"y\": [1.630537903401598, 0.8596259162271885, -2.201701803685654, -3.534217963298778, -1.5647121206479027, -1.9460165473566289, -1.600711500655366, 0.24496026220022085, 0.24761018903712062, 1.4626461181710488, -1.3307360466228269, -0.4056970141192723, 2.0018706926157104, 0.465333049526165, -0.4307098877456645, 1.2606237424023388, 1.1713426577960662, 0.9939589097339985, -1.0547002716387939, -2.148493229373008, 0.9849828216059247, 0.7708700933760654, -0.4023329752573693, 0.3387727596201499, -0.377640538406158, 0.7077828889421378, 0.437296417393377, -0.25250149416514633, 0.3283687070181849, 0.923418148118716, -0.23476138689172962, -0.19042000344896998, 1.3269333170867752, -0.38285431319375884, -0.4051447522714992, -2.119114588900631, 0.7573699236995283, 1.5797688015470792, 1.0873746111180669, -0.9111800936727553, -0.9372403608398806, -0.6262546218272432, -1.0346514690291975, -1.6461889785240422, 0.6754840523961335, 1.2130273306035568, 0.6283597254489038, -2.057980108335055, -0.05080908028149197, 0.8913803009541872, -1.2328032930343173, -0.7492373828468251, -0.35847637695229095, 0.8502996394063193, -1.0639307618156, 0.49994004751047344, -0.17306531029694197, 0.3474560439886473, 0.6618079012963677, 1.059776304494004, 0.5689765731912213, 0.24017929467729499, -0.6365471459442161, 0.3166088809693611, 0.44030249853739367, -0.6616960144969435, -0.530144832027853, -0.6003412479446838, -0.533441646901601, -0.5465257789151005, 2.1007521204793895, 1.5441206792842839, 0.3623993234571638, -1.0970523353008284, 0.31783392276362477, -0.1192712023607618, -0.33470551654840375, 1.09032158443945, 1.177940122810895, -0.2389025734572126, 1.0812155427994656, -0.12332922767154199, -1.925856235632639, 0.7575441226419918, -0.8707962422601602, 0.6212624930242022, 0.18381420407798854, -0.10791157438462838, 0.690179703212908, 0.13465715668903508, -0.4094193011013336, 0.031657076139166025, 1.5626648342584941, 0.9726799975738454, 2.006103978315902, -0.5102779937383601, 0.32502245757795994, 0.3040279784391726, -1.8454370965590863, 1.5328167250113136]}],\n",
       "                        {\"legend\": {\"bgcolor\": \"#F5F6F9\", \"font\": {\"color\": \"#4D5663\"}}, \"paper_bgcolor\": \"#F5F6F9\", \"plot_bgcolor\": \"#F5F6F9\", \"template\": {\"data\": {\"bar\": [{\"error_x\": {\"color\": \"#2a3f5f\"}, \"error_y\": {\"color\": \"#2a3f5f\"}, \"marker\": {\"line\": {\"color\": \"#E5ECF6\", \"width\": 0.5}}, \"type\": \"bar\"}], \"barpolar\": [{\"marker\": {\"line\": {\"color\": \"#E5ECF6\", \"width\": 0.5}}, \"type\": \"barpolar\"}], \"carpet\": [{\"aaxis\": {\"endlinecolor\": \"#2a3f5f\", \"gridcolor\": \"white\", \"linecolor\": \"white\", \"minorgridcolor\": \"white\", \"startlinecolor\": \"#2a3f5f\"}, \"baxis\": {\"endlinecolor\": \"#2a3f5f\", \"gridcolor\": \"white\", \"linecolor\": \"white\", \"minorgridcolor\": \"white\", \"startlinecolor\": \"#2a3f5f\"}, \"type\": \"carpet\"}], \"choropleth\": [{\"colorbar\": {\"outlinewidth\": 0, \"ticks\": \"\"}, \"type\": \"choropleth\"}], \"contour\": [{\"colorbar\": {\"outlinewidth\": 0, \"ticks\": \"\"}, \"colorscale\": [[0.0, \"#0d0887\"], [0.1111111111111111, \"#46039f\"], [0.2222222222222222, \"#7201a8\"], [0.3333333333333333, \"#9c179e\"], [0.4444444444444444, \"#bd3786\"], [0.5555555555555556, \"#d8576b\"], [0.6666666666666666, \"#ed7953\"], [0.7777777777777778, \"#fb9f3a\"], [0.8888888888888888, \"#fdca26\"], [1.0, \"#f0f921\"]], \"type\": \"contour\"}], \"contourcarpet\": [{\"colorbar\": {\"outlinewidth\": 0, \"ticks\": \"\"}, \"type\": \"contourcarpet\"}], \"heatmap\": [{\"colorbar\": {\"outlinewidth\": 0, \"ticks\": \"\"}, \"colorscale\": [[0.0, \"#0d0887\"], [0.1111111111111111, \"#46039f\"], [0.2222222222222222, \"#7201a8\"], [0.3333333333333333, \"#9c179e\"], [0.4444444444444444, \"#bd3786\"], [0.5555555555555556, \"#d8576b\"], [0.6666666666666666, \"#ed7953\"], [0.7777777777777778, \"#fb9f3a\"], [0.8888888888888888, \"#fdca26\"], [1.0, \"#f0f921\"]], \"type\": \"heatmap\"}], \"heatmapgl\": [{\"colorbar\": {\"outlinewidth\": 0, \"ticks\": \"\"}, \"colorscale\": [[0.0, \"#0d0887\"], [0.1111111111111111, \"#46039f\"], [0.2222222222222222, \"#7201a8\"], [0.3333333333333333, \"#9c179e\"], [0.4444444444444444, \"#bd3786\"], [0.5555555555555556, \"#d8576b\"], [0.6666666666666666, \"#ed7953\"], [0.7777777777777778, \"#fb9f3a\"], [0.8888888888888888, \"#fdca26\"], [1.0, \"#f0f921\"]], \"type\": \"heatmapgl\"}], \"histogram\": [{\"marker\": {\"colorbar\": {\"outlinewidth\": 0, \"ticks\": \"\"}}, \"type\": \"histogram\"}], \"histogram2d\": [{\"colorbar\": {\"outlinewidth\": 0, \"ticks\": \"\"}, \"colorscale\": [[0.0, \"#0d0887\"], [0.1111111111111111, \"#46039f\"], [0.2222222222222222, \"#7201a8\"], [0.3333333333333333, \"#9c179e\"], [0.4444444444444444, \"#bd3786\"], [0.5555555555555556, \"#d8576b\"], [0.6666666666666666, \"#ed7953\"], [0.7777777777777778, \"#fb9f3a\"], [0.8888888888888888, \"#fdca26\"], [1.0, \"#f0f921\"]], \"type\": \"histogram2d\"}], \"histogram2dcontour\": [{\"colorbar\": {\"outlinewidth\": 0, \"ticks\": \"\"}, \"colorscale\": [[0.0, \"#0d0887\"], [0.1111111111111111, \"#46039f\"], [0.2222222222222222, \"#7201a8\"], [0.3333333333333333, \"#9c179e\"], [0.4444444444444444, \"#bd3786\"], [0.5555555555555556, \"#d8576b\"], [0.6666666666666666, \"#ed7953\"], [0.7777777777777778, \"#fb9f3a\"], [0.8888888888888888, \"#fdca26\"], [1.0, \"#f0f921\"]], \"type\": \"histogram2dcontour\"}], \"mesh3d\": [{\"colorbar\": {\"outlinewidth\": 0, \"ticks\": \"\"}, \"type\": \"mesh3d\"}], \"parcoords\": [{\"line\": {\"colorbar\": {\"outlinewidth\": 0, \"ticks\": \"\"}}, \"type\": \"parcoords\"}], \"pie\": [{\"automargin\": true, \"type\": \"pie\"}], \"scatter\": [{\"marker\": {\"colorbar\": {\"outlinewidth\": 0, \"ticks\": \"\"}}, \"type\": \"scatter\"}], \"scatter3d\": [{\"line\": {\"colorbar\": {\"outlinewidth\": 0, \"ticks\": \"\"}}, \"marker\": {\"colorbar\": {\"outlinewidth\": 0, \"ticks\": \"\"}}, \"type\": \"scatter3d\"}], \"scattercarpet\": [{\"marker\": {\"colorbar\": {\"outlinewidth\": 0, \"ticks\": \"\"}}, \"type\": \"scattercarpet\"}], \"scattergeo\": [{\"marker\": {\"colorbar\": {\"outlinewidth\": 0, \"ticks\": \"\"}}, \"type\": \"scattergeo\"}], \"scattergl\": [{\"marker\": {\"colorbar\": {\"outlinewidth\": 0, \"ticks\": \"\"}}, \"type\": \"scattergl\"}], \"scattermapbox\": [{\"marker\": {\"colorbar\": {\"outlinewidth\": 0, \"ticks\": \"\"}}, \"type\": \"scattermapbox\"}], \"scatterpolar\": [{\"marker\": {\"colorbar\": {\"outlinewidth\": 0, \"ticks\": \"\"}}, \"type\": \"scatterpolar\"}], \"scatterpolargl\": [{\"marker\": {\"colorbar\": {\"outlinewidth\": 0, \"ticks\": \"\"}}, \"type\": \"scatterpolargl\"}], \"scatterternary\": [{\"marker\": {\"colorbar\": {\"outlinewidth\": 0, \"ticks\": \"\"}}, \"type\": \"scatterternary\"}], \"surface\": [{\"colorbar\": {\"outlinewidth\": 0, \"ticks\": \"\"}, \"colorscale\": [[0.0, \"#0d0887\"], [0.1111111111111111, \"#46039f\"], [0.2222222222222222, \"#7201a8\"], [0.3333333333333333, \"#9c179e\"], [0.4444444444444444, \"#bd3786\"], [0.5555555555555556, \"#d8576b\"], [0.6666666666666666, \"#ed7953\"], [0.7777777777777778, \"#fb9f3a\"], [0.8888888888888888, \"#fdca26\"], [1.0, \"#f0f921\"]], \"type\": \"surface\"}], \"table\": [{\"cells\": {\"fill\": {\"color\": \"#EBF0F8\"}, \"line\": {\"color\": \"white\"}}, \"header\": {\"fill\": {\"color\": \"#C8D4E3\"}, \"line\": {\"color\": \"white\"}}, \"type\": \"table\"}]}, \"layout\": {\"annotationdefaults\": {\"arrowcolor\": \"#2a3f5f\", \"arrowhead\": 0, \"arrowwidth\": 1}, \"coloraxis\": {\"colorbar\": {\"outlinewidth\": 0, \"ticks\": \"\"}}, \"colorscale\": {\"diverging\": [[0, \"#8e0152\"], [0.1, \"#c51b7d\"], [0.2, \"#de77ae\"], [0.3, \"#f1b6da\"], [0.4, \"#fde0ef\"], [0.5, \"#f7f7f7\"], [0.6, \"#e6f5d0\"], [0.7, \"#b8e186\"], [0.8, \"#7fbc41\"], [0.9, \"#4d9221\"], [1, \"#276419\"]], \"sequential\": [[0.0, \"#0d0887\"], [0.1111111111111111, \"#46039f\"], [0.2222222222222222, \"#7201a8\"], [0.3333333333333333, \"#9c179e\"], [0.4444444444444444, \"#bd3786\"], [0.5555555555555556, \"#d8576b\"], [0.6666666666666666, \"#ed7953\"], [0.7777777777777778, \"#fb9f3a\"], [0.8888888888888888, \"#fdca26\"], [1.0, \"#f0f921\"]], \"sequentialminus\": [[0.0, \"#0d0887\"], [0.1111111111111111, \"#46039f\"], [0.2222222222222222, \"#7201a8\"], [0.3333333333333333, \"#9c179e\"], [0.4444444444444444, \"#bd3786\"], [0.5555555555555556, \"#d8576b\"], [0.6666666666666666, \"#ed7953\"], [0.7777777777777778, \"#fb9f3a\"], [0.8888888888888888, \"#fdca26\"], [1.0, \"#f0f921\"]]}, \"colorway\": [\"#636efa\", \"#EF553B\", \"#00cc96\", \"#ab63fa\", \"#FFA15A\", \"#19d3f3\", \"#FF6692\", \"#B6E880\", \"#FF97FF\", \"#FECB52\"], \"font\": {\"color\": \"#2a3f5f\"}, \"geo\": {\"bgcolor\": \"white\", \"lakecolor\": \"white\", \"landcolor\": \"#E5ECF6\", \"showlakes\": true, \"showland\": true, \"subunitcolor\": \"white\"}, \"hoverlabel\": {\"align\": \"left\"}, \"hovermode\": \"closest\", \"mapbox\": {\"style\": \"light\"}, \"paper_bgcolor\": \"white\", \"plot_bgcolor\": \"#E5ECF6\", \"polar\": {\"angularaxis\": {\"gridcolor\": \"white\", \"linecolor\": \"white\", \"ticks\": \"\"}, \"bgcolor\": \"#E5ECF6\", \"radialaxis\": {\"gridcolor\": \"white\", \"linecolor\": \"white\", \"ticks\": \"\"}}, \"scene\": {\"xaxis\": {\"backgroundcolor\": \"#E5ECF6\", \"gridcolor\": \"white\", \"gridwidth\": 2, \"linecolor\": \"white\", \"showbackground\": true, \"ticks\": \"\", \"zerolinecolor\": \"white\"}, \"yaxis\": {\"backgroundcolor\": \"#E5ECF6\", \"gridcolor\": \"white\", \"gridwidth\": 2, \"linecolor\": \"white\", \"showbackground\": true, \"ticks\": \"\", \"zerolinecolor\": \"white\"}, \"zaxis\": {\"backgroundcolor\": \"#E5ECF6\", \"gridcolor\": \"white\", \"gridwidth\": 2, \"linecolor\": \"white\", \"showbackground\": true, \"ticks\": \"\", \"zerolinecolor\": \"white\"}}, \"shapedefaults\": {\"line\": {\"color\": \"#2a3f5f\"}}, \"ternary\": {\"aaxis\": {\"gridcolor\": \"white\", \"linecolor\": \"white\", \"ticks\": \"\"}, \"baxis\": {\"gridcolor\": \"white\", \"linecolor\": \"white\", \"ticks\": \"\"}, \"bgcolor\": \"#E5ECF6\", \"caxis\": {\"gridcolor\": \"white\", \"linecolor\": \"white\", \"ticks\": \"\"}}, \"title\": {\"x\": 0.05}, \"xaxis\": {\"automargin\": true, \"gridcolor\": \"white\", \"linecolor\": \"white\", \"ticks\": \"\", \"title\": {\"standoff\": 15}, \"zerolinecolor\": \"white\", \"zerolinewidth\": 2}, \"yaxis\": {\"automargin\": true, \"gridcolor\": \"white\", \"linecolor\": \"white\", \"ticks\": \"\", \"title\": {\"standoff\": 15}, \"zerolinecolor\": \"white\", \"zerolinewidth\": 2}}}, \"title\": {\"font\": {\"color\": \"#4D5663\"}}, \"xaxis\": {\"gridcolor\": \"#E1E5ED\", \"showgrid\": true, \"tickfont\": {\"color\": \"#4D5663\"}, \"title\": {\"font\": {\"color\": \"#4D5663\"}, \"text\": \"\"}, \"zerolinecolor\": \"#E1E5ED\"}, \"yaxis\": {\"gridcolor\": \"#E1E5ED\", \"showgrid\": true, \"tickfont\": {\"color\": \"#4D5663\"}, \"title\": {\"font\": {\"color\": \"#4D5663\"}, \"text\": \"\"}, \"zerolinecolor\": \"#E1E5ED\"}},\n",
       "                        {\"showLink\": true, \"linkText\": \"Export to plot.ly\", \"plotlyServerURL\": \"https://plot.ly\", \"responsive\": true}\n",
       "                    ).then(function(){\n",
       "                            \n",
       "var gd = document.getElementById('16b1ef54-b0df-464d-afa4-5ed97b0920b2');\n",
       "var x = new MutationObserver(function (mutations, observer) {{\n",
       "        var display = window.getComputedStyle(gd).display;\n",
       "        if (!display || display === 'none') {{\n",
       "            console.log([gd, 'removed!']);\n",
       "            Plotly.purge(gd);\n",
       "            observer.disconnect();\n",
       "        }}\n",
       "}});\n",
       "\n",
       "// Listen for the removal of the full notebook cells\n",
       "var notebookContainer = gd.closest('#notebook-container');\n",
       "if (notebookContainer) {{\n",
       "    x.observe(notebookContainer, {childList: true});\n",
       "}}\n",
       "\n",
       "// Listen for the clearing of the current output cell\n",
       "var outputEl = gd.closest('.output');\n",
       "if (outputEl) {{\n",
       "    x.observe(outputEl, {childList: true});\n",
       "}}\n",
       "\n",
       "                        })\n",
       "                };\n",
       "                });\n",
       "            </script>\n",
       "        </div>"
      ]
     },
     "metadata": {},
     "output_type": "display_data"
    }
   ],
   "source": [
    "df.iplot(kind='box')"
   ]
  },
  {
   "cell_type": "markdown",
   "metadata": {},
   "source": [
    "## 3d Surface"
   ]
  },
  {
   "cell_type": "code",
   "execution_count": 16,
   "metadata": {},
   "outputs": [
    {
     "data": {
      "application/vnd.plotly.v1+json": {
       "config": {
        "linkText": "Export to plot.ly",
        "plotlyServerURL": "https://plot.ly",
        "showLink": true
       },
       "data": [
        {
         "colorscale": [
          [
           0,
           "rgb(165,0,38)"
          ],
          [
           0.1,
           "rgb(215,48,39)"
          ],
          [
           0.2,
           "rgb(244,109,67)"
          ],
          [
           0.3,
           "rgb(253,174,97)"
          ],
          [
           0.4,
           "rgb(254,224,144)"
          ],
          [
           0.5,
           "rgb(255,255,191)"
          ],
          [
           0.6,
           "rgb(224,243,248)"
          ],
          [
           0.7,
           "rgb(171,217,233)"
          ],
          [
           0.8,
           "rgb(116,173,209)"
          ],
          [
           0.9,
           "rgb(69,117,180)"
          ],
          [
           1,
           "rgb(49,54,149)"
          ]
         ],
         "type": "surface",
         "x": [
          0,
          1,
          2,
          3,
          4
         ],
         "y": [
          "x",
          "y",
          "z"
         ],
         "z": [
          [
           1,
           2,
           3,
           4,
           5
          ],
          [
           10,
           20,
           30,
           20,
           10
          ],
          [
           5,
           4,
           3,
           2,
           1
          ]
         ]
        }
       ],
       "layout": {
        "legend": {
         "bgcolor": "#F5F6F9",
         "font": {
          "color": "#4D5663"
         }
        },
        "paper_bgcolor": "#F5F6F9",
        "plot_bgcolor": "#F5F6F9",
        "template": {
         "data": {
          "bar": [
           {
            "error_x": {
             "color": "#2a3f5f"
            },
            "error_y": {
             "color": "#2a3f5f"
            },
            "marker": {
             "line": {
              "color": "#E5ECF6",
              "width": 0.5
             }
            },
            "type": "bar"
           }
          ],
          "barpolar": [
           {
            "marker": {
             "line": {
              "color": "#E5ECF6",
              "width": 0.5
             }
            },
            "type": "barpolar"
           }
          ],
          "carpet": [
           {
            "aaxis": {
             "endlinecolor": "#2a3f5f",
             "gridcolor": "white",
             "linecolor": "white",
             "minorgridcolor": "white",
             "startlinecolor": "#2a3f5f"
            },
            "baxis": {
             "endlinecolor": "#2a3f5f",
             "gridcolor": "white",
             "linecolor": "white",
             "minorgridcolor": "white",
             "startlinecolor": "#2a3f5f"
            },
            "type": "carpet"
           }
          ],
          "choropleth": [
           {
            "colorbar": {
             "outlinewidth": 0,
             "ticks": ""
            },
            "type": "choropleth"
           }
          ],
          "contour": [
           {
            "colorbar": {
             "outlinewidth": 0,
             "ticks": ""
            },
            "colorscale": [
             [
              0,
              "#0d0887"
             ],
             [
              0.1111111111111111,
              "#46039f"
             ],
             [
              0.2222222222222222,
              "#7201a8"
             ],
             [
              0.3333333333333333,
              "#9c179e"
             ],
             [
              0.4444444444444444,
              "#bd3786"
             ],
             [
              0.5555555555555556,
              "#d8576b"
             ],
             [
              0.6666666666666666,
              "#ed7953"
             ],
             [
              0.7777777777777778,
              "#fb9f3a"
             ],
             [
              0.8888888888888888,
              "#fdca26"
             ],
             [
              1,
              "#f0f921"
             ]
            ],
            "type": "contour"
           }
          ],
          "contourcarpet": [
           {
            "colorbar": {
             "outlinewidth": 0,
             "ticks": ""
            },
            "type": "contourcarpet"
           }
          ],
          "heatmap": [
           {
            "colorbar": {
             "outlinewidth": 0,
             "ticks": ""
            },
            "colorscale": [
             [
              0,
              "#0d0887"
             ],
             [
              0.1111111111111111,
              "#46039f"
             ],
             [
              0.2222222222222222,
              "#7201a8"
             ],
             [
              0.3333333333333333,
              "#9c179e"
             ],
             [
              0.4444444444444444,
              "#bd3786"
             ],
             [
              0.5555555555555556,
              "#d8576b"
             ],
             [
              0.6666666666666666,
              "#ed7953"
             ],
             [
              0.7777777777777778,
              "#fb9f3a"
             ],
             [
              0.8888888888888888,
              "#fdca26"
             ],
             [
              1,
              "#f0f921"
             ]
            ],
            "type": "heatmap"
           }
          ],
          "heatmapgl": [
           {
            "colorbar": {
             "outlinewidth": 0,
             "ticks": ""
            },
            "colorscale": [
             [
              0,
              "#0d0887"
             ],
             [
              0.1111111111111111,
              "#46039f"
             ],
             [
              0.2222222222222222,
              "#7201a8"
             ],
             [
              0.3333333333333333,
              "#9c179e"
             ],
             [
              0.4444444444444444,
              "#bd3786"
             ],
             [
              0.5555555555555556,
              "#d8576b"
             ],
             [
              0.6666666666666666,
              "#ed7953"
             ],
             [
              0.7777777777777778,
              "#fb9f3a"
             ],
             [
              0.8888888888888888,
              "#fdca26"
             ],
             [
              1,
              "#f0f921"
             ]
            ],
            "type": "heatmapgl"
           }
          ],
          "histogram": [
           {
            "marker": {
             "colorbar": {
              "outlinewidth": 0,
              "ticks": ""
             }
            },
            "type": "histogram"
           }
          ],
          "histogram2d": [
           {
            "colorbar": {
             "outlinewidth": 0,
             "ticks": ""
            },
            "colorscale": [
             [
              0,
              "#0d0887"
             ],
             [
              0.1111111111111111,
              "#46039f"
             ],
             [
              0.2222222222222222,
              "#7201a8"
             ],
             [
              0.3333333333333333,
              "#9c179e"
             ],
             [
              0.4444444444444444,
              "#bd3786"
             ],
             [
              0.5555555555555556,
              "#d8576b"
             ],
             [
              0.6666666666666666,
              "#ed7953"
             ],
             [
              0.7777777777777778,
              "#fb9f3a"
             ],
             [
              0.8888888888888888,
              "#fdca26"
             ],
             [
              1,
              "#f0f921"
             ]
            ],
            "type": "histogram2d"
           }
          ],
          "histogram2dcontour": [
           {
            "colorbar": {
             "outlinewidth": 0,
             "ticks": ""
            },
            "colorscale": [
             [
              0,
              "#0d0887"
             ],
             [
              0.1111111111111111,
              "#46039f"
             ],
             [
              0.2222222222222222,
              "#7201a8"
             ],
             [
              0.3333333333333333,
              "#9c179e"
             ],
             [
              0.4444444444444444,
              "#bd3786"
             ],
             [
              0.5555555555555556,
              "#d8576b"
             ],
             [
              0.6666666666666666,
              "#ed7953"
             ],
             [
              0.7777777777777778,
              "#fb9f3a"
             ],
             [
              0.8888888888888888,
              "#fdca26"
             ],
             [
              1,
              "#f0f921"
             ]
            ],
            "type": "histogram2dcontour"
           }
          ],
          "mesh3d": [
           {
            "colorbar": {
             "outlinewidth": 0,
             "ticks": ""
            },
            "type": "mesh3d"
           }
          ],
          "parcoords": [
           {
            "line": {
             "colorbar": {
              "outlinewidth": 0,
              "ticks": ""
             }
            },
            "type": "parcoords"
           }
          ],
          "pie": [
           {
            "automargin": true,
            "type": "pie"
           }
          ],
          "scatter": [
           {
            "marker": {
             "colorbar": {
              "outlinewidth": 0,
              "ticks": ""
             }
            },
            "type": "scatter"
           }
          ],
          "scatter3d": [
           {
            "line": {
             "colorbar": {
              "outlinewidth": 0,
              "ticks": ""
             }
            },
            "marker": {
             "colorbar": {
              "outlinewidth": 0,
              "ticks": ""
             }
            },
            "type": "scatter3d"
           }
          ],
          "scattercarpet": [
           {
            "marker": {
             "colorbar": {
              "outlinewidth": 0,
              "ticks": ""
             }
            },
            "type": "scattercarpet"
           }
          ],
          "scattergeo": [
           {
            "marker": {
             "colorbar": {
              "outlinewidth": 0,
              "ticks": ""
             }
            },
            "type": "scattergeo"
           }
          ],
          "scattergl": [
           {
            "marker": {
             "colorbar": {
              "outlinewidth": 0,
              "ticks": ""
             }
            },
            "type": "scattergl"
           }
          ],
          "scattermapbox": [
           {
            "marker": {
             "colorbar": {
              "outlinewidth": 0,
              "ticks": ""
             }
            },
            "type": "scattermapbox"
           }
          ],
          "scatterpolar": [
           {
            "marker": {
             "colorbar": {
              "outlinewidth": 0,
              "ticks": ""
             }
            },
            "type": "scatterpolar"
           }
          ],
          "scatterpolargl": [
           {
            "marker": {
             "colorbar": {
              "outlinewidth": 0,
              "ticks": ""
             }
            },
            "type": "scatterpolargl"
           }
          ],
          "scatterternary": [
           {
            "marker": {
             "colorbar": {
              "outlinewidth": 0,
              "ticks": ""
             }
            },
            "type": "scatterternary"
           }
          ],
          "surface": [
           {
            "colorbar": {
             "outlinewidth": 0,
             "ticks": ""
            },
            "colorscale": [
             [
              0,
              "#0d0887"
             ],
             [
              0.1111111111111111,
              "#46039f"
             ],
             [
              0.2222222222222222,
              "#7201a8"
             ],
             [
              0.3333333333333333,
              "#9c179e"
             ],
             [
              0.4444444444444444,
              "#bd3786"
             ],
             [
              0.5555555555555556,
              "#d8576b"
             ],
             [
              0.6666666666666666,
              "#ed7953"
             ],
             [
              0.7777777777777778,
              "#fb9f3a"
             ],
             [
              0.8888888888888888,
              "#fdca26"
             ],
             [
              1,
              "#f0f921"
             ]
            ],
            "type": "surface"
           }
          ],
          "table": [
           {
            "cells": {
             "fill": {
              "color": "#EBF0F8"
             },
             "line": {
              "color": "white"
             }
            },
            "header": {
             "fill": {
              "color": "#C8D4E3"
             },
             "line": {
              "color": "white"
             }
            },
            "type": "table"
           }
          ]
         },
         "layout": {
          "annotationdefaults": {
           "arrowcolor": "#2a3f5f",
           "arrowhead": 0,
           "arrowwidth": 1
          },
          "coloraxis": {
           "colorbar": {
            "outlinewidth": 0,
            "ticks": ""
           }
          },
          "colorscale": {
           "diverging": [
            [
             0,
             "#8e0152"
            ],
            [
             0.1,
             "#c51b7d"
            ],
            [
             0.2,
             "#de77ae"
            ],
            [
             0.3,
             "#f1b6da"
            ],
            [
             0.4,
             "#fde0ef"
            ],
            [
             0.5,
             "#f7f7f7"
            ],
            [
             0.6,
             "#e6f5d0"
            ],
            [
             0.7,
             "#b8e186"
            ],
            [
             0.8,
             "#7fbc41"
            ],
            [
             0.9,
             "#4d9221"
            ],
            [
             1,
             "#276419"
            ]
           ],
           "sequential": [
            [
             0,
             "#0d0887"
            ],
            [
             0.1111111111111111,
             "#46039f"
            ],
            [
             0.2222222222222222,
             "#7201a8"
            ],
            [
             0.3333333333333333,
             "#9c179e"
            ],
            [
             0.4444444444444444,
             "#bd3786"
            ],
            [
             0.5555555555555556,
             "#d8576b"
            ],
            [
             0.6666666666666666,
             "#ed7953"
            ],
            [
             0.7777777777777778,
             "#fb9f3a"
            ],
            [
             0.8888888888888888,
             "#fdca26"
            ],
            [
             1,
             "#f0f921"
            ]
           ],
           "sequentialminus": [
            [
             0,
             "#0d0887"
            ],
            [
             0.1111111111111111,
             "#46039f"
            ],
            [
             0.2222222222222222,
             "#7201a8"
            ],
            [
             0.3333333333333333,
             "#9c179e"
            ],
            [
             0.4444444444444444,
             "#bd3786"
            ],
            [
             0.5555555555555556,
             "#d8576b"
            ],
            [
             0.6666666666666666,
             "#ed7953"
            ],
            [
             0.7777777777777778,
             "#fb9f3a"
            ],
            [
             0.8888888888888888,
             "#fdca26"
            ],
            [
             1,
             "#f0f921"
            ]
           ]
          },
          "colorway": [
           "#636efa",
           "#EF553B",
           "#00cc96",
           "#ab63fa",
           "#FFA15A",
           "#19d3f3",
           "#FF6692",
           "#B6E880",
           "#FF97FF",
           "#FECB52"
          ],
          "font": {
           "color": "#2a3f5f"
          },
          "geo": {
           "bgcolor": "white",
           "lakecolor": "white",
           "landcolor": "#E5ECF6",
           "showlakes": true,
           "showland": true,
           "subunitcolor": "white"
          },
          "hoverlabel": {
           "align": "left"
          },
          "hovermode": "closest",
          "mapbox": {
           "style": "light"
          },
          "paper_bgcolor": "white",
          "plot_bgcolor": "#E5ECF6",
          "polar": {
           "angularaxis": {
            "gridcolor": "white",
            "linecolor": "white",
            "ticks": ""
           },
           "bgcolor": "#E5ECF6",
           "radialaxis": {
            "gridcolor": "white",
            "linecolor": "white",
            "ticks": ""
           }
          },
          "scene": {
           "xaxis": {
            "backgroundcolor": "#E5ECF6",
            "gridcolor": "white",
            "gridwidth": 2,
            "linecolor": "white",
            "showbackground": true,
            "ticks": "",
            "zerolinecolor": "white"
           },
           "yaxis": {
            "backgroundcolor": "#E5ECF6",
            "gridcolor": "white",
            "gridwidth": 2,
            "linecolor": "white",
            "showbackground": true,
            "ticks": "",
            "zerolinecolor": "white"
           },
           "zaxis": {
            "backgroundcolor": "#E5ECF6",
            "gridcolor": "white",
            "gridwidth": 2,
            "linecolor": "white",
            "showbackground": true,
            "ticks": "",
            "zerolinecolor": "white"
           }
          },
          "shapedefaults": {
           "line": {
            "color": "#2a3f5f"
           }
          },
          "ternary": {
           "aaxis": {
            "gridcolor": "white",
            "linecolor": "white",
            "ticks": ""
           },
           "baxis": {
            "gridcolor": "white",
            "linecolor": "white",
            "ticks": ""
           },
           "bgcolor": "#E5ECF6",
           "caxis": {
            "gridcolor": "white",
            "linecolor": "white",
            "ticks": ""
           }
          },
          "title": {
           "x": 0.05
          },
          "xaxis": {
           "automargin": true,
           "gridcolor": "white",
           "linecolor": "white",
           "ticks": "",
           "title": {
            "standoff": 15
           },
           "zerolinecolor": "white",
           "zerolinewidth": 2
          },
          "yaxis": {
           "automargin": true,
           "gridcolor": "white",
           "linecolor": "white",
           "ticks": "",
           "title": {
            "standoff": 15
           },
           "zerolinecolor": "white",
           "zerolinewidth": 2
          }
         }
        },
        "title": {
         "font": {
          "color": "#4D5663"
         }
        },
        "xaxis": {
         "gridcolor": "#E1E5ED",
         "showgrid": true,
         "tickfont": {
          "color": "#4D5663"
         },
         "title": {
          "font": {
           "color": "#4D5663"
          },
          "text": ""
         },
         "zerolinecolor": "#E1E5ED"
        },
        "yaxis": {
         "gridcolor": "#E1E5ED",
         "showgrid": true,
         "tickfont": {
          "color": "#4D5663"
         },
         "title": {
          "font": {
           "color": "#4D5663"
          },
          "text": ""
         },
         "zerolinecolor": "#E1E5ED"
        }
       }
      },
      "text/html": [
       "<div>\n",
       "        \n",
       "        \n",
       "            <div id=\"251d1cb5-7d02-4020-95b0-b75e3a7d25ed\" class=\"plotly-graph-div\" style=\"height:525px; width:100%;\"></div>\n",
       "            <script type=\"text/javascript\">\n",
       "                require([\"plotly\"], function(Plotly) {\n",
       "                    window.PLOTLYENV=window.PLOTLYENV || {};\n",
       "                    window.PLOTLYENV.BASE_URL='https://plot.ly';\n",
       "                    \n",
       "                if (document.getElementById(\"251d1cb5-7d02-4020-95b0-b75e3a7d25ed\")) {\n",
       "                    Plotly.newPlot(\n",
       "                        '251d1cb5-7d02-4020-95b0-b75e3a7d25ed',\n",
       "                        [{\"colorscale\": [[0.0, \"rgb(165,0,38)\"], [0.1, \"rgb(215,48,39)\"], [0.2, \"rgb(244,109,67)\"], [0.3, \"rgb(253,174,97)\"], [0.4, \"rgb(254,224,144)\"], [0.5, \"rgb(255,255,191)\"], [0.6, \"rgb(224,243,248)\"], [0.7, \"rgb(171,217,233)\"], [0.8, \"rgb(116,173,209)\"], [0.9, \"rgb(69,117,180)\"], [1.0, \"rgb(49,54,149)\"]], \"type\": \"surface\", \"x\": [0, 1, 2, 3, 4], \"y\": [\"x\", \"y\", \"z\"], \"z\": [[1, 2, 3, 4, 5], [10, 20, 30, 20, 10], [5, 4, 3, 2, 1]]}],\n",
       "                        {\"legend\": {\"bgcolor\": \"#F5F6F9\", \"font\": {\"color\": \"#4D5663\"}}, \"paper_bgcolor\": \"#F5F6F9\", \"plot_bgcolor\": \"#F5F6F9\", \"template\": {\"data\": {\"bar\": [{\"error_x\": {\"color\": \"#2a3f5f\"}, \"error_y\": {\"color\": \"#2a3f5f\"}, \"marker\": {\"line\": {\"color\": \"#E5ECF6\", \"width\": 0.5}}, \"type\": \"bar\"}], \"barpolar\": [{\"marker\": {\"line\": {\"color\": \"#E5ECF6\", \"width\": 0.5}}, \"type\": \"barpolar\"}], \"carpet\": [{\"aaxis\": {\"endlinecolor\": \"#2a3f5f\", \"gridcolor\": \"white\", \"linecolor\": \"white\", \"minorgridcolor\": \"white\", \"startlinecolor\": \"#2a3f5f\"}, \"baxis\": {\"endlinecolor\": \"#2a3f5f\", \"gridcolor\": \"white\", \"linecolor\": \"white\", \"minorgridcolor\": \"white\", \"startlinecolor\": \"#2a3f5f\"}, \"type\": \"carpet\"}], \"choropleth\": [{\"colorbar\": {\"outlinewidth\": 0, \"ticks\": \"\"}, \"type\": \"choropleth\"}], \"contour\": [{\"colorbar\": {\"outlinewidth\": 0, \"ticks\": \"\"}, \"colorscale\": [[0.0, \"#0d0887\"], [0.1111111111111111, \"#46039f\"], [0.2222222222222222, \"#7201a8\"], [0.3333333333333333, \"#9c179e\"], [0.4444444444444444, \"#bd3786\"], [0.5555555555555556, \"#d8576b\"], [0.6666666666666666, \"#ed7953\"], [0.7777777777777778, \"#fb9f3a\"], [0.8888888888888888, \"#fdca26\"], [1.0, \"#f0f921\"]], \"type\": \"contour\"}], \"contourcarpet\": [{\"colorbar\": {\"outlinewidth\": 0, \"ticks\": \"\"}, \"type\": \"contourcarpet\"}], \"heatmap\": [{\"colorbar\": {\"outlinewidth\": 0, \"ticks\": \"\"}, \"colorscale\": [[0.0, \"#0d0887\"], [0.1111111111111111, \"#46039f\"], [0.2222222222222222, \"#7201a8\"], [0.3333333333333333, \"#9c179e\"], [0.4444444444444444, \"#bd3786\"], [0.5555555555555556, \"#d8576b\"], [0.6666666666666666, \"#ed7953\"], [0.7777777777777778, \"#fb9f3a\"], [0.8888888888888888, \"#fdca26\"], [1.0, \"#f0f921\"]], \"type\": \"heatmap\"}], \"heatmapgl\": [{\"colorbar\": {\"outlinewidth\": 0, \"ticks\": \"\"}, \"colorscale\": [[0.0, \"#0d0887\"], [0.1111111111111111, \"#46039f\"], [0.2222222222222222, \"#7201a8\"], [0.3333333333333333, \"#9c179e\"], [0.4444444444444444, \"#bd3786\"], [0.5555555555555556, \"#d8576b\"], [0.6666666666666666, \"#ed7953\"], [0.7777777777777778, \"#fb9f3a\"], [0.8888888888888888, \"#fdca26\"], [1.0, \"#f0f921\"]], \"type\": \"heatmapgl\"}], \"histogram\": [{\"marker\": {\"colorbar\": {\"outlinewidth\": 0, \"ticks\": \"\"}}, \"type\": \"histogram\"}], \"histogram2d\": [{\"colorbar\": {\"outlinewidth\": 0, \"ticks\": \"\"}, \"colorscale\": [[0.0, \"#0d0887\"], [0.1111111111111111, \"#46039f\"], [0.2222222222222222, \"#7201a8\"], [0.3333333333333333, \"#9c179e\"], [0.4444444444444444, \"#bd3786\"], [0.5555555555555556, \"#d8576b\"], [0.6666666666666666, \"#ed7953\"], [0.7777777777777778, \"#fb9f3a\"], [0.8888888888888888, \"#fdca26\"], [1.0, \"#f0f921\"]], \"type\": \"histogram2d\"}], \"histogram2dcontour\": [{\"colorbar\": {\"outlinewidth\": 0, \"ticks\": \"\"}, \"colorscale\": [[0.0, \"#0d0887\"], [0.1111111111111111, \"#46039f\"], [0.2222222222222222, \"#7201a8\"], [0.3333333333333333, \"#9c179e\"], [0.4444444444444444, \"#bd3786\"], [0.5555555555555556, \"#d8576b\"], [0.6666666666666666, \"#ed7953\"], [0.7777777777777778, \"#fb9f3a\"], [0.8888888888888888, \"#fdca26\"], [1.0, \"#f0f921\"]], \"type\": \"histogram2dcontour\"}], \"mesh3d\": [{\"colorbar\": {\"outlinewidth\": 0, \"ticks\": \"\"}, \"type\": \"mesh3d\"}], \"parcoords\": [{\"line\": {\"colorbar\": {\"outlinewidth\": 0, \"ticks\": \"\"}}, \"type\": \"parcoords\"}], \"pie\": [{\"automargin\": true, \"type\": \"pie\"}], \"scatter\": [{\"marker\": {\"colorbar\": {\"outlinewidth\": 0, \"ticks\": \"\"}}, \"type\": \"scatter\"}], \"scatter3d\": [{\"line\": {\"colorbar\": {\"outlinewidth\": 0, \"ticks\": \"\"}}, \"marker\": {\"colorbar\": {\"outlinewidth\": 0, \"ticks\": \"\"}}, \"type\": \"scatter3d\"}], \"scattercarpet\": [{\"marker\": {\"colorbar\": {\"outlinewidth\": 0, \"ticks\": \"\"}}, \"type\": \"scattercarpet\"}], \"scattergeo\": [{\"marker\": {\"colorbar\": {\"outlinewidth\": 0, \"ticks\": \"\"}}, \"type\": \"scattergeo\"}], \"scattergl\": [{\"marker\": {\"colorbar\": {\"outlinewidth\": 0, \"ticks\": \"\"}}, \"type\": \"scattergl\"}], \"scattermapbox\": [{\"marker\": {\"colorbar\": {\"outlinewidth\": 0, \"ticks\": \"\"}}, \"type\": \"scattermapbox\"}], \"scatterpolar\": [{\"marker\": {\"colorbar\": {\"outlinewidth\": 0, \"ticks\": \"\"}}, \"type\": \"scatterpolar\"}], \"scatterpolargl\": [{\"marker\": {\"colorbar\": {\"outlinewidth\": 0, \"ticks\": \"\"}}, \"type\": \"scatterpolargl\"}], \"scatterternary\": [{\"marker\": {\"colorbar\": {\"outlinewidth\": 0, \"ticks\": \"\"}}, \"type\": \"scatterternary\"}], \"surface\": [{\"colorbar\": {\"outlinewidth\": 0, \"ticks\": \"\"}, \"colorscale\": [[0.0, \"#0d0887\"], [0.1111111111111111, \"#46039f\"], [0.2222222222222222, \"#7201a8\"], [0.3333333333333333, \"#9c179e\"], [0.4444444444444444, \"#bd3786\"], [0.5555555555555556, \"#d8576b\"], [0.6666666666666666, \"#ed7953\"], [0.7777777777777778, \"#fb9f3a\"], [0.8888888888888888, \"#fdca26\"], [1.0, \"#f0f921\"]], \"type\": \"surface\"}], \"table\": [{\"cells\": {\"fill\": {\"color\": \"#EBF0F8\"}, \"line\": {\"color\": \"white\"}}, \"header\": {\"fill\": {\"color\": \"#C8D4E3\"}, \"line\": {\"color\": \"white\"}}, \"type\": \"table\"}]}, \"layout\": {\"annotationdefaults\": {\"arrowcolor\": \"#2a3f5f\", \"arrowhead\": 0, \"arrowwidth\": 1}, \"coloraxis\": {\"colorbar\": {\"outlinewidth\": 0, \"ticks\": \"\"}}, \"colorscale\": {\"diverging\": [[0, \"#8e0152\"], [0.1, \"#c51b7d\"], [0.2, \"#de77ae\"], [0.3, \"#f1b6da\"], [0.4, \"#fde0ef\"], [0.5, \"#f7f7f7\"], [0.6, \"#e6f5d0\"], [0.7, \"#b8e186\"], [0.8, \"#7fbc41\"], [0.9, \"#4d9221\"], [1, \"#276419\"]], \"sequential\": [[0.0, \"#0d0887\"], [0.1111111111111111, \"#46039f\"], [0.2222222222222222, \"#7201a8\"], [0.3333333333333333, \"#9c179e\"], [0.4444444444444444, \"#bd3786\"], [0.5555555555555556, \"#d8576b\"], [0.6666666666666666, \"#ed7953\"], [0.7777777777777778, \"#fb9f3a\"], [0.8888888888888888, \"#fdca26\"], [1.0, \"#f0f921\"]], \"sequentialminus\": [[0.0, \"#0d0887\"], [0.1111111111111111, \"#46039f\"], [0.2222222222222222, \"#7201a8\"], [0.3333333333333333, \"#9c179e\"], [0.4444444444444444, \"#bd3786\"], [0.5555555555555556, \"#d8576b\"], [0.6666666666666666, \"#ed7953\"], [0.7777777777777778, \"#fb9f3a\"], [0.8888888888888888, \"#fdca26\"], [1.0, \"#f0f921\"]]}, \"colorway\": [\"#636efa\", \"#EF553B\", \"#00cc96\", \"#ab63fa\", \"#FFA15A\", \"#19d3f3\", \"#FF6692\", \"#B6E880\", \"#FF97FF\", \"#FECB52\"], \"font\": {\"color\": \"#2a3f5f\"}, \"geo\": {\"bgcolor\": \"white\", \"lakecolor\": \"white\", \"landcolor\": \"#E5ECF6\", \"showlakes\": true, \"showland\": true, \"subunitcolor\": \"white\"}, \"hoverlabel\": {\"align\": \"left\"}, \"hovermode\": \"closest\", \"mapbox\": {\"style\": \"light\"}, \"paper_bgcolor\": \"white\", \"plot_bgcolor\": \"#E5ECF6\", \"polar\": {\"angularaxis\": {\"gridcolor\": \"white\", \"linecolor\": \"white\", \"ticks\": \"\"}, \"bgcolor\": \"#E5ECF6\", \"radialaxis\": {\"gridcolor\": \"white\", \"linecolor\": \"white\", \"ticks\": \"\"}}, \"scene\": {\"xaxis\": {\"backgroundcolor\": \"#E5ECF6\", \"gridcolor\": \"white\", \"gridwidth\": 2, \"linecolor\": \"white\", \"showbackground\": true, \"ticks\": \"\", \"zerolinecolor\": \"white\"}, \"yaxis\": {\"backgroundcolor\": \"#E5ECF6\", \"gridcolor\": \"white\", \"gridwidth\": 2, \"linecolor\": \"white\", \"showbackground\": true, \"ticks\": \"\", \"zerolinecolor\": \"white\"}, \"zaxis\": {\"backgroundcolor\": \"#E5ECF6\", \"gridcolor\": \"white\", \"gridwidth\": 2, \"linecolor\": \"white\", \"showbackground\": true, \"ticks\": \"\", \"zerolinecolor\": \"white\"}}, \"shapedefaults\": {\"line\": {\"color\": \"#2a3f5f\"}}, \"ternary\": {\"aaxis\": {\"gridcolor\": \"white\", \"linecolor\": \"white\", \"ticks\": \"\"}, \"baxis\": {\"gridcolor\": \"white\", \"linecolor\": \"white\", \"ticks\": \"\"}, \"bgcolor\": \"#E5ECF6\", \"caxis\": {\"gridcolor\": \"white\", \"linecolor\": \"white\", \"ticks\": \"\"}}, \"title\": {\"x\": 0.05}, \"xaxis\": {\"automargin\": true, \"gridcolor\": \"white\", \"linecolor\": \"white\", \"ticks\": \"\", \"title\": {\"standoff\": 15}, \"zerolinecolor\": \"white\", \"zerolinewidth\": 2}, \"yaxis\": {\"automargin\": true, \"gridcolor\": \"white\", \"linecolor\": \"white\", \"ticks\": \"\", \"title\": {\"standoff\": 15}, \"zerolinecolor\": \"white\", \"zerolinewidth\": 2}}}, \"title\": {\"font\": {\"color\": \"#4D5663\"}}, \"xaxis\": {\"gridcolor\": \"#E1E5ED\", \"showgrid\": true, \"tickfont\": {\"color\": \"#4D5663\"}, \"title\": {\"font\": {\"color\": \"#4D5663\"}, \"text\": \"\"}, \"zerolinecolor\": \"#E1E5ED\"}, \"yaxis\": {\"gridcolor\": \"#E1E5ED\", \"showgrid\": true, \"tickfont\": {\"color\": \"#4D5663\"}, \"title\": {\"font\": {\"color\": \"#4D5663\"}, \"text\": \"\"}, \"zerolinecolor\": \"#E1E5ED\"}},\n",
       "                        {\"showLink\": true, \"linkText\": \"Export to plot.ly\", \"plotlyServerURL\": \"https://plot.ly\", \"responsive\": true}\n",
       "                    ).then(function(){\n",
       "                            \n",
       "var gd = document.getElementById('251d1cb5-7d02-4020-95b0-b75e3a7d25ed');\n",
       "var x = new MutationObserver(function (mutations, observer) {{\n",
       "        var display = window.getComputedStyle(gd).display;\n",
       "        if (!display || display === 'none') {{\n",
       "            console.log([gd, 'removed!']);\n",
       "            Plotly.purge(gd);\n",
       "            observer.disconnect();\n",
       "        }}\n",
       "}});\n",
       "\n",
       "// Listen for the removal of the full notebook cells\n",
       "var notebookContainer = gd.closest('#notebook-container');\n",
       "if (notebookContainer) {{\n",
       "    x.observe(notebookContainer, {childList: true});\n",
       "}}\n",
       "\n",
       "// Listen for the clearing of the current output cell\n",
       "var outputEl = gd.closest('.output');\n",
       "if (outputEl) {{\n",
       "    x.observe(outputEl, {childList: true});\n",
       "}}\n",
       "\n",
       "                        })\n",
       "                };\n",
       "                });\n",
       "            </script>\n",
       "        </div>"
      ]
     },
     "metadata": {},
     "output_type": "display_data"
    }
   ],
   "source": [
    "df3 = pd.DataFrame({'x':[1,2,3,4,5],'y':[10,20,30,20,10],'z':[5,4,3,2,1]})\n",
    "df3.iplot(kind='surface',colorscale='rdylbu')"
   ]
  },
  {
   "cell_type": "markdown",
   "metadata": {},
   "source": [
    "## Spread"
   ]
  },
  {
   "cell_type": "code",
   "execution_count": 18,
   "metadata": {},
   "outputs": [
    {
     "data": {
      "application/vnd.plotly.v1+json": {
       "config": {
        "linkText": "Export to plot.ly",
        "plotlyServerURL": "https://plot.ly",
        "showLink": true
       },
       "data": [
        {
         "line": {
          "color": "rgba(255, 153, 51, 1.0)",
          "dash": "solid",
          "shape": "linear",
          "width": 1.3
         },
         "mode": "lines",
         "name": "A",
         "text": "",
         "type": "scatter",
         "x": [
          0,
          1,
          2,
          3,
          4,
          5,
          6,
          7,
          8,
          9,
          10,
          11,
          12,
          13,
          14,
          15,
          16,
          17,
          18,
          19,
          20,
          21,
          22,
          23,
          24,
          25,
          26,
          27,
          28,
          29,
          30,
          31,
          32,
          33,
          34,
          35,
          36,
          37,
          38,
          39,
          40,
          41,
          42,
          43,
          44,
          45,
          46,
          47,
          48,
          49,
          50,
          51,
          52,
          53,
          54,
          55,
          56,
          57,
          58,
          59,
          60,
          61,
          62,
          63,
          64,
          65,
          66,
          67,
          68,
          69,
          70,
          71,
          72,
          73,
          74,
          75,
          76,
          77,
          78,
          79,
          80,
          81,
          82,
          83,
          84,
          85,
          86,
          87,
          88,
          89,
          90,
          91,
          92,
          93,
          94,
          95,
          96,
          97,
          98,
          99
         ],
         "y": [
          0.43633476275957783,
          -0.9369666672884216,
          0.28852110280962995,
          -1.1011111414948977,
          0.32854507231159646,
          0.9816992515177357,
          -2.284421668511395,
          -0.26995513779247227,
          0.6501295774491413,
          -1.069402621774459,
          -1.2020976216798172,
          0.6513942645777206,
          0.7521897597563676,
          0.5426067229233946,
          0.3370644577358486,
          -0.5393103302681119,
          -0.6635779258219466,
          -0.24300598976235596,
          0.04496685936482622,
          -0.965346068356053,
          -0.24806693468330765,
          -0.16866354882736542,
          0.5444475088125463,
          0.5496623505488482,
          0.5450871232084065,
          -0.441345583389729,
          -0.9629954737171853,
          -0.676216274703561,
          0.006322641558518212,
          0.18664330349151873,
          -0.02609261417418306,
          -0.43677653611744,
          0.1424015252435575,
          1.9310702447132302,
          -0.9155454555589564,
          1.0582884814491147,
          0.7987834738109799,
          -1.53766916018999,
          -1.825814026600039,
          0.21272618276774719,
          1.5967775264793374,
          1.2929976854648164,
          0.06610609076863956,
          -0.5764360733096935,
          -1.56089420040441,
          -0.2554528079087033,
          1.8350740347678272,
          0.3598812399041258,
          -0.2814109679987709,
          0.3241194243912139,
          1.0661956656936156,
          -0.037067756201864574,
          -0.683125037067316,
          -1.0280984103041046,
          -0.07112279321412139,
          -0.5539586978476361,
          -0.5602855710925664,
          0.733138539889477,
          -1.0541102386248455,
          -1.3236651767229892,
          1.0168652515920766,
          -0.3566999154025523,
          0.6508321441587809,
          -0.0012140476126413513,
          -0.7882292100040235,
          2.883257249796413,
          0.3353217669277645,
          -1.0679692420258937,
          0.18293142627367062,
          0.11494991601411153,
          -0.3644172733653438,
          0.4987628257668977,
          0.8508934232296702,
          -0.08679926983528236,
          0.8047676559452972,
          0.2597526083971923,
          0.473929637781343,
          0.08581232319537543,
          -0.22410861057241027,
          -0.5257153363463388,
          1.6952648028066364,
          -0.696156975583712,
          -0.836353387975282,
          0.2965518348994222,
          -1.0012320086348452,
          -1.1544077261671366,
          -1.3350958845426832,
          0.7119427630233932,
          0.6411177748569961,
          -0.3001776750662769,
          -0.9048484414626201,
          0.7390101756217512,
          1.4819140122480443,
          0.5981606146092255,
          -0.26082548405743144,
          2.046254697130263,
          -1.9411641500930508,
          1.8452808905980655,
          1.4038573414777682,
          -0.8795591013597613
         ]
        },
        {
         "line": {
          "color": "rgba(55, 128, 191, 1.0)",
          "dash": "solid",
          "shape": "linear",
          "width": 1.3
         },
         "mode": "lines",
         "name": "B",
         "text": "",
         "type": "scatter",
         "x": [
          0,
          1,
          2,
          3,
          4,
          5,
          6,
          7,
          8,
          9,
          10,
          11,
          12,
          13,
          14,
          15,
          16,
          17,
          18,
          19,
          20,
          21,
          22,
          23,
          24,
          25,
          26,
          27,
          28,
          29,
          30,
          31,
          32,
          33,
          34,
          35,
          36,
          37,
          38,
          39,
          40,
          41,
          42,
          43,
          44,
          45,
          46,
          47,
          48,
          49,
          50,
          51,
          52,
          53,
          54,
          55,
          56,
          57,
          58,
          59,
          60,
          61,
          62,
          63,
          64,
          65,
          66,
          67,
          68,
          69,
          70,
          71,
          72,
          73,
          74,
          75,
          76,
          77,
          78,
          79,
          80,
          81,
          82,
          83,
          84,
          85,
          86,
          87,
          88,
          89,
          90,
          91,
          92,
          93,
          94,
          95,
          96,
          97,
          98,
          99
         ],
         "y": [
          -0.44728330349228973,
          -0.6069251354234275,
          -1.3738549093340406,
          1.2334111997303334,
          0.7397860123001738,
          1.5972494572851856,
          -0.018931915979927754,
          -1.2264327624064608,
          0.15592114116201142,
          -0.47902754325705527,
          1.2074916117611019,
          0.6889645260151184,
          1.6209155031439582,
          1.0377918747451134,
          -0.16857843049431245,
          0.7350503697272961,
          1.3732044642314538,
          0.17853748378804712,
          0.9201258074350492,
          0.661381730865682,
          1.485145958350401,
          -1.632119618070541,
          0.22748154932469294,
          -0.09458663553707516,
          0.21090274721930652,
          1.2583083792119074,
          1.6422290993212094,
          -1.019888999922517,
          -1.1262083616915823,
          0.7751631377435271,
          0.0780355504840483,
          0.29911039538859174,
          0.43807211050813644,
          -0.12770957828774504,
          -0.6521897822817302,
          -0.889630939076755,
          0.15986237919607987,
          -0.04342366071403783,
          -0.43520486123887653,
          0.5379206691506319,
          0.793787709378705,
          -0.4289924398492299,
          0.7369539710091716,
          2.087453696135382,
          0.5620994219564909,
          -0.20137912145968392,
          0.7257704929503092,
          1.1084092246082184,
          -0.5171551630835821,
          -1.1283322045922786,
          0.2593535652357022,
          -0.17267859924919277,
          -1.5345339901197232,
          -0.3209003352524528,
          -1.1744077524500085,
          1.4490429107416258,
          1.184950303089929,
          0.702234314776529,
          -0.6784286508938552,
          1.2835120424777373,
          -1.190989535539129,
          -0.3513939866455125,
          0.621578689492338,
          -0.4630544081124457,
          -0.4367365405676625,
          1.3421143639461248,
          1.7456877417419552,
          1.3034225510631996,
          -0.7624624397576985,
          -0.40495996101011833,
          -2.1648442884732138,
          0.5440779523888465,
          0.5287058951523081,
          -0.43876721681254327,
          0.6449127396655433,
          -1.8263143889063849,
          -0.7719047232387043,
          1.7518581179245638,
          0.8330915673690045,
          -0.4521002707172554,
          -0.5402986159008635,
          -1.2266100687118864,
          1.6575386196372557,
          0.7985342454287591,
          0.208928873721229,
          0.21447039459623737,
          -0.5130034897172456,
          1.4365715282093559,
          -0.24188464953388022,
          0.44495315267780716,
          0.07569986085313132,
          -0.42437427642700526,
          -0.5719674021359072,
          0.1764574730152452,
          0.5947324055814549,
          0.5454269787091772,
          -1.052784323807733,
          -0.5458881467962238,
          0.7868241229855274,
          0.38274020695729544
         ]
        },
        {
         "connectgaps": false,
         "fill": "tozeroy",
         "line": {
          "color": "green",
          "dash": "solid",
          "shape": "linear",
          "width": 0.5
         },
         "mode": "lines",
         "name": "Spread",
         "showlegend": false,
         "type": "scatter",
         "x": [
          0,
          1,
          2,
          3,
          4,
          5,
          6,
          7,
          8,
          9,
          10,
          11,
          12,
          13,
          14,
          15,
          16,
          17,
          18,
          19,
          20,
          21,
          22,
          23,
          24,
          25,
          26,
          27,
          28,
          29,
          30,
          31,
          32,
          33,
          34,
          35,
          36,
          37,
          38,
          39,
          40,
          41,
          42,
          43,
          44,
          45,
          46,
          47,
          48,
          49,
          50,
          51,
          52,
          53,
          54,
          55,
          56,
          57,
          58,
          59,
          60,
          61,
          62,
          63,
          64,
          65,
          66,
          67,
          68,
          69,
          70,
          71,
          72,
          73,
          74,
          75,
          76,
          77,
          78,
          79,
          80,
          81,
          82,
          83,
          84,
          85,
          86,
          87,
          88,
          89,
          90,
          91,
          92,
          93,
          94,
          95,
          96,
          97,
          98,
          99
         ],
         "xaxis": "x2",
         "y": [
          0.8836180662518676,
          "",
          1.6623760121436706,
          "",
          "",
          "",
          "",
          0.9564776246139886,
          0.49420843628712996,
          "",
          "",
          "",
          "",
          "",
          0.505642888230161,
          "",
          "",
          "",
          "",
          "",
          "",
          1.4634560692431757,
          0.3169659594878534,
          0.6442489860859233,
          0.33418437598909995,
          "",
          "",
          0.34367272521895587,
          1.1325310032501006,
          "",
          "",
          "",
          "",
          2.0587798230009753,
          "",
          1.9479194205258696,
          0.6389210946149,
          "",
          "",
          "",
          0.8029898171006323,
          1.7219901253140464,
          "",
          "",
          "",
          "",
          1.1093035418175181,
          "",
          0.2357441950848112,
          1.4524516289834923,
          0.8068421004579134,
          0.13561084304732818,
          0.8514089530524073,
          "",
          1.103284959235887,
          "",
          "",
          0.03090422511294799,
          "",
          "",
          2.2078547871312058,
          "",
          0.029253454666442913,
          0.4618403604998043,
          "",
          1.541142885850288,
          "",
          "",
          0.9453938660313691,
          0.5199098770242299,
          1.80042701510787,
          "",
          0.32218752807736206,
          0.3519679469772609,
          0.1598549162797539,
          2.0860669973035773,
          1.2458343610200473,
          "",
          "",
          "",
          2.2355634187074997,
          0.5304530931281743,
          "",
          "",
          "",
          "",
          "",
          "",
          0.8830024243908763,
          "",
          "",
          1.1633844520487564,
          2.0538814143839517,
          0.42170314159398037,
          "",
          1.5008277184210859,
          "",
          2.391169037394289,
          0.6170332184922408,
          ""
         ],
         "yaxis": "y2"
        },
        {
         "connectgaps": false,
         "fill": "tozeroy",
         "line": {
          "color": "red",
          "dash": "solid",
          "shape": "linear",
          "width": 0.5
         },
         "mode": "lines",
         "name": "Spread",
         "showlegend": false,
         "type": "scatter",
         "x": [
          0,
          1,
          2,
          3,
          4,
          5,
          6,
          7,
          8,
          9,
          10,
          11,
          12,
          13,
          14,
          15,
          16,
          17,
          18,
          19,
          20,
          21,
          22,
          23,
          24,
          25,
          26,
          27,
          28,
          29,
          30,
          31,
          32,
          33,
          34,
          35,
          36,
          37,
          38,
          39,
          40,
          41,
          42,
          43,
          44,
          45,
          46,
          47,
          48,
          49,
          50,
          51,
          52,
          53,
          54,
          55,
          56,
          57,
          58,
          59,
          60,
          61,
          62,
          63,
          64,
          65,
          66,
          67,
          68,
          69,
          70,
          71,
          72,
          73,
          74,
          75,
          76,
          77,
          78,
          79,
          80,
          81,
          82,
          83,
          84,
          85,
          86,
          87,
          88,
          89,
          90,
          91,
          92,
          93,
          94,
          95,
          96,
          97,
          98,
          99
         ],
         "xaxis": "x2",
         "y": [
          "",
          -0.3300415318649941,
          "",
          -2.334522341225231,
          -0.41124093998857736,
          -0.6155502057674499,
          -2.2654897525314674,
          "",
          "",
          -0.5903750785174038,
          -2.409589233440919,
          -0.03757026143739772,
          -0.8687257433875906,
          -0.49518515182171874,
          "",
          -1.274360699995408,
          -2.0367823900534003,
          -0.4215434735504031,
          -0.875158948070223,
          -1.6267277992217348,
          -1.7332128930337087,
          "",
          "",
          "",
          "",
          -1.6996539626016365,
          -2.6052245730383947,
          "",
          "",
          -0.5885198342520084,
          -0.10412816465823135,
          -0.7358869315060317,
          -0.2956705852645789,
          "",
          -0.2633556732772262,
          "",
          "",
          -1.494245499475952,
          -1.3906091653611625,
          -0.3251944863828847,
          "",
          "",
          -0.670847880240532,
          -2.6638897694450754,
          -2.1229936223609007,
          -0.05407368644901936,
          "",
          -0.7485279847040927,
          "",
          "",
          "",
          "",
          "",
          -0.7071980750516518,
          "",
          -2.003001608589262,
          -1.7452358741824954,
          "",
          -0.37568158773099036,
          -2.6071772192007265,
          "",
          -0.0053059287570397795,
          "",
          "",
          -0.351492669436361,
          "",
          -1.4103659748141908,
          -2.371391793089093,
          "",
          "",
          "",
          -0.04531512662194881,
          "",
          "",
          "",
          "",
          "",
          -1.6660457947291885,
          -1.0572001779414149,
          -0.07361506562908343,
          "",
          "",
          -2.493892007612538,
          -0.5019824105293369,
          -1.210160882356074,
          -1.368878120763374,
          -0.8220923948254376,
          -0.7246287651859626,
          "",
          -0.745130827744084,
          -0.9805483023157514,
          "",
          "",
          "",
          -0.8555578896388863,
          "",
          -0.8883798262853178,
          "",
          "",
          -1.2622993083170568
         ],
         "yaxis": "y2"
        }
       ],
       "layout": {
        "hovermode": "x",
        "legend": {
         "bgcolor": "#F5F6F9",
         "font": {
          "color": "#4D5663"
         }
        },
        "paper_bgcolor": "#F5F6F9",
        "plot_bgcolor": "#F5F6F9",
        "template": {
         "data": {
          "bar": [
           {
            "error_x": {
             "color": "#2a3f5f"
            },
            "error_y": {
             "color": "#2a3f5f"
            },
            "marker": {
             "line": {
              "color": "#E5ECF6",
              "width": 0.5
             }
            },
            "type": "bar"
           }
          ],
          "barpolar": [
           {
            "marker": {
             "line": {
              "color": "#E5ECF6",
              "width": 0.5
             }
            },
            "type": "barpolar"
           }
          ],
          "carpet": [
           {
            "aaxis": {
             "endlinecolor": "#2a3f5f",
             "gridcolor": "white",
             "linecolor": "white",
             "minorgridcolor": "white",
             "startlinecolor": "#2a3f5f"
            },
            "baxis": {
             "endlinecolor": "#2a3f5f",
             "gridcolor": "white",
             "linecolor": "white",
             "minorgridcolor": "white",
             "startlinecolor": "#2a3f5f"
            },
            "type": "carpet"
           }
          ],
          "choropleth": [
           {
            "colorbar": {
             "outlinewidth": 0,
             "ticks": ""
            },
            "type": "choropleth"
           }
          ],
          "contour": [
           {
            "colorbar": {
             "outlinewidth": 0,
             "ticks": ""
            },
            "colorscale": [
             [
              0,
              "#0d0887"
             ],
             [
              0.1111111111111111,
              "#46039f"
             ],
             [
              0.2222222222222222,
              "#7201a8"
             ],
             [
              0.3333333333333333,
              "#9c179e"
             ],
             [
              0.4444444444444444,
              "#bd3786"
             ],
             [
              0.5555555555555556,
              "#d8576b"
             ],
             [
              0.6666666666666666,
              "#ed7953"
             ],
             [
              0.7777777777777778,
              "#fb9f3a"
             ],
             [
              0.8888888888888888,
              "#fdca26"
             ],
             [
              1,
              "#f0f921"
             ]
            ],
            "type": "contour"
           }
          ],
          "contourcarpet": [
           {
            "colorbar": {
             "outlinewidth": 0,
             "ticks": ""
            },
            "type": "contourcarpet"
           }
          ],
          "heatmap": [
           {
            "colorbar": {
             "outlinewidth": 0,
             "ticks": ""
            },
            "colorscale": [
             [
              0,
              "#0d0887"
             ],
             [
              0.1111111111111111,
              "#46039f"
             ],
             [
              0.2222222222222222,
              "#7201a8"
             ],
             [
              0.3333333333333333,
              "#9c179e"
             ],
             [
              0.4444444444444444,
              "#bd3786"
             ],
             [
              0.5555555555555556,
              "#d8576b"
             ],
             [
              0.6666666666666666,
              "#ed7953"
             ],
             [
              0.7777777777777778,
              "#fb9f3a"
             ],
             [
              0.8888888888888888,
              "#fdca26"
             ],
             [
              1,
              "#f0f921"
             ]
            ],
            "type": "heatmap"
           }
          ],
          "heatmapgl": [
           {
            "colorbar": {
             "outlinewidth": 0,
             "ticks": ""
            },
            "colorscale": [
             [
              0,
              "#0d0887"
             ],
             [
              0.1111111111111111,
              "#46039f"
             ],
             [
              0.2222222222222222,
              "#7201a8"
             ],
             [
              0.3333333333333333,
              "#9c179e"
             ],
             [
              0.4444444444444444,
              "#bd3786"
             ],
             [
              0.5555555555555556,
              "#d8576b"
             ],
             [
              0.6666666666666666,
              "#ed7953"
             ],
             [
              0.7777777777777778,
              "#fb9f3a"
             ],
             [
              0.8888888888888888,
              "#fdca26"
             ],
             [
              1,
              "#f0f921"
             ]
            ],
            "type": "heatmapgl"
           }
          ],
          "histogram": [
           {
            "marker": {
             "colorbar": {
              "outlinewidth": 0,
              "ticks": ""
             }
            },
            "type": "histogram"
           }
          ],
          "histogram2d": [
           {
            "colorbar": {
             "outlinewidth": 0,
             "ticks": ""
            },
            "colorscale": [
             [
              0,
              "#0d0887"
             ],
             [
              0.1111111111111111,
              "#46039f"
             ],
             [
              0.2222222222222222,
              "#7201a8"
             ],
             [
              0.3333333333333333,
              "#9c179e"
             ],
             [
              0.4444444444444444,
              "#bd3786"
             ],
             [
              0.5555555555555556,
              "#d8576b"
             ],
             [
              0.6666666666666666,
              "#ed7953"
             ],
             [
              0.7777777777777778,
              "#fb9f3a"
             ],
             [
              0.8888888888888888,
              "#fdca26"
             ],
             [
              1,
              "#f0f921"
             ]
            ],
            "type": "histogram2d"
           }
          ],
          "histogram2dcontour": [
           {
            "colorbar": {
             "outlinewidth": 0,
             "ticks": ""
            },
            "colorscale": [
             [
              0,
              "#0d0887"
             ],
             [
              0.1111111111111111,
              "#46039f"
             ],
             [
              0.2222222222222222,
              "#7201a8"
             ],
             [
              0.3333333333333333,
              "#9c179e"
             ],
             [
              0.4444444444444444,
              "#bd3786"
             ],
             [
              0.5555555555555556,
              "#d8576b"
             ],
             [
              0.6666666666666666,
              "#ed7953"
             ],
             [
              0.7777777777777778,
              "#fb9f3a"
             ],
             [
              0.8888888888888888,
              "#fdca26"
             ],
             [
              1,
              "#f0f921"
             ]
            ],
            "type": "histogram2dcontour"
           }
          ],
          "mesh3d": [
           {
            "colorbar": {
             "outlinewidth": 0,
             "ticks": ""
            },
            "type": "mesh3d"
           }
          ],
          "parcoords": [
           {
            "line": {
             "colorbar": {
              "outlinewidth": 0,
              "ticks": ""
             }
            },
            "type": "parcoords"
           }
          ],
          "pie": [
           {
            "automargin": true,
            "type": "pie"
           }
          ],
          "scatter": [
           {
            "marker": {
             "colorbar": {
              "outlinewidth": 0,
              "ticks": ""
             }
            },
            "type": "scatter"
           }
          ],
          "scatter3d": [
           {
            "line": {
             "colorbar": {
              "outlinewidth": 0,
              "ticks": ""
             }
            },
            "marker": {
             "colorbar": {
              "outlinewidth": 0,
              "ticks": ""
             }
            },
            "type": "scatter3d"
           }
          ],
          "scattercarpet": [
           {
            "marker": {
             "colorbar": {
              "outlinewidth": 0,
              "ticks": ""
             }
            },
            "type": "scattercarpet"
           }
          ],
          "scattergeo": [
           {
            "marker": {
             "colorbar": {
              "outlinewidth": 0,
              "ticks": ""
             }
            },
            "type": "scattergeo"
           }
          ],
          "scattergl": [
           {
            "marker": {
             "colorbar": {
              "outlinewidth": 0,
              "ticks": ""
             }
            },
            "type": "scattergl"
           }
          ],
          "scattermapbox": [
           {
            "marker": {
             "colorbar": {
              "outlinewidth": 0,
              "ticks": ""
             }
            },
            "type": "scattermapbox"
           }
          ],
          "scatterpolar": [
           {
            "marker": {
             "colorbar": {
              "outlinewidth": 0,
              "ticks": ""
             }
            },
            "type": "scatterpolar"
           }
          ],
          "scatterpolargl": [
           {
            "marker": {
             "colorbar": {
              "outlinewidth": 0,
              "ticks": ""
             }
            },
            "type": "scatterpolargl"
           }
          ],
          "scatterternary": [
           {
            "marker": {
             "colorbar": {
              "outlinewidth": 0,
              "ticks": ""
             }
            },
            "type": "scatterternary"
           }
          ],
          "surface": [
           {
            "colorbar": {
             "outlinewidth": 0,
             "ticks": ""
            },
            "colorscale": [
             [
              0,
              "#0d0887"
             ],
             [
              0.1111111111111111,
              "#46039f"
             ],
             [
              0.2222222222222222,
              "#7201a8"
             ],
             [
              0.3333333333333333,
              "#9c179e"
             ],
             [
              0.4444444444444444,
              "#bd3786"
             ],
             [
              0.5555555555555556,
              "#d8576b"
             ],
             [
              0.6666666666666666,
              "#ed7953"
             ],
             [
              0.7777777777777778,
              "#fb9f3a"
             ],
             [
              0.8888888888888888,
              "#fdca26"
             ],
             [
              1,
              "#f0f921"
             ]
            ],
            "type": "surface"
           }
          ],
          "table": [
           {
            "cells": {
             "fill": {
              "color": "#EBF0F8"
             },
             "line": {
              "color": "white"
             }
            },
            "header": {
             "fill": {
              "color": "#C8D4E3"
             },
             "line": {
              "color": "white"
             }
            },
            "type": "table"
           }
          ]
         },
         "layout": {
          "annotationdefaults": {
           "arrowcolor": "#2a3f5f",
           "arrowhead": 0,
           "arrowwidth": 1
          },
          "coloraxis": {
           "colorbar": {
            "outlinewidth": 0,
            "ticks": ""
           }
          },
          "colorscale": {
           "diverging": [
            [
             0,
             "#8e0152"
            ],
            [
             0.1,
             "#c51b7d"
            ],
            [
             0.2,
             "#de77ae"
            ],
            [
             0.3,
             "#f1b6da"
            ],
            [
             0.4,
             "#fde0ef"
            ],
            [
             0.5,
             "#f7f7f7"
            ],
            [
             0.6,
             "#e6f5d0"
            ],
            [
             0.7,
             "#b8e186"
            ],
            [
             0.8,
             "#7fbc41"
            ],
            [
             0.9,
             "#4d9221"
            ],
            [
             1,
             "#276419"
            ]
           ],
           "sequential": [
            [
             0,
             "#0d0887"
            ],
            [
             0.1111111111111111,
             "#46039f"
            ],
            [
             0.2222222222222222,
             "#7201a8"
            ],
            [
             0.3333333333333333,
             "#9c179e"
            ],
            [
             0.4444444444444444,
             "#bd3786"
            ],
            [
             0.5555555555555556,
             "#d8576b"
            ],
            [
             0.6666666666666666,
             "#ed7953"
            ],
            [
             0.7777777777777778,
             "#fb9f3a"
            ],
            [
             0.8888888888888888,
             "#fdca26"
            ],
            [
             1,
             "#f0f921"
            ]
           ],
           "sequentialminus": [
            [
             0,
             "#0d0887"
            ],
            [
             0.1111111111111111,
             "#46039f"
            ],
            [
             0.2222222222222222,
             "#7201a8"
            ],
            [
             0.3333333333333333,
             "#9c179e"
            ],
            [
             0.4444444444444444,
             "#bd3786"
            ],
            [
             0.5555555555555556,
             "#d8576b"
            ],
            [
             0.6666666666666666,
             "#ed7953"
            ],
            [
             0.7777777777777778,
             "#fb9f3a"
            ],
            [
             0.8888888888888888,
             "#fdca26"
            ],
            [
             1,
             "#f0f921"
            ]
           ]
          },
          "colorway": [
           "#636efa",
           "#EF553B",
           "#00cc96",
           "#ab63fa",
           "#FFA15A",
           "#19d3f3",
           "#FF6692",
           "#B6E880",
           "#FF97FF",
           "#FECB52"
          ],
          "font": {
           "color": "#2a3f5f"
          },
          "geo": {
           "bgcolor": "white",
           "lakecolor": "white",
           "landcolor": "#E5ECF6",
           "showlakes": true,
           "showland": true,
           "subunitcolor": "white"
          },
          "hoverlabel": {
           "align": "left"
          },
          "hovermode": "closest",
          "mapbox": {
           "style": "light"
          },
          "paper_bgcolor": "white",
          "plot_bgcolor": "#E5ECF6",
          "polar": {
           "angularaxis": {
            "gridcolor": "white",
            "linecolor": "white",
            "ticks": ""
           },
           "bgcolor": "#E5ECF6",
           "radialaxis": {
            "gridcolor": "white",
            "linecolor": "white",
            "ticks": ""
           }
          },
          "scene": {
           "xaxis": {
            "backgroundcolor": "#E5ECF6",
            "gridcolor": "white",
            "gridwidth": 2,
            "linecolor": "white",
            "showbackground": true,
            "ticks": "",
            "zerolinecolor": "white"
           },
           "yaxis": {
            "backgroundcolor": "#E5ECF6",
            "gridcolor": "white",
            "gridwidth": 2,
            "linecolor": "white",
            "showbackground": true,
            "ticks": "",
            "zerolinecolor": "white"
           },
           "zaxis": {
            "backgroundcolor": "#E5ECF6",
            "gridcolor": "white",
            "gridwidth": 2,
            "linecolor": "white",
            "showbackground": true,
            "ticks": "",
            "zerolinecolor": "white"
           }
          },
          "shapedefaults": {
           "line": {
            "color": "#2a3f5f"
           }
          },
          "ternary": {
           "aaxis": {
            "gridcolor": "white",
            "linecolor": "white",
            "ticks": ""
           },
           "baxis": {
            "gridcolor": "white",
            "linecolor": "white",
            "ticks": ""
           },
           "bgcolor": "#E5ECF6",
           "caxis": {
            "gridcolor": "white",
            "linecolor": "white",
            "ticks": ""
           }
          },
          "title": {
           "x": 0.05
          },
          "xaxis": {
           "automargin": true,
           "gridcolor": "white",
           "linecolor": "white",
           "ticks": "",
           "title": {
            "standoff": 15
           },
           "zerolinecolor": "white",
           "zerolinewidth": 2
          },
          "yaxis": {
           "automargin": true,
           "gridcolor": "white",
           "linecolor": "white",
           "ticks": "",
           "title": {
            "standoff": 15
           },
           "zerolinecolor": "white",
           "zerolinewidth": 2
          }
         }
        },
        "title": {
         "font": {
          "color": "#4D5663"
         }
        },
        "xaxis": {
         "gridcolor": "#E1E5ED",
         "showgrid": true,
         "tickfont": {
          "color": "#4D5663"
         },
         "title": {
          "font": {
           "color": "#4D5663"
          },
          "text": ""
         },
         "zerolinecolor": "#E1E5ED"
        },
        "xaxis2": {
         "anchor": "y2",
         "gridcolor": "#E1E5ED",
         "showgrid": true,
         "showticklabels": false,
         "tickfont": {
          "color": "#4D5663"
         },
         "title": {
          "font": {
           "color": "#4D5663"
          },
          "text": ""
         },
         "zerolinecolor": "#E1E5ED"
        },
        "yaxis": {
         "domain": [
          0.3,
          1
         ],
         "gridcolor": "#E1E5ED",
         "showgrid": true,
         "tickfont": {
          "color": "#4D5663"
         },
         "title": {
          "font": {
           "color": "#4D5663"
          },
          "text": ""
         },
         "zerolinecolor": "#E1E5ED"
        },
        "yaxis2": {
         "domain": [
          0,
          0.25
         ],
         "gridcolor": "#E1E5ED",
         "showgrid": true,
         "tickfont": {
          "color": "#4D5663"
         },
         "title": {
          "font": {
           "color": "#4D5663"
          },
          "text": "Spread"
         },
         "zerolinecolor": "#E1E5ED"
        }
       }
      },
      "text/html": [
       "<div>\n",
       "        \n",
       "        \n",
       "            <div id=\"e2bcdcbf-2b5e-4956-acc2-f5f48b53589f\" class=\"plotly-graph-div\" style=\"height:525px; width:100%;\"></div>\n",
       "            <script type=\"text/javascript\">\n",
       "                require([\"plotly\"], function(Plotly) {\n",
       "                    window.PLOTLYENV=window.PLOTLYENV || {};\n",
       "                    window.PLOTLYENV.BASE_URL='https://plot.ly';\n",
       "                    \n",
       "                if (document.getElementById(\"e2bcdcbf-2b5e-4956-acc2-f5f48b53589f\")) {\n",
       "                    Plotly.newPlot(\n",
       "                        'e2bcdcbf-2b5e-4956-acc2-f5f48b53589f',\n",
       "                        [{\"line\": {\"color\": \"rgba(255, 153, 51, 1.0)\", \"dash\": \"solid\", \"shape\": \"linear\", \"width\": 1.3}, \"mode\": \"lines\", \"name\": \"A\", \"text\": \"\", \"type\": \"scatter\", \"x\": [0, 1, 2, 3, 4, 5, 6, 7, 8, 9, 10, 11, 12, 13, 14, 15, 16, 17, 18, 19, 20, 21, 22, 23, 24, 25, 26, 27, 28, 29, 30, 31, 32, 33, 34, 35, 36, 37, 38, 39, 40, 41, 42, 43, 44, 45, 46, 47, 48, 49, 50, 51, 52, 53, 54, 55, 56, 57, 58, 59, 60, 61, 62, 63, 64, 65, 66, 67, 68, 69, 70, 71, 72, 73, 74, 75, 76, 77, 78, 79, 80, 81, 82, 83, 84, 85, 86, 87, 88, 89, 90, 91, 92, 93, 94, 95, 96, 97, 98, 99], \"y\": [0.43633476275957783, -0.9369666672884216, 0.28852110280962995, -1.1011111414948977, 0.32854507231159646, 0.9816992515177357, -2.284421668511395, -0.26995513779247227, 0.6501295774491413, -1.069402621774459, -1.2020976216798172, 0.6513942645777206, 0.7521897597563676, 0.5426067229233946, 0.3370644577358486, -0.5393103302681119, -0.6635779258219466, -0.24300598976235596, 0.04496685936482622, -0.965346068356053, -0.24806693468330765, -0.16866354882736542, 0.5444475088125463, 0.5496623505488482, 0.5450871232084065, -0.441345583389729, -0.9629954737171853, -0.676216274703561, 0.006322641558518212, 0.18664330349151873, -0.02609261417418306, -0.43677653611744, 0.1424015252435575, 1.9310702447132302, -0.9155454555589564, 1.0582884814491147, 0.7987834738109799, -1.53766916018999, -1.825814026600039, 0.21272618276774719, 1.5967775264793374, 1.2929976854648164, 0.06610609076863956, -0.5764360733096935, -1.56089420040441, -0.2554528079087033, 1.8350740347678272, 0.3598812399041258, -0.2814109679987709, 0.3241194243912139, 1.0661956656936156, -0.037067756201864574, -0.683125037067316, -1.0280984103041046, -0.07112279321412139, -0.5539586978476361, -0.5602855710925664, 0.733138539889477, -1.0541102386248455, -1.3236651767229892, 1.0168652515920766, -0.3566999154025523, 0.6508321441587809, -0.0012140476126413513, -0.7882292100040235, 2.883257249796413, 0.3353217669277645, -1.0679692420258937, 0.18293142627367062, 0.11494991601411153, -0.3644172733653438, 0.4987628257668977, 0.8508934232296702, -0.08679926983528236, 0.8047676559452972, 0.2597526083971923, 0.473929637781343, 0.08581232319537543, -0.22410861057241027, -0.5257153363463388, 1.6952648028066364, -0.696156975583712, -0.836353387975282, 0.2965518348994222, -1.0012320086348452, -1.1544077261671366, -1.3350958845426832, 0.7119427630233932, 0.6411177748569961, -0.3001776750662769, -0.9048484414626201, 0.7390101756217512, 1.4819140122480443, 0.5981606146092255, -0.26082548405743144, 2.046254697130263, -1.9411641500930508, 1.8452808905980655, 1.4038573414777682, -0.8795591013597613]}, {\"line\": {\"color\": \"rgba(55, 128, 191, 1.0)\", \"dash\": \"solid\", \"shape\": \"linear\", \"width\": 1.3}, \"mode\": \"lines\", \"name\": \"B\", \"text\": \"\", \"type\": \"scatter\", \"x\": [0, 1, 2, 3, 4, 5, 6, 7, 8, 9, 10, 11, 12, 13, 14, 15, 16, 17, 18, 19, 20, 21, 22, 23, 24, 25, 26, 27, 28, 29, 30, 31, 32, 33, 34, 35, 36, 37, 38, 39, 40, 41, 42, 43, 44, 45, 46, 47, 48, 49, 50, 51, 52, 53, 54, 55, 56, 57, 58, 59, 60, 61, 62, 63, 64, 65, 66, 67, 68, 69, 70, 71, 72, 73, 74, 75, 76, 77, 78, 79, 80, 81, 82, 83, 84, 85, 86, 87, 88, 89, 90, 91, 92, 93, 94, 95, 96, 97, 98, 99], \"y\": [-0.44728330349228973, -0.6069251354234275, -1.3738549093340406, 1.2334111997303334, 0.7397860123001738, 1.5972494572851856, -0.018931915979927754, -1.2264327624064608, 0.15592114116201142, -0.47902754325705527, 1.2074916117611019, 0.6889645260151184, 1.6209155031439582, 1.0377918747451134, -0.16857843049431245, 0.7350503697272961, 1.3732044642314538, 0.17853748378804712, 0.9201258074350492, 0.661381730865682, 1.485145958350401, -1.632119618070541, 0.22748154932469294, -0.09458663553707516, 0.21090274721930652, 1.2583083792119074, 1.6422290993212094, -1.019888999922517, -1.1262083616915823, 0.7751631377435271, 0.0780355504840483, 0.29911039538859174, 0.43807211050813644, -0.12770957828774504, -0.6521897822817302, -0.889630939076755, 0.15986237919607987, -0.04342366071403783, -0.43520486123887653, 0.5379206691506319, 0.793787709378705, -0.4289924398492299, 0.7369539710091716, 2.087453696135382, 0.5620994219564909, -0.20137912145968392, 0.7257704929503092, 1.1084092246082184, -0.5171551630835821, -1.1283322045922786, 0.2593535652357022, -0.17267859924919277, -1.5345339901197232, -0.3209003352524528, -1.1744077524500085, 1.4490429107416258, 1.184950303089929, 0.702234314776529, -0.6784286508938552, 1.2835120424777373, -1.190989535539129, -0.3513939866455125, 0.621578689492338, -0.4630544081124457, -0.4367365405676625, 1.3421143639461248, 1.7456877417419552, 1.3034225510631996, -0.7624624397576985, -0.40495996101011833, -2.1648442884732138, 0.5440779523888465, 0.5287058951523081, -0.43876721681254327, 0.6449127396655433, -1.8263143889063849, -0.7719047232387043, 1.7518581179245638, 0.8330915673690045, -0.4521002707172554, -0.5402986159008635, -1.2266100687118864, 1.6575386196372557, 0.7985342454287591, 0.208928873721229, 0.21447039459623737, -0.5130034897172456, 1.4365715282093559, -0.24188464953388022, 0.44495315267780716, 0.07569986085313132, -0.42437427642700526, -0.5719674021359072, 0.1764574730152452, 0.5947324055814549, 0.5454269787091772, -1.052784323807733, -0.5458881467962238, 0.7868241229855274, 0.38274020695729544]}, {\"connectgaps\": false, \"fill\": \"tozeroy\", \"line\": {\"color\": \"green\", \"dash\": \"solid\", \"shape\": \"linear\", \"width\": 0.5}, \"mode\": \"lines\", \"name\": \"Spread\", \"showlegend\": false, \"type\": \"scatter\", \"x\": [0, 1, 2, 3, 4, 5, 6, 7, 8, 9, 10, 11, 12, 13, 14, 15, 16, 17, 18, 19, 20, 21, 22, 23, 24, 25, 26, 27, 28, 29, 30, 31, 32, 33, 34, 35, 36, 37, 38, 39, 40, 41, 42, 43, 44, 45, 46, 47, 48, 49, 50, 51, 52, 53, 54, 55, 56, 57, 58, 59, 60, 61, 62, 63, 64, 65, 66, 67, 68, 69, 70, 71, 72, 73, 74, 75, 76, 77, 78, 79, 80, 81, 82, 83, 84, 85, 86, 87, 88, 89, 90, 91, 92, 93, 94, 95, 96, 97, 98, 99], \"xaxis\": \"x2\", \"y\": [0.8836180662518676, \"\", 1.6623760121436706, \"\", \"\", \"\", \"\", 0.9564776246139886, 0.49420843628712996, \"\", \"\", \"\", \"\", \"\", 0.505642888230161, \"\", \"\", \"\", \"\", \"\", \"\", 1.4634560692431757, 0.3169659594878534, 0.6442489860859233, 0.33418437598909995, \"\", \"\", 0.34367272521895587, 1.1325310032501006, \"\", \"\", \"\", \"\", 2.0587798230009753, \"\", 1.9479194205258696, 0.6389210946149, \"\", \"\", \"\", 0.8029898171006323, 1.7219901253140464, \"\", \"\", \"\", \"\", 1.1093035418175181, \"\", 0.2357441950848112, 1.4524516289834923, 0.8068421004579134, 0.13561084304732818, 0.8514089530524073, \"\", 1.103284959235887, \"\", \"\", 0.03090422511294799, \"\", \"\", 2.2078547871312058, \"\", 0.029253454666442913, 0.4618403604998043, \"\", 1.541142885850288, \"\", \"\", 0.9453938660313691, 0.5199098770242299, 1.80042701510787, \"\", 0.32218752807736206, 0.3519679469772609, 0.1598549162797539, 2.0860669973035773, 1.2458343610200473, \"\", \"\", \"\", 2.2355634187074997, 0.5304530931281743, \"\", \"\", \"\", \"\", \"\", \"\", 0.8830024243908763, \"\", \"\", 1.1633844520487564, 2.0538814143839517, 0.42170314159398037, \"\", 1.5008277184210859, \"\", 2.391169037394289, 0.6170332184922408, \"\"], \"yaxis\": \"y2\"}, {\"connectgaps\": false, \"fill\": \"tozeroy\", \"line\": {\"color\": \"red\", \"dash\": \"solid\", \"shape\": \"linear\", \"width\": 0.5}, \"mode\": \"lines\", \"name\": \"Spread\", \"showlegend\": false, \"type\": \"scatter\", \"x\": [0, 1, 2, 3, 4, 5, 6, 7, 8, 9, 10, 11, 12, 13, 14, 15, 16, 17, 18, 19, 20, 21, 22, 23, 24, 25, 26, 27, 28, 29, 30, 31, 32, 33, 34, 35, 36, 37, 38, 39, 40, 41, 42, 43, 44, 45, 46, 47, 48, 49, 50, 51, 52, 53, 54, 55, 56, 57, 58, 59, 60, 61, 62, 63, 64, 65, 66, 67, 68, 69, 70, 71, 72, 73, 74, 75, 76, 77, 78, 79, 80, 81, 82, 83, 84, 85, 86, 87, 88, 89, 90, 91, 92, 93, 94, 95, 96, 97, 98, 99], \"xaxis\": \"x2\", \"y\": [\"\", -0.3300415318649941, \"\", -2.334522341225231, -0.41124093998857736, -0.6155502057674499, -2.2654897525314674, \"\", \"\", -0.5903750785174038, -2.409589233440919, -0.03757026143739772, -0.8687257433875906, -0.49518515182171874, \"\", -1.274360699995408, -2.0367823900534003, -0.4215434735504031, -0.875158948070223, -1.6267277992217348, -1.7332128930337087, \"\", \"\", \"\", \"\", -1.6996539626016365, -2.6052245730383947, \"\", \"\", -0.5885198342520084, -0.10412816465823135, -0.7358869315060317, -0.2956705852645789, \"\", -0.2633556732772262, \"\", \"\", -1.494245499475952, -1.3906091653611625, -0.3251944863828847, \"\", \"\", -0.670847880240532, -2.6638897694450754, -2.1229936223609007, -0.05407368644901936, \"\", -0.7485279847040927, \"\", \"\", \"\", \"\", \"\", -0.7071980750516518, \"\", -2.003001608589262, -1.7452358741824954, \"\", -0.37568158773099036, -2.6071772192007265, \"\", -0.0053059287570397795, \"\", \"\", -0.351492669436361, \"\", -1.4103659748141908, -2.371391793089093, \"\", \"\", \"\", -0.04531512662194881, \"\", \"\", \"\", \"\", \"\", -1.6660457947291885, -1.0572001779414149, -0.07361506562908343, \"\", \"\", -2.493892007612538, -0.5019824105293369, -1.210160882356074, -1.368878120763374, -0.8220923948254376, -0.7246287651859626, \"\", -0.745130827744084, -0.9805483023157514, \"\", \"\", \"\", -0.8555578896388863, \"\", -0.8883798262853178, \"\", \"\", -1.2622993083170568], \"yaxis\": \"y2\"}],\n",
       "                        {\"hovermode\": \"x\", \"legend\": {\"bgcolor\": \"#F5F6F9\", \"font\": {\"color\": \"#4D5663\"}}, \"paper_bgcolor\": \"#F5F6F9\", \"plot_bgcolor\": \"#F5F6F9\", \"template\": {\"data\": {\"bar\": [{\"error_x\": {\"color\": \"#2a3f5f\"}, \"error_y\": {\"color\": \"#2a3f5f\"}, \"marker\": {\"line\": {\"color\": \"#E5ECF6\", \"width\": 0.5}}, \"type\": \"bar\"}], \"barpolar\": [{\"marker\": {\"line\": {\"color\": \"#E5ECF6\", \"width\": 0.5}}, \"type\": \"barpolar\"}], \"carpet\": [{\"aaxis\": {\"endlinecolor\": \"#2a3f5f\", \"gridcolor\": \"white\", \"linecolor\": \"white\", \"minorgridcolor\": \"white\", \"startlinecolor\": \"#2a3f5f\"}, \"baxis\": {\"endlinecolor\": \"#2a3f5f\", \"gridcolor\": \"white\", \"linecolor\": \"white\", \"minorgridcolor\": \"white\", \"startlinecolor\": \"#2a3f5f\"}, \"type\": \"carpet\"}], \"choropleth\": [{\"colorbar\": {\"outlinewidth\": 0, \"ticks\": \"\"}, \"type\": \"choropleth\"}], \"contour\": [{\"colorbar\": {\"outlinewidth\": 0, \"ticks\": \"\"}, \"colorscale\": [[0.0, \"#0d0887\"], [0.1111111111111111, \"#46039f\"], [0.2222222222222222, \"#7201a8\"], [0.3333333333333333, \"#9c179e\"], [0.4444444444444444, \"#bd3786\"], [0.5555555555555556, \"#d8576b\"], [0.6666666666666666, \"#ed7953\"], [0.7777777777777778, \"#fb9f3a\"], [0.8888888888888888, \"#fdca26\"], [1.0, \"#f0f921\"]], \"type\": \"contour\"}], \"contourcarpet\": [{\"colorbar\": {\"outlinewidth\": 0, \"ticks\": \"\"}, \"type\": \"contourcarpet\"}], \"heatmap\": [{\"colorbar\": {\"outlinewidth\": 0, \"ticks\": \"\"}, \"colorscale\": [[0.0, \"#0d0887\"], [0.1111111111111111, \"#46039f\"], [0.2222222222222222, \"#7201a8\"], [0.3333333333333333, \"#9c179e\"], [0.4444444444444444, \"#bd3786\"], [0.5555555555555556, \"#d8576b\"], [0.6666666666666666, \"#ed7953\"], [0.7777777777777778, \"#fb9f3a\"], [0.8888888888888888, \"#fdca26\"], [1.0, \"#f0f921\"]], \"type\": \"heatmap\"}], \"heatmapgl\": [{\"colorbar\": {\"outlinewidth\": 0, \"ticks\": \"\"}, \"colorscale\": [[0.0, \"#0d0887\"], [0.1111111111111111, \"#46039f\"], [0.2222222222222222, \"#7201a8\"], [0.3333333333333333, \"#9c179e\"], [0.4444444444444444, \"#bd3786\"], [0.5555555555555556, \"#d8576b\"], [0.6666666666666666, \"#ed7953\"], [0.7777777777777778, \"#fb9f3a\"], [0.8888888888888888, \"#fdca26\"], [1.0, \"#f0f921\"]], \"type\": \"heatmapgl\"}], \"histogram\": [{\"marker\": {\"colorbar\": {\"outlinewidth\": 0, \"ticks\": \"\"}}, \"type\": \"histogram\"}], \"histogram2d\": [{\"colorbar\": {\"outlinewidth\": 0, \"ticks\": \"\"}, \"colorscale\": [[0.0, \"#0d0887\"], [0.1111111111111111, \"#46039f\"], [0.2222222222222222, \"#7201a8\"], [0.3333333333333333, \"#9c179e\"], [0.4444444444444444, \"#bd3786\"], [0.5555555555555556, \"#d8576b\"], [0.6666666666666666, \"#ed7953\"], [0.7777777777777778, \"#fb9f3a\"], [0.8888888888888888, \"#fdca26\"], [1.0, \"#f0f921\"]], \"type\": \"histogram2d\"}], \"histogram2dcontour\": [{\"colorbar\": {\"outlinewidth\": 0, \"ticks\": \"\"}, \"colorscale\": [[0.0, \"#0d0887\"], [0.1111111111111111, \"#46039f\"], [0.2222222222222222, \"#7201a8\"], [0.3333333333333333, \"#9c179e\"], [0.4444444444444444, \"#bd3786\"], [0.5555555555555556, \"#d8576b\"], [0.6666666666666666, \"#ed7953\"], [0.7777777777777778, \"#fb9f3a\"], [0.8888888888888888, \"#fdca26\"], [1.0, \"#f0f921\"]], \"type\": \"histogram2dcontour\"}], \"mesh3d\": [{\"colorbar\": {\"outlinewidth\": 0, \"ticks\": \"\"}, \"type\": \"mesh3d\"}], \"parcoords\": [{\"line\": {\"colorbar\": {\"outlinewidth\": 0, \"ticks\": \"\"}}, \"type\": \"parcoords\"}], \"pie\": [{\"automargin\": true, \"type\": \"pie\"}], \"scatter\": [{\"marker\": {\"colorbar\": {\"outlinewidth\": 0, \"ticks\": \"\"}}, \"type\": \"scatter\"}], \"scatter3d\": [{\"line\": {\"colorbar\": {\"outlinewidth\": 0, \"ticks\": \"\"}}, \"marker\": {\"colorbar\": {\"outlinewidth\": 0, \"ticks\": \"\"}}, \"type\": \"scatter3d\"}], \"scattercarpet\": [{\"marker\": {\"colorbar\": {\"outlinewidth\": 0, \"ticks\": \"\"}}, \"type\": \"scattercarpet\"}], \"scattergeo\": [{\"marker\": {\"colorbar\": {\"outlinewidth\": 0, \"ticks\": \"\"}}, \"type\": \"scattergeo\"}], \"scattergl\": [{\"marker\": {\"colorbar\": {\"outlinewidth\": 0, \"ticks\": \"\"}}, \"type\": \"scattergl\"}], \"scattermapbox\": [{\"marker\": {\"colorbar\": {\"outlinewidth\": 0, \"ticks\": \"\"}}, \"type\": \"scattermapbox\"}], \"scatterpolar\": [{\"marker\": {\"colorbar\": {\"outlinewidth\": 0, \"ticks\": \"\"}}, \"type\": \"scatterpolar\"}], \"scatterpolargl\": [{\"marker\": {\"colorbar\": {\"outlinewidth\": 0, \"ticks\": \"\"}}, \"type\": \"scatterpolargl\"}], \"scatterternary\": [{\"marker\": {\"colorbar\": {\"outlinewidth\": 0, \"ticks\": \"\"}}, \"type\": \"scatterternary\"}], \"surface\": [{\"colorbar\": {\"outlinewidth\": 0, \"ticks\": \"\"}, \"colorscale\": [[0.0, \"#0d0887\"], [0.1111111111111111, \"#46039f\"], [0.2222222222222222, \"#7201a8\"], [0.3333333333333333, \"#9c179e\"], [0.4444444444444444, \"#bd3786\"], [0.5555555555555556, \"#d8576b\"], [0.6666666666666666, \"#ed7953\"], [0.7777777777777778, \"#fb9f3a\"], [0.8888888888888888, \"#fdca26\"], [1.0, \"#f0f921\"]], \"type\": \"surface\"}], \"table\": [{\"cells\": {\"fill\": {\"color\": \"#EBF0F8\"}, \"line\": {\"color\": \"white\"}}, \"header\": {\"fill\": {\"color\": \"#C8D4E3\"}, \"line\": {\"color\": \"white\"}}, \"type\": \"table\"}]}, \"layout\": {\"annotationdefaults\": {\"arrowcolor\": \"#2a3f5f\", \"arrowhead\": 0, \"arrowwidth\": 1}, \"coloraxis\": {\"colorbar\": {\"outlinewidth\": 0, \"ticks\": \"\"}}, \"colorscale\": {\"diverging\": [[0, \"#8e0152\"], [0.1, \"#c51b7d\"], [0.2, \"#de77ae\"], [0.3, \"#f1b6da\"], [0.4, \"#fde0ef\"], [0.5, \"#f7f7f7\"], [0.6, \"#e6f5d0\"], [0.7, \"#b8e186\"], [0.8, \"#7fbc41\"], [0.9, \"#4d9221\"], [1, \"#276419\"]], \"sequential\": [[0.0, \"#0d0887\"], [0.1111111111111111, \"#46039f\"], [0.2222222222222222, \"#7201a8\"], [0.3333333333333333, \"#9c179e\"], [0.4444444444444444, \"#bd3786\"], [0.5555555555555556, \"#d8576b\"], [0.6666666666666666, \"#ed7953\"], [0.7777777777777778, \"#fb9f3a\"], [0.8888888888888888, \"#fdca26\"], [1.0, \"#f0f921\"]], \"sequentialminus\": [[0.0, \"#0d0887\"], [0.1111111111111111, \"#46039f\"], [0.2222222222222222, \"#7201a8\"], [0.3333333333333333, \"#9c179e\"], [0.4444444444444444, \"#bd3786\"], [0.5555555555555556, \"#d8576b\"], [0.6666666666666666, \"#ed7953\"], [0.7777777777777778, \"#fb9f3a\"], [0.8888888888888888, \"#fdca26\"], [1.0, \"#f0f921\"]]}, \"colorway\": [\"#636efa\", \"#EF553B\", \"#00cc96\", \"#ab63fa\", \"#FFA15A\", \"#19d3f3\", \"#FF6692\", \"#B6E880\", \"#FF97FF\", \"#FECB52\"], \"font\": {\"color\": \"#2a3f5f\"}, \"geo\": {\"bgcolor\": \"white\", \"lakecolor\": \"white\", \"landcolor\": \"#E5ECF6\", \"showlakes\": true, \"showland\": true, \"subunitcolor\": \"white\"}, \"hoverlabel\": {\"align\": \"left\"}, \"hovermode\": \"closest\", \"mapbox\": {\"style\": \"light\"}, \"paper_bgcolor\": \"white\", \"plot_bgcolor\": \"#E5ECF6\", \"polar\": {\"angularaxis\": {\"gridcolor\": \"white\", \"linecolor\": \"white\", \"ticks\": \"\"}, \"bgcolor\": \"#E5ECF6\", \"radialaxis\": {\"gridcolor\": \"white\", \"linecolor\": \"white\", \"ticks\": \"\"}}, \"scene\": {\"xaxis\": {\"backgroundcolor\": \"#E5ECF6\", \"gridcolor\": \"white\", \"gridwidth\": 2, \"linecolor\": \"white\", \"showbackground\": true, \"ticks\": \"\", \"zerolinecolor\": \"white\"}, \"yaxis\": {\"backgroundcolor\": \"#E5ECF6\", \"gridcolor\": \"white\", \"gridwidth\": 2, \"linecolor\": \"white\", \"showbackground\": true, \"ticks\": \"\", \"zerolinecolor\": \"white\"}, \"zaxis\": {\"backgroundcolor\": \"#E5ECF6\", \"gridcolor\": \"white\", \"gridwidth\": 2, \"linecolor\": \"white\", \"showbackground\": true, \"ticks\": \"\", \"zerolinecolor\": \"white\"}}, \"shapedefaults\": {\"line\": {\"color\": \"#2a3f5f\"}}, \"ternary\": {\"aaxis\": {\"gridcolor\": \"white\", \"linecolor\": \"white\", \"ticks\": \"\"}, \"baxis\": {\"gridcolor\": \"white\", \"linecolor\": \"white\", \"ticks\": \"\"}, \"bgcolor\": \"#E5ECF6\", \"caxis\": {\"gridcolor\": \"white\", \"linecolor\": \"white\", \"ticks\": \"\"}}, \"title\": {\"x\": 0.05}, \"xaxis\": {\"automargin\": true, \"gridcolor\": \"white\", \"linecolor\": \"white\", \"ticks\": \"\", \"title\": {\"standoff\": 15}, \"zerolinecolor\": \"white\", \"zerolinewidth\": 2}, \"yaxis\": {\"automargin\": true, \"gridcolor\": \"white\", \"linecolor\": \"white\", \"ticks\": \"\", \"title\": {\"standoff\": 15}, \"zerolinecolor\": \"white\", \"zerolinewidth\": 2}}}, \"title\": {\"font\": {\"color\": \"#4D5663\"}}, \"xaxis\": {\"gridcolor\": \"#E1E5ED\", \"showgrid\": true, \"tickfont\": {\"color\": \"#4D5663\"}, \"title\": {\"font\": {\"color\": \"#4D5663\"}, \"text\": \"\"}, \"zerolinecolor\": \"#E1E5ED\"}, \"xaxis2\": {\"anchor\": \"y2\", \"gridcolor\": \"#E1E5ED\", \"showgrid\": true, \"showticklabels\": false, \"tickfont\": {\"color\": \"#4D5663\"}, \"title\": {\"font\": {\"color\": \"#4D5663\"}, \"text\": \"\"}, \"zerolinecolor\": \"#E1E5ED\"}, \"yaxis\": {\"domain\": [0.3, 1], \"gridcolor\": \"#E1E5ED\", \"showgrid\": true, \"tickfont\": {\"color\": \"#4D5663\"}, \"title\": {\"font\": {\"color\": \"#4D5663\"}, \"text\": \"\"}, \"zerolinecolor\": \"#E1E5ED\"}, \"yaxis2\": {\"domain\": [0, 0.25], \"gridcolor\": \"#E1E5ED\", \"showgrid\": true, \"tickfont\": {\"color\": \"#4D5663\"}, \"title\": {\"font\": {\"color\": \"#4D5663\"}, \"text\": \"Spread\"}, \"zerolinecolor\": \"#E1E5ED\"}},\n",
       "                        {\"showLink\": true, \"linkText\": \"Export to plot.ly\", \"plotlyServerURL\": \"https://plot.ly\", \"responsive\": true}\n",
       "                    ).then(function(){\n",
       "                            \n",
       "var gd = document.getElementById('e2bcdcbf-2b5e-4956-acc2-f5f48b53589f');\n",
       "var x = new MutationObserver(function (mutations, observer) {{\n",
       "        var display = window.getComputedStyle(gd).display;\n",
       "        if (!display || display === 'none') {{\n",
       "            console.log([gd, 'removed!']);\n",
       "            Plotly.purge(gd);\n",
       "            observer.disconnect();\n",
       "        }}\n",
       "}});\n",
       "\n",
       "// Listen for the removal of the full notebook cells\n",
       "var notebookContainer = gd.closest('#notebook-container');\n",
       "if (notebookContainer) {{\n",
       "    x.observe(notebookContainer, {childList: true});\n",
       "}}\n",
       "\n",
       "// Listen for the clearing of the current output cell\n",
       "var outputEl = gd.closest('.output');\n",
       "if (outputEl) {{\n",
       "    x.observe(outputEl, {childList: true});\n",
       "}}\n",
       "\n",
       "                        })\n",
       "                };\n",
       "                });\n",
       "            </script>\n",
       "        </div>"
      ]
     },
     "metadata": {},
     "output_type": "display_data"
    }
   ],
   "source": [
    "df[['A','B']].iplot(kind='spread')"
   ]
  },
  {
   "cell_type": "markdown",
   "metadata": {},
   "source": [
    "## histogram"
   ]
  },
  {
   "cell_type": "code",
   "execution_count": 19,
   "metadata": {},
   "outputs": [
    {
     "data": {
      "application/vnd.plotly.v1+json": {
       "config": {
        "linkText": "Export to plot.ly",
        "plotlyServerURL": "https://plot.ly",
        "showLink": true
       },
       "data": [
        {
         "histfunc": "count",
         "histnorm": "",
         "marker": {
          "color": "rgba(255, 153, 51, 1.0)",
          "line": {
           "color": "#4D5663",
           "width": 1.3
          }
         },
         "name": "A",
         "nbinsx": 25,
         "opacity": 0.8,
         "orientation": "v",
         "type": "histogram",
         "x": [
          0.43633476275957783,
          -0.9369666672884216,
          0.28852110280962995,
          -1.1011111414948977,
          0.32854507231159646,
          0.9816992515177357,
          -2.284421668511395,
          -0.26995513779247227,
          0.6501295774491413,
          -1.069402621774459,
          -1.2020976216798172,
          0.6513942645777206,
          0.7521897597563676,
          0.5426067229233946,
          0.3370644577358486,
          -0.5393103302681119,
          -0.6635779258219466,
          -0.24300598976235596,
          0.04496685936482622,
          -0.965346068356053,
          -0.24806693468330765,
          -0.16866354882736542,
          0.5444475088125463,
          0.5496623505488482,
          0.5450871232084065,
          -0.441345583389729,
          -0.9629954737171853,
          -0.676216274703561,
          0.006322641558518212,
          0.18664330349151873,
          -0.02609261417418306,
          -0.43677653611744,
          0.1424015252435575,
          1.9310702447132302,
          -0.9155454555589564,
          1.0582884814491147,
          0.7987834738109799,
          -1.53766916018999,
          -1.825814026600039,
          0.21272618276774719,
          1.5967775264793374,
          1.2929976854648164,
          0.06610609076863956,
          -0.5764360733096935,
          -1.56089420040441,
          -0.2554528079087033,
          1.8350740347678272,
          0.3598812399041258,
          -0.2814109679987709,
          0.3241194243912139,
          1.0661956656936156,
          -0.037067756201864574,
          -0.683125037067316,
          -1.0280984103041046,
          -0.07112279321412139,
          -0.5539586978476361,
          -0.5602855710925664,
          0.733138539889477,
          -1.0541102386248455,
          -1.3236651767229892,
          1.0168652515920766,
          -0.3566999154025523,
          0.6508321441587809,
          -0.0012140476126413513,
          -0.7882292100040235,
          2.883257249796413,
          0.3353217669277645,
          -1.0679692420258937,
          0.18293142627367062,
          0.11494991601411153,
          -0.3644172733653438,
          0.4987628257668977,
          0.8508934232296702,
          -0.08679926983528236,
          0.8047676559452972,
          0.2597526083971923,
          0.473929637781343,
          0.08581232319537543,
          -0.22410861057241027,
          -0.5257153363463388,
          1.6952648028066364,
          -0.696156975583712,
          -0.836353387975282,
          0.2965518348994222,
          -1.0012320086348452,
          -1.1544077261671366,
          -1.3350958845426832,
          0.7119427630233932,
          0.6411177748569961,
          -0.3001776750662769,
          -0.9048484414626201,
          0.7390101756217512,
          1.4819140122480443,
          0.5981606146092255,
          -0.26082548405743144,
          2.046254697130263,
          -1.9411641500930508,
          1.8452808905980655,
          1.4038573414777682,
          -0.8795591013597613
         ]
        }
       ],
       "layout": {
        "barmode": "overlay",
        "legend": {
         "bgcolor": "#F5F6F9",
         "font": {
          "color": "#4D5663"
         }
        },
        "paper_bgcolor": "#F5F6F9",
        "plot_bgcolor": "#F5F6F9",
        "template": {
         "data": {
          "bar": [
           {
            "error_x": {
             "color": "#2a3f5f"
            },
            "error_y": {
             "color": "#2a3f5f"
            },
            "marker": {
             "line": {
              "color": "#E5ECF6",
              "width": 0.5
             }
            },
            "type": "bar"
           }
          ],
          "barpolar": [
           {
            "marker": {
             "line": {
              "color": "#E5ECF6",
              "width": 0.5
             }
            },
            "type": "barpolar"
           }
          ],
          "carpet": [
           {
            "aaxis": {
             "endlinecolor": "#2a3f5f",
             "gridcolor": "white",
             "linecolor": "white",
             "minorgridcolor": "white",
             "startlinecolor": "#2a3f5f"
            },
            "baxis": {
             "endlinecolor": "#2a3f5f",
             "gridcolor": "white",
             "linecolor": "white",
             "minorgridcolor": "white",
             "startlinecolor": "#2a3f5f"
            },
            "type": "carpet"
           }
          ],
          "choropleth": [
           {
            "colorbar": {
             "outlinewidth": 0,
             "ticks": ""
            },
            "type": "choropleth"
           }
          ],
          "contour": [
           {
            "colorbar": {
             "outlinewidth": 0,
             "ticks": ""
            },
            "colorscale": [
             [
              0,
              "#0d0887"
             ],
             [
              0.1111111111111111,
              "#46039f"
             ],
             [
              0.2222222222222222,
              "#7201a8"
             ],
             [
              0.3333333333333333,
              "#9c179e"
             ],
             [
              0.4444444444444444,
              "#bd3786"
             ],
             [
              0.5555555555555556,
              "#d8576b"
             ],
             [
              0.6666666666666666,
              "#ed7953"
             ],
             [
              0.7777777777777778,
              "#fb9f3a"
             ],
             [
              0.8888888888888888,
              "#fdca26"
             ],
             [
              1,
              "#f0f921"
             ]
            ],
            "type": "contour"
           }
          ],
          "contourcarpet": [
           {
            "colorbar": {
             "outlinewidth": 0,
             "ticks": ""
            },
            "type": "contourcarpet"
           }
          ],
          "heatmap": [
           {
            "colorbar": {
             "outlinewidth": 0,
             "ticks": ""
            },
            "colorscale": [
             [
              0,
              "#0d0887"
             ],
             [
              0.1111111111111111,
              "#46039f"
             ],
             [
              0.2222222222222222,
              "#7201a8"
             ],
             [
              0.3333333333333333,
              "#9c179e"
             ],
             [
              0.4444444444444444,
              "#bd3786"
             ],
             [
              0.5555555555555556,
              "#d8576b"
             ],
             [
              0.6666666666666666,
              "#ed7953"
             ],
             [
              0.7777777777777778,
              "#fb9f3a"
             ],
             [
              0.8888888888888888,
              "#fdca26"
             ],
             [
              1,
              "#f0f921"
             ]
            ],
            "type": "heatmap"
           }
          ],
          "heatmapgl": [
           {
            "colorbar": {
             "outlinewidth": 0,
             "ticks": ""
            },
            "colorscale": [
             [
              0,
              "#0d0887"
             ],
             [
              0.1111111111111111,
              "#46039f"
             ],
             [
              0.2222222222222222,
              "#7201a8"
             ],
             [
              0.3333333333333333,
              "#9c179e"
             ],
             [
              0.4444444444444444,
              "#bd3786"
             ],
             [
              0.5555555555555556,
              "#d8576b"
             ],
             [
              0.6666666666666666,
              "#ed7953"
             ],
             [
              0.7777777777777778,
              "#fb9f3a"
             ],
             [
              0.8888888888888888,
              "#fdca26"
             ],
             [
              1,
              "#f0f921"
             ]
            ],
            "type": "heatmapgl"
           }
          ],
          "histogram": [
           {
            "marker": {
             "colorbar": {
              "outlinewidth": 0,
              "ticks": ""
             }
            },
            "type": "histogram"
           }
          ],
          "histogram2d": [
           {
            "colorbar": {
             "outlinewidth": 0,
             "ticks": ""
            },
            "colorscale": [
             [
              0,
              "#0d0887"
             ],
             [
              0.1111111111111111,
              "#46039f"
             ],
             [
              0.2222222222222222,
              "#7201a8"
             ],
             [
              0.3333333333333333,
              "#9c179e"
             ],
             [
              0.4444444444444444,
              "#bd3786"
             ],
             [
              0.5555555555555556,
              "#d8576b"
             ],
             [
              0.6666666666666666,
              "#ed7953"
             ],
             [
              0.7777777777777778,
              "#fb9f3a"
             ],
             [
              0.8888888888888888,
              "#fdca26"
             ],
             [
              1,
              "#f0f921"
             ]
            ],
            "type": "histogram2d"
           }
          ],
          "histogram2dcontour": [
           {
            "colorbar": {
             "outlinewidth": 0,
             "ticks": ""
            },
            "colorscale": [
             [
              0,
              "#0d0887"
             ],
             [
              0.1111111111111111,
              "#46039f"
             ],
             [
              0.2222222222222222,
              "#7201a8"
             ],
             [
              0.3333333333333333,
              "#9c179e"
             ],
             [
              0.4444444444444444,
              "#bd3786"
             ],
             [
              0.5555555555555556,
              "#d8576b"
             ],
             [
              0.6666666666666666,
              "#ed7953"
             ],
             [
              0.7777777777777778,
              "#fb9f3a"
             ],
             [
              0.8888888888888888,
              "#fdca26"
             ],
             [
              1,
              "#f0f921"
             ]
            ],
            "type": "histogram2dcontour"
           }
          ],
          "mesh3d": [
           {
            "colorbar": {
             "outlinewidth": 0,
             "ticks": ""
            },
            "type": "mesh3d"
           }
          ],
          "parcoords": [
           {
            "line": {
             "colorbar": {
              "outlinewidth": 0,
              "ticks": ""
             }
            },
            "type": "parcoords"
           }
          ],
          "pie": [
           {
            "automargin": true,
            "type": "pie"
           }
          ],
          "scatter": [
           {
            "marker": {
             "colorbar": {
              "outlinewidth": 0,
              "ticks": ""
             }
            },
            "type": "scatter"
           }
          ],
          "scatter3d": [
           {
            "line": {
             "colorbar": {
              "outlinewidth": 0,
              "ticks": ""
             }
            },
            "marker": {
             "colorbar": {
              "outlinewidth": 0,
              "ticks": ""
             }
            },
            "type": "scatter3d"
           }
          ],
          "scattercarpet": [
           {
            "marker": {
             "colorbar": {
              "outlinewidth": 0,
              "ticks": ""
             }
            },
            "type": "scattercarpet"
           }
          ],
          "scattergeo": [
           {
            "marker": {
             "colorbar": {
              "outlinewidth": 0,
              "ticks": ""
             }
            },
            "type": "scattergeo"
           }
          ],
          "scattergl": [
           {
            "marker": {
             "colorbar": {
              "outlinewidth": 0,
              "ticks": ""
             }
            },
            "type": "scattergl"
           }
          ],
          "scattermapbox": [
           {
            "marker": {
             "colorbar": {
              "outlinewidth": 0,
              "ticks": ""
             }
            },
            "type": "scattermapbox"
           }
          ],
          "scatterpolar": [
           {
            "marker": {
             "colorbar": {
              "outlinewidth": 0,
              "ticks": ""
             }
            },
            "type": "scatterpolar"
           }
          ],
          "scatterpolargl": [
           {
            "marker": {
             "colorbar": {
              "outlinewidth": 0,
              "ticks": ""
             }
            },
            "type": "scatterpolargl"
           }
          ],
          "scatterternary": [
           {
            "marker": {
             "colorbar": {
              "outlinewidth": 0,
              "ticks": ""
             }
            },
            "type": "scatterternary"
           }
          ],
          "surface": [
           {
            "colorbar": {
             "outlinewidth": 0,
             "ticks": ""
            },
            "colorscale": [
             [
              0,
              "#0d0887"
             ],
             [
              0.1111111111111111,
              "#46039f"
             ],
             [
              0.2222222222222222,
              "#7201a8"
             ],
             [
              0.3333333333333333,
              "#9c179e"
             ],
             [
              0.4444444444444444,
              "#bd3786"
             ],
             [
              0.5555555555555556,
              "#d8576b"
             ],
             [
              0.6666666666666666,
              "#ed7953"
             ],
             [
              0.7777777777777778,
              "#fb9f3a"
             ],
             [
              0.8888888888888888,
              "#fdca26"
             ],
             [
              1,
              "#f0f921"
             ]
            ],
            "type": "surface"
           }
          ],
          "table": [
           {
            "cells": {
             "fill": {
              "color": "#EBF0F8"
             },
             "line": {
              "color": "white"
             }
            },
            "header": {
             "fill": {
              "color": "#C8D4E3"
             },
             "line": {
              "color": "white"
             }
            },
            "type": "table"
           }
          ]
         },
         "layout": {
          "annotationdefaults": {
           "arrowcolor": "#2a3f5f",
           "arrowhead": 0,
           "arrowwidth": 1
          },
          "coloraxis": {
           "colorbar": {
            "outlinewidth": 0,
            "ticks": ""
           }
          },
          "colorscale": {
           "diverging": [
            [
             0,
             "#8e0152"
            ],
            [
             0.1,
             "#c51b7d"
            ],
            [
             0.2,
             "#de77ae"
            ],
            [
             0.3,
             "#f1b6da"
            ],
            [
             0.4,
             "#fde0ef"
            ],
            [
             0.5,
             "#f7f7f7"
            ],
            [
             0.6,
             "#e6f5d0"
            ],
            [
             0.7,
             "#b8e186"
            ],
            [
             0.8,
             "#7fbc41"
            ],
            [
             0.9,
             "#4d9221"
            ],
            [
             1,
             "#276419"
            ]
           ],
           "sequential": [
            [
             0,
             "#0d0887"
            ],
            [
             0.1111111111111111,
             "#46039f"
            ],
            [
             0.2222222222222222,
             "#7201a8"
            ],
            [
             0.3333333333333333,
             "#9c179e"
            ],
            [
             0.4444444444444444,
             "#bd3786"
            ],
            [
             0.5555555555555556,
             "#d8576b"
            ],
            [
             0.6666666666666666,
             "#ed7953"
            ],
            [
             0.7777777777777778,
             "#fb9f3a"
            ],
            [
             0.8888888888888888,
             "#fdca26"
            ],
            [
             1,
             "#f0f921"
            ]
           ],
           "sequentialminus": [
            [
             0,
             "#0d0887"
            ],
            [
             0.1111111111111111,
             "#46039f"
            ],
            [
             0.2222222222222222,
             "#7201a8"
            ],
            [
             0.3333333333333333,
             "#9c179e"
            ],
            [
             0.4444444444444444,
             "#bd3786"
            ],
            [
             0.5555555555555556,
             "#d8576b"
            ],
            [
             0.6666666666666666,
             "#ed7953"
            ],
            [
             0.7777777777777778,
             "#fb9f3a"
            ],
            [
             0.8888888888888888,
             "#fdca26"
            ],
            [
             1,
             "#f0f921"
            ]
           ]
          },
          "colorway": [
           "#636efa",
           "#EF553B",
           "#00cc96",
           "#ab63fa",
           "#FFA15A",
           "#19d3f3",
           "#FF6692",
           "#B6E880",
           "#FF97FF",
           "#FECB52"
          ],
          "font": {
           "color": "#2a3f5f"
          },
          "geo": {
           "bgcolor": "white",
           "lakecolor": "white",
           "landcolor": "#E5ECF6",
           "showlakes": true,
           "showland": true,
           "subunitcolor": "white"
          },
          "hoverlabel": {
           "align": "left"
          },
          "hovermode": "closest",
          "mapbox": {
           "style": "light"
          },
          "paper_bgcolor": "white",
          "plot_bgcolor": "#E5ECF6",
          "polar": {
           "angularaxis": {
            "gridcolor": "white",
            "linecolor": "white",
            "ticks": ""
           },
           "bgcolor": "#E5ECF6",
           "radialaxis": {
            "gridcolor": "white",
            "linecolor": "white",
            "ticks": ""
           }
          },
          "scene": {
           "xaxis": {
            "backgroundcolor": "#E5ECF6",
            "gridcolor": "white",
            "gridwidth": 2,
            "linecolor": "white",
            "showbackground": true,
            "ticks": "",
            "zerolinecolor": "white"
           },
           "yaxis": {
            "backgroundcolor": "#E5ECF6",
            "gridcolor": "white",
            "gridwidth": 2,
            "linecolor": "white",
            "showbackground": true,
            "ticks": "",
            "zerolinecolor": "white"
           },
           "zaxis": {
            "backgroundcolor": "#E5ECF6",
            "gridcolor": "white",
            "gridwidth": 2,
            "linecolor": "white",
            "showbackground": true,
            "ticks": "",
            "zerolinecolor": "white"
           }
          },
          "shapedefaults": {
           "line": {
            "color": "#2a3f5f"
           }
          },
          "ternary": {
           "aaxis": {
            "gridcolor": "white",
            "linecolor": "white",
            "ticks": ""
           },
           "baxis": {
            "gridcolor": "white",
            "linecolor": "white",
            "ticks": ""
           },
           "bgcolor": "#E5ECF6",
           "caxis": {
            "gridcolor": "white",
            "linecolor": "white",
            "ticks": ""
           }
          },
          "title": {
           "x": 0.05
          },
          "xaxis": {
           "automargin": true,
           "gridcolor": "white",
           "linecolor": "white",
           "ticks": "",
           "title": {
            "standoff": 15
           },
           "zerolinecolor": "white",
           "zerolinewidth": 2
          },
          "yaxis": {
           "automargin": true,
           "gridcolor": "white",
           "linecolor": "white",
           "ticks": "",
           "title": {
            "standoff": 15
           },
           "zerolinecolor": "white",
           "zerolinewidth": 2
          }
         }
        },
        "title": {
         "font": {
          "color": "#4D5663"
         }
        },
        "xaxis": {
         "gridcolor": "#E1E5ED",
         "showgrid": true,
         "tickfont": {
          "color": "#4D5663"
         },
         "title": {
          "font": {
           "color": "#4D5663"
          },
          "text": ""
         },
         "zerolinecolor": "#E1E5ED"
        },
        "yaxis": {
         "gridcolor": "#E1E5ED",
         "showgrid": true,
         "tickfont": {
          "color": "#4D5663"
         },
         "title": {
          "font": {
           "color": "#4D5663"
          },
          "text": ""
         },
         "zerolinecolor": "#E1E5ED"
        }
       }
      },
      "text/html": [
       "<div>\n",
       "        \n",
       "        \n",
       "            <div id=\"f4d43fe8-cf6b-4e0b-b832-3c218608ca27\" class=\"plotly-graph-div\" style=\"height:525px; width:100%;\"></div>\n",
       "            <script type=\"text/javascript\">\n",
       "                require([\"plotly\"], function(Plotly) {\n",
       "                    window.PLOTLYENV=window.PLOTLYENV || {};\n",
       "                    window.PLOTLYENV.BASE_URL='https://plot.ly';\n",
       "                    \n",
       "                if (document.getElementById(\"f4d43fe8-cf6b-4e0b-b832-3c218608ca27\")) {\n",
       "                    Plotly.newPlot(\n",
       "                        'f4d43fe8-cf6b-4e0b-b832-3c218608ca27',\n",
       "                        [{\"histfunc\": \"count\", \"histnorm\": \"\", \"marker\": {\"color\": \"rgba(255, 153, 51, 1.0)\", \"line\": {\"color\": \"#4D5663\", \"width\": 1.3}}, \"name\": \"A\", \"nbinsx\": 25, \"opacity\": 0.8, \"orientation\": \"v\", \"type\": \"histogram\", \"x\": [0.43633476275957783, -0.9369666672884216, 0.28852110280962995, -1.1011111414948977, 0.32854507231159646, 0.9816992515177357, -2.284421668511395, -0.26995513779247227, 0.6501295774491413, -1.069402621774459, -1.2020976216798172, 0.6513942645777206, 0.7521897597563676, 0.5426067229233946, 0.3370644577358486, -0.5393103302681119, -0.6635779258219466, -0.24300598976235596, 0.04496685936482622, -0.965346068356053, -0.24806693468330765, -0.16866354882736542, 0.5444475088125463, 0.5496623505488482, 0.5450871232084065, -0.441345583389729, -0.9629954737171853, -0.676216274703561, 0.006322641558518212, 0.18664330349151873, -0.02609261417418306, -0.43677653611744, 0.1424015252435575, 1.9310702447132302, -0.9155454555589564, 1.0582884814491147, 0.7987834738109799, -1.53766916018999, -1.825814026600039, 0.21272618276774719, 1.5967775264793374, 1.2929976854648164, 0.06610609076863956, -0.5764360733096935, -1.56089420040441, -0.2554528079087033, 1.8350740347678272, 0.3598812399041258, -0.2814109679987709, 0.3241194243912139, 1.0661956656936156, -0.037067756201864574, -0.683125037067316, -1.0280984103041046, -0.07112279321412139, -0.5539586978476361, -0.5602855710925664, 0.733138539889477, -1.0541102386248455, -1.3236651767229892, 1.0168652515920766, -0.3566999154025523, 0.6508321441587809, -0.0012140476126413513, -0.7882292100040235, 2.883257249796413, 0.3353217669277645, -1.0679692420258937, 0.18293142627367062, 0.11494991601411153, -0.3644172733653438, 0.4987628257668977, 0.8508934232296702, -0.08679926983528236, 0.8047676559452972, 0.2597526083971923, 0.473929637781343, 0.08581232319537543, -0.22410861057241027, -0.5257153363463388, 1.6952648028066364, -0.696156975583712, -0.836353387975282, 0.2965518348994222, -1.0012320086348452, -1.1544077261671366, -1.3350958845426832, 0.7119427630233932, 0.6411177748569961, -0.3001776750662769, -0.9048484414626201, 0.7390101756217512, 1.4819140122480443, 0.5981606146092255, -0.26082548405743144, 2.046254697130263, -1.9411641500930508, 1.8452808905980655, 1.4038573414777682, -0.8795591013597613]}],\n",
       "                        {\"barmode\": \"overlay\", \"legend\": {\"bgcolor\": \"#F5F6F9\", \"font\": {\"color\": \"#4D5663\"}}, \"paper_bgcolor\": \"#F5F6F9\", \"plot_bgcolor\": \"#F5F6F9\", \"template\": {\"data\": {\"bar\": [{\"error_x\": {\"color\": \"#2a3f5f\"}, \"error_y\": {\"color\": \"#2a3f5f\"}, \"marker\": {\"line\": {\"color\": \"#E5ECF6\", \"width\": 0.5}}, \"type\": \"bar\"}], \"barpolar\": [{\"marker\": {\"line\": {\"color\": \"#E5ECF6\", \"width\": 0.5}}, \"type\": \"barpolar\"}], \"carpet\": [{\"aaxis\": {\"endlinecolor\": \"#2a3f5f\", \"gridcolor\": \"white\", \"linecolor\": \"white\", \"minorgridcolor\": \"white\", \"startlinecolor\": \"#2a3f5f\"}, \"baxis\": {\"endlinecolor\": \"#2a3f5f\", \"gridcolor\": \"white\", \"linecolor\": \"white\", \"minorgridcolor\": \"white\", \"startlinecolor\": \"#2a3f5f\"}, \"type\": \"carpet\"}], \"choropleth\": [{\"colorbar\": {\"outlinewidth\": 0, \"ticks\": \"\"}, \"type\": \"choropleth\"}], \"contour\": [{\"colorbar\": {\"outlinewidth\": 0, \"ticks\": \"\"}, \"colorscale\": [[0.0, \"#0d0887\"], [0.1111111111111111, \"#46039f\"], [0.2222222222222222, \"#7201a8\"], [0.3333333333333333, \"#9c179e\"], [0.4444444444444444, \"#bd3786\"], [0.5555555555555556, \"#d8576b\"], [0.6666666666666666, \"#ed7953\"], [0.7777777777777778, \"#fb9f3a\"], [0.8888888888888888, \"#fdca26\"], [1.0, \"#f0f921\"]], \"type\": \"contour\"}], \"contourcarpet\": [{\"colorbar\": {\"outlinewidth\": 0, \"ticks\": \"\"}, \"type\": \"contourcarpet\"}], \"heatmap\": [{\"colorbar\": {\"outlinewidth\": 0, \"ticks\": \"\"}, \"colorscale\": [[0.0, \"#0d0887\"], [0.1111111111111111, \"#46039f\"], [0.2222222222222222, \"#7201a8\"], [0.3333333333333333, \"#9c179e\"], [0.4444444444444444, \"#bd3786\"], [0.5555555555555556, \"#d8576b\"], [0.6666666666666666, \"#ed7953\"], [0.7777777777777778, \"#fb9f3a\"], [0.8888888888888888, \"#fdca26\"], [1.0, \"#f0f921\"]], \"type\": \"heatmap\"}], \"heatmapgl\": [{\"colorbar\": {\"outlinewidth\": 0, \"ticks\": \"\"}, \"colorscale\": [[0.0, \"#0d0887\"], [0.1111111111111111, \"#46039f\"], [0.2222222222222222, \"#7201a8\"], [0.3333333333333333, \"#9c179e\"], [0.4444444444444444, \"#bd3786\"], [0.5555555555555556, \"#d8576b\"], [0.6666666666666666, \"#ed7953\"], [0.7777777777777778, \"#fb9f3a\"], [0.8888888888888888, \"#fdca26\"], [1.0, \"#f0f921\"]], \"type\": \"heatmapgl\"}], \"histogram\": [{\"marker\": {\"colorbar\": {\"outlinewidth\": 0, \"ticks\": \"\"}}, \"type\": \"histogram\"}], \"histogram2d\": [{\"colorbar\": {\"outlinewidth\": 0, \"ticks\": \"\"}, \"colorscale\": [[0.0, \"#0d0887\"], [0.1111111111111111, \"#46039f\"], [0.2222222222222222, \"#7201a8\"], [0.3333333333333333, \"#9c179e\"], [0.4444444444444444, \"#bd3786\"], [0.5555555555555556, \"#d8576b\"], [0.6666666666666666, \"#ed7953\"], [0.7777777777777778, \"#fb9f3a\"], [0.8888888888888888, \"#fdca26\"], [1.0, \"#f0f921\"]], \"type\": \"histogram2d\"}], \"histogram2dcontour\": [{\"colorbar\": {\"outlinewidth\": 0, \"ticks\": \"\"}, \"colorscale\": [[0.0, \"#0d0887\"], [0.1111111111111111, \"#46039f\"], [0.2222222222222222, \"#7201a8\"], [0.3333333333333333, \"#9c179e\"], [0.4444444444444444, \"#bd3786\"], [0.5555555555555556, \"#d8576b\"], [0.6666666666666666, \"#ed7953\"], [0.7777777777777778, \"#fb9f3a\"], [0.8888888888888888, \"#fdca26\"], [1.0, \"#f0f921\"]], \"type\": \"histogram2dcontour\"}], \"mesh3d\": [{\"colorbar\": {\"outlinewidth\": 0, \"ticks\": \"\"}, \"type\": \"mesh3d\"}], \"parcoords\": [{\"line\": {\"colorbar\": {\"outlinewidth\": 0, \"ticks\": \"\"}}, \"type\": \"parcoords\"}], \"pie\": [{\"automargin\": true, \"type\": \"pie\"}], \"scatter\": [{\"marker\": {\"colorbar\": {\"outlinewidth\": 0, \"ticks\": \"\"}}, \"type\": \"scatter\"}], \"scatter3d\": [{\"line\": {\"colorbar\": {\"outlinewidth\": 0, \"ticks\": \"\"}}, \"marker\": {\"colorbar\": {\"outlinewidth\": 0, \"ticks\": \"\"}}, \"type\": \"scatter3d\"}], \"scattercarpet\": [{\"marker\": {\"colorbar\": {\"outlinewidth\": 0, \"ticks\": \"\"}}, \"type\": \"scattercarpet\"}], \"scattergeo\": [{\"marker\": {\"colorbar\": {\"outlinewidth\": 0, \"ticks\": \"\"}}, \"type\": \"scattergeo\"}], \"scattergl\": [{\"marker\": {\"colorbar\": {\"outlinewidth\": 0, \"ticks\": \"\"}}, \"type\": \"scattergl\"}], \"scattermapbox\": [{\"marker\": {\"colorbar\": {\"outlinewidth\": 0, \"ticks\": \"\"}}, \"type\": \"scattermapbox\"}], \"scatterpolar\": [{\"marker\": {\"colorbar\": {\"outlinewidth\": 0, \"ticks\": \"\"}}, \"type\": \"scatterpolar\"}], \"scatterpolargl\": [{\"marker\": {\"colorbar\": {\"outlinewidth\": 0, \"ticks\": \"\"}}, \"type\": \"scatterpolargl\"}], \"scatterternary\": [{\"marker\": {\"colorbar\": {\"outlinewidth\": 0, \"ticks\": \"\"}}, \"type\": \"scatterternary\"}], \"surface\": [{\"colorbar\": {\"outlinewidth\": 0, \"ticks\": \"\"}, \"colorscale\": [[0.0, \"#0d0887\"], [0.1111111111111111, \"#46039f\"], [0.2222222222222222, \"#7201a8\"], [0.3333333333333333, \"#9c179e\"], [0.4444444444444444, \"#bd3786\"], [0.5555555555555556, \"#d8576b\"], [0.6666666666666666, \"#ed7953\"], [0.7777777777777778, \"#fb9f3a\"], [0.8888888888888888, \"#fdca26\"], [1.0, \"#f0f921\"]], \"type\": \"surface\"}], \"table\": [{\"cells\": {\"fill\": {\"color\": \"#EBF0F8\"}, \"line\": {\"color\": \"white\"}}, \"header\": {\"fill\": {\"color\": \"#C8D4E3\"}, \"line\": {\"color\": \"white\"}}, \"type\": \"table\"}]}, \"layout\": {\"annotationdefaults\": {\"arrowcolor\": \"#2a3f5f\", \"arrowhead\": 0, \"arrowwidth\": 1}, \"coloraxis\": {\"colorbar\": {\"outlinewidth\": 0, \"ticks\": \"\"}}, \"colorscale\": {\"diverging\": [[0, \"#8e0152\"], [0.1, \"#c51b7d\"], [0.2, \"#de77ae\"], [0.3, \"#f1b6da\"], [0.4, \"#fde0ef\"], [0.5, \"#f7f7f7\"], [0.6, \"#e6f5d0\"], [0.7, \"#b8e186\"], [0.8, \"#7fbc41\"], [0.9, \"#4d9221\"], [1, \"#276419\"]], \"sequential\": [[0.0, \"#0d0887\"], [0.1111111111111111, \"#46039f\"], [0.2222222222222222, \"#7201a8\"], [0.3333333333333333, \"#9c179e\"], [0.4444444444444444, \"#bd3786\"], [0.5555555555555556, \"#d8576b\"], [0.6666666666666666, \"#ed7953\"], [0.7777777777777778, \"#fb9f3a\"], [0.8888888888888888, \"#fdca26\"], [1.0, \"#f0f921\"]], \"sequentialminus\": [[0.0, \"#0d0887\"], [0.1111111111111111, \"#46039f\"], [0.2222222222222222, \"#7201a8\"], [0.3333333333333333, \"#9c179e\"], [0.4444444444444444, \"#bd3786\"], [0.5555555555555556, \"#d8576b\"], [0.6666666666666666, \"#ed7953\"], [0.7777777777777778, \"#fb9f3a\"], [0.8888888888888888, \"#fdca26\"], [1.0, \"#f0f921\"]]}, \"colorway\": [\"#636efa\", \"#EF553B\", \"#00cc96\", \"#ab63fa\", \"#FFA15A\", \"#19d3f3\", \"#FF6692\", \"#B6E880\", \"#FF97FF\", \"#FECB52\"], \"font\": {\"color\": \"#2a3f5f\"}, \"geo\": {\"bgcolor\": \"white\", \"lakecolor\": \"white\", \"landcolor\": \"#E5ECF6\", \"showlakes\": true, \"showland\": true, \"subunitcolor\": \"white\"}, \"hoverlabel\": {\"align\": \"left\"}, \"hovermode\": \"closest\", \"mapbox\": {\"style\": \"light\"}, \"paper_bgcolor\": \"white\", \"plot_bgcolor\": \"#E5ECF6\", \"polar\": {\"angularaxis\": {\"gridcolor\": \"white\", \"linecolor\": \"white\", \"ticks\": \"\"}, \"bgcolor\": \"#E5ECF6\", \"radialaxis\": {\"gridcolor\": \"white\", \"linecolor\": \"white\", \"ticks\": \"\"}}, \"scene\": {\"xaxis\": {\"backgroundcolor\": \"#E5ECF6\", \"gridcolor\": \"white\", \"gridwidth\": 2, \"linecolor\": \"white\", \"showbackground\": true, \"ticks\": \"\", \"zerolinecolor\": \"white\"}, \"yaxis\": {\"backgroundcolor\": \"#E5ECF6\", \"gridcolor\": \"white\", \"gridwidth\": 2, \"linecolor\": \"white\", \"showbackground\": true, \"ticks\": \"\", \"zerolinecolor\": \"white\"}, \"zaxis\": {\"backgroundcolor\": \"#E5ECF6\", \"gridcolor\": \"white\", \"gridwidth\": 2, \"linecolor\": \"white\", \"showbackground\": true, \"ticks\": \"\", \"zerolinecolor\": \"white\"}}, \"shapedefaults\": {\"line\": {\"color\": \"#2a3f5f\"}}, \"ternary\": {\"aaxis\": {\"gridcolor\": \"white\", \"linecolor\": \"white\", \"ticks\": \"\"}, \"baxis\": {\"gridcolor\": \"white\", \"linecolor\": \"white\", \"ticks\": \"\"}, \"bgcolor\": \"#E5ECF6\", \"caxis\": {\"gridcolor\": \"white\", \"linecolor\": \"white\", \"ticks\": \"\"}}, \"title\": {\"x\": 0.05}, \"xaxis\": {\"automargin\": true, \"gridcolor\": \"white\", \"linecolor\": \"white\", \"ticks\": \"\", \"title\": {\"standoff\": 15}, \"zerolinecolor\": \"white\", \"zerolinewidth\": 2}, \"yaxis\": {\"automargin\": true, \"gridcolor\": \"white\", \"linecolor\": \"white\", \"ticks\": \"\", \"title\": {\"standoff\": 15}, \"zerolinecolor\": \"white\", \"zerolinewidth\": 2}}}, \"title\": {\"font\": {\"color\": \"#4D5663\"}}, \"xaxis\": {\"gridcolor\": \"#E1E5ED\", \"showgrid\": true, \"tickfont\": {\"color\": \"#4D5663\"}, \"title\": {\"font\": {\"color\": \"#4D5663\"}, \"text\": \"\"}, \"zerolinecolor\": \"#E1E5ED\"}, \"yaxis\": {\"gridcolor\": \"#E1E5ED\", \"showgrid\": true, \"tickfont\": {\"color\": \"#4D5663\"}, \"title\": {\"font\": {\"color\": \"#4D5663\"}, \"text\": \"\"}, \"zerolinecolor\": \"#E1E5ED\"}},\n",
       "                        {\"showLink\": true, \"linkText\": \"Export to plot.ly\", \"plotlyServerURL\": \"https://plot.ly\", \"responsive\": true}\n",
       "                    ).then(function(){\n",
       "                            \n",
       "var gd = document.getElementById('f4d43fe8-cf6b-4e0b-b832-3c218608ca27');\n",
       "var x = new MutationObserver(function (mutations, observer) {{\n",
       "        var display = window.getComputedStyle(gd).display;\n",
       "        if (!display || display === 'none') {{\n",
       "            console.log([gd, 'removed!']);\n",
       "            Plotly.purge(gd);\n",
       "            observer.disconnect();\n",
       "        }}\n",
       "}});\n",
       "\n",
       "// Listen for the removal of the full notebook cells\n",
       "var notebookContainer = gd.closest('#notebook-container');\n",
       "if (notebookContainer) {{\n",
       "    x.observe(notebookContainer, {childList: true});\n",
       "}}\n",
       "\n",
       "// Listen for the clearing of the current output cell\n",
       "var outputEl = gd.closest('.output');\n",
       "if (outputEl) {{\n",
       "    x.observe(outputEl, {childList: true});\n",
       "}}\n",
       "\n",
       "                        })\n",
       "                };\n",
       "                });\n",
       "            </script>\n",
       "        </div>"
      ]
     },
     "metadata": {},
     "output_type": "display_data"
    }
   ],
   "source": [
    "df['A'].iplot(kind='hist',bins=25)"
   ]
  },
  {
   "cell_type": "code",
   "execution_count": 20,
   "metadata": {},
   "outputs": [
    {
     "data": {
      "application/vnd.plotly.v1+json": {
       "config": {
        "linkText": "Export to plot.ly",
        "plotlyServerURL": "https://plot.ly",
        "showLink": true
       },
       "data": [
        {
         "marker": {
          "color": [
           "rgb(255, 153, 51)",
           "rgb(55, 128, 191)",
           "rgb(50, 171, 96)",
           "rgb(128, 0, 128)",
           "rgb(219, 64, 82)",
           "rgb(0, 128, 128)",
           "rgb(255, 255, 51)",
           "rgb(128, 128, 0)",
           "rgb(251, 128, 114)",
           "rgb(128, 177, 211)"
          ],
          "line": {
           "width": 1.3
          },
          "size": [
           37,
           43,
           45,
           77,
           48,
           12,
           41,
           43,
           73,
           73,
           75,
           32,
           37,
           68,
           35,
           72,
           60,
           98,
           57,
           59,
           62,
           86,
           77,
           94,
           54,
           64,
           54,
           22,
           34,
           63,
           92,
           91,
           90,
           63,
           97,
           81,
           37,
           69,
           71,
           74,
           74,
           78,
           61,
           53,
           57,
           63,
           71,
           94,
           68,
           12,
           34,
           102,
           75,
           66,
           67,
           28,
           87,
           57,
           65,
           45,
           77,
           36,
           59,
           55,
           63,
           109,
           74,
           71,
           92,
           62,
           67,
           71,
           67,
           53,
           75,
           70,
           53,
           60,
           64,
           75,
           66,
           88,
           51,
           112,
           42,
           107,
           25,
           40,
           52,
           46,
           45,
           48,
           86,
           80,
           63,
           62,
           33,
           80,
           77,
           54
          ],
          "symbol": "circle"
         },
         "mode": "markers",
         "text": "",
         "type": "scatter",
         "x": [
          0.43633476275957783,
          -0.9369666672884216,
          0.28852110280962995,
          -1.1011111414948977,
          0.32854507231159646,
          0.9816992515177357,
          -2.284421668511395,
          -0.26995513779247227,
          0.6501295774491413,
          -1.069402621774459,
          -1.2020976216798172,
          0.6513942645777206,
          0.7521897597563676,
          0.5426067229233946,
          0.3370644577358486,
          -0.5393103302681119,
          -0.6635779258219466,
          -0.24300598976235596,
          0.04496685936482622,
          -0.965346068356053,
          -0.24806693468330765,
          -0.16866354882736542,
          0.5444475088125463,
          0.5496623505488482,
          0.5450871232084065,
          -0.441345583389729,
          -0.9629954737171853,
          -0.676216274703561,
          0.006322641558518212,
          0.18664330349151873,
          -0.02609261417418306,
          -0.43677653611744,
          0.1424015252435575,
          1.9310702447132302,
          -0.9155454555589564,
          1.0582884814491147,
          0.7987834738109799,
          -1.53766916018999,
          -1.825814026600039,
          0.21272618276774719,
          1.5967775264793374,
          1.2929976854648164,
          0.06610609076863956,
          -0.5764360733096935,
          -1.56089420040441,
          -0.2554528079087033,
          1.8350740347678272,
          0.3598812399041258,
          -0.2814109679987709,
          0.3241194243912139,
          1.0661956656936156,
          -0.037067756201864574,
          -0.683125037067316,
          -1.0280984103041046,
          -0.07112279321412139,
          -0.5539586978476361,
          -0.5602855710925664,
          0.733138539889477,
          -1.0541102386248455,
          -1.3236651767229892,
          1.0168652515920766,
          -0.3566999154025523,
          0.6508321441587809,
          -0.0012140476126413513,
          -0.7882292100040235,
          2.883257249796413,
          0.3353217669277645,
          -1.0679692420258937,
          0.18293142627367062,
          0.11494991601411153,
          -0.3644172733653438,
          0.4987628257668977,
          0.8508934232296702,
          -0.08679926983528236,
          0.8047676559452972,
          0.2597526083971923,
          0.473929637781343,
          0.08581232319537543,
          -0.22410861057241027,
          -0.5257153363463388,
          1.6952648028066364,
          -0.696156975583712,
          -0.836353387975282,
          0.2965518348994222,
          -1.0012320086348452,
          -1.1544077261671366,
          -1.3350958845426832,
          0.7119427630233932,
          0.6411177748569961,
          -0.3001776750662769,
          -0.9048484414626201,
          0.7390101756217512,
          1.4819140122480443,
          0.5981606146092255,
          -0.26082548405743144,
          2.046254697130263,
          -1.9411641500930508,
          1.8452808905980655,
          1.4038573414777682,
          -0.8795591013597613
         ],
         "y": [
          -0.44728330349228973,
          -0.6069251354234275,
          -1.3738549093340406,
          1.2334111997303334,
          0.7397860123001738,
          1.5972494572851856,
          -0.018931915979927754,
          -1.2264327624064608,
          0.15592114116201142,
          -0.47902754325705527,
          1.2074916117611019,
          0.6889645260151184,
          1.6209155031439582,
          1.0377918747451134,
          -0.16857843049431245,
          0.7350503697272961,
          1.3732044642314538,
          0.17853748378804712,
          0.9201258074350492,
          0.661381730865682,
          1.485145958350401,
          -1.632119618070541,
          0.22748154932469294,
          -0.09458663553707516,
          0.21090274721930652,
          1.2583083792119074,
          1.6422290993212094,
          -1.019888999922517,
          -1.1262083616915823,
          0.7751631377435271,
          0.0780355504840483,
          0.29911039538859174,
          0.43807211050813644,
          -0.12770957828774504,
          -0.6521897822817302,
          -0.889630939076755,
          0.15986237919607987,
          -0.04342366071403783,
          -0.43520486123887653,
          0.5379206691506319,
          0.793787709378705,
          -0.4289924398492299,
          0.7369539710091716,
          2.087453696135382,
          0.5620994219564909,
          -0.20137912145968392,
          0.7257704929503092,
          1.1084092246082184,
          -0.5171551630835821,
          -1.1283322045922786,
          0.2593535652357022,
          -0.17267859924919277,
          -1.5345339901197232,
          -0.3209003352524528,
          -1.1744077524500085,
          1.4490429107416258,
          1.184950303089929,
          0.702234314776529,
          -0.6784286508938552,
          1.2835120424777373,
          -1.190989535539129,
          -0.3513939866455125,
          0.621578689492338,
          -0.4630544081124457,
          -0.4367365405676625,
          1.3421143639461248,
          1.7456877417419552,
          1.3034225510631996,
          -0.7624624397576985,
          -0.40495996101011833,
          -2.1648442884732138,
          0.5440779523888465,
          0.5287058951523081,
          -0.43876721681254327,
          0.6449127396655433,
          -1.8263143889063849,
          -0.7719047232387043,
          1.7518581179245638,
          0.8330915673690045,
          -0.4521002707172554,
          -0.5402986159008635,
          -1.2266100687118864,
          1.6575386196372557,
          0.7985342454287591,
          0.208928873721229,
          0.21447039459623737,
          -0.5130034897172456,
          1.4365715282093559,
          -0.24188464953388022,
          0.44495315267780716,
          0.07569986085313132,
          -0.42437427642700526,
          -0.5719674021359072,
          0.1764574730152452,
          0.5947324055814549,
          0.5454269787091772,
          -1.052784323807733,
          -0.5458881467962238,
          0.7868241229855274,
          0.38274020695729544
         ]
        }
       ],
       "layout": {
        "legend": {
         "bgcolor": "#F5F6F9",
         "font": {
          "color": "#4D5663"
         }
        },
        "paper_bgcolor": "#F5F6F9",
        "plot_bgcolor": "#F5F6F9",
        "template": {
         "data": {
          "bar": [
           {
            "error_x": {
             "color": "#2a3f5f"
            },
            "error_y": {
             "color": "#2a3f5f"
            },
            "marker": {
             "line": {
              "color": "#E5ECF6",
              "width": 0.5
             }
            },
            "type": "bar"
           }
          ],
          "barpolar": [
           {
            "marker": {
             "line": {
              "color": "#E5ECF6",
              "width": 0.5
             }
            },
            "type": "barpolar"
           }
          ],
          "carpet": [
           {
            "aaxis": {
             "endlinecolor": "#2a3f5f",
             "gridcolor": "white",
             "linecolor": "white",
             "minorgridcolor": "white",
             "startlinecolor": "#2a3f5f"
            },
            "baxis": {
             "endlinecolor": "#2a3f5f",
             "gridcolor": "white",
             "linecolor": "white",
             "minorgridcolor": "white",
             "startlinecolor": "#2a3f5f"
            },
            "type": "carpet"
           }
          ],
          "choropleth": [
           {
            "colorbar": {
             "outlinewidth": 0,
             "ticks": ""
            },
            "type": "choropleth"
           }
          ],
          "contour": [
           {
            "colorbar": {
             "outlinewidth": 0,
             "ticks": ""
            },
            "colorscale": [
             [
              0,
              "#0d0887"
             ],
             [
              0.1111111111111111,
              "#46039f"
             ],
             [
              0.2222222222222222,
              "#7201a8"
             ],
             [
              0.3333333333333333,
              "#9c179e"
             ],
             [
              0.4444444444444444,
              "#bd3786"
             ],
             [
              0.5555555555555556,
              "#d8576b"
             ],
             [
              0.6666666666666666,
              "#ed7953"
             ],
             [
              0.7777777777777778,
              "#fb9f3a"
             ],
             [
              0.8888888888888888,
              "#fdca26"
             ],
             [
              1,
              "#f0f921"
             ]
            ],
            "type": "contour"
           }
          ],
          "contourcarpet": [
           {
            "colorbar": {
             "outlinewidth": 0,
             "ticks": ""
            },
            "type": "contourcarpet"
           }
          ],
          "heatmap": [
           {
            "colorbar": {
             "outlinewidth": 0,
             "ticks": ""
            },
            "colorscale": [
             [
              0,
              "#0d0887"
             ],
             [
              0.1111111111111111,
              "#46039f"
             ],
             [
              0.2222222222222222,
              "#7201a8"
             ],
             [
              0.3333333333333333,
              "#9c179e"
             ],
             [
              0.4444444444444444,
              "#bd3786"
             ],
             [
              0.5555555555555556,
              "#d8576b"
             ],
             [
              0.6666666666666666,
              "#ed7953"
             ],
             [
              0.7777777777777778,
              "#fb9f3a"
             ],
             [
              0.8888888888888888,
              "#fdca26"
             ],
             [
              1,
              "#f0f921"
             ]
            ],
            "type": "heatmap"
           }
          ],
          "heatmapgl": [
           {
            "colorbar": {
             "outlinewidth": 0,
             "ticks": ""
            },
            "colorscale": [
             [
              0,
              "#0d0887"
             ],
             [
              0.1111111111111111,
              "#46039f"
             ],
             [
              0.2222222222222222,
              "#7201a8"
             ],
             [
              0.3333333333333333,
              "#9c179e"
             ],
             [
              0.4444444444444444,
              "#bd3786"
             ],
             [
              0.5555555555555556,
              "#d8576b"
             ],
             [
              0.6666666666666666,
              "#ed7953"
             ],
             [
              0.7777777777777778,
              "#fb9f3a"
             ],
             [
              0.8888888888888888,
              "#fdca26"
             ],
             [
              1,
              "#f0f921"
             ]
            ],
            "type": "heatmapgl"
           }
          ],
          "histogram": [
           {
            "marker": {
             "colorbar": {
              "outlinewidth": 0,
              "ticks": ""
             }
            },
            "type": "histogram"
           }
          ],
          "histogram2d": [
           {
            "colorbar": {
             "outlinewidth": 0,
             "ticks": ""
            },
            "colorscale": [
             [
              0,
              "#0d0887"
             ],
             [
              0.1111111111111111,
              "#46039f"
             ],
             [
              0.2222222222222222,
              "#7201a8"
             ],
             [
              0.3333333333333333,
              "#9c179e"
             ],
             [
              0.4444444444444444,
              "#bd3786"
             ],
             [
              0.5555555555555556,
              "#d8576b"
             ],
             [
              0.6666666666666666,
              "#ed7953"
             ],
             [
              0.7777777777777778,
              "#fb9f3a"
             ],
             [
              0.8888888888888888,
              "#fdca26"
             ],
             [
              1,
              "#f0f921"
             ]
            ],
            "type": "histogram2d"
           }
          ],
          "histogram2dcontour": [
           {
            "colorbar": {
             "outlinewidth": 0,
             "ticks": ""
            },
            "colorscale": [
             [
              0,
              "#0d0887"
             ],
             [
              0.1111111111111111,
              "#46039f"
             ],
             [
              0.2222222222222222,
              "#7201a8"
             ],
             [
              0.3333333333333333,
              "#9c179e"
             ],
             [
              0.4444444444444444,
              "#bd3786"
             ],
             [
              0.5555555555555556,
              "#d8576b"
             ],
             [
              0.6666666666666666,
              "#ed7953"
             ],
             [
              0.7777777777777778,
              "#fb9f3a"
             ],
             [
              0.8888888888888888,
              "#fdca26"
             ],
             [
              1,
              "#f0f921"
             ]
            ],
            "type": "histogram2dcontour"
           }
          ],
          "mesh3d": [
           {
            "colorbar": {
             "outlinewidth": 0,
             "ticks": ""
            },
            "type": "mesh3d"
           }
          ],
          "parcoords": [
           {
            "line": {
             "colorbar": {
              "outlinewidth": 0,
              "ticks": ""
             }
            },
            "type": "parcoords"
           }
          ],
          "pie": [
           {
            "automargin": true,
            "type": "pie"
           }
          ],
          "scatter": [
           {
            "marker": {
             "colorbar": {
              "outlinewidth": 0,
              "ticks": ""
             }
            },
            "type": "scatter"
           }
          ],
          "scatter3d": [
           {
            "line": {
             "colorbar": {
              "outlinewidth": 0,
              "ticks": ""
             }
            },
            "marker": {
             "colorbar": {
              "outlinewidth": 0,
              "ticks": ""
             }
            },
            "type": "scatter3d"
           }
          ],
          "scattercarpet": [
           {
            "marker": {
             "colorbar": {
              "outlinewidth": 0,
              "ticks": ""
             }
            },
            "type": "scattercarpet"
           }
          ],
          "scattergeo": [
           {
            "marker": {
             "colorbar": {
              "outlinewidth": 0,
              "ticks": ""
             }
            },
            "type": "scattergeo"
           }
          ],
          "scattergl": [
           {
            "marker": {
             "colorbar": {
              "outlinewidth": 0,
              "ticks": ""
             }
            },
            "type": "scattergl"
           }
          ],
          "scattermapbox": [
           {
            "marker": {
             "colorbar": {
              "outlinewidth": 0,
              "ticks": ""
             }
            },
            "type": "scattermapbox"
           }
          ],
          "scatterpolar": [
           {
            "marker": {
             "colorbar": {
              "outlinewidth": 0,
              "ticks": ""
             }
            },
            "type": "scatterpolar"
           }
          ],
          "scatterpolargl": [
           {
            "marker": {
             "colorbar": {
              "outlinewidth": 0,
              "ticks": ""
             }
            },
            "type": "scatterpolargl"
           }
          ],
          "scatterternary": [
           {
            "marker": {
             "colorbar": {
              "outlinewidth": 0,
              "ticks": ""
             }
            },
            "type": "scatterternary"
           }
          ],
          "surface": [
           {
            "colorbar": {
             "outlinewidth": 0,
             "ticks": ""
            },
            "colorscale": [
             [
              0,
              "#0d0887"
             ],
             [
              0.1111111111111111,
              "#46039f"
             ],
             [
              0.2222222222222222,
              "#7201a8"
             ],
             [
              0.3333333333333333,
              "#9c179e"
             ],
             [
              0.4444444444444444,
              "#bd3786"
             ],
             [
              0.5555555555555556,
              "#d8576b"
             ],
             [
              0.6666666666666666,
              "#ed7953"
             ],
             [
              0.7777777777777778,
              "#fb9f3a"
             ],
             [
              0.8888888888888888,
              "#fdca26"
             ],
             [
              1,
              "#f0f921"
             ]
            ],
            "type": "surface"
           }
          ],
          "table": [
           {
            "cells": {
             "fill": {
              "color": "#EBF0F8"
             },
             "line": {
              "color": "white"
             }
            },
            "header": {
             "fill": {
              "color": "#C8D4E3"
             },
             "line": {
              "color": "white"
             }
            },
            "type": "table"
           }
          ]
         },
         "layout": {
          "annotationdefaults": {
           "arrowcolor": "#2a3f5f",
           "arrowhead": 0,
           "arrowwidth": 1
          },
          "coloraxis": {
           "colorbar": {
            "outlinewidth": 0,
            "ticks": ""
           }
          },
          "colorscale": {
           "diverging": [
            [
             0,
             "#8e0152"
            ],
            [
             0.1,
             "#c51b7d"
            ],
            [
             0.2,
             "#de77ae"
            ],
            [
             0.3,
             "#f1b6da"
            ],
            [
             0.4,
             "#fde0ef"
            ],
            [
             0.5,
             "#f7f7f7"
            ],
            [
             0.6,
             "#e6f5d0"
            ],
            [
             0.7,
             "#b8e186"
            ],
            [
             0.8,
             "#7fbc41"
            ],
            [
             0.9,
             "#4d9221"
            ],
            [
             1,
             "#276419"
            ]
           ],
           "sequential": [
            [
             0,
             "#0d0887"
            ],
            [
             0.1111111111111111,
             "#46039f"
            ],
            [
             0.2222222222222222,
             "#7201a8"
            ],
            [
             0.3333333333333333,
             "#9c179e"
            ],
            [
             0.4444444444444444,
             "#bd3786"
            ],
            [
             0.5555555555555556,
             "#d8576b"
            ],
            [
             0.6666666666666666,
             "#ed7953"
            ],
            [
             0.7777777777777778,
             "#fb9f3a"
            ],
            [
             0.8888888888888888,
             "#fdca26"
            ],
            [
             1,
             "#f0f921"
            ]
           ],
           "sequentialminus": [
            [
             0,
             "#0d0887"
            ],
            [
             0.1111111111111111,
             "#46039f"
            ],
            [
             0.2222222222222222,
             "#7201a8"
            ],
            [
             0.3333333333333333,
             "#9c179e"
            ],
            [
             0.4444444444444444,
             "#bd3786"
            ],
            [
             0.5555555555555556,
             "#d8576b"
            ],
            [
             0.6666666666666666,
             "#ed7953"
            ],
            [
             0.7777777777777778,
             "#fb9f3a"
            ],
            [
             0.8888888888888888,
             "#fdca26"
            ],
            [
             1,
             "#f0f921"
            ]
           ]
          },
          "colorway": [
           "#636efa",
           "#EF553B",
           "#00cc96",
           "#ab63fa",
           "#FFA15A",
           "#19d3f3",
           "#FF6692",
           "#B6E880",
           "#FF97FF",
           "#FECB52"
          ],
          "font": {
           "color": "#2a3f5f"
          },
          "geo": {
           "bgcolor": "white",
           "lakecolor": "white",
           "landcolor": "#E5ECF6",
           "showlakes": true,
           "showland": true,
           "subunitcolor": "white"
          },
          "hoverlabel": {
           "align": "left"
          },
          "hovermode": "closest",
          "mapbox": {
           "style": "light"
          },
          "paper_bgcolor": "white",
          "plot_bgcolor": "#E5ECF6",
          "polar": {
           "angularaxis": {
            "gridcolor": "white",
            "linecolor": "white",
            "ticks": ""
           },
           "bgcolor": "#E5ECF6",
           "radialaxis": {
            "gridcolor": "white",
            "linecolor": "white",
            "ticks": ""
           }
          },
          "scene": {
           "xaxis": {
            "backgroundcolor": "#E5ECF6",
            "gridcolor": "white",
            "gridwidth": 2,
            "linecolor": "white",
            "showbackground": true,
            "ticks": "",
            "zerolinecolor": "white"
           },
           "yaxis": {
            "backgroundcolor": "#E5ECF6",
            "gridcolor": "white",
            "gridwidth": 2,
            "linecolor": "white",
            "showbackground": true,
            "ticks": "",
            "zerolinecolor": "white"
           },
           "zaxis": {
            "backgroundcolor": "#E5ECF6",
            "gridcolor": "white",
            "gridwidth": 2,
            "linecolor": "white",
            "showbackground": true,
            "ticks": "",
            "zerolinecolor": "white"
           }
          },
          "shapedefaults": {
           "line": {
            "color": "#2a3f5f"
           }
          },
          "ternary": {
           "aaxis": {
            "gridcolor": "white",
            "linecolor": "white",
            "ticks": ""
           },
           "baxis": {
            "gridcolor": "white",
            "linecolor": "white",
            "ticks": ""
           },
           "bgcolor": "#E5ECF6",
           "caxis": {
            "gridcolor": "white",
            "linecolor": "white",
            "ticks": ""
           }
          },
          "title": {
           "x": 0.05
          },
          "xaxis": {
           "automargin": true,
           "gridcolor": "white",
           "linecolor": "white",
           "ticks": "",
           "title": {
            "standoff": 15
           },
           "zerolinecolor": "white",
           "zerolinewidth": 2
          },
          "yaxis": {
           "automargin": true,
           "gridcolor": "white",
           "linecolor": "white",
           "ticks": "",
           "title": {
            "standoff": 15
           },
           "zerolinecolor": "white",
           "zerolinewidth": 2
          }
         }
        },
        "title": {
         "font": {
          "color": "#4D5663"
         }
        },
        "xaxis": {
         "gridcolor": "#E1E5ED",
         "showgrid": true,
         "tickfont": {
          "color": "#4D5663"
         },
         "title": {
          "font": {
           "color": "#4D5663"
          },
          "text": ""
         },
         "zerolinecolor": "#E1E5ED"
        },
        "yaxis": {
         "gridcolor": "#E1E5ED",
         "showgrid": true,
         "tickfont": {
          "color": "#4D5663"
         },
         "title": {
          "font": {
           "color": "#4D5663"
          },
          "text": ""
         },
         "zerolinecolor": "#E1E5ED"
        }
       }
      },
      "text/html": [
       "<div>\n",
       "        \n",
       "        \n",
       "            <div id=\"2bb62793-7239-4059-b25a-3138fa969a5d\" class=\"plotly-graph-div\" style=\"height:525px; width:100%;\"></div>\n",
       "            <script type=\"text/javascript\">\n",
       "                require([\"plotly\"], function(Plotly) {\n",
       "                    window.PLOTLYENV=window.PLOTLYENV || {};\n",
       "                    window.PLOTLYENV.BASE_URL='https://plot.ly';\n",
       "                    \n",
       "                if (document.getElementById(\"2bb62793-7239-4059-b25a-3138fa969a5d\")) {\n",
       "                    Plotly.newPlot(\n",
       "                        '2bb62793-7239-4059-b25a-3138fa969a5d',\n",
       "                        [{\"marker\": {\"color\": [\"rgb(255, 153, 51)\", \"rgb(55, 128, 191)\", \"rgb(50, 171, 96)\", \"rgb(128, 0, 128)\", \"rgb(219, 64, 82)\", \"rgb(0, 128, 128)\", \"rgb(255, 255, 51)\", \"rgb(128, 128, 0)\", \"rgb(251, 128, 114)\", \"rgb(128, 177, 211)\"], \"line\": {\"width\": 1.3}, \"size\": [37, 43, 45, 77, 48, 12, 41, 43, 73, 73, 75, 32, 37, 68, 35, 72, 60, 98, 57, 59, 62, 86, 77, 94, 54, 64, 54, 22, 34, 63, 92, 91, 90, 63, 97, 81, 37, 69, 71, 74, 74, 78, 61, 53, 57, 63, 71, 94, 68, 12, 34, 102, 75, 66, 67, 28, 87, 57, 65, 45, 77, 36, 59, 55, 63, 109, 74, 71, 92, 62, 67, 71, 67, 53, 75, 70, 53, 60, 64, 75, 66, 88, 51, 112, 42, 107, 25, 40, 52, 46, 45, 48, 86, 80, 63, 62, 33, 80, 77, 54], \"symbol\": \"circle\"}, \"mode\": \"markers\", \"text\": \"\", \"type\": \"scatter\", \"x\": [0.43633476275957783, -0.9369666672884216, 0.28852110280962995, -1.1011111414948977, 0.32854507231159646, 0.9816992515177357, -2.284421668511395, -0.26995513779247227, 0.6501295774491413, -1.069402621774459, -1.2020976216798172, 0.6513942645777206, 0.7521897597563676, 0.5426067229233946, 0.3370644577358486, -0.5393103302681119, -0.6635779258219466, -0.24300598976235596, 0.04496685936482622, -0.965346068356053, -0.24806693468330765, -0.16866354882736542, 0.5444475088125463, 0.5496623505488482, 0.5450871232084065, -0.441345583389729, -0.9629954737171853, -0.676216274703561, 0.006322641558518212, 0.18664330349151873, -0.02609261417418306, -0.43677653611744, 0.1424015252435575, 1.9310702447132302, -0.9155454555589564, 1.0582884814491147, 0.7987834738109799, -1.53766916018999, -1.825814026600039, 0.21272618276774719, 1.5967775264793374, 1.2929976854648164, 0.06610609076863956, -0.5764360733096935, -1.56089420040441, -0.2554528079087033, 1.8350740347678272, 0.3598812399041258, -0.2814109679987709, 0.3241194243912139, 1.0661956656936156, -0.037067756201864574, -0.683125037067316, -1.0280984103041046, -0.07112279321412139, -0.5539586978476361, -0.5602855710925664, 0.733138539889477, -1.0541102386248455, -1.3236651767229892, 1.0168652515920766, -0.3566999154025523, 0.6508321441587809, -0.0012140476126413513, -0.7882292100040235, 2.883257249796413, 0.3353217669277645, -1.0679692420258937, 0.18293142627367062, 0.11494991601411153, -0.3644172733653438, 0.4987628257668977, 0.8508934232296702, -0.08679926983528236, 0.8047676559452972, 0.2597526083971923, 0.473929637781343, 0.08581232319537543, -0.22410861057241027, -0.5257153363463388, 1.6952648028066364, -0.696156975583712, -0.836353387975282, 0.2965518348994222, -1.0012320086348452, -1.1544077261671366, -1.3350958845426832, 0.7119427630233932, 0.6411177748569961, -0.3001776750662769, -0.9048484414626201, 0.7390101756217512, 1.4819140122480443, 0.5981606146092255, -0.26082548405743144, 2.046254697130263, -1.9411641500930508, 1.8452808905980655, 1.4038573414777682, -0.8795591013597613], \"y\": [-0.44728330349228973, -0.6069251354234275, -1.3738549093340406, 1.2334111997303334, 0.7397860123001738, 1.5972494572851856, -0.018931915979927754, -1.2264327624064608, 0.15592114116201142, -0.47902754325705527, 1.2074916117611019, 0.6889645260151184, 1.6209155031439582, 1.0377918747451134, -0.16857843049431245, 0.7350503697272961, 1.3732044642314538, 0.17853748378804712, 0.9201258074350492, 0.661381730865682, 1.485145958350401, -1.632119618070541, 0.22748154932469294, -0.09458663553707516, 0.21090274721930652, 1.2583083792119074, 1.6422290993212094, -1.019888999922517, -1.1262083616915823, 0.7751631377435271, 0.0780355504840483, 0.29911039538859174, 0.43807211050813644, -0.12770957828774504, -0.6521897822817302, -0.889630939076755, 0.15986237919607987, -0.04342366071403783, -0.43520486123887653, 0.5379206691506319, 0.793787709378705, -0.4289924398492299, 0.7369539710091716, 2.087453696135382, 0.5620994219564909, -0.20137912145968392, 0.7257704929503092, 1.1084092246082184, -0.5171551630835821, -1.1283322045922786, 0.2593535652357022, -0.17267859924919277, -1.5345339901197232, -0.3209003352524528, -1.1744077524500085, 1.4490429107416258, 1.184950303089929, 0.702234314776529, -0.6784286508938552, 1.2835120424777373, -1.190989535539129, -0.3513939866455125, 0.621578689492338, -0.4630544081124457, -0.4367365405676625, 1.3421143639461248, 1.7456877417419552, 1.3034225510631996, -0.7624624397576985, -0.40495996101011833, -2.1648442884732138, 0.5440779523888465, 0.5287058951523081, -0.43876721681254327, 0.6449127396655433, -1.8263143889063849, -0.7719047232387043, 1.7518581179245638, 0.8330915673690045, -0.4521002707172554, -0.5402986159008635, -1.2266100687118864, 1.6575386196372557, 0.7985342454287591, 0.208928873721229, 0.21447039459623737, -0.5130034897172456, 1.4365715282093559, -0.24188464953388022, 0.44495315267780716, 0.07569986085313132, -0.42437427642700526, -0.5719674021359072, 0.1764574730152452, 0.5947324055814549, 0.5454269787091772, -1.052784323807733, -0.5458881467962238, 0.7868241229855274, 0.38274020695729544]}],\n",
       "                        {\"legend\": {\"bgcolor\": \"#F5F6F9\", \"font\": {\"color\": \"#4D5663\"}}, \"paper_bgcolor\": \"#F5F6F9\", \"plot_bgcolor\": \"#F5F6F9\", \"template\": {\"data\": {\"bar\": [{\"error_x\": {\"color\": \"#2a3f5f\"}, \"error_y\": {\"color\": \"#2a3f5f\"}, \"marker\": {\"line\": {\"color\": \"#E5ECF6\", \"width\": 0.5}}, \"type\": \"bar\"}], \"barpolar\": [{\"marker\": {\"line\": {\"color\": \"#E5ECF6\", \"width\": 0.5}}, \"type\": \"barpolar\"}], \"carpet\": [{\"aaxis\": {\"endlinecolor\": \"#2a3f5f\", \"gridcolor\": \"white\", \"linecolor\": \"white\", \"minorgridcolor\": \"white\", \"startlinecolor\": \"#2a3f5f\"}, \"baxis\": {\"endlinecolor\": \"#2a3f5f\", \"gridcolor\": \"white\", \"linecolor\": \"white\", \"minorgridcolor\": \"white\", \"startlinecolor\": \"#2a3f5f\"}, \"type\": \"carpet\"}], \"choropleth\": [{\"colorbar\": {\"outlinewidth\": 0, \"ticks\": \"\"}, \"type\": \"choropleth\"}], \"contour\": [{\"colorbar\": {\"outlinewidth\": 0, \"ticks\": \"\"}, \"colorscale\": [[0.0, \"#0d0887\"], [0.1111111111111111, \"#46039f\"], [0.2222222222222222, \"#7201a8\"], [0.3333333333333333, \"#9c179e\"], [0.4444444444444444, \"#bd3786\"], [0.5555555555555556, \"#d8576b\"], [0.6666666666666666, \"#ed7953\"], [0.7777777777777778, \"#fb9f3a\"], [0.8888888888888888, \"#fdca26\"], [1.0, \"#f0f921\"]], \"type\": \"contour\"}], \"contourcarpet\": [{\"colorbar\": {\"outlinewidth\": 0, \"ticks\": \"\"}, \"type\": \"contourcarpet\"}], \"heatmap\": [{\"colorbar\": {\"outlinewidth\": 0, \"ticks\": \"\"}, \"colorscale\": [[0.0, \"#0d0887\"], [0.1111111111111111, \"#46039f\"], [0.2222222222222222, \"#7201a8\"], [0.3333333333333333, \"#9c179e\"], [0.4444444444444444, \"#bd3786\"], [0.5555555555555556, \"#d8576b\"], [0.6666666666666666, \"#ed7953\"], [0.7777777777777778, \"#fb9f3a\"], [0.8888888888888888, \"#fdca26\"], [1.0, \"#f0f921\"]], \"type\": \"heatmap\"}], \"heatmapgl\": [{\"colorbar\": {\"outlinewidth\": 0, \"ticks\": \"\"}, \"colorscale\": [[0.0, \"#0d0887\"], [0.1111111111111111, \"#46039f\"], [0.2222222222222222, \"#7201a8\"], [0.3333333333333333, \"#9c179e\"], [0.4444444444444444, \"#bd3786\"], [0.5555555555555556, \"#d8576b\"], [0.6666666666666666, \"#ed7953\"], [0.7777777777777778, \"#fb9f3a\"], [0.8888888888888888, \"#fdca26\"], [1.0, \"#f0f921\"]], \"type\": \"heatmapgl\"}], \"histogram\": [{\"marker\": {\"colorbar\": {\"outlinewidth\": 0, \"ticks\": \"\"}}, \"type\": \"histogram\"}], \"histogram2d\": [{\"colorbar\": {\"outlinewidth\": 0, \"ticks\": \"\"}, \"colorscale\": [[0.0, \"#0d0887\"], [0.1111111111111111, \"#46039f\"], [0.2222222222222222, \"#7201a8\"], [0.3333333333333333, \"#9c179e\"], [0.4444444444444444, \"#bd3786\"], [0.5555555555555556, \"#d8576b\"], [0.6666666666666666, \"#ed7953\"], [0.7777777777777778, \"#fb9f3a\"], [0.8888888888888888, \"#fdca26\"], [1.0, \"#f0f921\"]], \"type\": \"histogram2d\"}], \"histogram2dcontour\": [{\"colorbar\": {\"outlinewidth\": 0, \"ticks\": \"\"}, \"colorscale\": [[0.0, \"#0d0887\"], [0.1111111111111111, \"#46039f\"], [0.2222222222222222, \"#7201a8\"], [0.3333333333333333, \"#9c179e\"], [0.4444444444444444, \"#bd3786\"], [0.5555555555555556, \"#d8576b\"], [0.6666666666666666, \"#ed7953\"], [0.7777777777777778, \"#fb9f3a\"], [0.8888888888888888, \"#fdca26\"], [1.0, \"#f0f921\"]], \"type\": \"histogram2dcontour\"}], \"mesh3d\": [{\"colorbar\": {\"outlinewidth\": 0, \"ticks\": \"\"}, \"type\": \"mesh3d\"}], \"parcoords\": [{\"line\": {\"colorbar\": {\"outlinewidth\": 0, \"ticks\": \"\"}}, \"type\": \"parcoords\"}], \"pie\": [{\"automargin\": true, \"type\": \"pie\"}], \"scatter\": [{\"marker\": {\"colorbar\": {\"outlinewidth\": 0, \"ticks\": \"\"}}, \"type\": \"scatter\"}], \"scatter3d\": [{\"line\": {\"colorbar\": {\"outlinewidth\": 0, \"ticks\": \"\"}}, \"marker\": {\"colorbar\": {\"outlinewidth\": 0, \"ticks\": \"\"}}, \"type\": \"scatter3d\"}], \"scattercarpet\": [{\"marker\": {\"colorbar\": {\"outlinewidth\": 0, \"ticks\": \"\"}}, \"type\": \"scattercarpet\"}], \"scattergeo\": [{\"marker\": {\"colorbar\": {\"outlinewidth\": 0, \"ticks\": \"\"}}, \"type\": \"scattergeo\"}], \"scattergl\": [{\"marker\": {\"colorbar\": {\"outlinewidth\": 0, \"ticks\": \"\"}}, \"type\": \"scattergl\"}], \"scattermapbox\": [{\"marker\": {\"colorbar\": {\"outlinewidth\": 0, \"ticks\": \"\"}}, \"type\": \"scattermapbox\"}], \"scatterpolar\": [{\"marker\": {\"colorbar\": {\"outlinewidth\": 0, \"ticks\": \"\"}}, \"type\": \"scatterpolar\"}], \"scatterpolargl\": [{\"marker\": {\"colorbar\": {\"outlinewidth\": 0, \"ticks\": \"\"}}, \"type\": \"scatterpolargl\"}], \"scatterternary\": [{\"marker\": {\"colorbar\": {\"outlinewidth\": 0, \"ticks\": \"\"}}, \"type\": \"scatterternary\"}], \"surface\": [{\"colorbar\": {\"outlinewidth\": 0, \"ticks\": \"\"}, \"colorscale\": [[0.0, \"#0d0887\"], [0.1111111111111111, \"#46039f\"], [0.2222222222222222, \"#7201a8\"], [0.3333333333333333, \"#9c179e\"], [0.4444444444444444, \"#bd3786\"], [0.5555555555555556, \"#d8576b\"], [0.6666666666666666, \"#ed7953\"], [0.7777777777777778, \"#fb9f3a\"], [0.8888888888888888, \"#fdca26\"], [1.0, \"#f0f921\"]], \"type\": \"surface\"}], \"table\": [{\"cells\": {\"fill\": {\"color\": \"#EBF0F8\"}, \"line\": {\"color\": \"white\"}}, \"header\": {\"fill\": {\"color\": \"#C8D4E3\"}, \"line\": {\"color\": \"white\"}}, \"type\": \"table\"}]}, \"layout\": {\"annotationdefaults\": {\"arrowcolor\": \"#2a3f5f\", \"arrowhead\": 0, \"arrowwidth\": 1}, \"coloraxis\": {\"colorbar\": {\"outlinewidth\": 0, \"ticks\": \"\"}}, \"colorscale\": {\"diverging\": [[0, \"#8e0152\"], [0.1, \"#c51b7d\"], [0.2, \"#de77ae\"], [0.3, \"#f1b6da\"], [0.4, \"#fde0ef\"], [0.5, \"#f7f7f7\"], [0.6, \"#e6f5d0\"], [0.7, \"#b8e186\"], [0.8, \"#7fbc41\"], [0.9, \"#4d9221\"], [1, \"#276419\"]], \"sequential\": [[0.0, \"#0d0887\"], [0.1111111111111111, \"#46039f\"], [0.2222222222222222, \"#7201a8\"], [0.3333333333333333, \"#9c179e\"], [0.4444444444444444, \"#bd3786\"], [0.5555555555555556, \"#d8576b\"], [0.6666666666666666, \"#ed7953\"], [0.7777777777777778, \"#fb9f3a\"], [0.8888888888888888, \"#fdca26\"], [1.0, \"#f0f921\"]], \"sequentialminus\": [[0.0, \"#0d0887\"], [0.1111111111111111, \"#46039f\"], [0.2222222222222222, \"#7201a8\"], [0.3333333333333333, \"#9c179e\"], [0.4444444444444444, \"#bd3786\"], [0.5555555555555556, \"#d8576b\"], [0.6666666666666666, \"#ed7953\"], [0.7777777777777778, \"#fb9f3a\"], [0.8888888888888888, \"#fdca26\"], [1.0, \"#f0f921\"]]}, \"colorway\": [\"#636efa\", \"#EF553B\", \"#00cc96\", \"#ab63fa\", \"#FFA15A\", \"#19d3f3\", \"#FF6692\", \"#B6E880\", \"#FF97FF\", \"#FECB52\"], \"font\": {\"color\": \"#2a3f5f\"}, \"geo\": {\"bgcolor\": \"white\", \"lakecolor\": \"white\", \"landcolor\": \"#E5ECF6\", \"showlakes\": true, \"showland\": true, \"subunitcolor\": \"white\"}, \"hoverlabel\": {\"align\": \"left\"}, \"hovermode\": \"closest\", \"mapbox\": {\"style\": \"light\"}, \"paper_bgcolor\": \"white\", \"plot_bgcolor\": \"#E5ECF6\", \"polar\": {\"angularaxis\": {\"gridcolor\": \"white\", \"linecolor\": \"white\", \"ticks\": \"\"}, \"bgcolor\": \"#E5ECF6\", \"radialaxis\": {\"gridcolor\": \"white\", \"linecolor\": \"white\", \"ticks\": \"\"}}, \"scene\": {\"xaxis\": {\"backgroundcolor\": \"#E5ECF6\", \"gridcolor\": \"white\", \"gridwidth\": 2, \"linecolor\": \"white\", \"showbackground\": true, \"ticks\": \"\", \"zerolinecolor\": \"white\"}, \"yaxis\": {\"backgroundcolor\": \"#E5ECF6\", \"gridcolor\": \"white\", \"gridwidth\": 2, \"linecolor\": \"white\", \"showbackground\": true, \"ticks\": \"\", \"zerolinecolor\": \"white\"}, \"zaxis\": {\"backgroundcolor\": \"#E5ECF6\", \"gridcolor\": \"white\", \"gridwidth\": 2, \"linecolor\": \"white\", \"showbackground\": true, \"ticks\": \"\", \"zerolinecolor\": \"white\"}}, \"shapedefaults\": {\"line\": {\"color\": \"#2a3f5f\"}}, \"ternary\": {\"aaxis\": {\"gridcolor\": \"white\", \"linecolor\": \"white\", \"ticks\": \"\"}, \"baxis\": {\"gridcolor\": \"white\", \"linecolor\": \"white\", \"ticks\": \"\"}, \"bgcolor\": \"#E5ECF6\", \"caxis\": {\"gridcolor\": \"white\", \"linecolor\": \"white\", \"ticks\": \"\"}}, \"title\": {\"x\": 0.05}, \"xaxis\": {\"automargin\": true, \"gridcolor\": \"white\", \"linecolor\": \"white\", \"ticks\": \"\", \"title\": {\"standoff\": 15}, \"zerolinecolor\": \"white\", \"zerolinewidth\": 2}, \"yaxis\": {\"automargin\": true, \"gridcolor\": \"white\", \"linecolor\": \"white\", \"ticks\": \"\", \"title\": {\"standoff\": 15}, \"zerolinecolor\": \"white\", \"zerolinewidth\": 2}}}, \"title\": {\"font\": {\"color\": \"#4D5663\"}}, \"xaxis\": {\"gridcolor\": \"#E1E5ED\", \"showgrid\": true, \"tickfont\": {\"color\": \"#4D5663\"}, \"title\": {\"font\": {\"color\": \"#4D5663\"}, \"text\": \"\"}, \"zerolinecolor\": \"#E1E5ED\"}, \"yaxis\": {\"gridcolor\": \"#E1E5ED\", \"showgrid\": true, \"tickfont\": {\"color\": \"#4D5663\"}, \"title\": {\"font\": {\"color\": \"#4D5663\"}, \"text\": \"\"}, \"zerolinecolor\": \"#E1E5ED\"}},\n",
       "                        {\"showLink\": true, \"linkText\": \"Export to plot.ly\", \"plotlyServerURL\": \"https://plot.ly\", \"responsive\": true}\n",
       "                    ).then(function(){\n",
       "                            \n",
       "var gd = document.getElementById('2bb62793-7239-4059-b25a-3138fa969a5d');\n",
       "var x = new MutationObserver(function (mutations, observer) {{\n",
       "        var display = window.getComputedStyle(gd).display;\n",
       "        if (!display || display === 'none') {{\n",
       "            console.log([gd, 'removed!']);\n",
       "            Plotly.purge(gd);\n",
       "            observer.disconnect();\n",
       "        }}\n",
       "}});\n",
       "\n",
       "// Listen for the removal of the full notebook cells\n",
       "var notebookContainer = gd.closest('#notebook-container');\n",
       "if (notebookContainer) {{\n",
       "    x.observe(notebookContainer, {childList: true});\n",
       "}}\n",
       "\n",
       "// Listen for the clearing of the current output cell\n",
       "var outputEl = gd.closest('.output');\n",
       "if (outputEl) {{\n",
       "    x.observe(outputEl, {childList: true});\n",
       "}}\n",
       "\n",
       "                        })\n",
       "                };\n",
       "                });\n",
       "            </script>\n",
       "        </div>"
      ]
     },
     "metadata": {},
     "output_type": "display_data"
    }
   ],
   "source": [
    "df.iplot(kind='bubble',x='A',y='B',size='C')"
   ]
  },
  {
   "cell_type": "markdown",
   "metadata": {},
   "source": [
    "## scatter_matrix()\n",
    "\n",
    "Similar to sns.pairplot()"
   ]
  },
  {
   "cell_type": "code",
   "execution_count": 21,
   "metadata": {},
   "outputs": [
    {
     "data": {
      "application/vnd.plotly.v1+json": {
       "config": {
        "linkText": "Export to plot.ly",
        "plotlyServerURL": "https://plot.ly",
        "showLink": true
       },
       "data": [
        {
         "histfunc": "count",
         "histnorm": "",
         "marker": {
          "color": "rgba(255, 153, 51, 1.0)",
          "line": {
           "color": "#4D5663",
           "width": 1.3
          }
         },
         "name": "A",
         "nbinsx": 10,
         "opacity": 0.8,
         "orientation": "v",
         "type": "histogram",
         "x": [
          0.43633476275957783,
          -0.9369666672884216,
          0.28852110280962995,
          -1.1011111414948977,
          0.32854507231159646,
          0.9816992515177357,
          -2.284421668511395,
          -0.26995513779247227,
          0.6501295774491413,
          -1.069402621774459,
          -1.2020976216798172,
          0.6513942645777206,
          0.7521897597563676,
          0.5426067229233946,
          0.3370644577358486,
          -0.5393103302681119,
          -0.6635779258219466,
          -0.24300598976235596,
          0.04496685936482622,
          -0.965346068356053,
          -0.24806693468330765,
          -0.16866354882736542,
          0.5444475088125463,
          0.5496623505488482,
          0.5450871232084065,
          -0.441345583389729,
          -0.9629954737171853,
          -0.676216274703561,
          0.006322641558518212,
          0.18664330349151873,
          -0.02609261417418306,
          -0.43677653611744,
          0.1424015252435575,
          1.9310702447132302,
          -0.9155454555589564,
          1.0582884814491147,
          0.7987834738109799,
          -1.53766916018999,
          -1.825814026600039,
          0.21272618276774719,
          1.5967775264793374,
          1.2929976854648164,
          0.06610609076863956,
          -0.5764360733096935,
          -1.56089420040441,
          -0.2554528079087033,
          1.8350740347678272,
          0.3598812399041258,
          -0.2814109679987709,
          0.3241194243912139,
          1.0661956656936156,
          -0.037067756201864574,
          -0.683125037067316,
          -1.0280984103041046,
          -0.07112279321412139,
          -0.5539586978476361,
          -0.5602855710925664,
          0.733138539889477,
          -1.0541102386248455,
          -1.3236651767229892,
          1.0168652515920766,
          -0.3566999154025523,
          0.6508321441587809,
          -0.0012140476126413513,
          -0.7882292100040235,
          2.883257249796413,
          0.3353217669277645,
          -1.0679692420258937,
          0.18293142627367062,
          0.11494991601411153,
          -0.3644172733653438,
          0.4987628257668977,
          0.8508934232296702,
          -0.08679926983528236,
          0.8047676559452972,
          0.2597526083971923,
          0.473929637781343,
          0.08581232319537543,
          -0.22410861057241027,
          -0.5257153363463388,
          1.6952648028066364,
          -0.696156975583712,
          -0.836353387975282,
          0.2965518348994222,
          -1.0012320086348452,
          -1.1544077261671366,
          -1.3350958845426832,
          0.7119427630233932,
          0.6411177748569961,
          -0.3001776750662769,
          -0.9048484414626201,
          0.7390101756217512,
          1.4819140122480443,
          0.5981606146092255,
          -0.26082548405743144,
          2.046254697130263,
          -1.9411641500930508,
          1.8452808905980655,
          1.4038573414777682,
          -0.8795591013597613
         ],
         "xaxis": "x",
         "yaxis": "y"
        },
        {
         "line": {
          "color": "rgba(128, 128, 128, 1.0)",
          "dash": "solid",
          "shape": "linear",
          "width": 1.3
         },
         "marker": {
          "size": 2,
          "symbol": "circle"
         },
         "mode": "markers",
         "name": "A",
         "text": "",
         "type": "scatter",
         "x": [
          -0.44728330349228973,
          -0.6069251354234275,
          -1.3738549093340406,
          1.2334111997303334,
          0.7397860123001738,
          1.5972494572851856,
          -0.018931915979927754,
          -1.2264327624064608,
          0.15592114116201142,
          -0.47902754325705527,
          1.2074916117611019,
          0.6889645260151184,
          1.6209155031439582,
          1.0377918747451134,
          -0.16857843049431245,
          0.7350503697272961,
          1.3732044642314538,
          0.17853748378804712,
          0.9201258074350492,
          0.661381730865682,
          1.485145958350401,
          -1.632119618070541,
          0.22748154932469294,
          -0.09458663553707516,
          0.21090274721930652,
          1.2583083792119074,
          1.6422290993212094,
          -1.019888999922517,
          -1.1262083616915823,
          0.7751631377435271,
          0.0780355504840483,
          0.29911039538859174,
          0.43807211050813644,
          -0.12770957828774504,
          -0.6521897822817302,
          -0.889630939076755,
          0.15986237919607987,
          -0.04342366071403783,
          -0.43520486123887653,
          0.5379206691506319,
          0.793787709378705,
          -0.4289924398492299,
          0.7369539710091716,
          2.087453696135382,
          0.5620994219564909,
          -0.20137912145968392,
          0.7257704929503092,
          1.1084092246082184,
          -0.5171551630835821,
          -1.1283322045922786,
          0.2593535652357022,
          -0.17267859924919277,
          -1.5345339901197232,
          -0.3209003352524528,
          -1.1744077524500085,
          1.4490429107416258,
          1.184950303089929,
          0.702234314776529,
          -0.6784286508938552,
          1.2835120424777373,
          -1.190989535539129,
          -0.3513939866455125,
          0.621578689492338,
          -0.4630544081124457,
          -0.4367365405676625,
          1.3421143639461248,
          1.7456877417419552,
          1.3034225510631996,
          -0.7624624397576985,
          -0.40495996101011833,
          -2.1648442884732138,
          0.5440779523888465,
          0.5287058951523081,
          -0.43876721681254327,
          0.6449127396655433,
          -1.8263143889063849,
          -0.7719047232387043,
          1.7518581179245638,
          0.8330915673690045,
          -0.4521002707172554,
          -0.5402986159008635,
          -1.2266100687118864,
          1.6575386196372557,
          0.7985342454287591,
          0.208928873721229,
          0.21447039459623737,
          -0.5130034897172456,
          1.4365715282093559,
          -0.24188464953388022,
          0.44495315267780716,
          0.07569986085313132,
          -0.42437427642700526,
          -0.5719674021359072,
          0.1764574730152452,
          0.5947324055814549,
          0.5454269787091772,
          -1.052784323807733,
          -0.5458881467962238,
          0.7868241229855274,
          0.38274020695729544
         ],
         "xaxis": "x2",
         "y": [
          0.43633476275957783,
          -0.9369666672884216,
          0.28852110280962995,
          -1.1011111414948977,
          0.32854507231159646,
          0.9816992515177357,
          -2.284421668511395,
          -0.26995513779247227,
          0.6501295774491413,
          -1.069402621774459,
          -1.2020976216798172,
          0.6513942645777206,
          0.7521897597563676,
          0.5426067229233946,
          0.3370644577358486,
          -0.5393103302681119,
          -0.6635779258219466,
          -0.24300598976235596,
          0.04496685936482622,
          -0.965346068356053,
          -0.24806693468330765,
          -0.16866354882736542,
          0.5444475088125463,
          0.5496623505488482,
          0.5450871232084065,
          -0.441345583389729,
          -0.9629954737171853,
          -0.676216274703561,
          0.006322641558518212,
          0.18664330349151873,
          -0.02609261417418306,
          -0.43677653611744,
          0.1424015252435575,
          1.9310702447132302,
          -0.9155454555589564,
          1.0582884814491147,
          0.7987834738109799,
          -1.53766916018999,
          -1.825814026600039,
          0.21272618276774719,
          1.5967775264793374,
          1.2929976854648164,
          0.06610609076863956,
          -0.5764360733096935,
          -1.56089420040441,
          -0.2554528079087033,
          1.8350740347678272,
          0.3598812399041258,
          -0.2814109679987709,
          0.3241194243912139,
          1.0661956656936156,
          -0.037067756201864574,
          -0.683125037067316,
          -1.0280984103041046,
          -0.07112279321412139,
          -0.5539586978476361,
          -0.5602855710925664,
          0.733138539889477,
          -1.0541102386248455,
          -1.3236651767229892,
          1.0168652515920766,
          -0.3566999154025523,
          0.6508321441587809,
          -0.0012140476126413513,
          -0.7882292100040235,
          2.883257249796413,
          0.3353217669277645,
          -1.0679692420258937,
          0.18293142627367062,
          0.11494991601411153,
          -0.3644172733653438,
          0.4987628257668977,
          0.8508934232296702,
          -0.08679926983528236,
          0.8047676559452972,
          0.2597526083971923,
          0.473929637781343,
          0.08581232319537543,
          -0.22410861057241027,
          -0.5257153363463388,
          1.6952648028066364,
          -0.696156975583712,
          -0.836353387975282,
          0.2965518348994222,
          -1.0012320086348452,
          -1.1544077261671366,
          -1.3350958845426832,
          0.7119427630233932,
          0.6411177748569961,
          -0.3001776750662769,
          -0.9048484414626201,
          0.7390101756217512,
          1.4819140122480443,
          0.5981606146092255,
          -0.26082548405743144,
          2.046254697130263,
          -1.9411641500930508,
          1.8452808905980655,
          1.4038573414777682,
          -0.8795591013597613
         ],
         "yaxis": "y2"
        },
        {
         "line": {
          "color": "rgba(128, 128, 128, 1.0)",
          "dash": "solid",
          "shape": "linear",
          "width": 1.3
         },
         "marker": {
          "size": 2,
          "symbol": "circle"
         },
         "mode": "markers",
         "name": "A",
         "text": "",
         "type": "scatter",
         "x": [
          -1.0982123211472223,
          -0.8259299755500107,
          -0.7305225541199882,
          0.720107783789928,
          -0.5928186870269706,
          -2.221998006414882,
          -0.9111011953571583,
          -0.8268344254508183,
          0.5503742059483506,
          0.5183046780501815,
          0.6233761079113126,
          -1.3176814636974876,
          -1.0634742227110472,
          0.3278291182580586,
          -1.1566317538908852,
          0.48651936928768663,
          -0.03653838637047471,
          1.653007305664229,
          -0.1958229601153937,
          -0.1034740526638445,
          0.04490066373735558,
          1.1224937886733377,
          0.7222367378387758,
          1.4706514608417816,
          -0.3142241484681474,
          0.11284754599516432,
          -0.30724990506555055,
          -1.7491330991294918,
          -1.2252328485947463,
          0.09352534171463371,
          1.3829204465828222,
          1.3511260484587433,
          1.3107742595531038,
          0.0809417137183472,
          1.5922218823186178,
          0.8712263112583314,
          -1.0707108309115585,
          0.37069160508749455,
          0.43896689117448273,
          0.5734965056512125,
          0.5837450872276433,
          0.7668530806250788,
          0.013962992393534482,
          -0.3417229619283658,
          -0.20048716140289452,
          0.08671683612266892,
          0.4644430720271357,
          1.488154778149524,
          0.329927389374604,
          -2.1909396981792013,
          -1.227067350706915,
          1.8092533081896278,
          0.6038176513462273,
          0.2373503625031047,
          0.26547491245028043,
          -1.5001638448332122,
          1.1623248531971837,
          -0.16634896425321918,
          0.17790771790500814,
          -0.7185197969294509,
          0.6942744580682934,
          -1.1457113673554422,
          -0.10374785054142244,
          -0.2697772837472289,
          0.09727540896632256,
          2.1288731444391957,
          0.5541755511720746,
          0.4630050450276214,
          1.401745625787054,
          0.048630674355072775,
          0.2670255072610249,
          0.4269269504719535,
          0.2655817805432928,
          -0.37239487301095187,
          0.6436911269862626,
          0.4065884256564243,
          -0.3670944204242437,
          -0.02858372895149097,
          0.12756327378376559,
          0.6012980960266838,
          0.22976530975734114,
          1.2257573359966114,
          -0.4416034437641445,
          2.2556705401005703,
          -0.8685076999087283,
          2.0536788184368193,
          -1.598836938693923,
          -0.9465883899592311,
          -0.40314555748828707,
          -0.694530839635493,
          -0.7307372515070665,
          -0.5871698677555784,
          1.1072087142715377,
          0.8274185652563609,
          0.10617915314525297,
          0.02584303115521473,
          -1.2556217710498638,
          0.8491784686253379,
          0.6927287923192079,
          -0.3234782098349899
         ],
         "xaxis": "x3",
         "y": [
          0.43633476275957783,
          -0.9369666672884216,
          0.28852110280962995,
          -1.1011111414948977,
          0.32854507231159646,
          0.9816992515177357,
          -2.284421668511395,
          -0.26995513779247227,
          0.6501295774491413,
          -1.069402621774459,
          -1.2020976216798172,
          0.6513942645777206,
          0.7521897597563676,
          0.5426067229233946,
          0.3370644577358486,
          -0.5393103302681119,
          -0.6635779258219466,
          -0.24300598976235596,
          0.04496685936482622,
          -0.965346068356053,
          -0.24806693468330765,
          -0.16866354882736542,
          0.5444475088125463,
          0.5496623505488482,
          0.5450871232084065,
          -0.441345583389729,
          -0.9629954737171853,
          -0.676216274703561,
          0.006322641558518212,
          0.18664330349151873,
          -0.02609261417418306,
          -0.43677653611744,
          0.1424015252435575,
          1.9310702447132302,
          -0.9155454555589564,
          1.0582884814491147,
          0.7987834738109799,
          -1.53766916018999,
          -1.825814026600039,
          0.21272618276774719,
          1.5967775264793374,
          1.2929976854648164,
          0.06610609076863956,
          -0.5764360733096935,
          -1.56089420040441,
          -0.2554528079087033,
          1.8350740347678272,
          0.3598812399041258,
          -0.2814109679987709,
          0.3241194243912139,
          1.0661956656936156,
          -0.037067756201864574,
          -0.683125037067316,
          -1.0280984103041046,
          -0.07112279321412139,
          -0.5539586978476361,
          -0.5602855710925664,
          0.733138539889477,
          -1.0541102386248455,
          -1.3236651767229892,
          1.0168652515920766,
          -0.3566999154025523,
          0.6508321441587809,
          -0.0012140476126413513,
          -0.7882292100040235,
          2.883257249796413,
          0.3353217669277645,
          -1.0679692420258937,
          0.18293142627367062,
          0.11494991601411153,
          -0.3644172733653438,
          0.4987628257668977,
          0.8508934232296702,
          -0.08679926983528236,
          0.8047676559452972,
          0.2597526083971923,
          0.473929637781343,
          0.08581232319537543,
          -0.22410861057241027,
          -0.5257153363463388,
          1.6952648028066364,
          -0.696156975583712,
          -0.836353387975282,
          0.2965518348994222,
          -1.0012320086348452,
          -1.1544077261671366,
          -1.3350958845426832,
          0.7119427630233932,
          0.6411177748569961,
          -0.3001776750662769,
          -0.9048484414626201,
          0.7390101756217512,
          1.4819140122480443,
          0.5981606146092255,
          -0.26082548405743144,
          2.046254697130263,
          -1.9411641500930508,
          1.8452808905980655,
          1.4038573414777682,
          -0.8795591013597613
         ],
         "yaxis": "y3"
        },
        {
         "line": {
          "color": "rgba(128, 128, 128, 1.0)",
          "dash": "solid",
          "shape": "linear",
          "width": 1.3
         },
         "marker": {
          "size": 2,
          "symbol": "circle"
         },
         "mode": "markers",
         "name": "A",
         "text": "",
         "type": "scatter",
         "x": [
          1.630537903401598,
          0.8596259162271885,
          -2.201701803685654,
          -3.534217963298778,
          -1.5647121206479027,
          -1.9460165473566289,
          -1.600711500655366,
          0.24496026220022085,
          0.24761018903712062,
          1.4626461181710488,
          -1.3307360466228269,
          -0.4056970141192723,
          2.0018706926157104,
          0.465333049526165,
          -0.4307098877456645,
          1.2606237424023388,
          1.1713426577960662,
          0.9939589097339985,
          -1.0547002716387939,
          -2.148493229373008,
          0.9849828216059247,
          0.7708700933760654,
          -0.4023329752573693,
          0.3387727596201499,
          -0.377640538406158,
          0.7077828889421378,
          0.437296417393377,
          -0.25250149416514633,
          0.3283687070181849,
          0.923418148118716,
          -0.23476138689172962,
          -0.19042000344896998,
          1.3269333170867752,
          -0.38285431319375884,
          -0.4051447522714992,
          -2.119114588900631,
          0.7573699236995283,
          1.5797688015470792,
          1.0873746111180669,
          -0.9111800936727553,
          -0.9372403608398806,
          -0.6262546218272432,
          -1.0346514690291975,
          -1.6461889785240422,
          0.6754840523961335,
          1.2130273306035568,
          0.6283597254489038,
          -2.057980108335055,
          -0.05080908028149197,
          0.8913803009541872,
          -1.2328032930343173,
          -0.7492373828468251,
          -0.35847637695229095,
          0.8502996394063193,
          -1.0639307618156,
          0.49994004751047344,
          -0.17306531029694197,
          0.3474560439886473,
          0.6618079012963677,
          1.059776304494004,
          0.5689765731912213,
          0.24017929467729499,
          -0.6365471459442161,
          0.3166088809693611,
          0.44030249853739367,
          -0.6616960144969435,
          -0.530144832027853,
          -0.6003412479446838,
          -0.533441646901601,
          -0.5465257789151005,
          2.1007521204793895,
          1.5441206792842839,
          0.3623993234571638,
          -1.0970523353008284,
          0.31783392276362477,
          -0.1192712023607618,
          -0.33470551654840375,
          1.09032158443945,
          1.177940122810895,
          -0.2389025734572126,
          1.0812155427994656,
          -0.12332922767154199,
          -1.925856235632639,
          0.7575441226419918,
          -0.8707962422601602,
          0.6212624930242022,
          0.18381420407798854,
          -0.10791157438462838,
          0.690179703212908,
          0.13465715668903508,
          -0.4094193011013336,
          0.031657076139166025,
          1.5626648342584941,
          0.9726799975738454,
          2.006103978315902,
          -0.5102779937383601,
          0.32502245757795994,
          0.3040279784391726,
          -1.8454370965590863,
          1.5328167250113136
         ],
         "xaxis": "x4",
         "y": [
          0.43633476275957783,
          -0.9369666672884216,
          0.28852110280962995,
          -1.1011111414948977,
          0.32854507231159646,
          0.9816992515177357,
          -2.284421668511395,
          -0.26995513779247227,
          0.6501295774491413,
          -1.069402621774459,
          -1.2020976216798172,
          0.6513942645777206,
          0.7521897597563676,
          0.5426067229233946,
          0.3370644577358486,
          -0.5393103302681119,
          -0.6635779258219466,
          -0.24300598976235596,
          0.04496685936482622,
          -0.965346068356053,
          -0.24806693468330765,
          -0.16866354882736542,
          0.5444475088125463,
          0.5496623505488482,
          0.5450871232084065,
          -0.441345583389729,
          -0.9629954737171853,
          -0.676216274703561,
          0.006322641558518212,
          0.18664330349151873,
          -0.02609261417418306,
          -0.43677653611744,
          0.1424015252435575,
          1.9310702447132302,
          -0.9155454555589564,
          1.0582884814491147,
          0.7987834738109799,
          -1.53766916018999,
          -1.825814026600039,
          0.21272618276774719,
          1.5967775264793374,
          1.2929976854648164,
          0.06610609076863956,
          -0.5764360733096935,
          -1.56089420040441,
          -0.2554528079087033,
          1.8350740347678272,
          0.3598812399041258,
          -0.2814109679987709,
          0.3241194243912139,
          1.0661956656936156,
          -0.037067756201864574,
          -0.683125037067316,
          -1.0280984103041046,
          -0.07112279321412139,
          -0.5539586978476361,
          -0.5602855710925664,
          0.733138539889477,
          -1.0541102386248455,
          -1.3236651767229892,
          1.0168652515920766,
          -0.3566999154025523,
          0.6508321441587809,
          -0.0012140476126413513,
          -0.7882292100040235,
          2.883257249796413,
          0.3353217669277645,
          -1.0679692420258937,
          0.18293142627367062,
          0.11494991601411153,
          -0.3644172733653438,
          0.4987628257668977,
          0.8508934232296702,
          -0.08679926983528236,
          0.8047676559452972,
          0.2597526083971923,
          0.473929637781343,
          0.08581232319537543,
          -0.22410861057241027,
          -0.5257153363463388,
          1.6952648028066364,
          -0.696156975583712,
          -0.836353387975282,
          0.2965518348994222,
          -1.0012320086348452,
          -1.1544077261671366,
          -1.3350958845426832,
          0.7119427630233932,
          0.6411177748569961,
          -0.3001776750662769,
          -0.9048484414626201,
          0.7390101756217512,
          1.4819140122480443,
          0.5981606146092255,
          -0.26082548405743144,
          2.046254697130263,
          -1.9411641500930508,
          1.8452808905980655,
          1.4038573414777682,
          -0.8795591013597613
         ],
         "yaxis": "y4"
        },
        {
         "line": {
          "color": "rgba(128, 128, 128, 1.0)",
          "dash": "solid",
          "shape": "linear",
          "width": 1.3
         },
         "marker": {
          "size": 2,
          "symbol": "circle"
         },
         "mode": "markers",
         "name": "B",
         "text": "",
         "type": "scatter",
         "x": [
          0.43633476275957783,
          -0.9369666672884216,
          0.28852110280962995,
          -1.1011111414948977,
          0.32854507231159646,
          0.9816992515177357,
          -2.284421668511395,
          -0.26995513779247227,
          0.6501295774491413,
          -1.069402621774459,
          -1.2020976216798172,
          0.6513942645777206,
          0.7521897597563676,
          0.5426067229233946,
          0.3370644577358486,
          -0.5393103302681119,
          -0.6635779258219466,
          -0.24300598976235596,
          0.04496685936482622,
          -0.965346068356053,
          -0.24806693468330765,
          -0.16866354882736542,
          0.5444475088125463,
          0.5496623505488482,
          0.5450871232084065,
          -0.441345583389729,
          -0.9629954737171853,
          -0.676216274703561,
          0.006322641558518212,
          0.18664330349151873,
          -0.02609261417418306,
          -0.43677653611744,
          0.1424015252435575,
          1.9310702447132302,
          -0.9155454555589564,
          1.0582884814491147,
          0.7987834738109799,
          -1.53766916018999,
          -1.825814026600039,
          0.21272618276774719,
          1.5967775264793374,
          1.2929976854648164,
          0.06610609076863956,
          -0.5764360733096935,
          -1.56089420040441,
          -0.2554528079087033,
          1.8350740347678272,
          0.3598812399041258,
          -0.2814109679987709,
          0.3241194243912139,
          1.0661956656936156,
          -0.037067756201864574,
          -0.683125037067316,
          -1.0280984103041046,
          -0.07112279321412139,
          -0.5539586978476361,
          -0.5602855710925664,
          0.733138539889477,
          -1.0541102386248455,
          -1.3236651767229892,
          1.0168652515920766,
          -0.3566999154025523,
          0.6508321441587809,
          -0.0012140476126413513,
          -0.7882292100040235,
          2.883257249796413,
          0.3353217669277645,
          -1.0679692420258937,
          0.18293142627367062,
          0.11494991601411153,
          -0.3644172733653438,
          0.4987628257668977,
          0.8508934232296702,
          -0.08679926983528236,
          0.8047676559452972,
          0.2597526083971923,
          0.473929637781343,
          0.08581232319537543,
          -0.22410861057241027,
          -0.5257153363463388,
          1.6952648028066364,
          -0.696156975583712,
          -0.836353387975282,
          0.2965518348994222,
          -1.0012320086348452,
          -1.1544077261671366,
          -1.3350958845426832,
          0.7119427630233932,
          0.6411177748569961,
          -0.3001776750662769,
          -0.9048484414626201,
          0.7390101756217512,
          1.4819140122480443,
          0.5981606146092255,
          -0.26082548405743144,
          2.046254697130263,
          -1.9411641500930508,
          1.8452808905980655,
          1.4038573414777682,
          -0.8795591013597613
         ],
         "xaxis": "x5",
         "y": [
          -0.44728330349228973,
          -0.6069251354234275,
          -1.3738549093340406,
          1.2334111997303334,
          0.7397860123001738,
          1.5972494572851856,
          -0.018931915979927754,
          -1.2264327624064608,
          0.15592114116201142,
          -0.47902754325705527,
          1.2074916117611019,
          0.6889645260151184,
          1.6209155031439582,
          1.0377918747451134,
          -0.16857843049431245,
          0.7350503697272961,
          1.3732044642314538,
          0.17853748378804712,
          0.9201258074350492,
          0.661381730865682,
          1.485145958350401,
          -1.632119618070541,
          0.22748154932469294,
          -0.09458663553707516,
          0.21090274721930652,
          1.2583083792119074,
          1.6422290993212094,
          -1.019888999922517,
          -1.1262083616915823,
          0.7751631377435271,
          0.0780355504840483,
          0.29911039538859174,
          0.43807211050813644,
          -0.12770957828774504,
          -0.6521897822817302,
          -0.889630939076755,
          0.15986237919607987,
          -0.04342366071403783,
          -0.43520486123887653,
          0.5379206691506319,
          0.793787709378705,
          -0.4289924398492299,
          0.7369539710091716,
          2.087453696135382,
          0.5620994219564909,
          -0.20137912145968392,
          0.7257704929503092,
          1.1084092246082184,
          -0.5171551630835821,
          -1.1283322045922786,
          0.2593535652357022,
          -0.17267859924919277,
          -1.5345339901197232,
          -0.3209003352524528,
          -1.1744077524500085,
          1.4490429107416258,
          1.184950303089929,
          0.702234314776529,
          -0.6784286508938552,
          1.2835120424777373,
          -1.190989535539129,
          -0.3513939866455125,
          0.621578689492338,
          -0.4630544081124457,
          -0.4367365405676625,
          1.3421143639461248,
          1.7456877417419552,
          1.3034225510631996,
          -0.7624624397576985,
          -0.40495996101011833,
          -2.1648442884732138,
          0.5440779523888465,
          0.5287058951523081,
          -0.43876721681254327,
          0.6449127396655433,
          -1.8263143889063849,
          -0.7719047232387043,
          1.7518581179245638,
          0.8330915673690045,
          -0.4521002707172554,
          -0.5402986159008635,
          -1.2266100687118864,
          1.6575386196372557,
          0.7985342454287591,
          0.208928873721229,
          0.21447039459623737,
          -0.5130034897172456,
          1.4365715282093559,
          -0.24188464953388022,
          0.44495315267780716,
          0.07569986085313132,
          -0.42437427642700526,
          -0.5719674021359072,
          0.1764574730152452,
          0.5947324055814549,
          0.5454269787091772,
          -1.052784323807733,
          -0.5458881467962238,
          0.7868241229855274,
          0.38274020695729544
         ],
         "yaxis": "y5"
        },
        {
         "histfunc": "count",
         "histnorm": "",
         "marker": {
          "color": "rgba(55, 128, 191, 1.0)",
          "line": {
           "color": "#4D5663",
           "width": 1.3
          }
         },
         "name": "B",
         "nbinsx": 10,
         "opacity": 0.8,
         "orientation": "v",
         "type": "histogram",
         "x": [
          -0.44728330349228973,
          -0.6069251354234275,
          -1.3738549093340406,
          1.2334111997303334,
          0.7397860123001738,
          1.5972494572851856,
          -0.018931915979927754,
          -1.2264327624064608,
          0.15592114116201142,
          -0.47902754325705527,
          1.2074916117611019,
          0.6889645260151184,
          1.6209155031439582,
          1.0377918747451134,
          -0.16857843049431245,
          0.7350503697272961,
          1.3732044642314538,
          0.17853748378804712,
          0.9201258074350492,
          0.661381730865682,
          1.485145958350401,
          -1.632119618070541,
          0.22748154932469294,
          -0.09458663553707516,
          0.21090274721930652,
          1.2583083792119074,
          1.6422290993212094,
          -1.019888999922517,
          -1.1262083616915823,
          0.7751631377435271,
          0.0780355504840483,
          0.29911039538859174,
          0.43807211050813644,
          -0.12770957828774504,
          -0.6521897822817302,
          -0.889630939076755,
          0.15986237919607987,
          -0.04342366071403783,
          -0.43520486123887653,
          0.5379206691506319,
          0.793787709378705,
          -0.4289924398492299,
          0.7369539710091716,
          2.087453696135382,
          0.5620994219564909,
          -0.20137912145968392,
          0.7257704929503092,
          1.1084092246082184,
          -0.5171551630835821,
          -1.1283322045922786,
          0.2593535652357022,
          -0.17267859924919277,
          -1.5345339901197232,
          -0.3209003352524528,
          -1.1744077524500085,
          1.4490429107416258,
          1.184950303089929,
          0.702234314776529,
          -0.6784286508938552,
          1.2835120424777373,
          -1.190989535539129,
          -0.3513939866455125,
          0.621578689492338,
          -0.4630544081124457,
          -0.4367365405676625,
          1.3421143639461248,
          1.7456877417419552,
          1.3034225510631996,
          -0.7624624397576985,
          -0.40495996101011833,
          -2.1648442884732138,
          0.5440779523888465,
          0.5287058951523081,
          -0.43876721681254327,
          0.6449127396655433,
          -1.8263143889063849,
          -0.7719047232387043,
          1.7518581179245638,
          0.8330915673690045,
          -0.4521002707172554,
          -0.5402986159008635,
          -1.2266100687118864,
          1.6575386196372557,
          0.7985342454287591,
          0.208928873721229,
          0.21447039459623737,
          -0.5130034897172456,
          1.4365715282093559,
          -0.24188464953388022,
          0.44495315267780716,
          0.07569986085313132,
          -0.42437427642700526,
          -0.5719674021359072,
          0.1764574730152452,
          0.5947324055814549,
          0.5454269787091772,
          -1.052784323807733,
          -0.5458881467962238,
          0.7868241229855274,
          0.38274020695729544
         ],
         "xaxis": "x6",
         "yaxis": "y6"
        },
        {
         "line": {
          "color": "rgba(128, 128, 128, 1.0)",
          "dash": "solid",
          "shape": "linear",
          "width": 1.3
         },
         "marker": {
          "size": 2,
          "symbol": "circle"
         },
         "mode": "markers",
         "name": "B",
         "text": "",
         "type": "scatter",
         "x": [
          -1.0982123211472223,
          -0.8259299755500107,
          -0.7305225541199882,
          0.720107783789928,
          -0.5928186870269706,
          -2.221998006414882,
          -0.9111011953571583,
          -0.8268344254508183,
          0.5503742059483506,
          0.5183046780501815,
          0.6233761079113126,
          -1.3176814636974876,
          -1.0634742227110472,
          0.3278291182580586,
          -1.1566317538908852,
          0.48651936928768663,
          -0.03653838637047471,
          1.653007305664229,
          -0.1958229601153937,
          -0.1034740526638445,
          0.04490066373735558,
          1.1224937886733377,
          0.7222367378387758,
          1.4706514608417816,
          -0.3142241484681474,
          0.11284754599516432,
          -0.30724990506555055,
          -1.7491330991294918,
          -1.2252328485947463,
          0.09352534171463371,
          1.3829204465828222,
          1.3511260484587433,
          1.3107742595531038,
          0.0809417137183472,
          1.5922218823186178,
          0.8712263112583314,
          -1.0707108309115585,
          0.37069160508749455,
          0.43896689117448273,
          0.5734965056512125,
          0.5837450872276433,
          0.7668530806250788,
          0.013962992393534482,
          -0.3417229619283658,
          -0.20048716140289452,
          0.08671683612266892,
          0.4644430720271357,
          1.488154778149524,
          0.329927389374604,
          -2.1909396981792013,
          -1.227067350706915,
          1.8092533081896278,
          0.6038176513462273,
          0.2373503625031047,
          0.26547491245028043,
          -1.5001638448332122,
          1.1623248531971837,
          -0.16634896425321918,
          0.17790771790500814,
          -0.7185197969294509,
          0.6942744580682934,
          -1.1457113673554422,
          -0.10374785054142244,
          -0.2697772837472289,
          0.09727540896632256,
          2.1288731444391957,
          0.5541755511720746,
          0.4630050450276214,
          1.401745625787054,
          0.048630674355072775,
          0.2670255072610249,
          0.4269269504719535,
          0.2655817805432928,
          -0.37239487301095187,
          0.6436911269862626,
          0.4065884256564243,
          -0.3670944204242437,
          -0.02858372895149097,
          0.12756327378376559,
          0.6012980960266838,
          0.22976530975734114,
          1.2257573359966114,
          -0.4416034437641445,
          2.2556705401005703,
          -0.8685076999087283,
          2.0536788184368193,
          -1.598836938693923,
          -0.9465883899592311,
          -0.40314555748828707,
          -0.694530839635493,
          -0.7307372515070665,
          -0.5871698677555784,
          1.1072087142715377,
          0.8274185652563609,
          0.10617915314525297,
          0.02584303115521473,
          -1.2556217710498638,
          0.8491784686253379,
          0.6927287923192079,
          -0.3234782098349899
         ],
         "xaxis": "x7",
         "y": [
          -0.44728330349228973,
          -0.6069251354234275,
          -1.3738549093340406,
          1.2334111997303334,
          0.7397860123001738,
          1.5972494572851856,
          -0.018931915979927754,
          -1.2264327624064608,
          0.15592114116201142,
          -0.47902754325705527,
          1.2074916117611019,
          0.6889645260151184,
          1.6209155031439582,
          1.0377918747451134,
          -0.16857843049431245,
          0.7350503697272961,
          1.3732044642314538,
          0.17853748378804712,
          0.9201258074350492,
          0.661381730865682,
          1.485145958350401,
          -1.632119618070541,
          0.22748154932469294,
          -0.09458663553707516,
          0.21090274721930652,
          1.2583083792119074,
          1.6422290993212094,
          -1.019888999922517,
          -1.1262083616915823,
          0.7751631377435271,
          0.0780355504840483,
          0.29911039538859174,
          0.43807211050813644,
          -0.12770957828774504,
          -0.6521897822817302,
          -0.889630939076755,
          0.15986237919607987,
          -0.04342366071403783,
          -0.43520486123887653,
          0.5379206691506319,
          0.793787709378705,
          -0.4289924398492299,
          0.7369539710091716,
          2.087453696135382,
          0.5620994219564909,
          -0.20137912145968392,
          0.7257704929503092,
          1.1084092246082184,
          -0.5171551630835821,
          -1.1283322045922786,
          0.2593535652357022,
          -0.17267859924919277,
          -1.5345339901197232,
          -0.3209003352524528,
          -1.1744077524500085,
          1.4490429107416258,
          1.184950303089929,
          0.702234314776529,
          -0.6784286508938552,
          1.2835120424777373,
          -1.190989535539129,
          -0.3513939866455125,
          0.621578689492338,
          -0.4630544081124457,
          -0.4367365405676625,
          1.3421143639461248,
          1.7456877417419552,
          1.3034225510631996,
          -0.7624624397576985,
          -0.40495996101011833,
          -2.1648442884732138,
          0.5440779523888465,
          0.5287058951523081,
          -0.43876721681254327,
          0.6449127396655433,
          -1.8263143889063849,
          -0.7719047232387043,
          1.7518581179245638,
          0.8330915673690045,
          -0.4521002707172554,
          -0.5402986159008635,
          -1.2266100687118864,
          1.6575386196372557,
          0.7985342454287591,
          0.208928873721229,
          0.21447039459623737,
          -0.5130034897172456,
          1.4365715282093559,
          -0.24188464953388022,
          0.44495315267780716,
          0.07569986085313132,
          -0.42437427642700526,
          -0.5719674021359072,
          0.1764574730152452,
          0.5947324055814549,
          0.5454269787091772,
          -1.052784323807733,
          -0.5458881467962238,
          0.7868241229855274,
          0.38274020695729544
         ],
         "yaxis": "y7"
        },
        {
         "line": {
          "color": "rgba(128, 128, 128, 1.0)",
          "dash": "solid",
          "shape": "linear",
          "width": 1.3
         },
         "marker": {
          "size": 2,
          "symbol": "circle"
         },
         "mode": "markers",
         "name": "B",
         "text": "",
         "type": "scatter",
         "x": [
          1.630537903401598,
          0.8596259162271885,
          -2.201701803685654,
          -3.534217963298778,
          -1.5647121206479027,
          -1.9460165473566289,
          -1.600711500655366,
          0.24496026220022085,
          0.24761018903712062,
          1.4626461181710488,
          -1.3307360466228269,
          -0.4056970141192723,
          2.0018706926157104,
          0.465333049526165,
          -0.4307098877456645,
          1.2606237424023388,
          1.1713426577960662,
          0.9939589097339985,
          -1.0547002716387939,
          -2.148493229373008,
          0.9849828216059247,
          0.7708700933760654,
          -0.4023329752573693,
          0.3387727596201499,
          -0.377640538406158,
          0.7077828889421378,
          0.437296417393377,
          -0.25250149416514633,
          0.3283687070181849,
          0.923418148118716,
          -0.23476138689172962,
          -0.19042000344896998,
          1.3269333170867752,
          -0.38285431319375884,
          -0.4051447522714992,
          -2.119114588900631,
          0.7573699236995283,
          1.5797688015470792,
          1.0873746111180669,
          -0.9111800936727553,
          -0.9372403608398806,
          -0.6262546218272432,
          -1.0346514690291975,
          -1.6461889785240422,
          0.6754840523961335,
          1.2130273306035568,
          0.6283597254489038,
          -2.057980108335055,
          -0.05080908028149197,
          0.8913803009541872,
          -1.2328032930343173,
          -0.7492373828468251,
          -0.35847637695229095,
          0.8502996394063193,
          -1.0639307618156,
          0.49994004751047344,
          -0.17306531029694197,
          0.3474560439886473,
          0.6618079012963677,
          1.059776304494004,
          0.5689765731912213,
          0.24017929467729499,
          -0.6365471459442161,
          0.3166088809693611,
          0.44030249853739367,
          -0.6616960144969435,
          -0.530144832027853,
          -0.6003412479446838,
          -0.533441646901601,
          -0.5465257789151005,
          2.1007521204793895,
          1.5441206792842839,
          0.3623993234571638,
          -1.0970523353008284,
          0.31783392276362477,
          -0.1192712023607618,
          -0.33470551654840375,
          1.09032158443945,
          1.177940122810895,
          -0.2389025734572126,
          1.0812155427994656,
          -0.12332922767154199,
          -1.925856235632639,
          0.7575441226419918,
          -0.8707962422601602,
          0.6212624930242022,
          0.18381420407798854,
          -0.10791157438462838,
          0.690179703212908,
          0.13465715668903508,
          -0.4094193011013336,
          0.031657076139166025,
          1.5626648342584941,
          0.9726799975738454,
          2.006103978315902,
          -0.5102779937383601,
          0.32502245757795994,
          0.3040279784391726,
          -1.8454370965590863,
          1.5328167250113136
         ],
         "xaxis": "x8",
         "y": [
          -0.44728330349228973,
          -0.6069251354234275,
          -1.3738549093340406,
          1.2334111997303334,
          0.7397860123001738,
          1.5972494572851856,
          -0.018931915979927754,
          -1.2264327624064608,
          0.15592114116201142,
          -0.47902754325705527,
          1.2074916117611019,
          0.6889645260151184,
          1.6209155031439582,
          1.0377918747451134,
          -0.16857843049431245,
          0.7350503697272961,
          1.3732044642314538,
          0.17853748378804712,
          0.9201258074350492,
          0.661381730865682,
          1.485145958350401,
          -1.632119618070541,
          0.22748154932469294,
          -0.09458663553707516,
          0.21090274721930652,
          1.2583083792119074,
          1.6422290993212094,
          -1.019888999922517,
          -1.1262083616915823,
          0.7751631377435271,
          0.0780355504840483,
          0.29911039538859174,
          0.43807211050813644,
          -0.12770957828774504,
          -0.6521897822817302,
          -0.889630939076755,
          0.15986237919607987,
          -0.04342366071403783,
          -0.43520486123887653,
          0.5379206691506319,
          0.793787709378705,
          -0.4289924398492299,
          0.7369539710091716,
          2.087453696135382,
          0.5620994219564909,
          -0.20137912145968392,
          0.7257704929503092,
          1.1084092246082184,
          -0.5171551630835821,
          -1.1283322045922786,
          0.2593535652357022,
          -0.17267859924919277,
          -1.5345339901197232,
          -0.3209003352524528,
          -1.1744077524500085,
          1.4490429107416258,
          1.184950303089929,
          0.702234314776529,
          -0.6784286508938552,
          1.2835120424777373,
          -1.190989535539129,
          -0.3513939866455125,
          0.621578689492338,
          -0.4630544081124457,
          -0.4367365405676625,
          1.3421143639461248,
          1.7456877417419552,
          1.3034225510631996,
          -0.7624624397576985,
          -0.40495996101011833,
          -2.1648442884732138,
          0.5440779523888465,
          0.5287058951523081,
          -0.43876721681254327,
          0.6449127396655433,
          -1.8263143889063849,
          -0.7719047232387043,
          1.7518581179245638,
          0.8330915673690045,
          -0.4521002707172554,
          -0.5402986159008635,
          -1.2266100687118864,
          1.6575386196372557,
          0.7985342454287591,
          0.208928873721229,
          0.21447039459623737,
          -0.5130034897172456,
          1.4365715282093559,
          -0.24188464953388022,
          0.44495315267780716,
          0.07569986085313132,
          -0.42437427642700526,
          -0.5719674021359072,
          0.1764574730152452,
          0.5947324055814549,
          0.5454269787091772,
          -1.052784323807733,
          -0.5458881467962238,
          0.7868241229855274,
          0.38274020695729544
         ],
         "yaxis": "y8"
        },
        {
         "line": {
          "color": "rgba(128, 128, 128, 1.0)",
          "dash": "solid",
          "shape": "linear",
          "width": 1.3
         },
         "marker": {
          "size": 2,
          "symbol": "circle"
         },
         "mode": "markers",
         "name": "C",
         "text": "",
         "type": "scatter",
         "x": [
          0.43633476275957783,
          -0.9369666672884216,
          0.28852110280962995,
          -1.1011111414948977,
          0.32854507231159646,
          0.9816992515177357,
          -2.284421668511395,
          -0.26995513779247227,
          0.6501295774491413,
          -1.069402621774459,
          -1.2020976216798172,
          0.6513942645777206,
          0.7521897597563676,
          0.5426067229233946,
          0.3370644577358486,
          -0.5393103302681119,
          -0.6635779258219466,
          -0.24300598976235596,
          0.04496685936482622,
          -0.965346068356053,
          -0.24806693468330765,
          -0.16866354882736542,
          0.5444475088125463,
          0.5496623505488482,
          0.5450871232084065,
          -0.441345583389729,
          -0.9629954737171853,
          -0.676216274703561,
          0.006322641558518212,
          0.18664330349151873,
          -0.02609261417418306,
          -0.43677653611744,
          0.1424015252435575,
          1.9310702447132302,
          -0.9155454555589564,
          1.0582884814491147,
          0.7987834738109799,
          -1.53766916018999,
          -1.825814026600039,
          0.21272618276774719,
          1.5967775264793374,
          1.2929976854648164,
          0.06610609076863956,
          -0.5764360733096935,
          -1.56089420040441,
          -0.2554528079087033,
          1.8350740347678272,
          0.3598812399041258,
          -0.2814109679987709,
          0.3241194243912139,
          1.0661956656936156,
          -0.037067756201864574,
          -0.683125037067316,
          -1.0280984103041046,
          -0.07112279321412139,
          -0.5539586978476361,
          -0.5602855710925664,
          0.733138539889477,
          -1.0541102386248455,
          -1.3236651767229892,
          1.0168652515920766,
          -0.3566999154025523,
          0.6508321441587809,
          -0.0012140476126413513,
          -0.7882292100040235,
          2.883257249796413,
          0.3353217669277645,
          -1.0679692420258937,
          0.18293142627367062,
          0.11494991601411153,
          -0.3644172733653438,
          0.4987628257668977,
          0.8508934232296702,
          -0.08679926983528236,
          0.8047676559452972,
          0.2597526083971923,
          0.473929637781343,
          0.08581232319537543,
          -0.22410861057241027,
          -0.5257153363463388,
          1.6952648028066364,
          -0.696156975583712,
          -0.836353387975282,
          0.2965518348994222,
          -1.0012320086348452,
          -1.1544077261671366,
          -1.3350958845426832,
          0.7119427630233932,
          0.6411177748569961,
          -0.3001776750662769,
          -0.9048484414626201,
          0.7390101756217512,
          1.4819140122480443,
          0.5981606146092255,
          -0.26082548405743144,
          2.046254697130263,
          -1.9411641500930508,
          1.8452808905980655,
          1.4038573414777682,
          -0.8795591013597613
         ],
         "xaxis": "x9",
         "y": [
          -1.0982123211472223,
          -0.8259299755500107,
          -0.7305225541199882,
          0.720107783789928,
          -0.5928186870269706,
          -2.221998006414882,
          -0.9111011953571583,
          -0.8268344254508183,
          0.5503742059483506,
          0.5183046780501815,
          0.6233761079113126,
          -1.3176814636974876,
          -1.0634742227110472,
          0.3278291182580586,
          -1.1566317538908852,
          0.48651936928768663,
          -0.03653838637047471,
          1.653007305664229,
          -0.1958229601153937,
          -0.1034740526638445,
          0.04490066373735558,
          1.1224937886733377,
          0.7222367378387758,
          1.4706514608417816,
          -0.3142241484681474,
          0.11284754599516432,
          -0.30724990506555055,
          -1.7491330991294918,
          -1.2252328485947463,
          0.09352534171463371,
          1.3829204465828222,
          1.3511260484587433,
          1.3107742595531038,
          0.0809417137183472,
          1.5922218823186178,
          0.8712263112583314,
          -1.0707108309115585,
          0.37069160508749455,
          0.43896689117448273,
          0.5734965056512125,
          0.5837450872276433,
          0.7668530806250788,
          0.013962992393534482,
          -0.3417229619283658,
          -0.20048716140289452,
          0.08671683612266892,
          0.4644430720271357,
          1.488154778149524,
          0.329927389374604,
          -2.1909396981792013,
          -1.227067350706915,
          1.8092533081896278,
          0.6038176513462273,
          0.2373503625031047,
          0.26547491245028043,
          -1.5001638448332122,
          1.1623248531971837,
          -0.16634896425321918,
          0.17790771790500814,
          -0.7185197969294509,
          0.6942744580682934,
          -1.1457113673554422,
          -0.10374785054142244,
          -0.2697772837472289,
          0.09727540896632256,
          2.1288731444391957,
          0.5541755511720746,
          0.4630050450276214,
          1.401745625787054,
          0.048630674355072775,
          0.2670255072610249,
          0.4269269504719535,
          0.2655817805432928,
          -0.37239487301095187,
          0.6436911269862626,
          0.4065884256564243,
          -0.3670944204242437,
          -0.02858372895149097,
          0.12756327378376559,
          0.6012980960266838,
          0.22976530975734114,
          1.2257573359966114,
          -0.4416034437641445,
          2.2556705401005703,
          -0.8685076999087283,
          2.0536788184368193,
          -1.598836938693923,
          -0.9465883899592311,
          -0.40314555748828707,
          -0.694530839635493,
          -0.7307372515070665,
          -0.5871698677555784,
          1.1072087142715377,
          0.8274185652563609,
          0.10617915314525297,
          0.02584303115521473,
          -1.2556217710498638,
          0.8491784686253379,
          0.6927287923192079,
          -0.3234782098349899
         ],
         "yaxis": "y9"
        },
        {
         "line": {
          "color": "rgba(128, 128, 128, 1.0)",
          "dash": "solid",
          "shape": "linear",
          "width": 1.3
         },
         "marker": {
          "size": 2,
          "symbol": "circle"
         },
         "mode": "markers",
         "name": "C",
         "text": "",
         "type": "scatter",
         "x": [
          -0.44728330349228973,
          -0.6069251354234275,
          -1.3738549093340406,
          1.2334111997303334,
          0.7397860123001738,
          1.5972494572851856,
          -0.018931915979927754,
          -1.2264327624064608,
          0.15592114116201142,
          -0.47902754325705527,
          1.2074916117611019,
          0.6889645260151184,
          1.6209155031439582,
          1.0377918747451134,
          -0.16857843049431245,
          0.7350503697272961,
          1.3732044642314538,
          0.17853748378804712,
          0.9201258074350492,
          0.661381730865682,
          1.485145958350401,
          -1.632119618070541,
          0.22748154932469294,
          -0.09458663553707516,
          0.21090274721930652,
          1.2583083792119074,
          1.6422290993212094,
          -1.019888999922517,
          -1.1262083616915823,
          0.7751631377435271,
          0.0780355504840483,
          0.29911039538859174,
          0.43807211050813644,
          -0.12770957828774504,
          -0.6521897822817302,
          -0.889630939076755,
          0.15986237919607987,
          -0.04342366071403783,
          -0.43520486123887653,
          0.5379206691506319,
          0.793787709378705,
          -0.4289924398492299,
          0.7369539710091716,
          2.087453696135382,
          0.5620994219564909,
          -0.20137912145968392,
          0.7257704929503092,
          1.1084092246082184,
          -0.5171551630835821,
          -1.1283322045922786,
          0.2593535652357022,
          -0.17267859924919277,
          -1.5345339901197232,
          -0.3209003352524528,
          -1.1744077524500085,
          1.4490429107416258,
          1.184950303089929,
          0.702234314776529,
          -0.6784286508938552,
          1.2835120424777373,
          -1.190989535539129,
          -0.3513939866455125,
          0.621578689492338,
          -0.4630544081124457,
          -0.4367365405676625,
          1.3421143639461248,
          1.7456877417419552,
          1.3034225510631996,
          -0.7624624397576985,
          -0.40495996101011833,
          -2.1648442884732138,
          0.5440779523888465,
          0.5287058951523081,
          -0.43876721681254327,
          0.6449127396655433,
          -1.8263143889063849,
          -0.7719047232387043,
          1.7518581179245638,
          0.8330915673690045,
          -0.4521002707172554,
          -0.5402986159008635,
          -1.2266100687118864,
          1.6575386196372557,
          0.7985342454287591,
          0.208928873721229,
          0.21447039459623737,
          -0.5130034897172456,
          1.4365715282093559,
          -0.24188464953388022,
          0.44495315267780716,
          0.07569986085313132,
          -0.42437427642700526,
          -0.5719674021359072,
          0.1764574730152452,
          0.5947324055814549,
          0.5454269787091772,
          -1.052784323807733,
          -0.5458881467962238,
          0.7868241229855274,
          0.38274020695729544
         ],
         "xaxis": "x10",
         "y": [
          -1.0982123211472223,
          -0.8259299755500107,
          -0.7305225541199882,
          0.720107783789928,
          -0.5928186870269706,
          -2.221998006414882,
          -0.9111011953571583,
          -0.8268344254508183,
          0.5503742059483506,
          0.5183046780501815,
          0.6233761079113126,
          -1.3176814636974876,
          -1.0634742227110472,
          0.3278291182580586,
          -1.1566317538908852,
          0.48651936928768663,
          -0.03653838637047471,
          1.653007305664229,
          -0.1958229601153937,
          -0.1034740526638445,
          0.04490066373735558,
          1.1224937886733377,
          0.7222367378387758,
          1.4706514608417816,
          -0.3142241484681474,
          0.11284754599516432,
          -0.30724990506555055,
          -1.7491330991294918,
          -1.2252328485947463,
          0.09352534171463371,
          1.3829204465828222,
          1.3511260484587433,
          1.3107742595531038,
          0.0809417137183472,
          1.5922218823186178,
          0.8712263112583314,
          -1.0707108309115585,
          0.37069160508749455,
          0.43896689117448273,
          0.5734965056512125,
          0.5837450872276433,
          0.7668530806250788,
          0.013962992393534482,
          -0.3417229619283658,
          -0.20048716140289452,
          0.08671683612266892,
          0.4644430720271357,
          1.488154778149524,
          0.329927389374604,
          -2.1909396981792013,
          -1.227067350706915,
          1.8092533081896278,
          0.6038176513462273,
          0.2373503625031047,
          0.26547491245028043,
          -1.5001638448332122,
          1.1623248531971837,
          -0.16634896425321918,
          0.17790771790500814,
          -0.7185197969294509,
          0.6942744580682934,
          -1.1457113673554422,
          -0.10374785054142244,
          -0.2697772837472289,
          0.09727540896632256,
          2.1288731444391957,
          0.5541755511720746,
          0.4630050450276214,
          1.401745625787054,
          0.048630674355072775,
          0.2670255072610249,
          0.4269269504719535,
          0.2655817805432928,
          -0.37239487301095187,
          0.6436911269862626,
          0.4065884256564243,
          -0.3670944204242437,
          -0.02858372895149097,
          0.12756327378376559,
          0.6012980960266838,
          0.22976530975734114,
          1.2257573359966114,
          -0.4416034437641445,
          2.2556705401005703,
          -0.8685076999087283,
          2.0536788184368193,
          -1.598836938693923,
          -0.9465883899592311,
          -0.40314555748828707,
          -0.694530839635493,
          -0.7307372515070665,
          -0.5871698677555784,
          1.1072087142715377,
          0.8274185652563609,
          0.10617915314525297,
          0.02584303115521473,
          -1.2556217710498638,
          0.8491784686253379,
          0.6927287923192079,
          -0.3234782098349899
         ],
         "yaxis": "y10"
        },
        {
         "histfunc": "count",
         "histnorm": "",
         "marker": {
          "color": "rgba(50, 171, 96, 1.0)",
          "line": {
           "color": "#4D5663",
           "width": 1.3
          }
         },
         "name": "C",
         "nbinsx": 10,
         "opacity": 0.8,
         "orientation": "v",
         "type": "histogram",
         "x": [
          -1.0982123211472223,
          -0.8259299755500107,
          -0.7305225541199882,
          0.720107783789928,
          -0.5928186870269706,
          -2.221998006414882,
          -0.9111011953571583,
          -0.8268344254508183,
          0.5503742059483506,
          0.5183046780501815,
          0.6233761079113126,
          -1.3176814636974876,
          -1.0634742227110472,
          0.3278291182580586,
          -1.1566317538908852,
          0.48651936928768663,
          -0.03653838637047471,
          1.653007305664229,
          -0.1958229601153937,
          -0.1034740526638445,
          0.04490066373735558,
          1.1224937886733377,
          0.7222367378387758,
          1.4706514608417816,
          -0.3142241484681474,
          0.11284754599516432,
          -0.30724990506555055,
          -1.7491330991294918,
          -1.2252328485947463,
          0.09352534171463371,
          1.3829204465828222,
          1.3511260484587433,
          1.3107742595531038,
          0.0809417137183472,
          1.5922218823186178,
          0.8712263112583314,
          -1.0707108309115585,
          0.37069160508749455,
          0.43896689117448273,
          0.5734965056512125,
          0.5837450872276433,
          0.7668530806250788,
          0.013962992393534482,
          -0.3417229619283658,
          -0.20048716140289452,
          0.08671683612266892,
          0.4644430720271357,
          1.488154778149524,
          0.329927389374604,
          -2.1909396981792013,
          -1.227067350706915,
          1.8092533081896278,
          0.6038176513462273,
          0.2373503625031047,
          0.26547491245028043,
          -1.5001638448332122,
          1.1623248531971837,
          -0.16634896425321918,
          0.17790771790500814,
          -0.7185197969294509,
          0.6942744580682934,
          -1.1457113673554422,
          -0.10374785054142244,
          -0.2697772837472289,
          0.09727540896632256,
          2.1288731444391957,
          0.5541755511720746,
          0.4630050450276214,
          1.401745625787054,
          0.048630674355072775,
          0.2670255072610249,
          0.4269269504719535,
          0.2655817805432928,
          -0.37239487301095187,
          0.6436911269862626,
          0.4065884256564243,
          -0.3670944204242437,
          -0.02858372895149097,
          0.12756327378376559,
          0.6012980960266838,
          0.22976530975734114,
          1.2257573359966114,
          -0.4416034437641445,
          2.2556705401005703,
          -0.8685076999087283,
          2.0536788184368193,
          -1.598836938693923,
          -0.9465883899592311,
          -0.40314555748828707,
          -0.694530839635493,
          -0.7307372515070665,
          -0.5871698677555784,
          1.1072087142715377,
          0.8274185652563609,
          0.10617915314525297,
          0.02584303115521473,
          -1.2556217710498638,
          0.8491784686253379,
          0.6927287923192079,
          -0.3234782098349899
         ],
         "xaxis": "x11",
         "yaxis": "y11"
        },
        {
         "line": {
          "color": "rgba(128, 128, 128, 1.0)",
          "dash": "solid",
          "shape": "linear",
          "width": 1.3
         },
         "marker": {
          "size": 2,
          "symbol": "circle"
         },
         "mode": "markers",
         "name": "C",
         "text": "",
         "type": "scatter",
         "x": [
          1.630537903401598,
          0.8596259162271885,
          -2.201701803685654,
          -3.534217963298778,
          -1.5647121206479027,
          -1.9460165473566289,
          -1.600711500655366,
          0.24496026220022085,
          0.24761018903712062,
          1.4626461181710488,
          -1.3307360466228269,
          -0.4056970141192723,
          2.0018706926157104,
          0.465333049526165,
          -0.4307098877456645,
          1.2606237424023388,
          1.1713426577960662,
          0.9939589097339985,
          -1.0547002716387939,
          -2.148493229373008,
          0.9849828216059247,
          0.7708700933760654,
          -0.4023329752573693,
          0.3387727596201499,
          -0.377640538406158,
          0.7077828889421378,
          0.437296417393377,
          -0.25250149416514633,
          0.3283687070181849,
          0.923418148118716,
          -0.23476138689172962,
          -0.19042000344896998,
          1.3269333170867752,
          -0.38285431319375884,
          -0.4051447522714992,
          -2.119114588900631,
          0.7573699236995283,
          1.5797688015470792,
          1.0873746111180669,
          -0.9111800936727553,
          -0.9372403608398806,
          -0.6262546218272432,
          -1.0346514690291975,
          -1.6461889785240422,
          0.6754840523961335,
          1.2130273306035568,
          0.6283597254489038,
          -2.057980108335055,
          -0.05080908028149197,
          0.8913803009541872,
          -1.2328032930343173,
          -0.7492373828468251,
          -0.35847637695229095,
          0.8502996394063193,
          -1.0639307618156,
          0.49994004751047344,
          -0.17306531029694197,
          0.3474560439886473,
          0.6618079012963677,
          1.059776304494004,
          0.5689765731912213,
          0.24017929467729499,
          -0.6365471459442161,
          0.3166088809693611,
          0.44030249853739367,
          -0.6616960144969435,
          -0.530144832027853,
          -0.6003412479446838,
          -0.533441646901601,
          -0.5465257789151005,
          2.1007521204793895,
          1.5441206792842839,
          0.3623993234571638,
          -1.0970523353008284,
          0.31783392276362477,
          -0.1192712023607618,
          -0.33470551654840375,
          1.09032158443945,
          1.177940122810895,
          -0.2389025734572126,
          1.0812155427994656,
          -0.12332922767154199,
          -1.925856235632639,
          0.7575441226419918,
          -0.8707962422601602,
          0.6212624930242022,
          0.18381420407798854,
          -0.10791157438462838,
          0.690179703212908,
          0.13465715668903508,
          -0.4094193011013336,
          0.031657076139166025,
          1.5626648342584941,
          0.9726799975738454,
          2.006103978315902,
          -0.5102779937383601,
          0.32502245757795994,
          0.3040279784391726,
          -1.8454370965590863,
          1.5328167250113136
         ],
         "xaxis": "x12",
         "y": [
          -1.0982123211472223,
          -0.8259299755500107,
          -0.7305225541199882,
          0.720107783789928,
          -0.5928186870269706,
          -2.221998006414882,
          -0.9111011953571583,
          -0.8268344254508183,
          0.5503742059483506,
          0.5183046780501815,
          0.6233761079113126,
          -1.3176814636974876,
          -1.0634742227110472,
          0.3278291182580586,
          -1.1566317538908852,
          0.48651936928768663,
          -0.03653838637047471,
          1.653007305664229,
          -0.1958229601153937,
          -0.1034740526638445,
          0.04490066373735558,
          1.1224937886733377,
          0.7222367378387758,
          1.4706514608417816,
          -0.3142241484681474,
          0.11284754599516432,
          -0.30724990506555055,
          -1.7491330991294918,
          -1.2252328485947463,
          0.09352534171463371,
          1.3829204465828222,
          1.3511260484587433,
          1.3107742595531038,
          0.0809417137183472,
          1.5922218823186178,
          0.8712263112583314,
          -1.0707108309115585,
          0.37069160508749455,
          0.43896689117448273,
          0.5734965056512125,
          0.5837450872276433,
          0.7668530806250788,
          0.013962992393534482,
          -0.3417229619283658,
          -0.20048716140289452,
          0.08671683612266892,
          0.4644430720271357,
          1.488154778149524,
          0.329927389374604,
          -2.1909396981792013,
          -1.227067350706915,
          1.8092533081896278,
          0.6038176513462273,
          0.2373503625031047,
          0.26547491245028043,
          -1.5001638448332122,
          1.1623248531971837,
          -0.16634896425321918,
          0.17790771790500814,
          -0.7185197969294509,
          0.6942744580682934,
          -1.1457113673554422,
          -0.10374785054142244,
          -0.2697772837472289,
          0.09727540896632256,
          2.1288731444391957,
          0.5541755511720746,
          0.4630050450276214,
          1.401745625787054,
          0.048630674355072775,
          0.2670255072610249,
          0.4269269504719535,
          0.2655817805432928,
          -0.37239487301095187,
          0.6436911269862626,
          0.4065884256564243,
          -0.3670944204242437,
          -0.02858372895149097,
          0.12756327378376559,
          0.6012980960266838,
          0.22976530975734114,
          1.2257573359966114,
          -0.4416034437641445,
          2.2556705401005703,
          -0.8685076999087283,
          2.0536788184368193,
          -1.598836938693923,
          -0.9465883899592311,
          -0.40314555748828707,
          -0.694530839635493,
          -0.7307372515070665,
          -0.5871698677555784,
          1.1072087142715377,
          0.8274185652563609,
          0.10617915314525297,
          0.02584303115521473,
          -1.2556217710498638,
          0.8491784686253379,
          0.6927287923192079,
          -0.3234782098349899
         ],
         "yaxis": "y12"
        },
        {
         "line": {
          "color": "rgba(128, 128, 128, 1.0)",
          "dash": "solid",
          "shape": "linear",
          "width": 1.3
         },
         "marker": {
          "size": 2,
          "symbol": "circle"
         },
         "mode": "markers",
         "name": "D",
         "text": "",
         "type": "scatter",
         "x": [
          0.43633476275957783,
          -0.9369666672884216,
          0.28852110280962995,
          -1.1011111414948977,
          0.32854507231159646,
          0.9816992515177357,
          -2.284421668511395,
          -0.26995513779247227,
          0.6501295774491413,
          -1.069402621774459,
          -1.2020976216798172,
          0.6513942645777206,
          0.7521897597563676,
          0.5426067229233946,
          0.3370644577358486,
          -0.5393103302681119,
          -0.6635779258219466,
          -0.24300598976235596,
          0.04496685936482622,
          -0.965346068356053,
          -0.24806693468330765,
          -0.16866354882736542,
          0.5444475088125463,
          0.5496623505488482,
          0.5450871232084065,
          -0.441345583389729,
          -0.9629954737171853,
          -0.676216274703561,
          0.006322641558518212,
          0.18664330349151873,
          -0.02609261417418306,
          -0.43677653611744,
          0.1424015252435575,
          1.9310702447132302,
          -0.9155454555589564,
          1.0582884814491147,
          0.7987834738109799,
          -1.53766916018999,
          -1.825814026600039,
          0.21272618276774719,
          1.5967775264793374,
          1.2929976854648164,
          0.06610609076863956,
          -0.5764360733096935,
          -1.56089420040441,
          -0.2554528079087033,
          1.8350740347678272,
          0.3598812399041258,
          -0.2814109679987709,
          0.3241194243912139,
          1.0661956656936156,
          -0.037067756201864574,
          -0.683125037067316,
          -1.0280984103041046,
          -0.07112279321412139,
          -0.5539586978476361,
          -0.5602855710925664,
          0.733138539889477,
          -1.0541102386248455,
          -1.3236651767229892,
          1.0168652515920766,
          -0.3566999154025523,
          0.6508321441587809,
          -0.0012140476126413513,
          -0.7882292100040235,
          2.883257249796413,
          0.3353217669277645,
          -1.0679692420258937,
          0.18293142627367062,
          0.11494991601411153,
          -0.3644172733653438,
          0.4987628257668977,
          0.8508934232296702,
          -0.08679926983528236,
          0.8047676559452972,
          0.2597526083971923,
          0.473929637781343,
          0.08581232319537543,
          -0.22410861057241027,
          -0.5257153363463388,
          1.6952648028066364,
          -0.696156975583712,
          -0.836353387975282,
          0.2965518348994222,
          -1.0012320086348452,
          -1.1544077261671366,
          -1.3350958845426832,
          0.7119427630233932,
          0.6411177748569961,
          -0.3001776750662769,
          -0.9048484414626201,
          0.7390101756217512,
          1.4819140122480443,
          0.5981606146092255,
          -0.26082548405743144,
          2.046254697130263,
          -1.9411641500930508,
          1.8452808905980655,
          1.4038573414777682,
          -0.8795591013597613
         ],
         "xaxis": "x13",
         "y": [
          1.630537903401598,
          0.8596259162271885,
          -2.201701803685654,
          -3.534217963298778,
          -1.5647121206479027,
          -1.9460165473566289,
          -1.600711500655366,
          0.24496026220022085,
          0.24761018903712062,
          1.4626461181710488,
          -1.3307360466228269,
          -0.4056970141192723,
          2.0018706926157104,
          0.465333049526165,
          -0.4307098877456645,
          1.2606237424023388,
          1.1713426577960662,
          0.9939589097339985,
          -1.0547002716387939,
          -2.148493229373008,
          0.9849828216059247,
          0.7708700933760654,
          -0.4023329752573693,
          0.3387727596201499,
          -0.377640538406158,
          0.7077828889421378,
          0.437296417393377,
          -0.25250149416514633,
          0.3283687070181849,
          0.923418148118716,
          -0.23476138689172962,
          -0.19042000344896998,
          1.3269333170867752,
          -0.38285431319375884,
          -0.4051447522714992,
          -2.119114588900631,
          0.7573699236995283,
          1.5797688015470792,
          1.0873746111180669,
          -0.9111800936727553,
          -0.9372403608398806,
          -0.6262546218272432,
          -1.0346514690291975,
          -1.6461889785240422,
          0.6754840523961335,
          1.2130273306035568,
          0.6283597254489038,
          -2.057980108335055,
          -0.05080908028149197,
          0.8913803009541872,
          -1.2328032930343173,
          -0.7492373828468251,
          -0.35847637695229095,
          0.8502996394063193,
          -1.0639307618156,
          0.49994004751047344,
          -0.17306531029694197,
          0.3474560439886473,
          0.6618079012963677,
          1.059776304494004,
          0.5689765731912213,
          0.24017929467729499,
          -0.6365471459442161,
          0.3166088809693611,
          0.44030249853739367,
          -0.6616960144969435,
          -0.530144832027853,
          -0.6003412479446838,
          -0.533441646901601,
          -0.5465257789151005,
          2.1007521204793895,
          1.5441206792842839,
          0.3623993234571638,
          -1.0970523353008284,
          0.31783392276362477,
          -0.1192712023607618,
          -0.33470551654840375,
          1.09032158443945,
          1.177940122810895,
          -0.2389025734572126,
          1.0812155427994656,
          -0.12332922767154199,
          -1.925856235632639,
          0.7575441226419918,
          -0.8707962422601602,
          0.6212624930242022,
          0.18381420407798854,
          -0.10791157438462838,
          0.690179703212908,
          0.13465715668903508,
          -0.4094193011013336,
          0.031657076139166025,
          1.5626648342584941,
          0.9726799975738454,
          2.006103978315902,
          -0.5102779937383601,
          0.32502245757795994,
          0.3040279784391726,
          -1.8454370965590863,
          1.5328167250113136
         ],
         "yaxis": "y13"
        },
        {
         "line": {
          "color": "rgba(128, 128, 128, 1.0)",
          "dash": "solid",
          "shape": "linear",
          "width": 1.3
         },
         "marker": {
          "size": 2,
          "symbol": "circle"
         },
         "mode": "markers",
         "name": "D",
         "text": "",
         "type": "scatter",
         "x": [
          -0.44728330349228973,
          -0.6069251354234275,
          -1.3738549093340406,
          1.2334111997303334,
          0.7397860123001738,
          1.5972494572851856,
          -0.018931915979927754,
          -1.2264327624064608,
          0.15592114116201142,
          -0.47902754325705527,
          1.2074916117611019,
          0.6889645260151184,
          1.6209155031439582,
          1.0377918747451134,
          -0.16857843049431245,
          0.7350503697272961,
          1.3732044642314538,
          0.17853748378804712,
          0.9201258074350492,
          0.661381730865682,
          1.485145958350401,
          -1.632119618070541,
          0.22748154932469294,
          -0.09458663553707516,
          0.21090274721930652,
          1.2583083792119074,
          1.6422290993212094,
          -1.019888999922517,
          -1.1262083616915823,
          0.7751631377435271,
          0.0780355504840483,
          0.29911039538859174,
          0.43807211050813644,
          -0.12770957828774504,
          -0.6521897822817302,
          -0.889630939076755,
          0.15986237919607987,
          -0.04342366071403783,
          -0.43520486123887653,
          0.5379206691506319,
          0.793787709378705,
          -0.4289924398492299,
          0.7369539710091716,
          2.087453696135382,
          0.5620994219564909,
          -0.20137912145968392,
          0.7257704929503092,
          1.1084092246082184,
          -0.5171551630835821,
          -1.1283322045922786,
          0.2593535652357022,
          -0.17267859924919277,
          -1.5345339901197232,
          -0.3209003352524528,
          -1.1744077524500085,
          1.4490429107416258,
          1.184950303089929,
          0.702234314776529,
          -0.6784286508938552,
          1.2835120424777373,
          -1.190989535539129,
          -0.3513939866455125,
          0.621578689492338,
          -0.4630544081124457,
          -0.4367365405676625,
          1.3421143639461248,
          1.7456877417419552,
          1.3034225510631996,
          -0.7624624397576985,
          -0.40495996101011833,
          -2.1648442884732138,
          0.5440779523888465,
          0.5287058951523081,
          -0.43876721681254327,
          0.6449127396655433,
          -1.8263143889063849,
          -0.7719047232387043,
          1.7518581179245638,
          0.8330915673690045,
          -0.4521002707172554,
          -0.5402986159008635,
          -1.2266100687118864,
          1.6575386196372557,
          0.7985342454287591,
          0.208928873721229,
          0.21447039459623737,
          -0.5130034897172456,
          1.4365715282093559,
          -0.24188464953388022,
          0.44495315267780716,
          0.07569986085313132,
          -0.42437427642700526,
          -0.5719674021359072,
          0.1764574730152452,
          0.5947324055814549,
          0.5454269787091772,
          -1.052784323807733,
          -0.5458881467962238,
          0.7868241229855274,
          0.38274020695729544
         ],
         "xaxis": "x14",
         "y": [
          1.630537903401598,
          0.8596259162271885,
          -2.201701803685654,
          -3.534217963298778,
          -1.5647121206479027,
          -1.9460165473566289,
          -1.600711500655366,
          0.24496026220022085,
          0.24761018903712062,
          1.4626461181710488,
          -1.3307360466228269,
          -0.4056970141192723,
          2.0018706926157104,
          0.465333049526165,
          -0.4307098877456645,
          1.2606237424023388,
          1.1713426577960662,
          0.9939589097339985,
          -1.0547002716387939,
          -2.148493229373008,
          0.9849828216059247,
          0.7708700933760654,
          -0.4023329752573693,
          0.3387727596201499,
          -0.377640538406158,
          0.7077828889421378,
          0.437296417393377,
          -0.25250149416514633,
          0.3283687070181849,
          0.923418148118716,
          -0.23476138689172962,
          -0.19042000344896998,
          1.3269333170867752,
          -0.38285431319375884,
          -0.4051447522714992,
          -2.119114588900631,
          0.7573699236995283,
          1.5797688015470792,
          1.0873746111180669,
          -0.9111800936727553,
          -0.9372403608398806,
          -0.6262546218272432,
          -1.0346514690291975,
          -1.6461889785240422,
          0.6754840523961335,
          1.2130273306035568,
          0.6283597254489038,
          -2.057980108335055,
          -0.05080908028149197,
          0.8913803009541872,
          -1.2328032930343173,
          -0.7492373828468251,
          -0.35847637695229095,
          0.8502996394063193,
          -1.0639307618156,
          0.49994004751047344,
          -0.17306531029694197,
          0.3474560439886473,
          0.6618079012963677,
          1.059776304494004,
          0.5689765731912213,
          0.24017929467729499,
          -0.6365471459442161,
          0.3166088809693611,
          0.44030249853739367,
          -0.6616960144969435,
          -0.530144832027853,
          -0.6003412479446838,
          -0.533441646901601,
          -0.5465257789151005,
          2.1007521204793895,
          1.5441206792842839,
          0.3623993234571638,
          -1.0970523353008284,
          0.31783392276362477,
          -0.1192712023607618,
          -0.33470551654840375,
          1.09032158443945,
          1.177940122810895,
          -0.2389025734572126,
          1.0812155427994656,
          -0.12332922767154199,
          -1.925856235632639,
          0.7575441226419918,
          -0.8707962422601602,
          0.6212624930242022,
          0.18381420407798854,
          -0.10791157438462838,
          0.690179703212908,
          0.13465715668903508,
          -0.4094193011013336,
          0.031657076139166025,
          1.5626648342584941,
          0.9726799975738454,
          2.006103978315902,
          -0.5102779937383601,
          0.32502245757795994,
          0.3040279784391726,
          -1.8454370965590863,
          1.5328167250113136
         ],
         "yaxis": "y14"
        },
        {
         "line": {
          "color": "rgba(128, 128, 128, 1.0)",
          "dash": "solid",
          "shape": "linear",
          "width": 1.3
         },
         "marker": {
          "size": 2,
          "symbol": "circle"
         },
         "mode": "markers",
         "name": "D",
         "text": "",
         "type": "scatter",
         "x": [
          -1.0982123211472223,
          -0.8259299755500107,
          -0.7305225541199882,
          0.720107783789928,
          -0.5928186870269706,
          -2.221998006414882,
          -0.9111011953571583,
          -0.8268344254508183,
          0.5503742059483506,
          0.5183046780501815,
          0.6233761079113126,
          -1.3176814636974876,
          -1.0634742227110472,
          0.3278291182580586,
          -1.1566317538908852,
          0.48651936928768663,
          -0.03653838637047471,
          1.653007305664229,
          -0.1958229601153937,
          -0.1034740526638445,
          0.04490066373735558,
          1.1224937886733377,
          0.7222367378387758,
          1.4706514608417816,
          -0.3142241484681474,
          0.11284754599516432,
          -0.30724990506555055,
          -1.7491330991294918,
          -1.2252328485947463,
          0.09352534171463371,
          1.3829204465828222,
          1.3511260484587433,
          1.3107742595531038,
          0.0809417137183472,
          1.5922218823186178,
          0.8712263112583314,
          -1.0707108309115585,
          0.37069160508749455,
          0.43896689117448273,
          0.5734965056512125,
          0.5837450872276433,
          0.7668530806250788,
          0.013962992393534482,
          -0.3417229619283658,
          -0.20048716140289452,
          0.08671683612266892,
          0.4644430720271357,
          1.488154778149524,
          0.329927389374604,
          -2.1909396981792013,
          -1.227067350706915,
          1.8092533081896278,
          0.6038176513462273,
          0.2373503625031047,
          0.26547491245028043,
          -1.5001638448332122,
          1.1623248531971837,
          -0.16634896425321918,
          0.17790771790500814,
          -0.7185197969294509,
          0.6942744580682934,
          -1.1457113673554422,
          -0.10374785054142244,
          -0.2697772837472289,
          0.09727540896632256,
          2.1288731444391957,
          0.5541755511720746,
          0.4630050450276214,
          1.401745625787054,
          0.048630674355072775,
          0.2670255072610249,
          0.4269269504719535,
          0.2655817805432928,
          -0.37239487301095187,
          0.6436911269862626,
          0.4065884256564243,
          -0.3670944204242437,
          -0.02858372895149097,
          0.12756327378376559,
          0.6012980960266838,
          0.22976530975734114,
          1.2257573359966114,
          -0.4416034437641445,
          2.2556705401005703,
          -0.8685076999087283,
          2.0536788184368193,
          -1.598836938693923,
          -0.9465883899592311,
          -0.40314555748828707,
          -0.694530839635493,
          -0.7307372515070665,
          -0.5871698677555784,
          1.1072087142715377,
          0.8274185652563609,
          0.10617915314525297,
          0.02584303115521473,
          -1.2556217710498638,
          0.8491784686253379,
          0.6927287923192079,
          -0.3234782098349899
         ],
         "xaxis": "x15",
         "y": [
          1.630537903401598,
          0.8596259162271885,
          -2.201701803685654,
          -3.534217963298778,
          -1.5647121206479027,
          -1.9460165473566289,
          -1.600711500655366,
          0.24496026220022085,
          0.24761018903712062,
          1.4626461181710488,
          -1.3307360466228269,
          -0.4056970141192723,
          2.0018706926157104,
          0.465333049526165,
          -0.4307098877456645,
          1.2606237424023388,
          1.1713426577960662,
          0.9939589097339985,
          -1.0547002716387939,
          -2.148493229373008,
          0.9849828216059247,
          0.7708700933760654,
          -0.4023329752573693,
          0.3387727596201499,
          -0.377640538406158,
          0.7077828889421378,
          0.437296417393377,
          -0.25250149416514633,
          0.3283687070181849,
          0.923418148118716,
          -0.23476138689172962,
          -0.19042000344896998,
          1.3269333170867752,
          -0.38285431319375884,
          -0.4051447522714992,
          -2.119114588900631,
          0.7573699236995283,
          1.5797688015470792,
          1.0873746111180669,
          -0.9111800936727553,
          -0.9372403608398806,
          -0.6262546218272432,
          -1.0346514690291975,
          -1.6461889785240422,
          0.6754840523961335,
          1.2130273306035568,
          0.6283597254489038,
          -2.057980108335055,
          -0.05080908028149197,
          0.8913803009541872,
          -1.2328032930343173,
          -0.7492373828468251,
          -0.35847637695229095,
          0.8502996394063193,
          -1.0639307618156,
          0.49994004751047344,
          -0.17306531029694197,
          0.3474560439886473,
          0.6618079012963677,
          1.059776304494004,
          0.5689765731912213,
          0.24017929467729499,
          -0.6365471459442161,
          0.3166088809693611,
          0.44030249853739367,
          -0.6616960144969435,
          -0.530144832027853,
          -0.6003412479446838,
          -0.533441646901601,
          -0.5465257789151005,
          2.1007521204793895,
          1.5441206792842839,
          0.3623993234571638,
          -1.0970523353008284,
          0.31783392276362477,
          -0.1192712023607618,
          -0.33470551654840375,
          1.09032158443945,
          1.177940122810895,
          -0.2389025734572126,
          1.0812155427994656,
          -0.12332922767154199,
          -1.925856235632639,
          0.7575441226419918,
          -0.8707962422601602,
          0.6212624930242022,
          0.18381420407798854,
          -0.10791157438462838,
          0.690179703212908,
          0.13465715668903508,
          -0.4094193011013336,
          0.031657076139166025,
          1.5626648342584941,
          0.9726799975738454,
          2.006103978315902,
          -0.5102779937383601,
          0.32502245757795994,
          0.3040279784391726,
          -1.8454370965590863,
          1.5328167250113136
         ],
         "yaxis": "y15"
        },
        {
         "histfunc": "count",
         "histnorm": "",
         "marker": {
          "color": "rgba(128, 0, 128, 1.0)",
          "line": {
           "color": "#4D5663",
           "width": 1.3
          }
         },
         "name": "D",
         "nbinsx": 10,
         "opacity": 0.8,
         "orientation": "v",
         "type": "histogram",
         "x": [
          1.630537903401598,
          0.8596259162271885,
          -2.201701803685654,
          -3.534217963298778,
          -1.5647121206479027,
          -1.9460165473566289,
          -1.600711500655366,
          0.24496026220022085,
          0.24761018903712062,
          1.4626461181710488,
          -1.3307360466228269,
          -0.4056970141192723,
          2.0018706926157104,
          0.465333049526165,
          -0.4307098877456645,
          1.2606237424023388,
          1.1713426577960662,
          0.9939589097339985,
          -1.0547002716387939,
          -2.148493229373008,
          0.9849828216059247,
          0.7708700933760654,
          -0.4023329752573693,
          0.3387727596201499,
          -0.377640538406158,
          0.7077828889421378,
          0.437296417393377,
          -0.25250149416514633,
          0.3283687070181849,
          0.923418148118716,
          -0.23476138689172962,
          -0.19042000344896998,
          1.3269333170867752,
          -0.38285431319375884,
          -0.4051447522714992,
          -2.119114588900631,
          0.7573699236995283,
          1.5797688015470792,
          1.0873746111180669,
          -0.9111800936727553,
          -0.9372403608398806,
          -0.6262546218272432,
          -1.0346514690291975,
          -1.6461889785240422,
          0.6754840523961335,
          1.2130273306035568,
          0.6283597254489038,
          -2.057980108335055,
          -0.05080908028149197,
          0.8913803009541872,
          -1.2328032930343173,
          -0.7492373828468251,
          -0.35847637695229095,
          0.8502996394063193,
          -1.0639307618156,
          0.49994004751047344,
          -0.17306531029694197,
          0.3474560439886473,
          0.6618079012963677,
          1.059776304494004,
          0.5689765731912213,
          0.24017929467729499,
          -0.6365471459442161,
          0.3166088809693611,
          0.44030249853739367,
          -0.6616960144969435,
          -0.530144832027853,
          -0.6003412479446838,
          -0.533441646901601,
          -0.5465257789151005,
          2.1007521204793895,
          1.5441206792842839,
          0.3623993234571638,
          -1.0970523353008284,
          0.31783392276362477,
          -0.1192712023607618,
          -0.33470551654840375,
          1.09032158443945,
          1.177940122810895,
          -0.2389025734572126,
          1.0812155427994656,
          -0.12332922767154199,
          -1.925856235632639,
          0.7575441226419918,
          -0.8707962422601602,
          0.6212624930242022,
          0.18381420407798854,
          -0.10791157438462838,
          0.690179703212908,
          0.13465715668903508,
          -0.4094193011013336,
          0.031657076139166025,
          1.5626648342584941,
          0.9726799975738454,
          2.006103978315902,
          -0.5102779937383601,
          0.32502245757795994,
          0.3040279784391726,
          -1.8454370965590863,
          1.5328167250113136
         ],
         "xaxis": "x16",
         "yaxis": "y16"
        }
       ],
       "layout": {
        "bargap": 0.02,
        "legend": {
         "bgcolor": "#F5F6F9",
         "font": {
          "color": "#4D5663"
         }
        },
        "paper_bgcolor": "#F5F6F9",
        "plot_bgcolor": "#F5F6F9",
        "showlegend": false,
        "template": {
         "data": {
          "bar": [
           {
            "error_x": {
             "color": "#2a3f5f"
            },
            "error_y": {
             "color": "#2a3f5f"
            },
            "marker": {
             "line": {
              "color": "#E5ECF6",
              "width": 0.5
             }
            },
            "type": "bar"
           }
          ],
          "barpolar": [
           {
            "marker": {
             "line": {
              "color": "#E5ECF6",
              "width": 0.5
             }
            },
            "type": "barpolar"
           }
          ],
          "carpet": [
           {
            "aaxis": {
             "endlinecolor": "#2a3f5f",
             "gridcolor": "white",
             "linecolor": "white",
             "minorgridcolor": "white",
             "startlinecolor": "#2a3f5f"
            },
            "baxis": {
             "endlinecolor": "#2a3f5f",
             "gridcolor": "white",
             "linecolor": "white",
             "minorgridcolor": "white",
             "startlinecolor": "#2a3f5f"
            },
            "type": "carpet"
           }
          ],
          "choropleth": [
           {
            "colorbar": {
             "outlinewidth": 0,
             "ticks": ""
            },
            "type": "choropleth"
           }
          ],
          "contour": [
           {
            "colorbar": {
             "outlinewidth": 0,
             "ticks": ""
            },
            "colorscale": [
             [
              0,
              "#0d0887"
             ],
             [
              0.1111111111111111,
              "#46039f"
             ],
             [
              0.2222222222222222,
              "#7201a8"
             ],
             [
              0.3333333333333333,
              "#9c179e"
             ],
             [
              0.4444444444444444,
              "#bd3786"
             ],
             [
              0.5555555555555556,
              "#d8576b"
             ],
             [
              0.6666666666666666,
              "#ed7953"
             ],
             [
              0.7777777777777778,
              "#fb9f3a"
             ],
             [
              0.8888888888888888,
              "#fdca26"
             ],
             [
              1,
              "#f0f921"
             ]
            ],
            "type": "contour"
           }
          ],
          "contourcarpet": [
           {
            "colorbar": {
             "outlinewidth": 0,
             "ticks": ""
            },
            "type": "contourcarpet"
           }
          ],
          "heatmap": [
           {
            "colorbar": {
             "outlinewidth": 0,
             "ticks": ""
            },
            "colorscale": [
             [
              0,
              "#0d0887"
             ],
             [
              0.1111111111111111,
              "#46039f"
             ],
             [
              0.2222222222222222,
              "#7201a8"
             ],
             [
              0.3333333333333333,
              "#9c179e"
             ],
             [
              0.4444444444444444,
              "#bd3786"
             ],
             [
              0.5555555555555556,
              "#d8576b"
             ],
             [
              0.6666666666666666,
              "#ed7953"
             ],
             [
              0.7777777777777778,
              "#fb9f3a"
             ],
             [
              0.8888888888888888,
              "#fdca26"
             ],
             [
              1,
              "#f0f921"
             ]
            ],
            "type": "heatmap"
           }
          ],
          "heatmapgl": [
           {
            "colorbar": {
             "outlinewidth": 0,
             "ticks": ""
            },
            "colorscale": [
             [
              0,
              "#0d0887"
             ],
             [
              0.1111111111111111,
              "#46039f"
             ],
             [
              0.2222222222222222,
              "#7201a8"
             ],
             [
              0.3333333333333333,
              "#9c179e"
             ],
             [
              0.4444444444444444,
              "#bd3786"
             ],
             [
              0.5555555555555556,
              "#d8576b"
             ],
             [
              0.6666666666666666,
              "#ed7953"
             ],
             [
              0.7777777777777778,
              "#fb9f3a"
             ],
             [
              0.8888888888888888,
              "#fdca26"
             ],
             [
              1,
              "#f0f921"
             ]
            ],
            "type": "heatmapgl"
           }
          ],
          "histogram": [
           {
            "marker": {
             "colorbar": {
              "outlinewidth": 0,
              "ticks": ""
             }
            },
            "type": "histogram"
           }
          ],
          "histogram2d": [
           {
            "colorbar": {
             "outlinewidth": 0,
             "ticks": ""
            },
            "colorscale": [
             [
              0,
              "#0d0887"
             ],
             [
              0.1111111111111111,
              "#46039f"
             ],
             [
              0.2222222222222222,
              "#7201a8"
             ],
             [
              0.3333333333333333,
              "#9c179e"
             ],
             [
              0.4444444444444444,
              "#bd3786"
             ],
             [
              0.5555555555555556,
              "#d8576b"
             ],
             [
              0.6666666666666666,
              "#ed7953"
             ],
             [
              0.7777777777777778,
              "#fb9f3a"
             ],
             [
              0.8888888888888888,
              "#fdca26"
             ],
             [
              1,
              "#f0f921"
             ]
            ],
            "type": "histogram2d"
           }
          ],
          "histogram2dcontour": [
           {
            "colorbar": {
             "outlinewidth": 0,
             "ticks": ""
            },
            "colorscale": [
             [
              0,
              "#0d0887"
             ],
             [
              0.1111111111111111,
              "#46039f"
             ],
             [
              0.2222222222222222,
              "#7201a8"
             ],
             [
              0.3333333333333333,
              "#9c179e"
             ],
             [
              0.4444444444444444,
              "#bd3786"
             ],
             [
              0.5555555555555556,
              "#d8576b"
             ],
             [
              0.6666666666666666,
              "#ed7953"
             ],
             [
              0.7777777777777778,
              "#fb9f3a"
             ],
             [
              0.8888888888888888,
              "#fdca26"
             ],
             [
              1,
              "#f0f921"
             ]
            ],
            "type": "histogram2dcontour"
           }
          ],
          "mesh3d": [
           {
            "colorbar": {
             "outlinewidth": 0,
             "ticks": ""
            },
            "type": "mesh3d"
           }
          ],
          "parcoords": [
           {
            "line": {
             "colorbar": {
              "outlinewidth": 0,
              "ticks": ""
             }
            },
            "type": "parcoords"
           }
          ],
          "pie": [
           {
            "automargin": true,
            "type": "pie"
           }
          ],
          "scatter": [
           {
            "marker": {
             "colorbar": {
              "outlinewidth": 0,
              "ticks": ""
             }
            },
            "type": "scatter"
           }
          ],
          "scatter3d": [
           {
            "line": {
             "colorbar": {
              "outlinewidth": 0,
              "ticks": ""
             }
            },
            "marker": {
             "colorbar": {
              "outlinewidth": 0,
              "ticks": ""
             }
            },
            "type": "scatter3d"
           }
          ],
          "scattercarpet": [
           {
            "marker": {
             "colorbar": {
              "outlinewidth": 0,
              "ticks": ""
             }
            },
            "type": "scattercarpet"
           }
          ],
          "scattergeo": [
           {
            "marker": {
             "colorbar": {
              "outlinewidth": 0,
              "ticks": ""
             }
            },
            "type": "scattergeo"
           }
          ],
          "scattergl": [
           {
            "marker": {
             "colorbar": {
              "outlinewidth": 0,
              "ticks": ""
             }
            },
            "type": "scattergl"
           }
          ],
          "scattermapbox": [
           {
            "marker": {
             "colorbar": {
              "outlinewidth": 0,
              "ticks": ""
             }
            },
            "type": "scattermapbox"
           }
          ],
          "scatterpolar": [
           {
            "marker": {
             "colorbar": {
              "outlinewidth": 0,
              "ticks": ""
             }
            },
            "type": "scatterpolar"
           }
          ],
          "scatterpolargl": [
           {
            "marker": {
             "colorbar": {
              "outlinewidth": 0,
              "ticks": ""
             }
            },
            "type": "scatterpolargl"
           }
          ],
          "scatterternary": [
           {
            "marker": {
             "colorbar": {
              "outlinewidth": 0,
              "ticks": ""
             }
            },
            "type": "scatterternary"
           }
          ],
          "surface": [
           {
            "colorbar": {
             "outlinewidth": 0,
             "ticks": ""
            },
            "colorscale": [
             [
              0,
              "#0d0887"
             ],
             [
              0.1111111111111111,
              "#46039f"
             ],
             [
              0.2222222222222222,
              "#7201a8"
             ],
             [
              0.3333333333333333,
              "#9c179e"
             ],
             [
              0.4444444444444444,
              "#bd3786"
             ],
             [
              0.5555555555555556,
              "#d8576b"
             ],
             [
              0.6666666666666666,
              "#ed7953"
             ],
             [
              0.7777777777777778,
              "#fb9f3a"
             ],
             [
              0.8888888888888888,
              "#fdca26"
             ],
             [
              1,
              "#f0f921"
             ]
            ],
            "type": "surface"
           }
          ],
          "table": [
           {
            "cells": {
             "fill": {
              "color": "#EBF0F8"
             },
             "line": {
              "color": "white"
             }
            },
            "header": {
             "fill": {
              "color": "#C8D4E3"
             },
             "line": {
              "color": "white"
             }
            },
            "type": "table"
           }
          ]
         },
         "layout": {
          "annotationdefaults": {
           "arrowcolor": "#2a3f5f",
           "arrowhead": 0,
           "arrowwidth": 1
          },
          "coloraxis": {
           "colorbar": {
            "outlinewidth": 0,
            "ticks": ""
           }
          },
          "colorscale": {
           "diverging": [
            [
             0,
             "#8e0152"
            ],
            [
             0.1,
             "#c51b7d"
            ],
            [
             0.2,
             "#de77ae"
            ],
            [
             0.3,
             "#f1b6da"
            ],
            [
             0.4,
             "#fde0ef"
            ],
            [
             0.5,
             "#f7f7f7"
            ],
            [
             0.6,
             "#e6f5d0"
            ],
            [
             0.7,
             "#b8e186"
            ],
            [
             0.8,
             "#7fbc41"
            ],
            [
             0.9,
             "#4d9221"
            ],
            [
             1,
             "#276419"
            ]
           ],
           "sequential": [
            [
             0,
             "#0d0887"
            ],
            [
             0.1111111111111111,
             "#46039f"
            ],
            [
             0.2222222222222222,
             "#7201a8"
            ],
            [
             0.3333333333333333,
             "#9c179e"
            ],
            [
             0.4444444444444444,
             "#bd3786"
            ],
            [
             0.5555555555555556,
             "#d8576b"
            ],
            [
             0.6666666666666666,
             "#ed7953"
            ],
            [
             0.7777777777777778,
             "#fb9f3a"
            ],
            [
             0.8888888888888888,
             "#fdca26"
            ],
            [
             1,
             "#f0f921"
            ]
           ],
           "sequentialminus": [
            [
             0,
             "#0d0887"
            ],
            [
             0.1111111111111111,
             "#46039f"
            ],
            [
             0.2222222222222222,
             "#7201a8"
            ],
            [
             0.3333333333333333,
             "#9c179e"
            ],
            [
             0.4444444444444444,
             "#bd3786"
            ],
            [
             0.5555555555555556,
             "#d8576b"
            ],
            [
             0.6666666666666666,
             "#ed7953"
            ],
            [
             0.7777777777777778,
             "#fb9f3a"
            ],
            [
             0.8888888888888888,
             "#fdca26"
            ],
            [
             1,
             "#f0f921"
            ]
           ]
          },
          "colorway": [
           "#636efa",
           "#EF553B",
           "#00cc96",
           "#ab63fa",
           "#FFA15A",
           "#19d3f3",
           "#FF6692",
           "#B6E880",
           "#FF97FF",
           "#FECB52"
          ],
          "font": {
           "color": "#2a3f5f"
          },
          "geo": {
           "bgcolor": "white",
           "lakecolor": "white",
           "landcolor": "#E5ECF6",
           "showlakes": true,
           "showland": true,
           "subunitcolor": "white"
          },
          "hoverlabel": {
           "align": "left"
          },
          "hovermode": "closest",
          "mapbox": {
           "style": "light"
          },
          "paper_bgcolor": "white",
          "plot_bgcolor": "#E5ECF6",
          "polar": {
           "angularaxis": {
            "gridcolor": "white",
            "linecolor": "white",
            "ticks": ""
           },
           "bgcolor": "#E5ECF6",
           "radialaxis": {
            "gridcolor": "white",
            "linecolor": "white",
            "ticks": ""
           }
          },
          "scene": {
           "xaxis": {
            "backgroundcolor": "#E5ECF6",
            "gridcolor": "white",
            "gridwidth": 2,
            "linecolor": "white",
            "showbackground": true,
            "ticks": "",
            "zerolinecolor": "white"
           },
           "yaxis": {
            "backgroundcolor": "#E5ECF6",
            "gridcolor": "white",
            "gridwidth": 2,
            "linecolor": "white",
            "showbackground": true,
            "ticks": "",
            "zerolinecolor": "white"
           },
           "zaxis": {
            "backgroundcolor": "#E5ECF6",
            "gridcolor": "white",
            "gridwidth": 2,
            "linecolor": "white",
            "showbackground": true,
            "ticks": "",
            "zerolinecolor": "white"
           }
          },
          "shapedefaults": {
           "line": {
            "color": "#2a3f5f"
           }
          },
          "ternary": {
           "aaxis": {
            "gridcolor": "white",
            "linecolor": "white",
            "ticks": ""
           },
           "baxis": {
            "gridcolor": "white",
            "linecolor": "white",
            "ticks": ""
           },
           "bgcolor": "#E5ECF6",
           "caxis": {
            "gridcolor": "white",
            "linecolor": "white",
            "ticks": ""
           }
          },
          "title": {
           "x": 0.05
          },
          "xaxis": {
           "automargin": true,
           "gridcolor": "white",
           "linecolor": "white",
           "ticks": "",
           "title": {
            "standoff": 15
           },
           "zerolinecolor": "white",
           "zerolinewidth": 2
          },
          "yaxis": {
           "automargin": true,
           "gridcolor": "white",
           "linecolor": "white",
           "ticks": "",
           "title": {
            "standoff": 15
           },
           "zerolinecolor": "white",
           "zerolinewidth": 2
          }
         }
        },
        "title": {
         "font": {
          "color": "#4D5663"
         }
        },
        "xaxis": {
         "anchor": "y",
         "domain": [
          0,
          0.2125
         ],
         "gridcolor": "#E1E5ED",
         "showgrid": false,
         "tickfont": {
          "color": "#4D5663"
         },
         "title": {
          "font": {
           "color": "#4D5663"
          },
          "text": ""
         },
         "zerolinecolor": "#E1E5ED"
        },
        "xaxis10": {
         "anchor": "y10",
         "domain": [
          0.2625,
          0.475
         ],
         "gridcolor": "#E1E5ED",
         "showgrid": false,
         "tickfont": {
          "color": "#4D5663"
         },
         "title": {
          "font": {
           "color": "#4D5663"
          },
          "text": ""
         },
         "zerolinecolor": "#E1E5ED"
        },
        "xaxis11": {
         "anchor": "y11",
         "domain": [
          0.525,
          0.7375
         ],
         "gridcolor": "#E1E5ED",
         "showgrid": false,
         "tickfont": {
          "color": "#4D5663"
         },
         "title": {
          "font": {
           "color": "#4D5663"
          },
          "text": ""
         },
         "zerolinecolor": "#E1E5ED"
        },
        "xaxis12": {
         "anchor": "y12",
         "domain": [
          0.7875,
          1
         ],
         "gridcolor": "#E1E5ED",
         "showgrid": false,
         "tickfont": {
          "color": "#4D5663"
         },
         "title": {
          "font": {
           "color": "#4D5663"
          },
          "text": ""
         },
         "zerolinecolor": "#E1E5ED"
        },
        "xaxis13": {
         "anchor": "y13",
         "domain": [
          0,
          0.2125
         ],
         "gridcolor": "#E1E5ED",
         "showgrid": false,
         "tickfont": {
          "color": "#4D5663"
         },
         "title": {
          "font": {
           "color": "#4D5663"
          },
          "text": ""
         },
         "zerolinecolor": "#E1E5ED"
        },
        "xaxis14": {
         "anchor": "y14",
         "domain": [
          0.2625,
          0.475
         ],
         "gridcolor": "#E1E5ED",
         "showgrid": false,
         "tickfont": {
          "color": "#4D5663"
         },
         "title": {
          "font": {
           "color": "#4D5663"
          },
          "text": ""
         },
         "zerolinecolor": "#E1E5ED"
        },
        "xaxis15": {
         "anchor": "y15",
         "domain": [
          0.525,
          0.7375
         ],
         "gridcolor": "#E1E5ED",
         "showgrid": false,
         "tickfont": {
          "color": "#4D5663"
         },
         "title": {
          "font": {
           "color": "#4D5663"
          },
          "text": ""
         },
         "zerolinecolor": "#E1E5ED"
        },
        "xaxis16": {
         "anchor": "y16",
         "domain": [
          0.7875,
          1
         ],
         "gridcolor": "#E1E5ED",
         "showgrid": false,
         "tickfont": {
          "color": "#4D5663"
         },
         "title": {
          "font": {
           "color": "#4D5663"
          },
          "text": ""
         },
         "zerolinecolor": "#E1E5ED"
        },
        "xaxis2": {
         "anchor": "y2",
         "domain": [
          0.2625,
          0.475
         ],
         "gridcolor": "#E1E5ED",
         "showgrid": false,
         "tickfont": {
          "color": "#4D5663"
         },
         "title": {
          "font": {
           "color": "#4D5663"
          },
          "text": ""
         },
         "zerolinecolor": "#E1E5ED"
        },
        "xaxis3": {
         "anchor": "y3",
         "domain": [
          0.525,
          0.7375
         ],
         "gridcolor": "#E1E5ED",
         "showgrid": false,
         "tickfont": {
          "color": "#4D5663"
         },
         "title": {
          "font": {
           "color": "#4D5663"
          },
          "text": ""
         },
         "zerolinecolor": "#E1E5ED"
        },
        "xaxis4": {
         "anchor": "y4",
         "domain": [
          0.7875,
          1
         ],
         "gridcolor": "#E1E5ED",
         "showgrid": false,
         "tickfont": {
          "color": "#4D5663"
         },
         "title": {
          "font": {
           "color": "#4D5663"
          },
          "text": ""
         },
         "zerolinecolor": "#E1E5ED"
        },
        "xaxis5": {
         "anchor": "y5",
         "domain": [
          0,
          0.2125
         ],
         "gridcolor": "#E1E5ED",
         "showgrid": false,
         "tickfont": {
          "color": "#4D5663"
         },
         "title": {
          "font": {
           "color": "#4D5663"
          },
          "text": ""
         },
         "zerolinecolor": "#E1E5ED"
        },
        "xaxis6": {
         "anchor": "y6",
         "domain": [
          0.2625,
          0.475
         ],
         "gridcolor": "#E1E5ED",
         "showgrid": false,
         "tickfont": {
          "color": "#4D5663"
         },
         "title": {
          "font": {
           "color": "#4D5663"
          },
          "text": ""
         },
         "zerolinecolor": "#E1E5ED"
        },
        "xaxis7": {
         "anchor": "y7",
         "domain": [
          0.525,
          0.7375
         ],
         "gridcolor": "#E1E5ED",
         "showgrid": false,
         "tickfont": {
          "color": "#4D5663"
         },
         "title": {
          "font": {
           "color": "#4D5663"
          },
          "text": ""
         },
         "zerolinecolor": "#E1E5ED"
        },
        "xaxis8": {
         "anchor": "y8",
         "domain": [
          0.7875,
          1
         ],
         "gridcolor": "#E1E5ED",
         "showgrid": false,
         "tickfont": {
          "color": "#4D5663"
         },
         "title": {
          "font": {
           "color": "#4D5663"
          },
          "text": ""
         },
         "zerolinecolor": "#E1E5ED"
        },
        "xaxis9": {
         "anchor": "y9",
         "domain": [
          0,
          0.2125
         ],
         "gridcolor": "#E1E5ED",
         "showgrid": false,
         "tickfont": {
          "color": "#4D5663"
         },
         "title": {
          "font": {
           "color": "#4D5663"
          },
          "text": ""
         },
         "zerolinecolor": "#E1E5ED"
        },
        "yaxis": {
         "anchor": "x",
         "domain": [
          0.8025,
          1
         ],
         "gridcolor": "#E1E5ED",
         "showgrid": false,
         "tickfont": {
          "color": "#4D5663"
         },
         "title": {
          "font": {
           "color": "#4D5663"
          },
          "text": ""
         },
         "zerolinecolor": "#E1E5ED"
        },
        "yaxis10": {
         "anchor": "x10",
         "domain": [
          0.2675,
          0.465
         ],
         "gridcolor": "#E1E5ED",
         "showgrid": false,
         "tickfont": {
          "color": "#4D5663"
         },
         "title": {
          "font": {
           "color": "#4D5663"
          },
          "text": ""
         },
         "zerolinecolor": "#E1E5ED"
        },
        "yaxis11": {
         "anchor": "x11",
         "domain": [
          0.2675,
          0.465
         ],
         "gridcolor": "#E1E5ED",
         "showgrid": false,
         "tickfont": {
          "color": "#4D5663"
         },
         "title": {
          "font": {
           "color": "#4D5663"
          },
          "text": ""
         },
         "zerolinecolor": "#E1E5ED"
        },
        "yaxis12": {
         "anchor": "x12",
         "domain": [
          0.2675,
          0.465
         ],
         "gridcolor": "#E1E5ED",
         "showgrid": false,
         "tickfont": {
          "color": "#4D5663"
         },
         "title": {
          "font": {
           "color": "#4D5663"
          },
          "text": ""
         },
         "zerolinecolor": "#E1E5ED"
        },
        "yaxis13": {
         "anchor": "x13",
         "domain": [
          0,
          0.1975
         ],
         "gridcolor": "#E1E5ED",
         "showgrid": false,
         "tickfont": {
          "color": "#4D5663"
         },
         "title": {
          "font": {
           "color": "#4D5663"
          },
          "text": ""
         },
         "zerolinecolor": "#E1E5ED"
        },
        "yaxis14": {
         "anchor": "x14",
         "domain": [
          0,
          0.1975
         ],
         "gridcolor": "#E1E5ED",
         "showgrid": false,
         "tickfont": {
          "color": "#4D5663"
         },
         "title": {
          "font": {
           "color": "#4D5663"
          },
          "text": ""
         },
         "zerolinecolor": "#E1E5ED"
        },
        "yaxis15": {
         "anchor": "x15",
         "domain": [
          0,
          0.1975
         ],
         "gridcolor": "#E1E5ED",
         "showgrid": false,
         "tickfont": {
          "color": "#4D5663"
         },
         "title": {
          "font": {
           "color": "#4D5663"
          },
          "text": ""
         },
         "zerolinecolor": "#E1E5ED"
        },
        "yaxis16": {
         "anchor": "x16",
         "domain": [
          0,
          0.1975
         ],
         "gridcolor": "#E1E5ED",
         "showgrid": false,
         "tickfont": {
          "color": "#4D5663"
         },
         "title": {
          "font": {
           "color": "#4D5663"
          },
          "text": ""
         },
         "zerolinecolor": "#E1E5ED"
        },
        "yaxis2": {
         "anchor": "x2",
         "domain": [
          0.8025,
          1
         ],
         "gridcolor": "#E1E5ED",
         "showgrid": false,
         "tickfont": {
          "color": "#4D5663"
         },
         "title": {
          "font": {
           "color": "#4D5663"
          },
          "text": ""
         },
         "zerolinecolor": "#E1E5ED"
        },
        "yaxis3": {
         "anchor": "x3",
         "domain": [
          0.8025,
          1
         ],
         "gridcolor": "#E1E5ED",
         "showgrid": false,
         "tickfont": {
          "color": "#4D5663"
         },
         "title": {
          "font": {
           "color": "#4D5663"
          },
          "text": ""
         },
         "zerolinecolor": "#E1E5ED"
        },
        "yaxis4": {
         "anchor": "x4",
         "domain": [
          0.8025,
          1
         ],
         "gridcolor": "#E1E5ED",
         "showgrid": false,
         "tickfont": {
          "color": "#4D5663"
         },
         "title": {
          "font": {
           "color": "#4D5663"
          },
          "text": ""
         },
         "zerolinecolor": "#E1E5ED"
        },
        "yaxis5": {
         "anchor": "x5",
         "domain": [
          0.535,
          0.7325
         ],
         "gridcolor": "#E1E5ED",
         "showgrid": false,
         "tickfont": {
          "color": "#4D5663"
         },
         "title": {
          "font": {
           "color": "#4D5663"
          },
          "text": ""
         },
         "zerolinecolor": "#E1E5ED"
        },
        "yaxis6": {
         "anchor": "x6",
         "domain": [
          0.535,
          0.7325
         ],
         "gridcolor": "#E1E5ED",
         "showgrid": false,
         "tickfont": {
          "color": "#4D5663"
         },
         "title": {
          "font": {
           "color": "#4D5663"
          },
          "text": ""
         },
         "zerolinecolor": "#E1E5ED"
        },
        "yaxis7": {
         "anchor": "x7",
         "domain": [
          0.535,
          0.7325
         ],
         "gridcolor": "#E1E5ED",
         "showgrid": false,
         "tickfont": {
          "color": "#4D5663"
         },
         "title": {
          "font": {
           "color": "#4D5663"
          },
          "text": ""
         },
         "zerolinecolor": "#E1E5ED"
        },
        "yaxis8": {
         "anchor": "x8",
         "domain": [
          0.535,
          0.7325
         ],
         "gridcolor": "#E1E5ED",
         "showgrid": false,
         "tickfont": {
          "color": "#4D5663"
         },
         "title": {
          "font": {
           "color": "#4D5663"
          },
          "text": ""
         },
         "zerolinecolor": "#E1E5ED"
        },
        "yaxis9": {
         "anchor": "x9",
         "domain": [
          0.2675,
          0.465
         ],
         "gridcolor": "#E1E5ED",
         "showgrid": false,
         "tickfont": {
          "color": "#4D5663"
         },
         "title": {
          "font": {
           "color": "#4D5663"
          },
          "text": ""
         },
         "zerolinecolor": "#E1E5ED"
        }
       }
      },
      "text/html": [
       "<div>\n",
       "        \n",
       "        \n",
       "            <div id=\"c237c967-fdb1-4442-b598-9d58884ec837\" class=\"plotly-graph-div\" style=\"height:525px; width:100%;\"></div>\n",
       "            <script type=\"text/javascript\">\n",
       "                require([\"plotly\"], function(Plotly) {\n",
       "                    window.PLOTLYENV=window.PLOTLYENV || {};\n",
       "                    window.PLOTLYENV.BASE_URL='https://plot.ly';\n",
       "                    \n",
       "                if (document.getElementById(\"c237c967-fdb1-4442-b598-9d58884ec837\")) {\n",
       "                    Plotly.newPlot(\n",
       "                        'c237c967-fdb1-4442-b598-9d58884ec837',\n",
       "                        [{\"histfunc\": \"count\", \"histnorm\": \"\", \"marker\": {\"color\": \"rgba(255, 153, 51, 1.0)\", \"line\": {\"color\": \"#4D5663\", \"width\": 1.3}}, \"name\": \"A\", \"nbinsx\": 10, \"opacity\": 0.8, \"orientation\": \"v\", \"type\": \"histogram\", \"x\": [0.43633476275957783, -0.9369666672884216, 0.28852110280962995, -1.1011111414948977, 0.32854507231159646, 0.9816992515177357, -2.284421668511395, -0.26995513779247227, 0.6501295774491413, -1.069402621774459, -1.2020976216798172, 0.6513942645777206, 0.7521897597563676, 0.5426067229233946, 0.3370644577358486, -0.5393103302681119, -0.6635779258219466, -0.24300598976235596, 0.04496685936482622, -0.965346068356053, -0.24806693468330765, -0.16866354882736542, 0.5444475088125463, 0.5496623505488482, 0.5450871232084065, -0.441345583389729, -0.9629954737171853, -0.676216274703561, 0.006322641558518212, 0.18664330349151873, -0.02609261417418306, -0.43677653611744, 0.1424015252435575, 1.9310702447132302, -0.9155454555589564, 1.0582884814491147, 0.7987834738109799, -1.53766916018999, -1.825814026600039, 0.21272618276774719, 1.5967775264793374, 1.2929976854648164, 0.06610609076863956, -0.5764360733096935, -1.56089420040441, -0.2554528079087033, 1.8350740347678272, 0.3598812399041258, -0.2814109679987709, 0.3241194243912139, 1.0661956656936156, -0.037067756201864574, -0.683125037067316, -1.0280984103041046, -0.07112279321412139, -0.5539586978476361, -0.5602855710925664, 0.733138539889477, -1.0541102386248455, -1.3236651767229892, 1.0168652515920766, -0.3566999154025523, 0.6508321441587809, -0.0012140476126413513, -0.7882292100040235, 2.883257249796413, 0.3353217669277645, -1.0679692420258937, 0.18293142627367062, 0.11494991601411153, -0.3644172733653438, 0.4987628257668977, 0.8508934232296702, -0.08679926983528236, 0.8047676559452972, 0.2597526083971923, 0.473929637781343, 0.08581232319537543, -0.22410861057241027, -0.5257153363463388, 1.6952648028066364, -0.696156975583712, -0.836353387975282, 0.2965518348994222, -1.0012320086348452, -1.1544077261671366, -1.3350958845426832, 0.7119427630233932, 0.6411177748569961, -0.3001776750662769, -0.9048484414626201, 0.7390101756217512, 1.4819140122480443, 0.5981606146092255, -0.26082548405743144, 2.046254697130263, -1.9411641500930508, 1.8452808905980655, 1.4038573414777682, -0.8795591013597613], \"xaxis\": \"x\", \"yaxis\": \"y\"}, {\"line\": {\"color\": \"rgba(128, 128, 128, 1.0)\", \"dash\": \"solid\", \"shape\": \"linear\", \"width\": 1.3}, \"marker\": {\"size\": 2, \"symbol\": \"circle\"}, \"mode\": \"markers\", \"name\": \"A\", \"text\": \"\", \"type\": \"scatter\", \"x\": [-0.44728330349228973, -0.6069251354234275, -1.3738549093340406, 1.2334111997303334, 0.7397860123001738, 1.5972494572851856, -0.018931915979927754, -1.2264327624064608, 0.15592114116201142, -0.47902754325705527, 1.2074916117611019, 0.6889645260151184, 1.6209155031439582, 1.0377918747451134, -0.16857843049431245, 0.7350503697272961, 1.3732044642314538, 0.17853748378804712, 0.9201258074350492, 0.661381730865682, 1.485145958350401, -1.632119618070541, 0.22748154932469294, -0.09458663553707516, 0.21090274721930652, 1.2583083792119074, 1.6422290993212094, -1.019888999922517, -1.1262083616915823, 0.7751631377435271, 0.0780355504840483, 0.29911039538859174, 0.43807211050813644, -0.12770957828774504, -0.6521897822817302, -0.889630939076755, 0.15986237919607987, -0.04342366071403783, -0.43520486123887653, 0.5379206691506319, 0.793787709378705, -0.4289924398492299, 0.7369539710091716, 2.087453696135382, 0.5620994219564909, -0.20137912145968392, 0.7257704929503092, 1.1084092246082184, -0.5171551630835821, -1.1283322045922786, 0.2593535652357022, -0.17267859924919277, -1.5345339901197232, -0.3209003352524528, -1.1744077524500085, 1.4490429107416258, 1.184950303089929, 0.702234314776529, -0.6784286508938552, 1.2835120424777373, -1.190989535539129, -0.3513939866455125, 0.621578689492338, -0.4630544081124457, -0.4367365405676625, 1.3421143639461248, 1.7456877417419552, 1.3034225510631996, -0.7624624397576985, -0.40495996101011833, -2.1648442884732138, 0.5440779523888465, 0.5287058951523081, -0.43876721681254327, 0.6449127396655433, -1.8263143889063849, -0.7719047232387043, 1.7518581179245638, 0.8330915673690045, -0.4521002707172554, -0.5402986159008635, -1.2266100687118864, 1.6575386196372557, 0.7985342454287591, 0.208928873721229, 0.21447039459623737, -0.5130034897172456, 1.4365715282093559, -0.24188464953388022, 0.44495315267780716, 0.07569986085313132, -0.42437427642700526, -0.5719674021359072, 0.1764574730152452, 0.5947324055814549, 0.5454269787091772, -1.052784323807733, -0.5458881467962238, 0.7868241229855274, 0.38274020695729544], \"xaxis\": \"x2\", \"y\": [0.43633476275957783, -0.9369666672884216, 0.28852110280962995, -1.1011111414948977, 0.32854507231159646, 0.9816992515177357, -2.284421668511395, -0.26995513779247227, 0.6501295774491413, -1.069402621774459, -1.2020976216798172, 0.6513942645777206, 0.7521897597563676, 0.5426067229233946, 0.3370644577358486, -0.5393103302681119, -0.6635779258219466, -0.24300598976235596, 0.04496685936482622, -0.965346068356053, -0.24806693468330765, -0.16866354882736542, 0.5444475088125463, 0.5496623505488482, 0.5450871232084065, -0.441345583389729, -0.9629954737171853, -0.676216274703561, 0.006322641558518212, 0.18664330349151873, -0.02609261417418306, -0.43677653611744, 0.1424015252435575, 1.9310702447132302, -0.9155454555589564, 1.0582884814491147, 0.7987834738109799, -1.53766916018999, -1.825814026600039, 0.21272618276774719, 1.5967775264793374, 1.2929976854648164, 0.06610609076863956, -0.5764360733096935, -1.56089420040441, -0.2554528079087033, 1.8350740347678272, 0.3598812399041258, -0.2814109679987709, 0.3241194243912139, 1.0661956656936156, -0.037067756201864574, -0.683125037067316, -1.0280984103041046, -0.07112279321412139, -0.5539586978476361, -0.5602855710925664, 0.733138539889477, -1.0541102386248455, -1.3236651767229892, 1.0168652515920766, -0.3566999154025523, 0.6508321441587809, -0.0012140476126413513, -0.7882292100040235, 2.883257249796413, 0.3353217669277645, -1.0679692420258937, 0.18293142627367062, 0.11494991601411153, -0.3644172733653438, 0.4987628257668977, 0.8508934232296702, -0.08679926983528236, 0.8047676559452972, 0.2597526083971923, 0.473929637781343, 0.08581232319537543, -0.22410861057241027, -0.5257153363463388, 1.6952648028066364, -0.696156975583712, -0.836353387975282, 0.2965518348994222, -1.0012320086348452, -1.1544077261671366, -1.3350958845426832, 0.7119427630233932, 0.6411177748569961, -0.3001776750662769, -0.9048484414626201, 0.7390101756217512, 1.4819140122480443, 0.5981606146092255, -0.26082548405743144, 2.046254697130263, -1.9411641500930508, 1.8452808905980655, 1.4038573414777682, -0.8795591013597613], \"yaxis\": \"y2\"}, {\"line\": {\"color\": \"rgba(128, 128, 128, 1.0)\", \"dash\": \"solid\", \"shape\": \"linear\", \"width\": 1.3}, \"marker\": {\"size\": 2, \"symbol\": \"circle\"}, \"mode\": \"markers\", \"name\": \"A\", \"text\": \"\", \"type\": \"scatter\", \"x\": [-1.0982123211472223, -0.8259299755500107, -0.7305225541199882, 0.720107783789928, -0.5928186870269706, -2.221998006414882, -0.9111011953571583, -0.8268344254508183, 0.5503742059483506, 0.5183046780501815, 0.6233761079113126, -1.3176814636974876, -1.0634742227110472, 0.3278291182580586, -1.1566317538908852, 0.48651936928768663, -0.03653838637047471, 1.653007305664229, -0.1958229601153937, -0.1034740526638445, 0.04490066373735558, 1.1224937886733377, 0.7222367378387758, 1.4706514608417816, -0.3142241484681474, 0.11284754599516432, -0.30724990506555055, -1.7491330991294918, -1.2252328485947463, 0.09352534171463371, 1.3829204465828222, 1.3511260484587433, 1.3107742595531038, 0.0809417137183472, 1.5922218823186178, 0.8712263112583314, -1.0707108309115585, 0.37069160508749455, 0.43896689117448273, 0.5734965056512125, 0.5837450872276433, 0.7668530806250788, 0.013962992393534482, -0.3417229619283658, -0.20048716140289452, 0.08671683612266892, 0.4644430720271357, 1.488154778149524, 0.329927389374604, -2.1909396981792013, -1.227067350706915, 1.8092533081896278, 0.6038176513462273, 0.2373503625031047, 0.26547491245028043, -1.5001638448332122, 1.1623248531971837, -0.16634896425321918, 0.17790771790500814, -0.7185197969294509, 0.6942744580682934, -1.1457113673554422, -0.10374785054142244, -0.2697772837472289, 0.09727540896632256, 2.1288731444391957, 0.5541755511720746, 0.4630050450276214, 1.401745625787054, 0.048630674355072775, 0.2670255072610249, 0.4269269504719535, 0.2655817805432928, -0.37239487301095187, 0.6436911269862626, 0.4065884256564243, -0.3670944204242437, -0.02858372895149097, 0.12756327378376559, 0.6012980960266838, 0.22976530975734114, 1.2257573359966114, -0.4416034437641445, 2.2556705401005703, -0.8685076999087283, 2.0536788184368193, -1.598836938693923, -0.9465883899592311, -0.40314555748828707, -0.694530839635493, -0.7307372515070665, -0.5871698677555784, 1.1072087142715377, 0.8274185652563609, 0.10617915314525297, 0.02584303115521473, -1.2556217710498638, 0.8491784686253379, 0.6927287923192079, -0.3234782098349899], \"xaxis\": \"x3\", \"y\": [0.43633476275957783, -0.9369666672884216, 0.28852110280962995, -1.1011111414948977, 0.32854507231159646, 0.9816992515177357, -2.284421668511395, -0.26995513779247227, 0.6501295774491413, -1.069402621774459, -1.2020976216798172, 0.6513942645777206, 0.7521897597563676, 0.5426067229233946, 0.3370644577358486, -0.5393103302681119, -0.6635779258219466, -0.24300598976235596, 0.04496685936482622, -0.965346068356053, -0.24806693468330765, -0.16866354882736542, 0.5444475088125463, 0.5496623505488482, 0.5450871232084065, -0.441345583389729, -0.9629954737171853, -0.676216274703561, 0.006322641558518212, 0.18664330349151873, -0.02609261417418306, -0.43677653611744, 0.1424015252435575, 1.9310702447132302, -0.9155454555589564, 1.0582884814491147, 0.7987834738109799, -1.53766916018999, -1.825814026600039, 0.21272618276774719, 1.5967775264793374, 1.2929976854648164, 0.06610609076863956, -0.5764360733096935, -1.56089420040441, -0.2554528079087033, 1.8350740347678272, 0.3598812399041258, -0.2814109679987709, 0.3241194243912139, 1.0661956656936156, -0.037067756201864574, -0.683125037067316, -1.0280984103041046, -0.07112279321412139, -0.5539586978476361, -0.5602855710925664, 0.733138539889477, -1.0541102386248455, -1.3236651767229892, 1.0168652515920766, -0.3566999154025523, 0.6508321441587809, -0.0012140476126413513, -0.7882292100040235, 2.883257249796413, 0.3353217669277645, -1.0679692420258937, 0.18293142627367062, 0.11494991601411153, -0.3644172733653438, 0.4987628257668977, 0.8508934232296702, -0.08679926983528236, 0.8047676559452972, 0.2597526083971923, 0.473929637781343, 0.08581232319537543, -0.22410861057241027, -0.5257153363463388, 1.6952648028066364, -0.696156975583712, -0.836353387975282, 0.2965518348994222, -1.0012320086348452, -1.1544077261671366, -1.3350958845426832, 0.7119427630233932, 0.6411177748569961, -0.3001776750662769, -0.9048484414626201, 0.7390101756217512, 1.4819140122480443, 0.5981606146092255, -0.26082548405743144, 2.046254697130263, -1.9411641500930508, 1.8452808905980655, 1.4038573414777682, -0.8795591013597613], \"yaxis\": \"y3\"}, {\"line\": {\"color\": \"rgba(128, 128, 128, 1.0)\", \"dash\": \"solid\", \"shape\": \"linear\", \"width\": 1.3}, \"marker\": {\"size\": 2, \"symbol\": \"circle\"}, \"mode\": \"markers\", \"name\": \"A\", \"text\": \"\", \"type\": \"scatter\", \"x\": [1.630537903401598, 0.8596259162271885, -2.201701803685654, -3.534217963298778, -1.5647121206479027, -1.9460165473566289, -1.600711500655366, 0.24496026220022085, 0.24761018903712062, 1.4626461181710488, -1.3307360466228269, -0.4056970141192723, 2.0018706926157104, 0.465333049526165, -0.4307098877456645, 1.2606237424023388, 1.1713426577960662, 0.9939589097339985, -1.0547002716387939, -2.148493229373008, 0.9849828216059247, 0.7708700933760654, -0.4023329752573693, 0.3387727596201499, -0.377640538406158, 0.7077828889421378, 0.437296417393377, -0.25250149416514633, 0.3283687070181849, 0.923418148118716, -0.23476138689172962, -0.19042000344896998, 1.3269333170867752, -0.38285431319375884, -0.4051447522714992, -2.119114588900631, 0.7573699236995283, 1.5797688015470792, 1.0873746111180669, -0.9111800936727553, -0.9372403608398806, -0.6262546218272432, -1.0346514690291975, -1.6461889785240422, 0.6754840523961335, 1.2130273306035568, 0.6283597254489038, -2.057980108335055, -0.05080908028149197, 0.8913803009541872, -1.2328032930343173, -0.7492373828468251, -0.35847637695229095, 0.8502996394063193, -1.0639307618156, 0.49994004751047344, -0.17306531029694197, 0.3474560439886473, 0.6618079012963677, 1.059776304494004, 0.5689765731912213, 0.24017929467729499, -0.6365471459442161, 0.3166088809693611, 0.44030249853739367, -0.6616960144969435, -0.530144832027853, -0.6003412479446838, -0.533441646901601, -0.5465257789151005, 2.1007521204793895, 1.5441206792842839, 0.3623993234571638, -1.0970523353008284, 0.31783392276362477, -0.1192712023607618, -0.33470551654840375, 1.09032158443945, 1.177940122810895, -0.2389025734572126, 1.0812155427994656, -0.12332922767154199, -1.925856235632639, 0.7575441226419918, -0.8707962422601602, 0.6212624930242022, 0.18381420407798854, -0.10791157438462838, 0.690179703212908, 0.13465715668903508, -0.4094193011013336, 0.031657076139166025, 1.5626648342584941, 0.9726799975738454, 2.006103978315902, -0.5102779937383601, 0.32502245757795994, 0.3040279784391726, -1.8454370965590863, 1.5328167250113136], \"xaxis\": \"x4\", \"y\": [0.43633476275957783, -0.9369666672884216, 0.28852110280962995, -1.1011111414948977, 0.32854507231159646, 0.9816992515177357, -2.284421668511395, -0.26995513779247227, 0.6501295774491413, -1.069402621774459, -1.2020976216798172, 0.6513942645777206, 0.7521897597563676, 0.5426067229233946, 0.3370644577358486, -0.5393103302681119, -0.6635779258219466, -0.24300598976235596, 0.04496685936482622, -0.965346068356053, -0.24806693468330765, -0.16866354882736542, 0.5444475088125463, 0.5496623505488482, 0.5450871232084065, -0.441345583389729, -0.9629954737171853, -0.676216274703561, 0.006322641558518212, 0.18664330349151873, -0.02609261417418306, -0.43677653611744, 0.1424015252435575, 1.9310702447132302, -0.9155454555589564, 1.0582884814491147, 0.7987834738109799, -1.53766916018999, -1.825814026600039, 0.21272618276774719, 1.5967775264793374, 1.2929976854648164, 0.06610609076863956, -0.5764360733096935, -1.56089420040441, -0.2554528079087033, 1.8350740347678272, 0.3598812399041258, -0.2814109679987709, 0.3241194243912139, 1.0661956656936156, -0.037067756201864574, -0.683125037067316, -1.0280984103041046, -0.07112279321412139, -0.5539586978476361, -0.5602855710925664, 0.733138539889477, -1.0541102386248455, -1.3236651767229892, 1.0168652515920766, -0.3566999154025523, 0.6508321441587809, -0.0012140476126413513, -0.7882292100040235, 2.883257249796413, 0.3353217669277645, -1.0679692420258937, 0.18293142627367062, 0.11494991601411153, -0.3644172733653438, 0.4987628257668977, 0.8508934232296702, -0.08679926983528236, 0.8047676559452972, 0.2597526083971923, 0.473929637781343, 0.08581232319537543, -0.22410861057241027, -0.5257153363463388, 1.6952648028066364, -0.696156975583712, -0.836353387975282, 0.2965518348994222, -1.0012320086348452, -1.1544077261671366, -1.3350958845426832, 0.7119427630233932, 0.6411177748569961, -0.3001776750662769, -0.9048484414626201, 0.7390101756217512, 1.4819140122480443, 0.5981606146092255, -0.26082548405743144, 2.046254697130263, -1.9411641500930508, 1.8452808905980655, 1.4038573414777682, -0.8795591013597613], \"yaxis\": \"y4\"}, {\"line\": {\"color\": \"rgba(128, 128, 128, 1.0)\", \"dash\": \"solid\", \"shape\": \"linear\", \"width\": 1.3}, \"marker\": {\"size\": 2, \"symbol\": \"circle\"}, \"mode\": \"markers\", \"name\": \"B\", \"text\": \"\", \"type\": \"scatter\", \"x\": [0.43633476275957783, -0.9369666672884216, 0.28852110280962995, -1.1011111414948977, 0.32854507231159646, 0.9816992515177357, -2.284421668511395, -0.26995513779247227, 0.6501295774491413, -1.069402621774459, -1.2020976216798172, 0.6513942645777206, 0.7521897597563676, 0.5426067229233946, 0.3370644577358486, -0.5393103302681119, -0.6635779258219466, -0.24300598976235596, 0.04496685936482622, -0.965346068356053, -0.24806693468330765, -0.16866354882736542, 0.5444475088125463, 0.5496623505488482, 0.5450871232084065, -0.441345583389729, -0.9629954737171853, -0.676216274703561, 0.006322641558518212, 0.18664330349151873, -0.02609261417418306, -0.43677653611744, 0.1424015252435575, 1.9310702447132302, -0.9155454555589564, 1.0582884814491147, 0.7987834738109799, -1.53766916018999, -1.825814026600039, 0.21272618276774719, 1.5967775264793374, 1.2929976854648164, 0.06610609076863956, -0.5764360733096935, -1.56089420040441, -0.2554528079087033, 1.8350740347678272, 0.3598812399041258, -0.2814109679987709, 0.3241194243912139, 1.0661956656936156, -0.037067756201864574, -0.683125037067316, -1.0280984103041046, -0.07112279321412139, -0.5539586978476361, -0.5602855710925664, 0.733138539889477, -1.0541102386248455, -1.3236651767229892, 1.0168652515920766, -0.3566999154025523, 0.6508321441587809, -0.0012140476126413513, -0.7882292100040235, 2.883257249796413, 0.3353217669277645, -1.0679692420258937, 0.18293142627367062, 0.11494991601411153, -0.3644172733653438, 0.4987628257668977, 0.8508934232296702, -0.08679926983528236, 0.8047676559452972, 0.2597526083971923, 0.473929637781343, 0.08581232319537543, -0.22410861057241027, -0.5257153363463388, 1.6952648028066364, -0.696156975583712, -0.836353387975282, 0.2965518348994222, -1.0012320086348452, -1.1544077261671366, -1.3350958845426832, 0.7119427630233932, 0.6411177748569961, -0.3001776750662769, -0.9048484414626201, 0.7390101756217512, 1.4819140122480443, 0.5981606146092255, -0.26082548405743144, 2.046254697130263, -1.9411641500930508, 1.8452808905980655, 1.4038573414777682, -0.8795591013597613], \"xaxis\": \"x5\", \"y\": [-0.44728330349228973, -0.6069251354234275, -1.3738549093340406, 1.2334111997303334, 0.7397860123001738, 1.5972494572851856, -0.018931915979927754, -1.2264327624064608, 0.15592114116201142, -0.47902754325705527, 1.2074916117611019, 0.6889645260151184, 1.6209155031439582, 1.0377918747451134, -0.16857843049431245, 0.7350503697272961, 1.3732044642314538, 0.17853748378804712, 0.9201258074350492, 0.661381730865682, 1.485145958350401, -1.632119618070541, 0.22748154932469294, -0.09458663553707516, 0.21090274721930652, 1.2583083792119074, 1.6422290993212094, -1.019888999922517, -1.1262083616915823, 0.7751631377435271, 0.0780355504840483, 0.29911039538859174, 0.43807211050813644, -0.12770957828774504, -0.6521897822817302, -0.889630939076755, 0.15986237919607987, -0.04342366071403783, -0.43520486123887653, 0.5379206691506319, 0.793787709378705, -0.4289924398492299, 0.7369539710091716, 2.087453696135382, 0.5620994219564909, -0.20137912145968392, 0.7257704929503092, 1.1084092246082184, -0.5171551630835821, -1.1283322045922786, 0.2593535652357022, -0.17267859924919277, -1.5345339901197232, -0.3209003352524528, -1.1744077524500085, 1.4490429107416258, 1.184950303089929, 0.702234314776529, -0.6784286508938552, 1.2835120424777373, -1.190989535539129, -0.3513939866455125, 0.621578689492338, -0.4630544081124457, -0.4367365405676625, 1.3421143639461248, 1.7456877417419552, 1.3034225510631996, -0.7624624397576985, -0.40495996101011833, -2.1648442884732138, 0.5440779523888465, 0.5287058951523081, -0.43876721681254327, 0.6449127396655433, -1.8263143889063849, -0.7719047232387043, 1.7518581179245638, 0.8330915673690045, -0.4521002707172554, -0.5402986159008635, -1.2266100687118864, 1.6575386196372557, 0.7985342454287591, 0.208928873721229, 0.21447039459623737, -0.5130034897172456, 1.4365715282093559, -0.24188464953388022, 0.44495315267780716, 0.07569986085313132, -0.42437427642700526, -0.5719674021359072, 0.1764574730152452, 0.5947324055814549, 0.5454269787091772, -1.052784323807733, -0.5458881467962238, 0.7868241229855274, 0.38274020695729544], \"yaxis\": \"y5\"}, {\"histfunc\": \"count\", \"histnorm\": \"\", \"marker\": {\"color\": \"rgba(55, 128, 191, 1.0)\", \"line\": {\"color\": \"#4D5663\", \"width\": 1.3}}, \"name\": \"B\", \"nbinsx\": 10, \"opacity\": 0.8, \"orientation\": \"v\", \"type\": \"histogram\", \"x\": [-0.44728330349228973, -0.6069251354234275, -1.3738549093340406, 1.2334111997303334, 0.7397860123001738, 1.5972494572851856, -0.018931915979927754, -1.2264327624064608, 0.15592114116201142, -0.47902754325705527, 1.2074916117611019, 0.6889645260151184, 1.6209155031439582, 1.0377918747451134, -0.16857843049431245, 0.7350503697272961, 1.3732044642314538, 0.17853748378804712, 0.9201258074350492, 0.661381730865682, 1.485145958350401, -1.632119618070541, 0.22748154932469294, -0.09458663553707516, 0.21090274721930652, 1.2583083792119074, 1.6422290993212094, -1.019888999922517, -1.1262083616915823, 0.7751631377435271, 0.0780355504840483, 0.29911039538859174, 0.43807211050813644, -0.12770957828774504, -0.6521897822817302, -0.889630939076755, 0.15986237919607987, -0.04342366071403783, -0.43520486123887653, 0.5379206691506319, 0.793787709378705, -0.4289924398492299, 0.7369539710091716, 2.087453696135382, 0.5620994219564909, -0.20137912145968392, 0.7257704929503092, 1.1084092246082184, -0.5171551630835821, -1.1283322045922786, 0.2593535652357022, -0.17267859924919277, -1.5345339901197232, -0.3209003352524528, -1.1744077524500085, 1.4490429107416258, 1.184950303089929, 0.702234314776529, -0.6784286508938552, 1.2835120424777373, -1.190989535539129, -0.3513939866455125, 0.621578689492338, -0.4630544081124457, -0.4367365405676625, 1.3421143639461248, 1.7456877417419552, 1.3034225510631996, -0.7624624397576985, -0.40495996101011833, -2.1648442884732138, 0.5440779523888465, 0.5287058951523081, -0.43876721681254327, 0.6449127396655433, -1.8263143889063849, -0.7719047232387043, 1.7518581179245638, 0.8330915673690045, -0.4521002707172554, -0.5402986159008635, -1.2266100687118864, 1.6575386196372557, 0.7985342454287591, 0.208928873721229, 0.21447039459623737, -0.5130034897172456, 1.4365715282093559, -0.24188464953388022, 0.44495315267780716, 0.07569986085313132, -0.42437427642700526, -0.5719674021359072, 0.1764574730152452, 0.5947324055814549, 0.5454269787091772, -1.052784323807733, -0.5458881467962238, 0.7868241229855274, 0.38274020695729544], \"xaxis\": \"x6\", \"yaxis\": \"y6\"}, {\"line\": {\"color\": \"rgba(128, 128, 128, 1.0)\", \"dash\": \"solid\", \"shape\": \"linear\", \"width\": 1.3}, \"marker\": {\"size\": 2, \"symbol\": \"circle\"}, \"mode\": \"markers\", \"name\": \"B\", \"text\": \"\", \"type\": \"scatter\", \"x\": [-1.0982123211472223, -0.8259299755500107, -0.7305225541199882, 0.720107783789928, -0.5928186870269706, -2.221998006414882, -0.9111011953571583, -0.8268344254508183, 0.5503742059483506, 0.5183046780501815, 0.6233761079113126, -1.3176814636974876, -1.0634742227110472, 0.3278291182580586, -1.1566317538908852, 0.48651936928768663, -0.03653838637047471, 1.653007305664229, -0.1958229601153937, -0.1034740526638445, 0.04490066373735558, 1.1224937886733377, 0.7222367378387758, 1.4706514608417816, -0.3142241484681474, 0.11284754599516432, -0.30724990506555055, -1.7491330991294918, -1.2252328485947463, 0.09352534171463371, 1.3829204465828222, 1.3511260484587433, 1.3107742595531038, 0.0809417137183472, 1.5922218823186178, 0.8712263112583314, -1.0707108309115585, 0.37069160508749455, 0.43896689117448273, 0.5734965056512125, 0.5837450872276433, 0.7668530806250788, 0.013962992393534482, -0.3417229619283658, -0.20048716140289452, 0.08671683612266892, 0.4644430720271357, 1.488154778149524, 0.329927389374604, -2.1909396981792013, -1.227067350706915, 1.8092533081896278, 0.6038176513462273, 0.2373503625031047, 0.26547491245028043, -1.5001638448332122, 1.1623248531971837, -0.16634896425321918, 0.17790771790500814, -0.7185197969294509, 0.6942744580682934, -1.1457113673554422, -0.10374785054142244, -0.2697772837472289, 0.09727540896632256, 2.1288731444391957, 0.5541755511720746, 0.4630050450276214, 1.401745625787054, 0.048630674355072775, 0.2670255072610249, 0.4269269504719535, 0.2655817805432928, -0.37239487301095187, 0.6436911269862626, 0.4065884256564243, -0.3670944204242437, -0.02858372895149097, 0.12756327378376559, 0.6012980960266838, 0.22976530975734114, 1.2257573359966114, -0.4416034437641445, 2.2556705401005703, -0.8685076999087283, 2.0536788184368193, -1.598836938693923, -0.9465883899592311, -0.40314555748828707, -0.694530839635493, -0.7307372515070665, -0.5871698677555784, 1.1072087142715377, 0.8274185652563609, 0.10617915314525297, 0.02584303115521473, -1.2556217710498638, 0.8491784686253379, 0.6927287923192079, -0.3234782098349899], \"xaxis\": \"x7\", \"y\": [-0.44728330349228973, -0.6069251354234275, -1.3738549093340406, 1.2334111997303334, 0.7397860123001738, 1.5972494572851856, -0.018931915979927754, -1.2264327624064608, 0.15592114116201142, -0.47902754325705527, 1.2074916117611019, 0.6889645260151184, 1.6209155031439582, 1.0377918747451134, -0.16857843049431245, 0.7350503697272961, 1.3732044642314538, 0.17853748378804712, 0.9201258074350492, 0.661381730865682, 1.485145958350401, -1.632119618070541, 0.22748154932469294, -0.09458663553707516, 0.21090274721930652, 1.2583083792119074, 1.6422290993212094, -1.019888999922517, -1.1262083616915823, 0.7751631377435271, 0.0780355504840483, 0.29911039538859174, 0.43807211050813644, -0.12770957828774504, -0.6521897822817302, -0.889630939076755, 0.15986237919607987, -0.04342366071403783, -0.43520486123887653, 0.5379206691506319, 0.793787709378705, -0.4289924398492299, 0.7369539710091716, 2.087453696135382, 0.5620994219564909, -0.20137912145968392, 0.7257704929503092, 1.1084092246082184, -0.5171551630835821, -1.1283322045922786, 0.2593535652357022, -0.17267859924919277, -1.5345339901197232, -0.3209003352524528, -1.1744077524500085, 1.4490429107416258, 1.184950303089929, 0.702234314776529, -0.6784286508938552, 1.2835120424777373, -1.190989535539129, -0.3513939866455125, 0.621578689492338, -0.4630544081124457, -0.4367365405676625, 1.3421143639461248, 1.7456877417419552, 1.3034225510631996, -0.7624624397576985, -0.40495996101011833, -2.1648442884732138, 0.5440779523888465, 0.5287058951523081, -0.43876721681254327, 0.6449127396655433, -1.8263143889063849, -0.7719047232387043, 1.7518581179245638, 0.8330915673690045, -0.4521002707172554, -0.5402986159008635, -1.2266100687118864, 1.6575386196372557, 0.7985342454287591, 0.208928873721229, 0.21447039459623737, -0.5130034897172456, 1.4365715282093559, -0.24188464953388022, 0.44495315267780716, 0.07569986085313132, -0.42437427642700526, -0.5719674021359072, 0.1764574730152452, 0.5947324055814549, 0.5454269787091772, -1.052784323807733, -0.5458881467962238, 0.7868241229855274, 0.38274020695729544], \"yaxis\": \"y7\"}, {\"line\": {\"color\": \"rgba(128, 128, 128, 1.0)\", \"dash\": \"solid\", \"shape\": \"linear\", \"width\": 1.3}, \"marker\": {\"size\": 2, \"symbol\": \"circle\"}, \"mode\": \"markers\", \"name\": \"B\", \"text\": \"\", \"type\": \"scatter\", \"x\": [1.630537903401598, 0.8596259162271885, -2.201701803685654, -3.534217963298778, -1.5647121206479027, -1.9460165473566289, -1.600711500655366, 0.24496026220022085, 0.24761018903712062, 1.4626461181710488, -1.3307360466228269, -0.4056970141192723, 2.0018706926157104, 0.465333049526165, -0.4307098877456645, 1.2606237424023388, 1.1713426577960662, 0.9939589097339985, -1.0547002716387939, -2.148493229373008, 0.9849828216059247, 0.7708700933760654, -0.4023329752573693, 0.3387727596201499, -0.377640538406158, 0.7077828889421378, 0.437296417393377, -0.25250149416514633, 0.3283687070181849, 0.923418148118716, -0.23476138689172962, -0.19042000344896998, 1.3269333170867752, -0.38285431319375884, -0.4051447522714992, -2.119114588900631, 0.7573699236995283, 1.5797688015470792, 1.0873746111180669, -0.9111800936727553, -0.9372403608398806, -0.6262546218272432, -1.0346514690291975, -1.6461889785240422, 0.6754840523961335, 1.2130273306035568, 0.6283597254489038, -2.057980108335055, -0.05080908028149197, 0.8913803009541872, -1.2328032930343173, -0.7492373828468251, -0.35847637695229095, 0.8502996394063193, -1.0639307618156, 0.49994004751047344, -0.17306531029694197, 0.3474560439886473, 0.6618079012963677, 1.059776304494004, 0.5689765731912213, 0.24017929467729499, -0.6365471459442161, 0.3166088809693611, 0.44030249853739367, -0.6616960144969435, -0.530144832027853, -0.6003412479446838, -0.533441646901601, -0.5465257789151005, 2.1007521204793895, 1.5441206792842839, 0.3623993234571638, -1.0970523353008284, 0.31783392276362477, -0.1192712023607618, -0.33470551654840375, 1.09032158443945, 1.177940122810895, -0.2389025734572126, 1.0812155427994656, -0.12332922767154199, -1.925856235632639, 0.7575441226419918, -0.8707962422601602, 0.6212624930242022, 0.18381420407798854, -0.10791157438462838, 0.690179703212908, 0.13465715668903508, -0.4094193011013336, 0.031657076139166025, 1.5626648342584941, 0.9726799975738454, 2.006103978315902, -0.5102779937383601, 0.32502245757795994, 0.3040279784391726, -1.8454370965590863, 1.5328167250113136], \"xaxis\": \"x8\", \"y\": [-0.44728330349228973, -0.6069251354234275, -1.3738549093340406, 1.2334111997303334, 0.7397860123001738, 1.5972494572851856, -0.018931915979927754, -1.2264327624064608, 0.15592114116201142, -0.47902754325705527, 1.2074916117611019, 0.6889645260151184, 1.6209155031439582, 1.0377918747451134, -0.16857843049431245, 0.7350503697272961, 1.3732044642314538, 0.17853748378804712, 0.9201258074350492, 0.661381730865682, 1.485145958350401, -1.632119618070541, 0.22748154932469294, -0.09458663553707516, 0.21090274721930652, 1.2583083792119074, 1.6422290993212094, -1.019888999922517, -1.1262083616915823, 0.7751631377435271, 0.0780355504840483, 0.29911039538859174, 0.43807211050813644, -0.12770957828774504, -0.6521897822817302, -0.889630939076755, 0.15986237919607987, -0.04342366071403783, -0.43520486123887653, 0.5379206691506319, 0.793787709378705, -0.4289924398492299, 0.7369539710091716, 2.087453696135382, 0.5620994219564909, -0.20137912145968392, 0.7257704929503092, 1.1084092246082184, -0.5171551630835821, -1.1283322045922786, 0.2593535652357022, -0.17267859924919277, -1.5345339901197232, -0.3209003352524528, -1.1744077524500085, 1.4490429107416258, 1.184950303089929, 0.702234314776529, -0.6784286508938552, 1.2835120424777373, -1.190989535539129, -0.3513939866455125, 0.621578689492338, -0.4630544081124457, -0.4367365405676625, 1.3421143639461248, 1.7456877417419552, 1.3034225510631996, -0.7624624397576985, -0.40495996101011833, -2.1648442884732138, 0.5440779523888465, 0.5287058951523081, -0.43876721681254327, 0.6449127396655433, -1.8263143889063849, -0.7719047232387043, 1.7518581179245638, 0.8330915673690045, -0.4521002707172554, -0.5402986159008635, -1.2266100687118864, 1.6575386196372557, 0.7985342454287591, 0.208928873721229, 0.21447039459623737, -0.5130034897172456, 1.4365715282093559, -0.24188464953388022, 0.44495315267780716, 0.07569986085313132, -0.42437427642700526, -0.5719674021359072, 0.1764574730152452, 0.5947324055814549, 0.5454269787091772, -1.052784323807733, -0.5458881467962238, 0.7868241229855274, 0.38274020695729544], \"yaxis\": \"y8\"}, {\"line\": {\"color\": \"rgba(128, 128, 128, 1.0)\", \"dash\": \"solid\", \"shape\": \"linear\", \"width\": 1.3}, \"marker\": {\"size\": 2, \"symbol\": \"circle\"}, \"mode\": \"markers\", \"name\": \"C\", \"text\": \"\", \"type\": \"scatter\", \"x\": [0.43633476275957783, -0.9369666672884216, 0.28852110280962995, -1.1011111414948977, 0.32854507231159646, 0.9816992515177357, -2.284421668511395, -0.26995513779247227, 0.6501295774491413, -1.069402621774459, -1.2020976216798172, 0.6513942645777206, 0.7521897597563676, 0.5426067229233946, 0.3370644577358486, -0.5393103302681119, -0.6635779258219466, -0.24300598976235596, 0.04496685936482622, -0.965346068356053, -0.24806693468330765, -0.16866354882736542, 0.5444475088125463, 0.5496623505488482, 0.5450871232084065, -0.441345583389729, -0.9629954737171853, -0.676216274703561, 0.006322641558518212, 0.18664330349151873, -0.02609261417418306, -0.43677653611744, 0.1424015252435575, 1.9310702447132302, -0.9155454555589564, 1.0582884814491147, 0.7987834738109799, -1.53766916018999, -1.825814026600039, 0.21272618276774719, 1.5967775264793374, 1.2929976854648164, 0.06610609076863956, -0.5764360733096935, -1.56089420040441, -0.2554528079087033, 1.8350740347678272, 0.3598812399041258, -0.2814109679987709, 0.3241194243912139, 1.0661956656936156, -0.037067756201864574, -0.683125037067316, -1.0280984103041046, -0.07112279321412139, -0.5539586978476361, -0.5602855710925664, 0.733138539889477, -1.0541102386248455, -1.3236651767229892, 1.0168652515920766, -0.3566999154025523, 0.6508321441587809, -0.0012140476126413513, -0.7882292100040235, 2.883257249796413, 0.3353217669277645, -1.0679692420258937, 0.18293142627367062, 0.11494991601411153, -0.3644172733653438, 0.4987628257668977, 0.8508934232296702, -0.08679926983528236, 0.8047676559452972, 0.2597526083971923, 0.473929637781343, 0.08581232319537543, -0.22410861057241027, -0.5257153363463388, 1.6952648028066364, -0.696156975583712, -0.836353387975282, 0.2965518348994222, -1.0012320086348452, -1.1544077261671366, -1.3350958845426832, 0.7119427630233932, 0.6411177748569961, -0.3001776750662769, -0.9048484414626201, 0.7390101756217512, 1.4819140122480443, 0.5981606146092255, -0.26082548405743144, 2.046254697130263, -1.9411641500930508, 1.8452808905980655, 1.4038573414777682, -0.8795591013597613], \"xaxis\": \"x9\", \"y\": [-1.0982123211472223, -0.8259299755500107, -0.7305225541199882, 0.720107783789928, -0.5928186870269706, -2.221998006414882, -0.9111011953571583, -0.8268344254508183, 0.5503742059483506, 0.5183046780501815, 0.6233761079113126, -1.3176814636974876, -1.0634742227110472, 0.3278291182580586, -1.1566317538908852, 0.48651936928768663, -0.03653838637047471, 1.653007305664229, -0.1958229601153937, -0.1034740526638445, 0.04490066373735558, 1.1224937886733377, 0.7222367378387758, 1.4706514608417816, -0.3142241484681474, 0.11284754599516432, -0.30724990506555055, -1.7491330991294918, -1.2252328485947463, 0.09352534171463371, 1.3829204465828222, 1.3511260484587433, 1.3107742595531038, 0.0809417137183472, 1.5922218823186178, 0.8712263112583314, -1.0707108309115585, 0.37069160508749455, 0.43896689117448273, 0.5734965056512125, 0.5837450872276433, 0.7668530806250788, 0.013962992393534482, -0.3417229619283658, -0.20048716140289452, 0.08671683612266892, 0.4644430720271357, 1.488154778149524, 0.329927389374604, -2.1909396981792013, -1.227067350706915, 1.8092533081896278, 0.6038176513462273, 0.2373503625031047, 0.26547491245028043, -1.5001638448332122, 1.1623248531971837, -0.16634896425321918, 0.17790771790500814, -0.7185197969294509, 0.6942744580682934, -1.1457113673554422, -0.10374785054142244, -0.2697772837472289, 0.09727540896632256, 2.1288731444391957, 0.5541755511720746, 0.4630050450276214, 1.401745625787054, 0.048630674355072775, 0.2670255072610249, 0.4269269504719535, 0.2655817805432928, -0.37239487301095187, 0.6436911269862626, 0.4065884256564243, -0.3670944204242437, -0.02858372895149097, 0.12756327378376559, 0.6012980960266838, 0.22976530975734114, 1.2257573359966114, -0.4416034437641445, 2.2556705401005703, -0.8685076999087283, 2.0536788184368193, -1.598836938693923, -0.9465883899592311, -0.40314555748828707, -0.694530839635493, -0.7307372515070665, -0.5871698677555784, 1.1072087142715377, 0.8274185652563609, 0.10617915314525297, 0.02584303115521473, -1.2556217710498638, 0.8491784686253379, 0.6927287923192079, -0.3234782098349899], \"yaxis\": \"y9\"}, {\"line\": {\"color\": \"rgba(128, 128, 128, 1.0)\", \"dash\": \"solid\", \"shape\": \"linear\", \"width\": 1.3}, \"marker\": {\"size\": 2, \"symbol\": \"circle\"}, \"mode\": \"markers\", \"name\": \"C\", \"text\": \"\", \"type\": \"scatter\", \"x\": [-0.44728330349228973, -0.6069251354234275, -1.3738549093340406, 1.2334111997303334, 0.7397860123001738, 1.5972494572851856, -0.018931915979927754, -1.2264327624064608, 0.15592114116201142, -0.47902754325705527, 1.2074916117611019, 0.6889645260151184, 1.6209155031439582, 1.0377918747451134, -0.16857843049431245, 0.7350503697272961, 1.3732044642314538, 0.17853748378804712, 0.9201258074350492, 0.661381730865682, 1.485145958350401, -1.632119618070541, 0.22748154932469294, -0.09458663553707516, 0.21090274721930652, 1.2583083792119074, 1.6422290993212094, -1.019888999922517, -1.1262083616915823, 0.7751631377435271, 0.0780355504840483, 0.29911039538859174, 0.43807211050813644, -0.12770957828774504, -0.6521897822817302, -0.889630939076755, 0.15986237919607987, -0.04342366071403783, -0.43520486123887653, 0.5379206691506319, 0.793787709378705, -0.4289924398492299, 0.7369539710091716, 2.087453696135382, 0.5620994219564909, -0.20137912145968392, 0.7257704929503092, 1.1084092246082184, -0.5171551630835821, -1.1283322045922786, 0.2593535652357022, -0.17267859924919277, -1.5345339901197232, -0.3209003352524528, -1.1744077524500085, 1.4490429107416258, 1.184950303089929, 0.702234314776529, -0.6784286508938552, 1.2835120424777373, -1.190989535539129, -0.3513939866455125, 0.621578689492338, -0.4630544081124457, -0.4367365405676625, 1.3421143639461248, 1.7456877417419552, 1.3034225510631996, -0.7624624397576985, -0.40495996101011833, -2.1648442884732138, 0.5440779523888465, 0.5287058951523081, -0.43876721681254327, 0.6449127396655433, -1.8263143889063849, -0.7719047232387043, 1.7518581179245638, 0.8330915673690045, -0.4521002707172554, -0.5402986159008635, -1.2266100687118864, 1.6575386196372557, 0.7985342454287591, 0.208928873721229, 0.21447039459623737, -0.5130034897172456, 1.4365715282093559, -0.24188464953388022, 0.44495315267780716, 0.07569986085313132, -0.42437427642700526, -0.5719674021359072, 0.1764574730152452, 0.5947324055814549, 0.5454269787091772, -1.052784323807733, -0.5458881467962238, 0.7868241229855274, 0.38274020695729544], \"xaxis\": \"x10\", \"y\": [-1.0982123211472223, -0.8259299755500107, -0.7305225541199882, 0.720107783789928, -0.5928186870269706, -2.221998006414882, -0.9111011953571583, -0.8268344254508183, 0.5503742059483506, 0.5183046780501815, 0.6233761079113126, -1.3176814636974876, -1.0634742227110472, 0.3278291182580586, -1.1566317538908852, 0.48651936928768663, -0.03653838637047471, 1.653007305664229, -0.1958229601153937, -0.1034740526638445, 0.04490066373735558, 1.1224937886733377, 0.7222367378387758, 1.4706514608417816, -0.3142241484681474, 0.11284754599516432, -0.30724990506555055, -1.7491330991294918, -1.2252328485947463, 0.09352534171463371, 1.3829204465828222, 1.3511260484587433, 1.3107742595531038, 0.0809417137183472, 1.5922218823186178, 0.8712263112583314, -1.0707108309115585, 0.37069160508749455, 0.43896689117448273, 0.5734965056512125, 0.5837450872276433, 0.7668530806250788, 0.013962992393534482, -0.3417229619283658, -0.20048716140289452, 0.08671683612266892, 0.4644430720271357, 1.488154778149524, 0.329927389374604, -2.1909396981792013, -1.227067350706915, 1.8092533081896278, 0.6038176513462273, 0.2373503625031047, 0.26547491245028043, -1.5001638448332122, 1.1623248531971837, -0.16634896425321918, 0.17790771790500814, -0.7185197969294509, 0.6942744580682934, -1.1457113673554422, -0.10374785054142244, -0.2697772837472289, 0.09727540896632256, 2.1288731444391957, 0.5541755511720746, 0.4630050450276214, 1.401745625787054, 0.048630674355072775, 0.2670255072610249, 0.4269269504719535, 0.2655817805432928, -0.37239487301095187, 0.6436911269862626, 0.4065884256564243, -0.3670944204242437, -0.02858372895149097, 0.12756327378376559, 0.6012980960266838, 0.22976530975734114, 1.2257573359966114, -0.4416034437641445, 2.2556705401005703, -0.8685076999087283, 2.0536788184368193, -1.598836938693923, -0.9465883899592311, -0.40314555748828707, -0.694530839635493, -0.7307372515070665, -0.5871698677555784, 1.1072087142715377, 0.8274185652563609, 0.10617915314525297, 0.02584303115521473, -1.2556217710498638, 0.8491784686253379, 0.6927287923192079, -0.3234782098349899], \"yaxis\": \"y10\"}, {\"histfunc\": \"count\", \"histnorm\": \"\", \"marker\": {\"color\": \"rgba(50, 171, 96, 1.0)\", \"line\": {\"color\": \"#4D5663\", \"width\": 1.3}}, \"name\": \"C\", \"nbinsx\": 10, \"opacity\": 0.8, \"orientation\": \"v\", \"type\": \"histogram\", \"x\": [-1.0982123211472223, -0.8259299755500107, -0.7305225541199882, 0.720107783789928, -0.5928186870269706, -2.221998006414882, -0.9111011953571583, -0.8268344254508183, 0.5503742059483506, 0.5183046780501815, 0.6233761079113126, -1.3176814636974876, -1.0634742227110472, 0.3278291182580586, -1.1566317538908852, 0.48651936928768663, -0.03653838637047471, 1.653007305664229, -0.1958229601153937, -0.1034740526638445, 0.04490066373735558, 1.1224937886733377, 0.7222367378387758, 1.4706514608417816, -0.3142241484681474, 0.11284754599516432, -0.30724990506555055, -1.7491330991294918, -1.2252328485947463, 0.09352534171463371, 1.3829204465828222, 1.3511260484587433, 1.3107742595531038, 0.0809417137183472, 1.5922218823186178, 0.8712263112583314, -1.0707108309115585, 0.37069160508749455, 0.43896689117448273, 0.5734965056512125, 0.5837450872276433, 0.7668530806250788, 0.013962992393534482, -0.3417229619283658, -0.20048716140289452, 0.08671683612266892, 0.4644430720271357, 1.488154778149524, 0.329927389374604, -2.1909396981792013, -1.227067350706915, 1.8092533081896278, 0.6038176513462273, 0.2373503625031047, 0.26547491245028043, -1.5001638448332122, 1.1623248531971837, -0.16634896425321918, 0.17790771790500814, -0.7185197969294509, 0.6942744580682934, -1.1457113673554422, -0.10374785054142244, -0.2697772837472289, 0.09727540896632256, 2.1288731444391957, 0.5541755511720746, 0.4630050450276214, 1.401745625787054, 0.048630674355072775, 0.2670255072610249, 0.4269269504719535, 0.2655817805432928, -0.37239487301095187, 0.6436911269862626, 0.4065884256564243, -0.3670944204242437, -0.02858372895149097, 0.12756327378376559, 0.6012980960266838, 0.22976530975734114, 1.2257573359966114, -0.4416034437641445, 2.2556705401005703, -0.8685076999087283, 2.0536788184368193, -1.598836938693923, -0.9465883899592311, -0.40314555748828707, -0.694530839635493, -0.7307372515070665, -0.5871698677555784, 1.1072087142715377, 0.8274185652563609, 0.10617915314525297, 0.02584303115521473, -1.2556217710498638, 0.8491784686253379, 0.6927287923192079, -0.3234782098349899], \"xaxis\": \"x11\", \"yaxis\": \"y11\"}, {\"line\": {\"color\": \"rgba(128, 128, 128, 1.0)\", \"dash\": \"solid\", \"shape\": \"linear\", \"width\": 1.3}, \"marker\": {\"size\": 2, \"symbol\": \"circle\"}, \"mode\": \"markers\", \"name\": \"C\", \"text\": \"\", \"type\": \"scatter\", \"x\": [1.630537903401598, 0.8596259162271885, -2.201701803685654, -3.534217963298778, -1.5647121206479027, -1.9460165473566289, -1.600711500655366, 0.24496026220022085, 0.24761018903712062, 1.4626461181710488, -1.3307360466228269, -0.4056970141192723, 2.0018706926157104, 0.465333049526165, -0.4307098877456645, 1.2606237424023388, 1.1713426577960662, 0.9939589097339985, -1.0547002716387939, -2.148493229373008, 0.9849828216059247, 0.7708700933760654, -0.4023329752573693, 0.3387727596201499, -0.377640538406158, 0.7077828889421378, 0.437296417393377, -0.25250149416514633, 0.3283687070181849, 0.923418148118716, -0.23476138689172962, -0.19042000344896998, 1.3269333170867752, -0.38285431319375884, -0.4051447522714992, -2.119114588900631, 0.7573699236995283, 1.5797688015470792, 1.0873746111180669, -0.9111800936727553, -0.9372403608398806, -0.6262546218272432, -1.0346514690291975, -1.6461889785240422, 0.6754840523961335, 1.2130273306035568, 0.6283597254489038, -2.057980108335055, -0.05080908028149197, 0.8913803009541872, -1.2328032930343173, -0.7492373828468251, -0.35847637695229095, 0.8502996394063193, -1.0639307618156, 0.49994004751047344, -0.17306531029694197, 0.3474560439886473, 0.6618079012963677, 1.059776304494004, 0.5689765731912213, 0.24017929467729499, -0.6365471459442161, 0.3166088809693611, 0.44030249853739367, -0.6616960144969435, -0.530144832027853, -0.6003412479446838, -0.533441646901601, -0.5465257789151005, 2.1007521204793895, 1.5441206792842839, 0.3623993234571638, -1.0970523353008284, 0.31783392276362477, -0.1192712023607618, -0.33470551654840375, 1.09032158443945, 1.177940122810895, -0.2389025734572126, 1.0812155427994656, -0.12332922767154199, -1.925856235632639, 0.7575441226419918, -0.8707962422601602, 0.6212624930242022, 0.18381420407798854, -0.10791157438462838, 0.690179703212908, 0.13465715668903508, -0.4094193011013336, 0.031657076139166025, 1.5626648342584941, 0.9726799975738454, 2.006103978315902, -0.5102779937383601, 0.32502245757795994, 0.3040279784391726, -1.8454370965590863, 1.5328167250113136], \"xaxis\": \"x12\", \"y\": [-1.0982123211472223, -0.8259299755500107, -0.7305225541199882, 0.720107783789928, -0.5928186870269706, -2.221998006414882, -0.9111011953571583, -0.8268344254508183, 0.5503742059483506, 0.5183046780501815, 0.6233761079113126, -1.3176814636974876, -1.0634742227110472, 0.3278291182580586, -1.1566317538908852, 0.48651936928768663, -0.03653838637047471, 1.653007305664229, -0.1958229601153937, -0.1034740526638445, 0.04490066373735558, 1.1224937886733377, 0.7222367378387758, 1.4706514608417816, -0.3142241484681474, 0.11284754599516432, -0.30724990506555055, -1.7491330991294918, -1.2252328485947463, 0.09352534171463371, 1.3829204465828222, 1.3511260484587433, 1.3107742595531038, 0.0809417137183472, 1.5922218823186178, 0.8712263112583314, -1.0707108309115585, 0.37069160508749455, 0.43896689117448273, 0.5734965056512125, 0.5837450872276433, 0.7668530806250788, 0.013962992393534482, -0.3417229619283658, -0.20048716140289452, 0.08671683612266892, 0.4644430720271357, 1.488154778149524, 0.329927389374604, -2.1909396981792013, -1.227067350706915, 1.8092533081896278, 0.6038176513462273, 0.2373503625031047, 0.26547491245028043, -1.5001638448332122, 1.1623248531971837, -0.16634896425321918, 0.17790771790500814, -0.7185197969294509, 0.6942744580682934, -1.1457113673554422, -0.10374785054142244, -0.2697772837472289, 0.09727540896632256, 2.1288731444391957, 0.5541755511720746, 0.4630050450276214, 1.401745625787054, 0.048630674355072775, 0.2670255072610249, 0.4269269504719535, 0.2655817805432928, -0.37239487301095187, 0.6436911269862626, 0.4065884256564243, -0.3670944204242437, -0.02858372895149097, 0.12756327378376559, 0.6012980960266838, 0.22976530975734114, 1.2257573359966114, -0.4416034437641445, 2.2556705401005703, -0.8685076999087283, 2.0536788184368193, -1.598836938693923, -0.9465883899592311, -0.40314555748828707, -0.694530839635493, -0.7307372515070665, -0.5871698677555784, 1.1072087142715377, 0.8274185652563609, 0.10617915314525297, 0.02584303115521473, -1.2556217710498638, 0.8491784686253379, 0.6927287923192079, -0.3234782098349899], \"yaxis\": \"y12\"}, {\"line\": {\"color\": \"rgba(128, 128, 128, 1.0)\", \"dash\": \"solid\", \"shape\": \"linear\", \"width\": 1.3}, \"marker\": {\"size\": 2, \"symbol\": \"circle\"}, \"mode\": \"markers\", \"name\": \"D\", \"text\": \"\", \"type\": \"scatter\", \"x\": [0.43633476275957783, -0.9369666672884216, 0.28852110280962995, -1.1011111414948977, 0.32854507231159646, 0.9816992515177357, -2.284421668511395, -0.26995513779247227, 0.6501295774491413, -1.069402621774459, -1.2020976216798172, 0.6513942645777206, 0.7521897597563676, 0.5426067229233946, 0.3370644577358486, -0.5393103302681119, -0.6635779258219466, -0.24300598976235596, 0.04496685936482622, -0.965346068356053, -0.24806693468330765, -0.16866354882736542, 0.5444475088125463, 0.5496623505488482, 0.5450871232084065, -0.441345583389729, -0.9629954737171853, -0.676216274703561, 0.006322641558518212, 0.18664330349151873, -0.02609261417418306, -0.43677653611744, 0.1424015252435575, 1.9310702447132302, -0.9155454555589564, 1.0582884814491147, 0.7987834738109799, -1.53766916018999, -1.825814026600039, 0.21272618276774719, 1.5967775264793374, 1.2929976854648164, 0.06610609076863956, -0.5764360733096935, -1.56089420040441, -0.2554528079087033, 1.8350740347678272, 0.3598812399041258, -0.2814109679987709, 0.3241194243912139, 1.0661956656936156, -0.037067756201864574, -0.683125037067316, -1.0280984103041046, -0.07112279321412139, -0.5539586978476361, -0.5602855710925664, 0.733138539889477, -1.0541102386248455, -1.3236651767229892, 1.0168652515920766, -0.3566999154025523, 0.6508321441587809, -0.0012140476126413513, -0.7882292100040235, 2.883257249796413, 0.3353217669277645, -1.0679692420258937, 0.18293142627367062, 0.11494991601411153, -0.3644172733653438, 0.4987628257668977, 0.8508934232296702, -0.08679926983528236, 0.8047676559452972, 0.2597526083971923, 0.473929637781343, 0.08581232319537543, -0.22410861057241027, -0.5257153363463388, 1.6952648028066364, -0.696156975583712, -0.836353387975282, 0.2965518348994222, -1.0012320086348452, -1.1544077261671366, -1.3350958845426832, 0.7119427630233932, 0.6411177748569961, -0.3001776750662769, -0.9048484414626201, 0.7390101756217512, 1.4819140122480443, 0.5981606146092255, -0.26082548405743144, 2.046254697130263, -1.9411641500930508, 1.8452808905980655, 1.4038573414777682, -0.8795591013597613], \"xaxis\": \"x13\", \"y\": [1.630537903401598, 0.8596259162271885, -2.201701803685654, -3.534217963298778, -1.5647121206479027, -1.9460165473566289, -1.600711500655366, 0.24496026220022085, 0.24761018903712062, 1.4626461181710488, -1.3307360466228269, -0.4056970141192723, 2.0018706926157104, 0.465333049526165, -0.4307098877456645, 1.2606237424023388, 1.1713426577960662, 0.9939589097339985, -1.0547002716387939, -2.148493229373008, 0.9849828216059247, 0.7708700933760654, -0.4023329752573693, 0.3387727596201499, -0.377640538406158, 0.7077828889421378, 0.437296417393377, -0.25250149416514633, 0.3283687070181849, 0.923418148118716, -0.23476138689172962, -0.19042000344896998, 1.3269333170867752, -0.38285431319375884, -0.4051447522714992, -2.119114588900631, 0.7573699236995283, 1.5797688015470792, 1.0873746111180669, -0.9111800936727553, -0.9372403608398806, -0.6262546218272432, -1.0346514690291975, -1.6461889785240422, 0.6754840523961335, 1.2130273306035568, 0.6283597254489038, -2.057980108335055, -0.05080908028149197, 0.8913803009541872, -1.2328032930343173, -0.7492373828468251, -0.35847637695229095, 0.8502996394063193, -1.0639307618156, 0.49994004751047344, -0.17306531029694197, 0.3474560439886473, 0.6618079012963677, 1.059776304494004, 0.5689765731912213, 0.24017929467729499, -0.6365471459442161, 0.3166088809693611, 0.44030249853739367, -0.6616960144969435, -0.530144832027853, -0.6003412479446838, -0.533441646901601, -0.5465257789151005, 2.1007521204793895, 1.5441206792842839, 0.3623993234571638, -1.0970523353008284, 0.31783392276362477, -0.1192712023607618, -0.33470551654840375, 1.09032158443945, 1.177940122810895, -0.2389025734572126, 1.0812155427994656, -0.12332922767154199, -1.925856235632639, 0.7575441226419918, -0.8707962422601602, 0.6212624930242022, 0.18381420407798854, -0.10791157438462838, 0.690179703212908, 0.13465715668903508, -0.4094193011013336, 0.031657076139166025, 1.5626648342584941, 0.9726799975738454, 2.006103978315902, -0.5102779937383601, 0.32502245757795994, 0.3040279784391726, -1.8454370965590863, 1.5328167250113136], \"yaxis\": \"y13\"}, {\"line\": {\"color\": \"rgba(128, 128, 128, 1.0)\", \"dash\": \"solid\", \"shape\": \"linear\", \"width\": 1.3}, \"marker\": {\"size\": 2, \"symbol\": \"circle\"}, \"mode\": \"markers\", \"name\": \"D\", \"text\": \"\", \"type\": \"scatter\", \"x\": [-0.44728330349228973, -0.6069251354234275, -1.3738549093340406, 1.2334111997303334, 0.7397860123001738, 1.5972494572851856, -0.018931915979927754, -1.2264327624064608, 0.15592114116201142, -0.47902754325705527, 1.2074916117611019, 0.6889645260151184, 1.6209155031439582, 1.0377918747451134, -0.16857843049431245, 0.7350503697272961, 1.3732044642314538, 0.17853748378804712, 0.9201258074350492, 0.661381730865682, 1.485145958350401, -1.632119618070541, 0.22748154932469294, -0.09458663553707516, 0.21090274721930652, 1.2583083792119074, 1.6422290993212094, -1.019888999922517, -1.1262083616915823, 0.7751631377435271, 0.0780355504840483, 0.29911039538859174, 0.43807211050813644, -0.12770957828774504, -0.6521897822817302, -0.889630939076755, 0.15986237919607987, -0.04342366071403783, -0.43520486123887653, 0.5379206691506319, 0.793787709378705, -0.4289924398492299, 0.7369539710091716, 2.087453696135382, 0.5620994219564909, -0.20137912145968392, 0.7257704929503092, 1.1084092246082184, -0.5171551630835821, -1.1283322045922786, 0.2593535652357022, -0.17267859924919277, -1.5345339901197232, -0.3209003352524528, -1.1744077524500085, 1.4490429107416258, 1.184950303089929, 0.702234314776529, -0.6784286508938552, 1.2835120424777373, -1.190989535539129, -0.3513939866455125, 0.621578689492338, -0.4630544081124457, -0.4367365405676625, 1.3421143639461248, 1.7456877417419552, 1.3034225510631996, -0.7624624397576985, -0.40495996101011833, -2.1648442884732138, 0.5440779523888465, 0.5287058951523081, -0.43876721681254327, 0.6449127396655433, -1.8263143889063849, -0.7719047232387043, 1.7518581179245638, 0.8330915673690045, -0.4521002707172554, -0.5402986159008635, -1.2266100687118864, 1.6575386196372557, 0.7985342454287591, 0.208928873721229, 0.21447039459623737, -0.5130034897172456, 1.4365715282093559, -0.24188464953388022, 0.44495315267780716, 0.07569986085313132, -0.42437427642700526, -0.5719674021359072, 0.1764574730152452, 0.5947324055814549, 0.5454269787091772, -1.052784323807733, -0.5458881467962238, 0.7868241229855274, 0.38274020695729544], \"xaxis\": \"x14\", \"y\": [1.630537903401598, 0.8596259162271885, -2.201701803685654, -3.534217963298778, -1.5647121206479027, -1.9460165473566289, -1.600711500655366, 0.24496026220022085, 0.24761018903712062, 1.4626461181710488, -1.3307360466228269, -0.4056970141192723, 2.0018706926157104, 0.465333049526165, -0.4307098877456645, 1.2606237424023388, 1.1713426577960662, 0.9939589097339985, -1.0547002716387939, -2.148493229373008, 0.9849828216059247, 0.7708700933760654, -0.4023329752573693, 0.3387727596201499, -0.377640538406158, 0.7077828889421378, 0.437296417393377, -0.25250149416514633, 0.3283687070181849, 0.923418148118716, -0.23476138689172962, -0.19042000344896998, 1.3269333170867752, -0.38285431319375884, -0.4051447522714992, -2.119114588900631, 0.7573699236995283, 1.5797688015470792, 1.0873746111180669, -0.9111800936727553, -0.9372403608398806, -0.6262546218272432, -1.0346514690291975, -1.6461889785240422, 0.6754840523961335, 1.2130273306035568, 0.6283597254489038, -2.057980108335055, -0.05080908028149197, 0.8913803009541872, -1.2328032930343173, -0.7492373828468251, -0.35847637695229095, 0.8502996394063193, -1.0639307618156, 0.49994004751047344, -0.17306531029694197, 0.3474560439886473, 0.6618079012963677, 1.059776304494004, 0.5689765731912213, 0.24017929467729499, -0.6365471459442161, 0.3166088809693611, 0.44030249853739367, -0.6616960144969435, -0.530144832027853, -0.6003412479446838, -0.533441646901601, -0.5465257789151005, 2.1007521204793895, 1.5441206792842839, 0.3623993234571638, -1.0970523353008284, 0.31783392276362477, -0.1192712023607618, -0.33470551654840375, 1.09032158443945, 1.177940122810895, -0.2389025734572126, 1.0812155427994656, -0.12332922767154199, -1.925856235632639, 0.7575441226419918, -0.8707962422601602, 0.6212624930242022, 0.18381420407798854, -0.10791157438462838, 0.690179703212908, 0.13465715668903508, -0.4094193011013336, 0.031657076139166025, 1.5626648342584941, 0.9726799975738454, 2.006103978315902, -0.5102779937383601, 0.32502245757795994, 0.3040279784391726, -1.8454370965590863, 1.5328167250113136], \"yaxis\": \"y14\"}, {\"line\": {\"color\": \"rgba(128, 128, 128, 1.0)\", \"dash\": \"solid\", \"shape\": \"linear\", \"width\": 1.3}, \"marker\": {\"size\": 2, \"symbol\": \"circle\"}, \"mode\": \"markers\", \"name\": \"D\", \"text\": \"\", \"type\": \"scatter\", \"x\": [-1.0982123211472223, -0.8259299755500107, -0.7305225541199882, 0.720107783789928, -0.5928186870269706, -2.221998006414882, -0.9111011953571583, -0.8268344254508183, 0.5503742059483506, 0.5183046780501815, 0.6233761079113126, -1.3176814636974876, -1.0634742227110472, 0.3278291182580586, -1.1566317538908852, 0.48651936928768663, -0.03653838637047471, 1.653007305664229, -0.1958229601153937, -0.1034740526638445, 0.04490066373735558, 1.1224937886733377, 0.7222367378387758, 1.4706514608417816, -0.3142241484681474, 0.11284754599516432, -0.30724990506555055, -1.7491330991294918, -1.2252328485947463, 0.09352534171463371, 1.3829204465828222, 1.3511260484587433, 1.3107742595531038, 0.0809417137183472, 1.5922218823186178, 0.8712263112583314, -1.0707108309115585, 0.37069160508749455, 0.43896689117448273, 0.5734965056512125, 0.5837450872276433, 0.7668530806250788, 0.013962992393534482, -0.3417229619283658, -0.20048716140289452, 0.08671683612266892, 0.4644430720271357, 1.488154778149524, 0.329927389374604, -2.1909396981792013, -1.227067350706915, 1.8092533081896278, 0.6038176513462273, 0.2373503625031047, 0.26547491245028043, -1.5001638448332122, 1.1623248531971837, -0.16634896425321918, 0.17790771790500814, -0.7185197969294509, 0.6942744580682934, -1.1457113673554422, -0.10374785054142244, -0.2697772837472289, 0.09727540896632256, 2.1288731444391957, 0.5541755511720746, 0.4630050450276214, 1.401745625787054, 0.048630674355072775, 0.2670255072610249, 0.4269269504719535, 0.2655817805432928, -0.37239487301095187, 0.6436911269862626, 0.4065884256564243, -0.3670944204242437, -0.02858372895149097, 0.12756327378376559, 0.6012980960266838, 0.22976530975734114, 1.2257573359966114, -0.4416034437641445, 2.2556705401005703, -0.8685076999087283, 2.0536788184368193, -1.598836938693923, -0.9465883899592311, -0.40314555748828707, -0.694530839635493, -0.7307372515070665, -0.5871698677555784, 1.1072087142715377, 0.8274185652563609, 0.10617915314525297, 0.02584303115521473, -1.2556217710498638, 0.8491784686253379, 0.6927287923192079, -0.3234782098349899], \"xaxis\": \"x15\", \"y\": [1.630537903401598, 0.8596259162271885, -2.201701803685654, -3.534217963298778, -1.5647121206479027, -1.9460165473566289, -1.600711500655366, 0.24496026220022085, 0.24761018903712062, 1.4626461181710488, -1.3307360466228269, -0.4056970141192723, 2.0018706926157104, 0.465333049526165, -0.4307098877456645, 1.2606237424023388, 1.1713426577960662, 0.9939589097339985, -1.0547002716387939, -2.148493229373008, 0.9849828216059247, 0.7708700933760654, -0.4023329752573693, 0.3387727596201499, -0.377640538406158, 0.7077828889421378, 0.437296417393377, -0.25250149416514633, 0.3283687070181849, 0.923418148118716, -0.23476138689172962, -0.19042000344896998, 1.3269333170867752, -0.38285431319375884, -0.4051447522714992, -2.119114588900631, 0.7573699236995283, 1.5797688015470792, 1.0873746111180669, -0.9111800936727553, -0.9372403608398806, -0.6262546218272432, -1.0346514690291975, -1.6461889785240422, 0.6754840523961335, 1.2130273306035568, 0.6283597254489038, -2.057980108335055, -0.05080908028149197, 0.8913803009541872, -1.2328032930343173, -0.7492373828468251, -0.35847637695229095, 0.8502996394063193, -1.0639307618156, 0.49994004751047344, -0.17306531029694197, 0.3474560439886473, 0.6618079012963677, 1.059776304494004, 0.5689765731912213, 0.24017929467729499, -0.6365471459442161, 0.3166088809693611, 0.44030249853739367, -0.6616960144969435, -0.530144832027853, -0.6003412479446838, -0.533441646901601, -0.5465257789151005, 2.1007521204793895, 1.5441206792842839, 0.3623993234571638, -1.0970523353008284, 0.31783392276362477, -0.1192712023607618, -0.33470551654840375, 1.09032158443945, 1.177940122810895, -0.2389025734572126, 1.0812155427994656, -0.12332922767154199, -1.925856235632639, 0.7575441226419918, -0.8707962422601602, 0.6212624930242022, 0.18381420407798854, -0.10791157438462838, 0.690179703212908, 0.13465715668903508, -0.4094193011013336, 0.031657076139166025, 1.5626648342584941, 0.9726799975738454, 2.006103978315902, -0.5102779937383601, 0.32502245757795994, 0.3040279784391726, -1.8454370965590863, 1.5328167250113136], \"yaxis\": \"y15\"}, {\"histfunc\": \"count\", \"histnorm\": \"\", \"marker\": {\"color\": \"rgba(128, 0, 128, 1.0)\", \"line\": {\"color\": \"#4D5663\", \"width\": 1.3}}, \"name\": \"D\", \"nbinsx\": 10, \"opacity\": 0.8, \"orientation\": \"v\", \"type\": \"histogram\", \"x\": [1.630537903401598, 0.8596259162271885, -2.201701803685654, -3.534217963298778, -1.5647121206479027, -1.9460165473566289, -1.600711500655366, 0.24496026220022085, 0.24761018903712062, 1.4626461181710488, -1.3307360466228269, -0.4056970141192723, 2.0018706926157104, 0.465333049526165, -0.4307098877456645, 1.2606237424023388, 1.1713426577960662, 0.9939589097339985, -1.0547002716387939, -2.148493229373008, 0.9849828216059247, 0.7708700933760654, -0.4023329752573693, 0.3387727596201499, -0.377640538406158, 0.7077828889421378, 0.437296417393377, -0.25250149416514633, 0.3283687070181849, 0.923418148118716, -0.23476138689172962, -0.19042000344896998, 1.3269333170867752, -0.38285431319375884, -0.4051447522714992, -2.119114588900631, 0.7573699236995283, 1.5797688015470792, 1.0873746111180669, -0.9111800936727553, -0.9372403608398806, -0.6262546218272432, -1.0346514690291975, -1.6461889785240422, 0.6754840523961335, 1.2130273306035568, 0.6283597254489038, -2.057980108335055, -0.05080908028149197, 0.8913803009541872, -1.2328032930343173, -0.7492373828468251, -0.35847637695229095, 0.8502996394063193, -1.0639307618156, 0.49994004751047344, -0.17306531029694197, 0.3474560439886473, 0.6618079012963677, 1.059776304494004, 0.5689765731912213, 0.24017929467729499, -0.6365471459442161, 0.3166088809693611, 0.44030249853739367, -0.6616960144969435, -0.530144832027853, -0.6003412479446838, -0.533441646901601, -0.5465257789151005, 2.1007521204793895, 1.5441206792842839, 0.3623993234571638, -1.0970523353008284, 0.31783392276362477, -0.1192712023607618, -0.33470551654840375, 1.09032158443945, 1.177940122810895, -0.2389025734572126, 1.0812155427994656, -0.12332922767154199, -1.925856235632639, 0.7575441226419918, -0.8707962422601602, 0.6212624930242022, 0.18381420407798854, -0.10791157438462838, 0.690179703212908, 0.13465715668903508, -0.4094193011013336, 0.031657076139166025, 1.5626648342584941, 0.9726799975738454, 2.006103978315902, -0.5102779937383601, 0.32502245757795994, 0.3040279784391726, -1.8454370965590863, 1.5328167250113136], \"xaxis\": \"x16\", \"yaxis\": \"y16\"}],\n",
       "                        {\"bargap\": 0.02, \"legend\": {\"bgcolor\": \"#F5F6F9\", \"font\": {\"color\": \"#4D5663\"}}, \"paper_bgcolor\": \"#F5F6F9\", \"plot_bgcolor\": \"#F5F6F9\", \"showlegend\": false, \"template\": {\"data\": {\"bar\": [{\"error_x\": {\"color\": \"#2a3f5f\"}, \"error_y\": {\"color\": \"#2a3f5f\"}, \"marker\": {\"line\": {\"color\": \"#E5ECF6\", \"width\": 0.5}}, \"type\": \"bar\"}], \"barpolar\": [{\"marker\": {\"line\": {\"color\": \"#E5ECF6\", \"width\": 0.5}}, \"type\": \"barpolar\"}], \"carpet\": [{\"aaxis\": {\"endlinecolor\": \"#2a3f5f\", \"gridcolor\": \"white\", \"linecolor\": \"white\", \"minorgridcolor\": \"white\", \"startlinecolor\": \"#2a3f5f\"}, \"baxis\": {\"endlinecolor\": \"#2a3f5f\", \"gridcolor\": \"white\", \"linecolor\": \"white\", \"minorgridcolor\": \"white\", \"startlinecolor\": \"#2a3f5f\"}, \"type\": \"carpet\"}], \"choropleth\": [{\"colorbar\": {\"outlinewidth\": 0, \"ticks\": \"\"}, \"type\": \"choropleth\"}], \"contour\": [{\"colorbar\": {\"outlinewidth\": 0, \"ticks\": \"\"}, \"colorscale\": [[0.0, \"#0d0887\"], [0.1111111111111111, \"#46039f\"], [0.2222222222222222, \"#7201a8\"], [0.3333333333333333, \"#9c179e\"], [0.4444444444444444, \"#bd3786\"], [0.5555555555555556, \"#d8576b\"], [0.6666666666666666, \"#ed7953\"], [0.7777777777777778, \"#fb9f3a\"], [0.8888888888888888, \"#fdca26\"], [1.0, \"#f0f921\"]], \"type\": \"contour\"}], \"contourcarpet\": [{\"colorbar\": {\"outlinewidth\": 0, \"ticks\": \"\"}, \"type\": \"contourcarpet\"}], \"heatmap\": [{\"colorbar\": {\"outlinewidth\": 0, \"ticks\": \"\"}, \"colorscale\": [[0.0, \"#0d0887\"], [0.1111111111111111, \"#46039f\"], [0.2222222222222222, \"#7201a8\"], [0.3333333333333333, \"#9c179e\"], [0.4444444444444444, \"#bd3786\"], [0.5555555555555556, \"#d8576b\"], [0.6666666666666666, \"#ed7953\"], [0.7777777777777778, \"#fb9f3a\"], [0.8888888888888888, \"#fdca26\"], [1.0, \"#f0f921\"]], \"type\": \"heatmap\"}], \"heatmapgl\": [{\"colorbar\": {\"outlinewidth\": 0, \"ticks\": \"\"}, \"colorscale\": [[0.0, \"#0d0887\"], [0.1111111111111111, \"#46039f\"], [0.2222222222222222, \"#7201a8\"], [0.3333333333333333, \"#9c179e\"], [0.4444444444444444, \"#bd3786\"], [0.5555555555555556, \"#d8576b\"], [0.6666666666666666, \"#ed7953\"], [0.7777777777777778, \"#fb9f3a\"], [0.8888888888888888, \"#fdca26\"], [1.0, \"#f0f921\"]], \"type\": \"heatmapgl\"}], \"histogram\": [{\"marker\": {\"colorbar\": {\"outlinewidth\": 0, \"ticks\": \"\"}}, \"type\": \"histogram\"}], \"histogram2d\": [{\"colorbar\": {\"outlinewidth\": 0, \"ticks\": \"\"}, \"colorscale\": [[0.0, \"#0d0887\"], [0.1111111111111111, \"#46039f\"], [0.2222222222222222, \"#7201a8\"], [0.3333333333333333, \"#9c179e\"], [0.4444444444444444, \"#bd3786\"], [0.5555555555555556, \"#d8576b\"], [0.6666666666666666, \"#ed7953\"], [0.7777777777777778, \"#fb9f3a\"], [0.8888888888888888, \"#fdca26\"], [1.0, \"#f0f921\"]], \"type\": \"histogram2d\"}], \"histogram2dcontour\": [{\"colorbar\": {\"outlinewidth\": 0, \"ticks\": \"\"}, \"colorscale\": [[0.0, \"#0d0887\"], [0.1111111111111111, \"#46039f\"], [0.2222222222222222, \"#7201a8\"], [0.3333333333333333, \"#9c179e\"], [0.4444444444444444, \"#bd3786\"], [0.5555555555555556, \"#d8576b\"], [0.6666666666666666, \"#ed7953\"], [0.7777777777777778, \"#fb9f3a\"], [0.8888888888888888, \"#fdca26\"], [1.0, \"#f0f921\"]], \"type\": \"histogram2dcontour\"}], \"mesh3d\": [{\"colorbar\": {\"outlinewidth\": 0, \"ticks\": \"\"}, \"type\": \"mesh3d\"}], \"parcoords\": [{\"line\": {\"colorbar\": {\"outlinewidth\": 0, \"ticks\": \"\"}}, \"type\": \"parcoords\"}], \"pie\": [{\"automargin\": true, \"type\": \"pie\"}], \"scatter\": [{\"marker\": {\"colorbar\": {\"outlinewidth\": 0, \"ticks\": \"\"}}, \"type\": \"scatter\"}], \"scatter3d\": [{\"line\": {\"colorbar\": {\"outlinewidth\": 0, \"ticks\": \"\"}}, \"marker\": {\"colorbar\": {\"outlinewidth\": 0, \"ticks\": \"\"}}, \"type\": \"scatter3d\"}], \"scattercarpet\": [{\"marker\": {\"colorbar\": {\"outlinewidth\": 0, \"ticks\": \"\"}}, \"type\": \"scattercarpet\"}], \"scattergeo\": [{\"marker\": {\"colorbar\": {\"outlinewidth\": 0, \"ticks\": \"\"}}, \"type\": \"scattergeo\"}], \"scattergl\": [{\"marker\": {\"colorbar\": {\"outlinewidth\": 0, \"ticks\": \"\"}}, \"type\": \"scattergl\"}], \"scattermapbox\": [{\"marker\": {\"colorbar\": {\"outlinewidth\": 0, \"ticks\": \"\"}}, \"type\": \"scattermapbox\"}], \"scatterpolar\": [{\"marker\": {\"colorbar\": {\"outlinewidth\": 0, \"ticks\": \"\"}}, \"type\": \"scatterpolar\"}], \"scatterpolargl\": [{\"marker\": {\"colorbar\": {\"outlinewidth\": 0, \"ticks\": \"\"}}, \"type\": \"scatterpolargl\"}], \"scatterternary\": [{\"marker\": {\"colorbar\": {\"outlinewidth\": 0, \"ticks\": \"\"}}, \"type\": \"scatterternary\"}], \"surface\": [{\"colorbar\": {\"outlinewidth\": 0, \"ticks\": \"\"}, \"colorscale\": [[0.0, \"#0d0887\"], [0.1111111111111111, \"#46039f\"], [0.2222222222222222, \"#7201a8\"], [0.3333333333333333, \"#9c179e\"], [0.4444444444444444, \"#bd3786\"], [0.5555555555555556, \"#d8576b\"], [0.6666666666666666, \"#ed7953\"], [0.7777777777777778, \"#fb9f3a\"], [0.8888888888888888, \"#fdca26\"], [1.0, \"#f0f921\"]], \"type\": \"surface\"}], \"table\": [{\"cells\": {\"fill\": {\"color\": \"#EBF0F8\"}, \"line\": {\"color\": \"white\"}}, \"header\": {\"fill\": {\"color\": \"#C8D4E3\"}, \"line\": {\"color\": \"white\"}}, \"type\": \"table\"}]}, \"layout\": {\"annotationdefaults\": {\"arrowcolor\": \"#2a3f5f\", \"arrowhead\": 0, \"arrowwidth\": 1}, \"coloraxis\": {\"colorbar\": {\"outlinewidth\": 0, \"ticks\": \"\"}}, \"colorscale\": {\"diverging\": [[0, \"#8e0152\"], [0.1, \"#c51b7d\"], [0.2, \"#de77ae\"], [0.3, \"#f1b6da\"], [0.4, \"#fde0ef\"], [0.5, \"#f7f7f7\"], [0.6, \"#e6f5d0\"], [0.7, \"#b8e186\"], [0.8, \"#7fbc41\"], [0.9, \"#4d9221\"], [1, \"#276419\"]], \"sequential\": [[0.0, \"#0d0887\"], [0.1111111111111111, \"#46039f\"], [0.2222222222222222, \"#7201a8\"], [0.3333333333333333, \"#9c179e\"], [0.4444444444444444, \"#bd3786\"], [0.5555555555555556, \"#d8576b\"], [0.6666666666666666, \"#ed7953\"], [0.7777777777777778, \"#fb9f3a\"], [0.8888888888888888, \"#fdca26\"], [1.0, \"#f0f921\"]], \"sequentialminus\": [[0.0, \"#0d0887\"], [0.1111111111111111, \"#46039f\"], [0.2222222222222222, \"#7201a8\"], [0.3333333333333333, \"#9c179e\"], [0.4444444444444444, \"#bd3786\"], [0.5555555555555556, \"#d8576b\"], [0.6666666666666666, \"#ed7953\"], [0.7777777777777778, \"#fb9f3a\"], [0.8888888888888888, \"#fdca26\"], [1.0, \"#f0f921\"]]}, \"colorway\": [\"#636efa\", \"#EF553B\", \"#00cc96\", \"#ab63fa\", \"#FFA15A\", \"#19d3f3\", \"#FF6692\", \"#B6E880\", \"#FF97FF\", \"#FECB52\"], \"font\": {\"color\": \"#2a3f5f\"}, \"geo\": {\"bgcolor\": \"white\", \"lakecolor\": \"white\", \"landcolor\": \"#E5ECF6\", \"showlakes\": true, \"showland\": true, \"subunitcolor\": \"white\"}, \"hoverlabel\": {\"align\": \"left\"}, \"hovermode\": \"closest\", \"mapbox\": {\"style\": \"light\"}, \"paper_bgcolor\": \"white\", \"plot_bgcolor\": \"#E5ECF6\", \"polar\": {\"angularaxis\": {\"gridcolor\": \"white\", \"linecolor\": \"white\", \"ticks\": \"\"}, \"bgcolor\": \"#E5ECF6\", \"radialaxis\": {\"gridcolor\": \"white\", \"linecolor\": \"white\", \"ticks\": \"\"}}, \"scene\": {\"xaxis\": {\"backgroundcolor\": \"#E5ECF6\", \"gridcolor\": \"white\", \"gridwidth\": 2, \"linecolor\": \"white\", \"showbackground\": true, \"ticks\": \"\", \"zerolinecolor\": \"white\"}, \"yaxis\": {\"backgroundcolor\": \"#E5ECF6\", \"gridcolor\": \"white\", \"gridwidth\": 2, \"linecolor\": \"white\", \"showbackground\": true, \"ticks\": \"\", \"zerolinecolor\": \"white\"}, \"zaxis\": {\"backgroundcolor\": \"#E5ECF6\", \"gridcolor\": \"white\", \"gridwidth\": 2, \"linecolor\": \"white\", \"showbackground\": true, \"ticks\": \"\", \"zerolinecolor\": \"white\"}}, \"shapedefaults\": {\"line\": {\"color\": \"#2a3f5f\"}}, \"ternary\": {\"aaxis\": {\"gridcolor\": \"white\", \"linecolor\": \"white\", \"ticks\": \"\"}, \"baxis\": {\"gridcolor\": \"white\", \"linecolor\": \"white\", \"ticks\": \"\"}, \"bgcolor\": \"#E5ECF6\", \"caxis\": {\"gridcolor\": \"white\", \"linecolor\": \"white\", \"ticks\": \"\"}}, \"title\": {\"x\": 0.05}, \"xaxis\": {\"automargin\": true, \"gridcolor\": \"white\", \"linecolor\": \"white\", \"ticks\": \"\", \"title\": {\"standoff\": 15}, \"zerolinecolor\": \"white\", \"zerolinewidth\": 2}, \"yaxis\": {\"automargin\": true, \"gridcolor\": \"white\", \"linecolor\": \"white\", \"ticks\": \"\", \"title\": {\"standoff\": 15}, \"zerolinecolor\": \"white\", \"zerolinewidth\": 2}}}, \"title\": {\"font\": {\"color\": \"#4D5663\"}}, \"xaxis\": {\"anchor\": \"y\", \"domain\": [0.0, 0.2125], \"gridcolor\": \"#E1E5ED\", \"showgrid\": false, \"tickfont\": {\"color\": \"#4D5663\"}, \"title\": {\"font\": {\"color\": \"#4D5663\"}, \"text\": \"\"}, \"zerolinecolor\": \"#E1E5ED\"}, \"xaxis10\": {\"anchor\": \"y10\", \"domain\": [0.2625, 0.475], \"gridcolor\": \"#E1E5ED\", \"showgrid\": false, \"tickfont\": {\"color\": \"#4D5663\"}, \"title\": {\"font\": {\"color\": \"#4D5663\"}, \"text\": \"\"}, \"zerolinecolor\": \"#E1E5ED\"}, \"xaxis11\": {\"anchor\": \"y11\", \"domain\": [0.525, 0.7375], \"gridcolor\": \"#E1E5ED\", \"showgrid\": false, \"tickfont\": {\"color\": \"#4D5663\"}, \"title\": {\"font\": {\"color\": \"#4D5663\"}, \"text\": \"\"}, \"zerolinecolor\": \"#E1E5ED\"}, \"xaxis12\": {\"anchor\": \"y12\", \"domain\": [0.7875, 1.0], \"gridcolor\": \"#E1E5ED\", \"showgrid\": false, \"tickfont\": {\"color\": \"#4D5663\"}, \"title\": {\"font\": {\"color\": \"#4D5663\"}, \"text\": \"\"}, \"zerolinecolor\": \"#E1E5ED\"}, \"xaxis13\": {\"anchor\": \"y13\", \"domain\": [0.0, 0.2125], \"gridcolor\": \"#E1E5ED\", \"showgrid\": false, \"tickfont\": {\"color\": \"#4D5663\"}, \"title\": {\"font\": {\"color\": \"#4D5663\"}, \"text\": \"\"}, \"zerolinecolor\": \"#E1E5ED\"}, \"xaxis14\": {\"anchor\": \"y14\", \"domain\": [0.2625, 0.475], \"gridcolor\": \"#E1E5ED\", \"showgrid\": false, \"tickfont\": {\"color\": \"#4D5663\"}, \"title\": {\"font\": {\"color\": \"#4D5663\"}, \"text\": \"\"}, \"zerolinecolor\": \"#E1E5ED\"}, \"xaxis15\": {\"anchor\": \"y15\", \"domain\": [0.525, 0.7375], \"gridcolor\": \"#E1E5ED\", \"showgrid\": false, \"tickfont\": {\"color\": \"#4D5663\"}, \"title\": {\"font\": {\"color\": \"#4D5663\"}, \"text\": \"\"}, \"zerolinecolor\": \"#E1E5ED\"}, \"xaxis16\": {\"anchor\": \"y16\", \"domain\": [0.7875, 1.0], \"gridcolor\": \"#E1E5ED\", \"showgrid\": false, \"tickfont\": {\"color\": \"#4D5663\"}, \"title\": {\"font\": {\"color\": \"#4D5663\"}, \"text\": \"\"}, \"zerolinecolor\": \"#E1E5ED\"}, \"xaxis2\": {\"anchor\": \"y2\", \"domain\": [0.2625, 0.475], \"gridcolor\": \"#E1E5ED\", \"showgrid\": false, \"tickfont\": {\"color\": \"#4D5663\"}, \"title\": {\"font\": {\"color\": \"#4D5663\"}, \"text\": \"\"}, \"zerolinecolor\": \"#E1E5ED\"}, \"xaxis3\": {\"anchor\": \"y3\", \"domain\": [0.525, 0.7375], \"gridcolor\": \"#E1E5ED\", \"showgrid\": false, \"tickfont\": {\"color\": \"#4D5663\"}, \"title\": {\"font\": {\"color\": \"#4D5663\"}, \"text\": \"\"}, \"zerolinecolor\": \"#E1E5ED\"}, \"xaxis4\": {\"anchor\": \"y4\", \"domain\": [0.7875, 1.0], \"gridcolor\": \"#E1E5ED\", \"showgrid\": false, \"tickfont\": {\"color\": \"#4D5663\"}, \"title\": {\"font\": {\"color\": \"#4D5663\"}, \"text\": \"\"}, \"zerolinecolor\": \"#E1E5ED\"}, \"xaxis5\": {\"anchor\": \"y5\", \"domain\": [0.0, 0.2125], \"gridcolor\": \"#E1E5ED\", \"showgrid\": false, \"tickfont\": {\"color\": \"#4D5663\"}, \"title\": {\"font\": {\"color\": \"#4D5663\"}, \"text\": \"\"}, \"zerolinecolor\": \"#E1E5ED\"}, \"xaxis6\": {\"anchor\": \"y6\", \"domain\": [0.2625, 0.475], \"gridcolor\": \"#E1E5ED\", \"showgrid\": false, \"tickfont\": {\"color\": \"#4D5663\"}, \"title\": {\"font\": {\"color\": \"#4D5663\"}, \"text\": \"\"}, \"zerolinecolor\": \"#E1E5ED\"}, \"xaxis7\": {\"anchor\": \"y7\", \"domain\": [0.525, 0.7375], \"gridcolor\": \"#E1E5ED\", \"showgrid\": false, \"tickfont\": {\"color\": \"#4D5663\"}, \"title\": {\"font\": {\"color\": \"#4D5663\"}, \"text\": \"\"}, \"zerolinecolor\": \"#E1E5ED\"}, \"xaxis8\": {\"anchor\": \"y8\", \"domain\": [0.7875, 1.0], \"gridcolor\": \"#E1E5ED\", \"showgrid\": false, \"tickfont\": {\"color\": \"#4D5663\"}, \"title\": {\"font\": {\"color\": \"#4D5663\"}, \"text\": \"\"}, \"zerolinecolor\": \"#E1E5ED\"}, \"xaxis9\": {\"anchor\": \"y9\", \"domain\": [0.0, 0.2125], \"gridcolor\": \"#E1E5ED\", \"showgrid\": false, \"tickfont\": {\"color\": \"#4D5663\"}, \"title\": {\"font\": {\"color\": \"#4D5663\"}, \"text\": \"\"}, \"zerolinecolor\": \"#E1E5ED\"}, \"yaxis\": {\"anchor\": \"x\", \"domain\": [0.8025, 1.0], \"gridcolor\": \"#E1E5ED\", \"showgrid\": false, \"tickfont\": {\"color\": \"#4D5663\"}, \"title\": {\"font\": {\"color\": \"#4D5663\"}, \"text\": \"\"}, \"zerolinecolor\": \"#E1E5ED\"}, \"yaxis10\": {\"anchor\": \"x10\", \"domain\": [0.2675, 0.465], \"gridcolor\": \"#E1E5ED\", \"showgrid\": false, \"tickfont\": {\"color\": \"#4D5663\"}, \"title\": {\"font\": {\"color\": \"#4D5663\"}, \"text\": \"\"}, \"zerolinecolor\": \"#E1E5ED\"}, \"yaxis11\": {\"anchor\": \"x11\", \"domain\": [0.2675, 0.465], \"gridcolor\": \"#E1E5ED\", \"showgrid\": false, \"tickfont\": {\"color\": \"#4D5663\"}, \"title\": {\"font\": {\"color\": \"#4D5663\"}, \"text\": \"\"}, \"zerolinecolor\": \"#E1E5ED\"}, \"yaxis12\": {\"anchor\": \"x12\", \"domain\": [0.2675, 0.465], \"gridcolor\": \"#E1E5ED\", \"showgrid\": false, \"tickfont\": {\"color\": \"#4D5663\"}, \"title\": {\"font\": {\"color\": \"#4D5663\"}, \"text\": \"\"}, \"zerolinecolor\": \"#E1E5ED\"}, \"yaxis13\": {\"anchor\": \"x13\", \"domain\": [0.0, 0.1975], \"gridcolor\": \"#E1E5ED\", \"showgrid\": false, \"tickfont\": {\"color\": \"#4D5663\"}, \"title\": {\"font\": {\"color\": \"#4D5663\"}, \"text\": \"\"}, \"zerolinecolor\": \"#E1E5ED\"}, \"yaxis14\": {\"anchor\": \"x14\", \"domain\": [0.0, 0.1975], \"gridcolor\": \"#E1E5ED\", \"showgrid\": false, \"tickfont\": {\"color\": \"#4D5663\"}, \"title\": {\"font\": {\"color\": \"#4D5663\"}, \"text\": \"\"}, \"zerolinecolor\": \"#E1E5ED\"}, \"yaxis15\": {\"anchor\": \"x15\", \"domain\": [0.0, 0.1975], \"gridcolor\": \"#E1E5ED\", \"showgrid\": false, \"tickfont\": {\"color\": \"#4D5663\"}, \"title\": {\"font\": {\"color\": \"#4D5663\"}, \"text\": \"\"}, \"zerolinecolor\": \"#E1E5ED\"}, \"yaxis16\": {\"anchor\": \"x16\", \"domain\": [0.0, 0.1975], \"gridcolor\": \"#E1E5ED\", \"showgrid\": false, \"tickfont\": {\"color\": \"#4D5663\"}, \"title\": {\"font\": {\"color\": \"#4D5663\"}, \"text\": \"\"}, \"zerolinecolor\": \"#E1E5ED\"}, \"yaxis2\": {\"anchor\": \"x2\", \"domain\": [0.8025, 1.0], \"gridcolor\": \"#E1E5ED\", \"showgrid\": false, \"tickfont\": {\"color\": \"#4D5663\"}, \"title\": {\"font\": {\"color\": \"#4D5663\"}, \"text\": \"\"}, \"zerolinecolor\": \"#E1E5ED\"}, \"yaxis3\": {\"anchor\": \"x3\", \"domain\": [0.8025, 1.0], \"gridcolor\": \"#E1E5ED\", \"showgrid\": false, \"tickfont\": {\"color\": \"#4D5663\"}, \"title\": {\"font\": {\"color\": \"#4D5663\"}, \"text\": \"\"}, \"zerolinecolor\": \"#E1E5ED\"}, \"yaxis4\": {\"anchor\": \"x4\", \"domain\": [0.8025, 1.0], \"gridcolor\": \"#E1E5ED\", \"showgrid\": false, \"tickfont\": {\"color\": \"#4D5663\"}, \"title\": {\"font\": {\"color\": \"#4D5663\"}, \"text\": \"\"}, \"zerolinecolor\": \"#E1E5ED\"}, \"yaxis5\": {\"anchor\": \"x5\", \"domain\": [0.535, 0.7325], \"gridcolor\": \"#E1E5ED\", \"showgrid\": false, \"tickfont\": {\"color\": \"#4D5663\"}, \"title\": {\"font\": {\"color\": \"#4D5663\"}, \"text\": \"\"}, \"zerolinecolor\": \"#E1E5ED\"}, \"yaxis6\": {\"anchor\": \"x6\", \"domain\": [0.535, 0.7325], \"gridcolor\": \"#E1E5ED\", \"showgrid\": false, \"tickfont\": {\"color\": \"#4D5663\"}, \"title\": {\"font\": {\"color\": \"#4D5663\"}, \"text\": \"\"}, \"zerolinecolor\": \"#E1E5ED\"}, \"yaxis7\": {\"anchor\": \"x7\", \"domain\": [0.535, 0.7325], \"gridcolor\": \"#E1E5ED\", \"showgrid\": false, \"tickfont\": {\"color\": \"#4D5663\"}, \"title\": {\"font\": {\"color\": \"#4D5663\"}, \"text\": \"\"}, \"zerolinecolor\": \"#E1E5ED\"}, \"yaxis8\": {\"anchor\": \"x8\", \"domain\": [0.535, 0.7325], \"gridcolor\": \"#E1E5ED\", \"showgrid\": false, \"tickfont\": {\"color\": \"#4D5663\"}, \"title\": {\"font\": {\"color\": \"#4D5663\"}, \"text\": \"\"}, \"zerolinecolor\": \"#E1E5ED\"}, \"yaxis9\": {\"anchor\": \"x9\", \"domain\": [0.2675, 0.465], \"gridcolor\": \"#E1E5ED\", \"showgrid\": false, \"tickfont\": {\"color\": \"#4D5663\"}, \"title\": {\"font\": {\"color\": \"#4D5663\"}, \"text\": \"\"}, \"zerolinecolor\": \"#E1E5ED\"}},\n",
       "                        {\"showLink\": true, \"linkText\": \"Export to plot.ly\", \"plotlyServerURL\": \"https://plot.ly\", \"responsive\": true}\n",
       "                    ).then(function(){\n",
       "                            \n",
       "var gd = document.getElementById('c237c967-fdb1-4442-b598-9d58884ec837');\n",
       "var x = new MutationObserver(function (mutations, observer) {{\n",
       "        var display = window.getComputedStyle(gd).display;\n",
       "        if (!display || display === 'none') {{\n",
       "            console.log([gd, 'removed!']);\n",
       "            Plotly.purge(gd);\n",
       "            observer.disconnect();\n",
       "        }}\n",
       "}});\n",
       "\n",
       "// Listen for the removal of the full notebook cells\n",
       "var notebookContainer = gd.closest('#notebook-container');\n",
       "if (notebookContainer) {{\n",
       "    x.observe(notebookContainer, {childList: true});\n",
       "}}\n",
       "\n",
       "// Listen for the clearing of the current output cell\n",
       "var outputEl = gd.closest('.output');\n",
       "if (outputEl) {{\n",
       "    x.observe(outputEl, {childList: true});\n",
       "}}\n",
       "\n",
       "                        })\n",
       "                };\n",
       "                });\n",
       "            </script>\n",
       "        </div>"
      ]
     },
     "metadata": {},
     "output_type": "display_data"
    }
   ],
   "source": [
    "df.scatter_matrix()"
   ]
  },
  {
   "cell_type": "markdown",
   "metadata": {
    "collapsed": true
   },
   "source": [
    "# Great Job!"
   ]
  }
 ],
 "metadata": {
  "kernelspec": {
   "display_name": "Python 3",
   "language": "python",
   "name": "python3"
  },
  "language_info": {
   "codemirror_mode": {
    "name": "ipython",
    "version": 3
   },
   "file_extension": ".py",
   "mimetype": "text/x-python",
   "name": "python",
   "nbconvert_exporter": "python",
   "pygments_lexer": "ipython3",
   "version": "3.8.3"
  }
 },
 "nbformat": 4,
 "nbformat_minor": 1
}
